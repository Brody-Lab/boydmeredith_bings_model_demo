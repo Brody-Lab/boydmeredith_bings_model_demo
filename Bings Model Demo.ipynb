{
 "cells": [
  {
   "cell_type": "code",
   "execution_count": 4,
   "id": "9eecdf46",
   "metadata": {},
   "outputs": [
    {
     "name": "stdout",
     "output_type": "stream",
     "text": [
      "The autoreload extension is already loaded. To reload it, use:\n",
      "  %reload_ext autoreload\n"
     ]
    }
   ],
   "source": [
    "from ipywidgets import widgets, AppLayout, interact, interactive, fixed\n",
    "from IPython.display import display, Math\n",
    "import numpy as np\n",
    "import src.bings_model as bm \n",
    "import matplotlib.pyplot as plt\n",
    "import seaborn as sns\n",
    "\n",
    "%matplotlib inline\n",
    "%load_ext autoreload\n",
    "%autoreload 2"
   ]
  },
  {
   "cell_type": "code",
   "execution_count": 13,
   "id": "66a9762a",
   "metadata": {},
   "outputs": [],
   "source": [
    "sns.set_context('notebook')\n",
    "\n",
    "def plot_process(bups, a, params):\n",
    "    fig, ax = plt.subplots(4,1, sharex=True, \n",
    "                           figsize=(6,7),\n",
    "                           gridspec_kw={'height_ratios': [.2, .2, .45, 1]})\n",
    "    \n",
    "    bm.plot_clicktrain(bups, ax=ax[0])\n",
    "    ax[0].set_ylabel('')\n",
    "    ax[0].spines[['left','bottom']].set_linewidth(0)\n",
    "    ax[0].axes.get_xaxis().set_visible(False)\n",
    "    ax[0].tick_params(left=False)\n",
    "        \n",
    "    bm.plot_adaptation_process(bups, ax=ax[1])\n",
    "    ax[1].set_xlabel('')\n",
    "    ax[1].axes.get_xaxis().set_visible(False)\n",
    "    ax[1].spines[['left']].set_linewidth(0)\n",
    "    \n",
    "    bm.plot_adapted_clicks(bups, ax=ax[2])\n",
    "    ax[2].axes.get_xaxis().set_visible(False)\n",
    "    ax[2].spines[['bottom']].set_visible(False)\n",
    "    ax[2].spines[['left']].set_linewidth(0)\n",
    "    ax[2].spines[['bottom']].set_linewidth(.5)\n",
    "\n",
    "    \n",
    "    bm.plot_accumulation(bups, a, params, ax=ax[3])\n",
    "    \n",
    "    fig.tight_layout()\n",
    "    ax[0].set_xlim([-.025, bups['duration']+.025])\n",
    "    #fig.align_ylabels()\n",
    "    plt.show()\n",
    "    return None\n",
    "\n",
    "def clicks_eventhandler(change):\n",
    "    global bups\n",
    "    bups = bm.make_clicktrain(total_rate=rate_slider.value, gamma=gamma_slider.value, \n",
    "                               duration=dur_slider.value, rng=seed_slider.value)\n",
    "    adaptation_eventhandler(change)\n",
    "\n",
    "    \n",
    "def adaptation_eventhandler(change):\n",
    "    bm.make_adapted_clicks(bups, phi=phi_slider.value, tau_phi=tau_phi_slider.value)  \n",
    "    integration_eventhandler(change)\n",
    "    \n",
    "def integration_eventhandler(change):\n",
    "    global a, params\n",
    "    a, params = bm.integrate_adapted_clicks(bups, lam=lambda_slider.value, s2s=s2s_slider.value,\n",
    "                             s2a=s2a_slider.value, s2i=s2i_slider.value, bias=bias_slider.value,\n",
    "                             B=B_slider.value, nagents=nagent_slider.value, rng=seed_slider.value)\n",
    "    choice_eventhandler(change)\n",
    "    \n",
    "def choice_eventhandler(change):\n",
    "    plot_out.clear_output(wait=True)\n",
    "    \n",
    "    with plot_out:\n",
    "        plot_process(bups, a, params)\n",
    "        \n",
    "\n",
    "plot_out = widgets.Output()\n",
    "\n",
    "bups_text = widgets.Output()\n",
    "with bups_text:\n",
    "    print(\"Click train parameters\\n\")\n",
    "    \n",
    "adaptation_text = widgets.Output()\n",
    "with adaptation_text:\n",
    "    print(\"\\nAdaptation parameters\\n\")\n",
    "    #display(Math(r'$dC = \\frac{1-C}{\\tau_{\\phi}}dt + (\\phi - 1) C (\\delta_{t,t_R} + \\delta_{t,t_L})$'))\n",
    "    \n",
    "integration_text = widgets.Output()\n",
    "with integration_text:\n",
    "    print(\"\\n\\nIntegration parameters \\n\")\n",
    "    #display(Math(r'$da = (\\eta C \\delta_R - \\eta C \\delta_L)dt + \\lambda a dt + \\sigma_adW $'))\n",
    "    #display(Math('$a_0 = \\mathcal{N}(0, \\sigma_i^2)$'))\n",
    "    \n",
    "choice_text = widgets.Output()\n",
    "with choice_text:\n",
    "    print(\"\\nChoice parameters\\n\")\n",
    "\n",
    "# Define click parameters\n",
    "seed_slider = widgets.IntSlider(value=1, min=0, max=10, description=\"Seed\")\n",
    "rate_slider = widgets.IntSlider(value=40,min=5,max=50,step=5,description=r'$r_L+r_R$ (Hz)')\n",
    "gamma_slider = widgets.FloatSlider(value=1.5,min=-5,max=5,step=.25,description=r\"$\\gamma = \\log \\frac{r_1}{r_2}$\")\n",
    "dur_slider = widgets.FloatSlider(value=1,min=.25,max=5,step=.25,description=\"T (s)\")\n",
    "        \n",
    "seed_slider.observe(clicks_eventhandler, names='value')\n",
    "rate_slider.observe(clicks_eventhandler, names='value')\n",
    "gamma_slider.observe(clicks_eventhandler, names='value')\n",
    "dur_slider.observe(clicks_eventhandler, names='value')\n",
    "\n",
    "# Define adaptation parameters\n",
    "phi_slider = widgets.FloatSlider(value=.1,min=.001,max=1,step=.05,description=r\"$\\phi$\")\n",
    "tau_phi_slider = widgets.FloatSlider(value=.15,min=.001,max=1,step=.05,description=r\"$\\tau_{\\phi}$\")\n",
    "\n",
    "phi_slider.observe(clicks_eventhandler, names='value')\n",
    "tau_phi_slider.observe(clicks_eventhandler, names='value')\n",
    "\n",
    "# Define integration parameters\n",
    "lambda_slider = widgets.FloatSlider(value=0., min = -5., max=5., step=.25, description=r\"$\\lambda$\")\n",
    "s2s_slider = widgets.FloatSlider(value=1., min = .001, max=50., step=.25, description=r\"$\\sigma^2_s$\")\n",
    "s2a_slider = widgets.FloatSlider(value=.05, min = .001, max=10., step=.25, description=r\"$\\sigma^2_a$\")\n",
    "s2i_slider = widgets.FloatSlider(value=.5, min = .001, max=5., step=.25, description=r\"$\\sigma^2_i$\")\n",
    "B_slider = widgets.FloatSlider(value=10., min = 0., max=25., step=1, description=r\"$B$\")\n",
    "nagent_slider = widgets.IntSlider(value=10, min = 1, max=50, description=r\"N samples\")\n",
    "\n",
    "lambda_slider.observe(clicks_eventhandler, names='value')\n",
    "s2s_slider.observe(clicks_eventhandler, names='value')\n",
    "s2a_slider.observe(clicks_eventhandler, names='value')\n",
    "s2i_slider.observe(clicks_eventhandler, names='value')\n",
    "B_slider.observe(clicks_eventhandler, names='value')\n",
    "nagent_slider.observe(clicks_eventhandler, names='value')\n",
    "\n",
    "# Define choice parameters\n",
    "bias_slider = widgets.FloatSlider(value=0, min = -5, max=5., step=.05, description=r\"Bias\")\n",
    "lapse_slider = widgets.FloatSlider(value=.05, min = 0., max=1., step=.01, description=r\"Lapse\")\n",
    "bias_slider.observe(clicks_eventhandler, names='value')\n",
    "lapse_slider.observe(clicks_eventhandler, names='value')\n",
    "\n",
    "bup_inputs = widgets.VBox([bups_text, seed_slider, rate_slider, gamma_slider, dur_slider])\n",
    "adaptation_inputs = widgets.VBox([adaptation_text, phi_slider, tau_phi_slider])\n",
    "integration_inputs = widgets.VBox([integration_text, lambda_slider, s2s_slider, s2a_slider, \n",
    "                                   s2i_slider, B_slider, nagent_slider])\n",
    "choice_inputs = widgets.VBox([choice_text, bias_slider, lapse_slider])\n",
    "inputs = widgets.VBox([bup_inputs, adaptation_inputs, integration_inputs, choice_inputs])"
   ]
  },
  {
   "cell_type": "markdown",
   "id": "f247e9d4",
   "metadata": {},
   "source": [
    "# Create GUI"
   ]
  },
  {
   "cell_type": "code",
   "execution_count": 14,
   "id": "fe8f262a",
   "metadata": {},
   "outputs": [
    {
     "data": {
      "application/vnd.jupyter.widget-view+json": {
       "model_id": "1793db45a1a043acab1f76c18ae57a46",
       "version_major": 2,
       "version_minor": 0
      },
      "text/plain": [
       "HBox(children=(VBox(children=(VBox(children=(Output(outputs=({'output_type': 'stream', 'text': 'Click train pa…"
      ]
     },
     "metadata": {},
     "output_type": "display_data"
    }
   ],
   "source": [
    "interface = widgets.HBox([inputs, plot_out])\n",
    "display(interface)\n",
    "clicks_eventhandler([])"
   ]
  },
  {
   "cell_type": "markdown",
   "id": "b588108b",
   "metadata": {},
   "source": [
    "# Generate click trains\n",
    "The left and right Poisson Click trains, $\\delta_{t,t_L}$ and $\\delta_{t,t_R}$ are generated by sampling at two different Poisson rates $r_L$ and $r_R$. \n",
    "\n",
    "These generative click rates are determined by setting the overall total rate (default value is 40Hz) and the contrast parameter $\\gamma = \\log \\frac{r_R}{r_L}$."
   ]
  },
  {
   "cell_type": "markdown",
   "id": "46b0c2b5",
   "metadata": {},
   "source": [
    "# Integrate the adapted clicks\n",
    "Now, we need to integrate the adapted clicks. We'll also apply per-click noise (aka sensory noise) with standard deviation $\\sigma_s$, memory noise with s.d.=$\\sigma_a$, initial noise with s.d.=$\\sigma_i$, and an integration time constant $\\lambda$. This gives us our accumulation value\n",
    "\\begin{align}\n",
    "da &= (\\eta C \\delta_R - \\eta C \\delta_L)dt + \\lambda a dt + \\sigma_adW , & a_0 = \\mathcal{N}(0, \\sigma_i^2)\n",
    "\\end{align}"
   ]
  },
  {
   "cell_type": "markdown",
   "id": "e20da2af",
   "metadata": {},
   "source": [
    "# To Do List\n",
    "- [x] make bups sync\n",
    "- [x] make bups sync with accumulation values\n",
    "- [x] depict lapse/choices\n",
    "- [x] make plot autogenerate \n",
    "- [x] make bups a global so that we don't have to regenerate the clicks everytime something is updated\n",
    "- [x] Separate src code from notebook\n",
    "\n",
    "- [ ] make tests of adaptation process\n",
    "- [ ] fix adaptation for positive values of phi\n",
    "- [ ] make tests for accumulation values (compare to matlab results)\n",
    "\n",
    "- [ ] Separate the integration parameters from one another (e.g., changing B shouldn't require recomputing the memory noise)\n",
    "- [x] Align plots better\n",
    "- [ ] Add description of computations\n",
    "\n",
    "- [ ] look at implementation of per click noise (i remember there being something wrong with it)\n",
    "- [ ] put it online using sphinx or something? # \n",
    "- [ ] link to bings rats' parameters and you can click a rat to get its parameters\n",
    "\n",
    "Here's the link I used to learn to make these [how to](https://towardsdatascience.com/bring-your-jupyter-notebook-to-life-with-interactive-widgets-bc12e03f0916)"
   ]
  },
  {
   "cell_type": "code",
   "execution_count": null,
   "id": "908be978",
   "metadata": {},
   "outputs": [],
   "source": []
  }
 ],
 "metadata": {
  "kernelspec": {
   "display_name": "Python 3 (ipykernel)",
   "language": "python",
   "name": "python3"
  },
  "language_info": {
   "codemirror_mode": {
    "name": "ipython",
    "version": 3
   },
   "file_extension": ".py",
   "mimetype": "text/x-python",
   "name": "python",
   "nbconvert_exporter": "python",
   "pygments_lexer": "ipython3",
   "version": "3.8.16"
  },
  "vscode": {
   "interpreter": {
    "hash": "d9e4cbdc1fee694e049942ddd14becf45f1ff75df83f7c5dce00307c3b9ec7fd"
   }
  }
 },
 "nbformat": 4,
 "nbformat_minor": 5
}
