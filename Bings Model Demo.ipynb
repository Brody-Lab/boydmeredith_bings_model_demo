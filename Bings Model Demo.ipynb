{
 "cells": [
  {
   "cell_type": "code",
   "execution_count": 1,
   "id": "9eecdf46",
   "metadata": {},
   "outputs": [],
   "source": [
    "import ipywidgets as widgets\n",
    "from ipywidgets import interact, interactive, fixed\n",
    "import numpy as np\n",
    "import scipy as sp\n",
    "import matplotlib.pyplot as plt\n",
    "import seaborn as sns"
   ]
  },
  {
   "cell_type": "markdown",
   "id": "6db40a93",
   "metadata": {},
   "source": [
    "# Make clicks stimulus"
   ]
  },
  {
   "cell_type": "code",
   "execution_count": 2,
   "id": "4d31eb72",
   "metadata": {},
   "outputs": [],
   "source": [
    "def rate_from_gamma(gamma, total_rate=40):\n",
    "    left = total_rate / (np.exp( gamma) + 1);\n",
    "    right = total_rate - left;\n",
    "    return left, right"
   ]
  },
  {
   "cell_type": "code",
   "execution_count": 16,
   "id": "bd1ee6dd",
   "metadata": {},
   "outputs": [],
   "source": [
    "def make_clicktrain(total_rate=40, gamma=1.5, duration=.5, dt=.001, stereo_click=True):\n",
    "    \"\"\"Generate Poisson Click train\"\"\"\n",
    "    tvec = np.arange(0, duration, dt)\n",
    "    left_rate, right_rate = rate_from_gamma(gamma, total_rate)\n",
    "    left_rate = total_rate - right_rate\n",
    "    right_ind = np.random.random_sample(np.shape(tvec)) < (right_rate * dt)\n",
    "    left_ind = np.random.random_sample(np.shape(tvec)) < (left_rate * dt)    \n",
    "    \n",
    "    if stereo_click:\n",
    "        first_ind = np.argwhere(right_ind+left_ind>0)[0]\n",
    "        right_ind[first_ind] = 1\n",
    "        left_ind[first_ind] = 1\n",
    "    \n",
    "    left_bups = tvec[left_ind]\n",
    "    right_bups = tvec[right_ind]\n",
    "    \n",
    "    fig, ax = plt.subplots( figsize=(4,2.5))\n",
    "    ax1 = ax\n",
    "    ax1.eventplot(left_bups,lineoffsets=-.5,color=\"blue\", alpha=.5)\n",
    "    ax1.eventplot(right_bups,lineoffsets=.5,color=\"red\", alpha=.5)\n",
    "    ax1.plot(left_bups,-np.ones_like(left_bups), \"o\", color=\"blue\", alpha=.5, label=f\"r_L={left_rate:.2f} Hz\")\n",
    "    ax1.plot(right_bups,np.ones_like(right_bups), \"o\", color=\"red\", alpha=.5, label=f\"r_R={right_rate:.2f} Hz\")\n",
    "    ax1.set_xlabel(\"Time (s)\")\n",
    "    ax1.set_ylabel(\"Clicks\")\n",
    "    ax1.legend(loc=\"upper center\", ncol=2, bbox_to_anchor=(.5 ,1.25))\n",
    "    ax1.set_xlim([0, duration])\n",
    "    sns.despine()\n",
    "    plt.tight_layout()\n",
    "    plt.show()\n",
    "    \n",
    "    bups = {'left':left_bups, 'right':right_bups, 'tvec':tvec, \n",
    "            'right_ind':right_ind, 'left_ind':left_ind, 'duration':duration}\n",
    "    \n",
    "    return bups"
   ]
  },
  {
   "cell_type": "code",
   "execution_count": 27,
   "id": "c1c9a965",
   "metadata": {},
   "outputs": [],
   "source": [
    "# adapt the clicks\n",
    "def make_adapted_clicks(bups, phi=.1, tau_phi=.2, cross_stream=True):\n",
    "    if not cross_stream:\n",
    "        raise notImplementedError\n",
    "    if phi > 1:\n",
    "        raise notImplementedError\n",
    "\n",
    "    # concatenate left and right bups to get interclick intervals\n",
    "    left_bups = bups['left']\n",
    "    right_bups = bups['right']\n",
    "    bups_cat = np.hstack([left_bups, right_bups])\n",
    "    sign_cat = np.hstack([-np.ones_like(left_bups), np.ones_like(right_bups)])\n",
    "    sort_order = np.argsort(bups_cat)\n",
    "    bups_cat = bups_cat[sort_order]\n",
    "    sign_cat = sign_cat[sort_order]\n",
    "    ici = np.diff(bups_cat)\n",
    "    \n",
    "    C  = np.ones_like(bups_cat)\n",
    "    cross_side_suppression = 0\n",
    "    for ii in np.arange(1,len(C)):\n",
    "        if ici[ii-1] <= cross_side_suppression and phi != 1:\n",
    "            C[ii-1] = 0\n",
    "            C[ii] = 0\n",
    "            continue\n",
    "        if abs(phi-1) > 1e-5:\n",
    "            style = 'bing'\n",
    "            if style=='bing':\n",
    "                last = tau_phi  * np.log(abs(1 - C[ii-1] * phi))\n",
    "                C[ii] = 1 - np.exp((-ici[ii-1] + last) / tau_phi)\n",
    "            if style=='brian':\n",
    "                arg = (1/tau_phi) * (-ici[ii-1] + sp.special.xlogy(tau_phi, abs(1.-C[ii-1]*phi)))\n",
    "                if C[ii]*phi <=1:\n",
    "                    C[ii] = 1. - np.exp(arg) \n",
    "                else:\n",
    "                    C[ii] = 1. + np.exp(arg) \n",
    "    left_adapted = C[sign_cat==-1]\n",
    "    right_adapted = C[sign_cat==1]\n",
    "    bups['left_adapted'] = left_adapted\n",
    "    bups['right_adapted'] = right_adapted\n",
    "    \n",
    "    # compute the full adaptation process\n",
    "    tvec = bups['tvec']\n",
    "    dt = np.mean(np.diff(tvec))\n",
    "    Cfull = np.ones_like(tvec)\n",
    "\n",
    "    for (ii, tt) in enumerate(tvec[:-1]):\n",
    "        thislb = bups['left_ind'][ii] * 1.\n",
    "        thisrb = bups['right_ind'][ii] * 1.\n",
    "        if thislb + thisrb == 2. and phi != 1:\n",
    "            Cfull[ii] = 0\n",
    "        Cdot =  (1-Cfull[ii]) / tau_phi * dt + (phi - 1) * Cfull[ii] * (thislb + thisrb)\n",
    "        Cfull[ii+1] = Cfull[ii] + Cdot\n",
    "\n",
    "    fig, ax = plt.subplots(2, 1, figsize=(4,4), sharex=True)\n",
    "    ax0 = ax[0]\n",
    "    ax1 = ax[1]\n",
    "    ax0.plot(tvec, Cfull, color = \"gray\")\n",
    "    ax0.plot(left_bups, left_adapted, \"o\", color=\"blue\", alpha=.5)\n",
    "    ax0.plot(right_bups, right_adapted, \"o\", color=\"red\", alpha=.5)\n",
    "    ax0.set_ylabel(\"Adaptation value, C\")\n",
    "    \n",
    "    ax1.plot(np.vstack([left_bups, left_bups]), \n",
    "             np.vstack([np.zeros_like(left_bups), -left_adapted]), color=\"blue\", alpha=.5)\n",
    "    ax1.plot(np.vstack([right_bups, right_bups]), \n",
    "             np.vstack([np.zeros_like(right_bups), right_adapted]), color=\"red\", alpha=.5)\n",
    "    \n",
    "    ax1.plot(left_bups,-left_adapted, \"o\", color=\"blue\", alpha=.5)\n",
    "    ax1.plot(right_bups,right_adapted, \"o\", color=\"red\", alpha=.5)\n",
    "    ax1.set_xlabel(\"Time (s)\")\n",
    "    ax1.set_ylabel(\"Adapted clicks\")\n",
    "\n",
    "    sns.despine()\n",
    "    plt.tight_layout()\n",
    "\n",
    "    plt.show()\n",
    "    \n",
    "    return None"
   ]
  },
  {
   "cell_type": "markdown",
   "id": "e639a860",
   "metadata": {},
   "source": [
    "# Generate click trains\n",
    "The left and right Poisson Click trains, $\\delta_{t,t_L}$ and $\\delta_{t,t_R}$ are generated by sampling at two different Poisson rates $r_L$ and $r_R$. \n",
    "\n",
    "These generative click rates are determined by setting the overall total rate (default value is 40Hz) and the contrast parameter $\\gamma = \\log \\frac{r_R}{r_L}$.\n"
   ]
  },
  {
   "cell_type": "code",
   "execution_count": 28,
   "id": "abb39438",
   "metadata": {},
   "outputs": [
    {
     "data": {
      "application/vnd.jupyter.widget-view+json": {
       "model_id": "717ffe1f5d2d4e39ac0a59213126e538",
       "version_major": 2,
       "version_minor": 0
      },
      "text/plain": [
       "interactive(children=(IntSlider(value=40, description='total_rate', max=40, min=5, step=5), FloatSlider(value=…"
      ]
     },
     "metadata": {},
     "output_type": "display_data"
    }
   ],
   "source": [
    "w = interactive(make_clicktrain, #{'manual': True},\n",
    "                gamma=(-5,5,.25), duration=(0,9,.1), dt=(.001,.1,.01), total_rate=(5,40,5))\n",
    "display(w)"
   ]
  },
  {
   "cell_type": "markdown",
   "id": "db4b0b2b",
   "metadata": {},
   "source": [
    "# Apply click adaptation\n",
    "$\\frac{dC}{dt} = \\frac{1-C}{\\tau_{\\phi}} + (\\phi - 1) C (\\delta_{t,t_R} + \\delta_{t,t_L})$"
   ]
  },
  {
   "cell_type": "code",
   "execution_count": 29,
   "id": "276b6d03",
   "metadata": {},
   "outputs": [
    {
     "data": {
      "application/vnd.jupyter.widget-view+json": {
       "model_id": "13c233b5278e42c3b2e803a27849448c",
       "version_major": 2,
       "version_minor": 0
      },
      "text/plain": [
       "interactive(children=(FloatSlider(value=0.1, description='phi', max=1.2, min=0.01, step=0.01), FloatSlider(val…"
      ]
     },
     "metadata": {},
     "output_type": "display_data"
    }
   ],
   "source": [
    "bups = w.result\n",
    "w2 = interactive(make_adapted_clicks, #{'manual': True},\n",
    "                bups=fixed(bups), phi=(0.01,1.2,.01), tau_phi=(.001,1,.01))\n",
    "display(w2)"
   ]
  },
  {
   "cell_type": "markdown",
   "id": "1ad9076d",
   "metadata": {},
   "source": [
    "# Integrate the adapted clicks\n",
    "Now, we need to integrate the adapted clicks. We'll also apply per-click noise (aka sensory noise) with standard deviation $\\sigma_s$, memory noise with s.d.=$\\sigma_a$, initial noise with s.d.=$\\sigma_i$, and an integration time constant $\\lambda$. This gives us our accumulation value\n",
    "\\begin{align}\n",
    "da &= (\\eta C \\delta_R - \\eta C \\delta_L)dt + \\lambda a dt + \\sigma_adW , & a_0 = \\mathcal{N}(0, \\sigma_i^2)\n",
    "\\end{align}"
   ]
  },
  {
   "cell_type": "code",
   "execution_count": 52,
   "id": "c22f2977",
   "metadata": {},
   "outputs": [
    {
     "data": {
      "text/plain": [
       "0"
      ]
     },
     "execution_count": 52,
     "metadata": {},
     "output_type": "execute_result"
    }
   ],
   "source": [
    "len(np.argwhere(np.array([0, 1])>=3))"
   ]
  },
  {
   "cell_type": "code",
   "execution_count": 53,
   "id": "cd819da4",
   "metadata": {},
   "outputs": [
    {
     "data": {
      "application/vnd.jupyter.widget-view+json": {
       "model_id": "229355e6c9a949c8ba7acd38075b05ef",
       "version_major": 2,
       "version_minor": 0
      },
      "text/plain": [
       "interactive(children=(FloatSlider(value=0.0, description='lam', max=10.0, min=-10.0, step=0.25), FloatSlider(v…"
      ]
     },
     "metadata": {},
     "output_type": "display_data"
    },
    {
     "data": {
      "image/png": "[encoded data removed]",
      "text/plain": [
       "<Figure size 400x200 with 1 Axes>"
      ]
     },
     "metadata": {},
     "output_type": "display_data"
    }
   ],
   "source": [
    "def integrate_adapted_clicks(bups, lam=0, s2s=0.001, s2a=.001, s2i=.001, bias=0, B=10., nagents=5):\n",
    "    tvec = bups['tvec']\n",
    "    fig, ax = plt.subplots(figsize=(4,2))\n",
    "    dt = np.mean(np.diff(tvec))\n",
    "    dur = bups['duration']\n",
    "    \n",
    "    left_adapted = bups['left_adapted'].copy()\n",
    "    right_adapted = bups['right_adapted'].copy()\n",
    "    left_ts = bups['left']\n",
    "    right_ts = bups['right']\n",
    "    left_adapted *= np.exp(lam * (dur - left_ts))\n",
    "    right_adapted *= np.exp(lam * (dur - right_ts))\n",
    "    \n",
    "    for agenti in np.arange(nagents):\n",
    "        left_vals = np.zeros_like(tvec) \n",
    "        right_vals = np.zeros_like(tvec)\n",
    "        \n",
    "        left_noise = np.random.normal(1, np.sqrt(s2s), np.shape(left_adapted)) \n",
    "        left_noise *= np.exp(2*lam*(dur-left_ts))\n",
    "        right_noise = np.random.normal(1, np.sqrt(s2s), np.shape(right_adapted)) \n",
    "        right_noise *= np.exp(2*lam*(dur-right_ts))\n",
    "        \n",
    "        left_vals[bups['left_ind']] =  left_adapted * left_noise\n",
    "        right_vals[bups['right_ind']] = right_adapted * right_noise\n",
    "        \n",
    "        memory_noise = np.random.normal(0, np.sqrt(s2a) * np.sqrt(dt), np.shape(tvec)) \n",
    "        memory_noise *= np.exp(2*lam*(dur-tvec))\n",
    "\n",
    "        init_noise = np.random.normal(0, np.sqrt(s2i), 1)*np.exp(2*lam*dur)\n",
    "\n",
    "        a = np.cumsum(right_vals) - np.cumsum(left_vals) + memory_noise + init_noise\n",
    "        \n",
    "#         crossing = np.argwhere(abs(a)>B)\n",
    "#         if len(crossing ) > 0:\n",
    "#             ii = crossing[0]\n",
    "#             a[ii:] = a[ii]\n",
    "        \n",
    "        ax.plot(tvec, a, color=\"gray\")\n",
    "    \n",
    "    \n",
    "    ax.axhline(bias,color='black',linestyle='--')\n",
    "    ax.set_xlabel(\"Time\")\n",
    "    ax.set_ylabel(\"Accumulation value, a\")\n",
    "    sns.despine()\n",
    "    plt.show()\n",
    "    return a\n",
    "\n",
    "\n",
    "a = interactive(integrate_adapted_clicks, #{'manual': True},\n",
    "                bups=fixed(bups), lam =(-10,10,.25), s2s=(0.001,10,.25), s2a=(.001, 5, .25), s2i=(.001,5,.1),\n",
    "               bias=((-5,5,.1)), nagents=(1,10))\n",
    "display(a)"
   ]
  },
  {
   "cell_type": "code",
   "execution_count": null,
   "id": "f336a054",
   "metadata": {},
   "outputs": [],
   "source": []
  },
  {
   "cell_type": "code",
   "execution_count": 8,
   "id": "f8b59d04",
   "metadata": {},
   "outputs": [],
   "source": [
    "# TODO Make the bups stay synced when it changes"
   ]
  },
  {
   "cell_type": "code",
   "execution_count": 9,
   "id": "dc5b6cb8",
   "metadata": {},
   "outputs": [],
   "source": [
    "# TODO Make adaptation work for positive values of phi\n",
    "# TODO Add tests for adaptation process"
   ]
  },
  {
   "cell_type": "code",
   "execution_count": 10,
   "id": "be178a9e",
   "metadata": {},
   "outputs": [],
   "source": [
    "# TODO add the time constant\n",
    "# TODO add some noise\n",
    "# TODO fix the noise units\n"
   ]
  },
  {
   "cell_type": "code",
   "execution_count": 11,
   "id": "facb639e",
   "metadata": {},
   "outputs": [],
   "source": [
    "# make tests\n",
    "# put it on the internet \n",
    "# https://towardsdatascience.com/bring-your-jupyter-notebook-to-life-with-interactive-widgets-bc12e03f0916\n"
   ]
  },
  {
   "cell_type": "code",
   "execution_count": 12,
   "id": "d6c56696",
   "metadata": {},
   "outputs": [],
   "source": [
    "# add multiple trials\n",
    "# add a bound"
   ]
  }
 ],
 "metadata": {
  "kernelspec": {
   "display_name": "Python 3 (ipykernel)",
   "language": "python",
   "name": "python3"
  },
  "language_info": {
   "codemirror_mode": {
    "name": "ipython",
    "version": 3
   },
   "file_extension": ".py",
   "mimetype": "text/x-python",
   "name": "python",
   "nbconvert_exporter": "python",
   "pygments_lexer": "ipython3",
   "version": "3.8.12"
  }
 },
 "nbformat": 4,
 "nbformat_minor": 5
}
