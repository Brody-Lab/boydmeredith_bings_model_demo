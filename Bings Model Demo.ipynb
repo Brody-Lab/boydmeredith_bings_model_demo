{
 "cells": [
  {
   "cell_type": "code",
   "execution_count": 1,
   "id": "9eecdf46",
   "metadata": {},
   "outputs": [],
   "source": [
    "from ipywidgets import widgets, AppLayout, interact, interactive, fixed\n",
    "from IPython.display import display, Math, Latex\n",
    "import numpy as np\n",
    "import src.bings_model as bm \n",
    "import matplotlib.pyplot as plt\n",
    "import seaborn as sns\n",
    "\n",
    "%matplotlib inline\n",
    "%load_ext autoreload\n",
    "%autoreload 2"
   ]
  },
  {
   "cell_type": "code",
   "execution_count": 7,
   "id": "66a9762a",
   "metadata": {},
   "outputs": [],
   "source": [
    "# This cell creates all the widgets that we'll display in the next cell.\n",
    "\n",
    "# Hide this cell in nbviewer\n",
    "{\n",
    "    \"tags\": [\n",
    "        \"hide-input\",\n",
    "    ]\n",
    "}\n",
    "\n",
    "sns.set_context('notebook')\n",
    "\n",
    "def clicks_eventhandler(change):\n",
    "    global bups\n",
    "    bups = bm.make_clicktrain(total_rate=rate_slider.value, gamma=gamma_slider.value, \n",
    "                               duration=dur_slider.value, rng=seed_slider.value)\n",
    "    adaptation_eventhandler(change)\n",
    "    \n",
    "def adaptation_eventhandler(change):\n",
    "    bm.make_adapted_clicks(bups, phi=phi_slider.value, tau_phi=tau_phi_slider.value)  \n",
    "    integration_eventhandler(change)\n",
    "    \n",
    "def integration_eventhandler(change):\n",
    "    global a, params\n",
    "    a, params = bm.integrate_adapted_clicks(bups, lam=lambda_slider.value, s2s=s2s_slider.value,\n",
    "                             s2a=s2a_slider.value, s2i=s2i_slider.value, bias=bias_slider.value,\n",
    "                             B=B_slider.value, nagents=nagent_slider.value, rng=seed_slider.value)\n",
    "    choice_eventhandler(change)\n",
    "    \n",
    "def choice_eventhandler(change):\n",
    "    plot_out.clear_output(wait=True)    \n",
    "    with plot_out:\n",
    "        plot_process(bups, a, params)\n",
    "        \n",
    "plot_out = widgets.Output()\n",
    "\n",
    "bups_text = widgets.Output()\n",
    "with bups_text:\n",
    "    print(\"Click train parameters\\n\")\n",
    "    \n",
    "adaptation_text = widgets.Output()\n",
    "with adaptation_text:\n",
    "    print(\"\\nAdaptation parameters\\n\")\n",
    "    #display(Math(r'$dC = \\frac{1-C}{\\tau_{\\phi}}dt + (\\phi - 1) C (\\delta_{t,t_R} + \\delta_{t,t_L})$'))\n",
    "    \n",
    "integration_text = widgets.Output()\n",
    "with integration_text:\n",
    "    print(\"\\n\\nAccumulation parameters \\n\")\n",
    "    #display(Math(r'$da = (\\eta C \\delta_R - \\eta C \\delta_L)dt + \\lambda a dt + \\sigma_adW $'))\n",
    "    #display(Math('$a_0 = \\mathcal{N}(0, \\sigma_i^2)$'))\n",
    "    \n",
    "choice_text = widgets.Output()\n",
    "with choice_text:\n",
    "    print(\"\\nChoice parameters\\n\")\n",
    "\n",
    "# Define click parameters\n",
    "seed_slider = widgets.IntSlider(value=1, min=0, max=10, description=\"Seed\")\n",
    "rate_slider = widgets.IntSlider(value=40,min=5,max=50,step=5,description=r'$r_L+r_R$ (Hz)')\n",
    "gamma_slider = widgets.FloatSlider(value=1.5,min=-5,max=5,step=.25,description=r\"$\\gamma = \\log \\frac{r_1}{r_2}$\")\n",
    "dur_slider = widgets.FloatSlider(value=1,min=.25,max=5,step=.25,description=\"T (s)\")\n",
    "        \n",
    "seed_slider.observe(clicks_eventhandler, names='value')\n",
    "rate_slider.observe(clicks_eventhandler, names='value')\n",
    "gamma_slider.observe(clicks_eventhandler, names='value')\n",
    "dur_slider.observe(clicks_eventhandler, names='value')\n",
    "\n",
    "# Define adaptation parameters\n",
    "phi_slider = widgets.FloatSlider(value=.1,min=.001,max=1,step=.05,description=r\"$\\phi$\")\n",
    "tau_phi_slider = widgets.FloatSlider(value=.15,min=.001,max=1,step=.05,description=r\"$\\tau_{\\phi}$\")\n",
    "\n",
    "phi_slider.observe(clicks_eventhandler, names='value')\n",
    "tau_phi_slider.observe(clicks_eventhandler, names='value')\n",
    "\n",
    "# Define integration parameters\n",
    "lambda_slider = widgets.FloatSlider(value=0., min = -5., max=5., step=.25, description=r\"$\\lambda$\")\n",
    "s2s_slider = widgets.FloatSlider(value=1., min = .001, max=50., step=.25, description=r\"$\\sigma^2_s$\")\n",
    "s2a_slider = widgets.FloatSlider(value=.05, min = .001, max=10., step=.25, description=r\"$\\sigma^2_a$\")\n",
    "s2i_slider = widgets.FloatSlider(value=.5, min = .001, max=5., step=.25, description=r\"$\\sigma^2_i$\")\n",
    "B_slider = widgets.FloatSlider(value=10., min = 0., max=25., step=1, description=r\"$B$\")\n",
    "nagent_slider = widgets.IntSlider(value=10, min = 1, max=50, description=r\"N samples\")\n",
    "\n",
    "lambda_slider.observe(clicks_eventhandler, names='value')\n",
    "s2s_slider.observe(clicks_eventhandler, names='value')\n",
    "s2a_slider.observe(clicks_eventhandler, names='value')\n",
    "s2i_slider.observe(clicks_eventhandler, names='value')\n",
    "B_slider.observe(clicks_eventhandler, names='value')\n",
    "nagent_slider.observe(clicks_eventhandler, names='value')\n",
    "\n",
    "# Define choice parameters\n",
    "bias_slider = widgets.FloatSlider(value=0, min = -5, max=5., step=.05, description=r\"Bias\")\n",
    "lapse_slider = widgets.FloatSlider(value=.05, min = 0., max=1., step=.01, description=r\"Lapse\")\n",
    "bias_slider.observe(clicks_eventhandler, names='value')\n",
    "lapse_slider.observe(clicks_eventhandler, names='value')\n",
    "\n",
    "bup_inputs = widgets.VBox([bups_text, seed_slider, rate_slider, gamma_slider, dur_slider])\n",
    "adaptation_inputs = widgets.VBox([adaptation_text, phi_slider, tau_phi_slider])\n",
    "integration_inputs = widgets.VBox([integration_text, lambda_slider, s2s_slider, s2a_slider, \n",
    "                                   s2i_slider, B_slider, nagent_slider])\n",
    "choice_inputs = widgets.VBox([choice_text, bias_slider, lapse_slider])\n",
    "inputs = widgets.VBox([bup_inputs, adaptation_inputs, integration_inputs, choice_inputs])"
   ]
  },
  {
   "cell_type": "markdown",
   "id": "f247e9d4",
   "metadata": {},
   "source": [
    "# Create GUI"
   ]
  },
  {
   "cell_type": "code",
   "execution_count": 9,
   "id": "fe8f262a",
   "metadata": {},
   "outputs": [
    {
     "data": {
      "application/vnd.jupyter.widget-view+json": {
       "model_id": "843f2adbb281429ab86b6f0961778e4c",
       "version_major": 2,
       "version_minor": 0
      },
      "text/plain": [
       "HBox(children=(VBox(children=(VBox(children=(Output(outputs=({'output_type': 'stream', 'text': 'Click train pa…"
      ]
     },
     "metadata": {},
     "output_type": "display_data"
    }
   ],
   "source": [
    "interface = widgets.HBox([inputs, plot_out])\n",
    "display(interface)\n",
    "clicks_eventhandler([])"
   ]
  },
  {
   "cell_type": "markdown",
   "id": "b588108b",
   "metadata": {},
   "source": [
    "# Generate click trains\n",
    "The left and right Poisson Click trains, $\\delta_{t,t_L}$ and $\\delta_{t,t_R}$ are generated by sampling at two different Poisson rates $r_L$ and $r_R$. \n",
    "\n",
    "These generative click rates are determined by setting the overall total rate (default value is 40Hz) and the contrast parameter $\\gamma = \\log \\frac{r_R}{r_L}$."
   ]
  },
  {
   "cell_type": "markdown",
   "id": "46b0c2b5",
   "metadata": {},
   "source": [
    "# Integrate the adapted clicks\n",
    "Now, we need to integrate the adapted clicks. We'll also apply per-click noise (aka sensory noise) with standard deviation $\\sigma_s$, memory noise with s.d.=$\\sigma_a$, initial noise with s.d.=$\\sigma_i$, and an integration time constant $\\lambda$. This gives us our accumulation value\n",
    "\\begin{align}\n",
    "da &= (\\eta C \\delta_R - \\eta C \\delta_L)dt + \\lambda a dt + \\sigma_adW , & a_0 = \\mathcal{N}(0, \\sigma_i^2)\n",
    "\\end{align}"
   ]
  },
  {
   "cell_type": "markdown",
   "id": "e20da2af",
   "metadata": {},
   "source": [
    "# To Do List\n",
    "- [x] make bups sync\n",
    "- [x] make bups sync with accumulation values\n",
    "- [x] depict lapse/choices\n",
    "- [x] make plot autogenerate \n",
    "- [x] make bups a global so that we don't have to regenerate the clicks everytime something is updated\n",
    "- [x] Separate src code from notebook\n",
    "\n",
    "- [ ] make tests of adaptation process\n",
    "- [ ] fix adaptation for positive values of phi\n",
    "- [ ] make tests for accumulation values (compare to matlab results)\n",
    "\n",
    "- [ ] Separate the integration parameters from one another (e.g., changing B shouldn't require recomputing the memory noise)\n",
    "- [x] Align plots better\n",
    "- [ ] Add description of computations\n",
    "\n",
    "- [ ] look at implementation of per click noise (i remember there being something wrong with it)\n",
    "- [ ] put it online using sphinx or something? # \n",
    "- [ ] link to bings rats' parameters and you can click a rat to get its parameters\n",
    "\n",
    "Here's the link I used to learn to make these [how to](https://towardsdatascience.com/bring-your-jupyter-notebook-to-life-with-interactive-widgets-bc12e03f0916)"
   ]
  },
  {
   "cell_type": "code",
   "execution_count": null,
   "id": "908be978",
   "metadata": {},
   "outputs": [],
   "source": []
  }
 ],
 "metadata": {
  "kernelspec": {
   "display_name": "Python 3 (ipykernel)",
   "language": "python",
   "name": "python3"
  },
  "language_info": {
   "codemirror_mode": {
    "name": "ipython",
    "version": 3
   },
   "file_extension": ".py",
   "mimetype": "text/x-python",
   "name": "python",
   "nbconvert_exporter": "python",
   "pygments_lexer": "ipython3",
   "version": "3.8.16"
  },
  "vscode": {
   "interpreter": {
    "hash": "d9e4cbdc1fee694e049942ddd14becf45f1ff75df83f7c5dce00307c3b9ec7fd"
   }
  },
  "widgets": {
   "application/vnd.jupyter.widget-state+json": {
    "state": {
     "00813952351340fb8f0a6c47bfb69dd2": {
      "model_module": "@jupyter-widgets/controls",
      "model_module_version": "1.5.0",
      "model_name": "VBoxModel",
      "state": {
       "children": [
        "IPY_MODEL_d19a6eea9cfe44379be6a2f0eb4a4e34",
        "IPY_MODEL_0799c85a3d0a4846977dc19275a4299c",
        "IPY_MODEL_fbcc32ca8cdd4d928c104e3e5112d93c",
        "IPY_MODEL_44900a35c94541878b0236a8d15c9508",
        "IPY_MODEL_979040ada26c4c26b40bc98021ba620d"
       ],
       "layout": "IPY_MODEL_526a0a4a954e4dfb999ae2bd700339ad"
      }
     },
     "00899e684e1147fc9df404405b285612": {
      "model_module": "@jupyter-widgets/controls",
      "model_module_version": "1.5.0",
      "model_name": "SliderStyleModel",
      "state": {
       "description_width": ""
      }
     },
     "00fcc9f769db4dce9a52ee0a9bbc27aa": {
      "model_module": "@jupyter-widgets/controls",
      "model_module_version": "1.5.0",
      "model_name": "FloatSliderModel",
      "state": {
       "description": "$\\gamma = \\log \\frac{r_1}{r_2}$",
       "layout": "IPY_MODEL_239060b877bc471d99fb0726421ad8a1",
       "max": 5,
       "min": -5,
       "step": 0.25,
       "style": "IPY_MODEL_7461038cf3e34f5b96965fbe6b69f071",
       "value": 1.5
      }
     },
     "01968d8b5ae8461b84fd7d0ee96f66ee": {
      "model_module": "@jupyter-widgets/base",
      "model_module_version": "1.2.0",
      "model_name": "LayoutModel",
      "state": {}
     },
     "01abb4bb8e8141799c154f89923f66fd": {
      "model_module": "@jupyter-widgets/base",
      "model_module_version": "1.2.0",
      "model_name": "LayoutModel",
      "state": {}
     },
     "01fb686ca4d64e3ca0c75681931e1435": {
      "model_module": "@jupyter-widgets/controls",
      "model_module_version": "1.5.0",
      "model_name": "VBoxModel",
      "state": {
       "children": [
        "IPY_MODEL_781c527995684c4c84f9d9da40b20af7",
        "IPY_MODEL_a65b4e05b01240dcb42632d4c3562bac",
        "IPY_MODEL_52d6a6ffd5554d7bbd7a67231ce57187",
        "IPY_MODEL_d080076a88e14d6c9c1ec84bf8f3e589"
       ],
       "layout": "IPY_MODEL_8457f28fe5c84f2a89eb37830eec3dbb"
      }
     },
     "0217a4068aee4823b747a2f147592f04": {
      "model_module": "@jupyter-widgets/controls",
      "model_module_version": "1.5.0",
      "model_name": "FloatSliderModel",
      "state": {
       "description": "$\\sigma^2_s$",
       "layout": "IPY_MODEL_c1d179f696824a818b537a62fb333c0d",
       "max": 50,
       "min": 0.001,
       "step": 0.25,
       "style": "IPY_MODEL_5603f15ce23e4bd0854fac2bf043d725",
       "value": 1
      }
     },
     "02f653b32d01483ebe9964ded9707116": {
      "model_module": "@jupyter-widgets/base",
      "model_module_version": "1.2.0",
      "model_name": "LayoutModel",
      "state": {}
     },
     "03220f450d014cbdb6b185daf1db8fa5": {
      "model_module": "@jupyter-widgets/controls",
      "model_module_version": "1.5.0",
      "model_name": "SliderStyleModel",
      "state": {
       "description_width": ""
      }
     },
     "03a3a210171a475cabf7a8d22503ae8d": {
      "model_module": "@jupyter-widgets/output",
      "model_module_version": "1.0.0",
      "model_name": "OutputModel",
      "state": {
       "layout": "IPY_MODEL_edd4156f52ee47b5ac58c0ae9b1d6056",
       "outputs": [
        {
         "name": "stdout",
         "output_type": "stream",
         "text": "\nAdaptation parameters\n\n"
        }
       ]
      }
     },
     "03c1d4995cb24b04967803a7a345e024": {
      "model_module": "@jupyter-widgets/controls",
      "model_module_version": "1.5.0",
      "model_name": "IntSliderModel",
      "state": {
       "description": "N samples",
       "layout": "IPY_MODEL_f1bbf9da769e4776ac3724369c11ecb0",
       "max": 50,
       "min": 1,
       "style": "IPY_MODEL_459535bf344b4a899464326c46bcff3f",
       "value": 10
      }
     },
     "04ce6bf2dda846c69395f9230215ebc6": {
      "model_module": "@jupyter-widgets/base",
      "model_module_version": "1.2.0",
      "model_name": "LayoutModel",
      "state": {}
     },
     "04e692cb06f34af791f30c6cbe895b5e": {
      "model_module": "@jupyter-widgets/controls",
      "model_module_version": "1.5.0",
      "model_name": "SliderStyleModel",
      "state": {
       "description_width": ""
      }
     },
     "05c0bc1a1a45409486ebf80199c98b08": {
      "model_module": "@jupyter-widgets/controls",
      "model_module_version": "1.5.0",
      "model_name": "SliderStyleModel",
      "state": {
       "description_width": ""
      }
     },
     "05ccd84574ef4e4d9fc69cdff847f733": {
      "model_module": "@jupyter-widgets/base",
      "model_module_version": "1.2.0",
      "model_name": "LayoutModel",
      "state": {}
     },
     "05e18a53eba54a8e984f538d0e13fe37": {
      "model_module": "@jupyter-widgets/output",
      "model_module_version": "1.0.0",
      "model_name": "OutputModel",
      "state": {
       "layout": "IPY_MODEL_5b63d1629e734531ac0badc4d380915e",
       "outputs": [
        {
         "name": "stdout",
         "output_type": "stream",
         "text": "\nAdaptation parameters\n\n"
        }
       ]
      }
     },
     "0681b872b841422a9271f2c400877573": {
      "model_module": "@jupyter-widgets/controls",
      "model_module_version": "1.5.0",
      "model_name": "FloatSliderModel",
      "state": {
       "description": "$\\sigma^2_s$",
       "layout": "IPY_MODEL_4e5c359d276445f0a30b3888ec5bf28f",
       "max": 50,
       "min": 0.001,
       "step": 0.25,
       "style": "IPY_MODEL_dee3073e2fd74570a27be02b9d0fdc11",
       "value": 1
      }
     },
     "06f71a8aa2c243b79d5e04cee337a2d3": {
      "model_module": "@jupyter-widgets/controls",
      "model_module_version": "1.5.0",
      "model_name": "VBoxModel",
      "state": {
       "children": [
        "IPY_MODEL_4392a5fb99144b5185bae14516384079",
        "IPY_MODEL_4c5626ca505d4bac911e967f4fd42c00",
        "IPY_MODEL_de6b1ee06dce447f9847c0eb8c5ad283",
        "IPY_MODEL_de1d1a8a0650459a9bbad910b521d94b",
        "IPY_MODEL_43fd2d4501104f909074ee99f8c87802"
       ],
       "layout": "IPY_MODEL_c80d0555fd2144f3b30452f6920a72a9"
      }
     },
     "070d4a591add4023877bf548da38b307": {
      "model_module": "@jupyter-widgets/controls",
      "model_module_version": "1.5.0",
      "model_name": "VBoxModel",
      "state": {
       "children": [
        "IPY_MODEL_2cd0d21a57ca4a90b8bf318010d6d629",
        "IPY_MODEL_529995f2d64940268b90777563c7d395",
        "IPY_MODEL_0681b872b841422a9271f2c400877573",
        "IPY_MODEL_15a7d2faa2744e499d8bfea3933f3f11",
        "IPY_MODEL_b347520397ee498c8f45ba30c3ed59b7",
        "IPY_MODEL_fc8676195f554b4a91ffeb3a32c623eb",
        "IPY_MODEL_7f2ffa22e3504ce68fa74374b435b528"
       ],
       "layout": "IPY_MODEL_7c7fba4f35b541eda447862b78a411cb"
      }
     },
     "0799c85a3d0a4846977dc19275a4299c": {
      "model_module": "@jupyter-widgets/controls",
      "model_module_version": "1.5.0",
      "model_name": "IntSliderModel",
      "state": {
       "description": "Seed",
       "layout": "IPY_MODEL_7026972afc1348d689ed672864f6d7eb",
       "max": 10,
       "style": "IPY_MODEL_a64e5137c4c84ca6a39bd7b809865751",
       "value": 1
      }
     },
     "079e1635f47149f3be1bf371758fa6b3": {
      "model_module": "@jupyter-widgets/controls",
      "model_module_version": "1.5.0",
      "model_name": "SliderStyleModel",
      "state": {
       "description_width": ""
      }
     },
     "090fcab978a44f57b80a803dc26ece59": {
      "model_module": "@jupyter-widgets/controls",
      "model_module_version": "1.5.0",
      "model_name": "SliderStyleModel",
      "state": {
       "description_width": ""
      }
     },
     "094fd5fc3b944a5c934ccd9efe221bdf": {
      "model_module": "@jupyter-widgets/base",
      "model_module_version": "1.2.0",
      "model_name": "LayoutModel",
      "state": {}
     },
     "0a232a4acfa347c0a447b6130068c2d8": {
      "model_module": "@jupyter-widgets/base",
      "model_module_version": "1.2.0",
      "model_name": "LayoutModel",
      "state": {}
     },
     "0b2a0235e0e3479085d0b38640ca2702": {
      "model_module": "@jupyter-widgets/base",
      "model_module_version": "1.2.0",
      "model_name": "LayoutModel",
      "state": {}
     },
     "0b81f03b50714f949b12a1f8049877c7": {
      "model_module": "@jupyter-widgets/base",
      "model_module_version": "1.2.0",
      "model_name": "LayoutModel",
      "state": {}
     },
     "0b972c601b8c493c871af1d73cd5aca4": {
      "model_module": "@jupyter-widgets/controls",
      "model_module_version": "1.5.0",
      "model_name": "SliderStyleModel",
      "state": {
       "description_width": ""
      }
     },
     "0bd001b616534156a34daacc800d7b1f": {
      "model_module": "@jupyter-widgets/base",
      "model_module_version": "1.2.0",
      "model_name": "LayoutModel",
      "state": {}
     },
     "0c06bdba26574719bf85739d3329af42": {
      "model_module": "@jupyter-widgets/base",
      "model_module_version": "1.2.0",
      "model_name": "LayoutModel",
      "state": {}
     },
     "0c779ca6fa3046ca9172c0f39ef9b4e6": {
      "model_module": "@jupyter-widgets/base",
      "model_module_version": "1.2.0",
      "model_name": "LayoutModel",
      "state": {}
     },
     "0caf5f6586ab4c6c84a92084db828703": {
      "model_module": "@jupyter-widgets/controls",
      "model_module_version": "1.5.0",
      "model_name": "SliderStyleModel",
      "state": {
       "description_width": ""
      }
     },
     "0cd464dd35bc43c790472e8173cb79d4": {
      "model_module": "@jupyter-widgets/controls",
      "model_module_version": "1.5.0",
      "model_name": "VBoxModel",
      "state": {
       "children": [
        "IPY_MODEL_1d612b3a0a574f92924a64745f2a9671",
        "IPY_MODEL_b1b87d500fba441e89bd6a4429a73528",
        "IPY_MODEL_f3c59c238fcf4ace9d4478ab1fa67ffa"
       ],
       "layout": "IPY_MODEL_094fd5fc3b944a5c934ccd9efe221bdf"
      }
     },
     "0cf62ea507254337a0739a1fd5debbb6": {
      "model_module": "@jupyter-widgets/controls",
      "model_module_version": "1.5.0",
      "model_name": "SliderStyleModel",
      "state": {
       "description_width": ""
      }
     },
     "0d3a93d1bb9548ee9ddf112a4764437c": {
      "model_module": "@jupyter-widgets/controls",
      "model_module_version": "1.5.0",
      "model_name": "VBoxModel",
      "state": {
       "children": [
        "IPY_MODEL_b840081776e64a6f8e0056c8354d2e0d",
        "IPY_MODEL_9e3eb27387e14cf8aa569d832f6abfe9",
        "IPY_MODEL_ed4b10ed3d094633bce299c156c8ecb7",
        "IPY_MODEL_a9245ea880c345e5a84632edb40f662e"
       ],
       "layout": "IPY_MODEL_f224bf46ceb34613a505b0d9320c6d53"
      }
     },
     "0da6a514937047938b490b1f8070a758": {
      "model_module": "@jupyter-widgets/base",
      "model_module_version": "1.2.0",
      "model_name": "LayoutModel",
      "state": {}
     },
     "0df056ff2e274c028337b56d521f1234": {
      "model_module": "@jupyter-widgets/output",
      "model_module_version": "1.0.0",
      "model_name": "OutputModel",
      "state": {
       "layout": "IPY_MODEL_23650b09b8a14db9aa4960aa387ceaf0",
       "outputs": [
        {
         "name": "stdout",
         "output_type": "stream",
         "text": "\n\nAdaptation parameters\n\n"
        }
       ]
      }
     },
     "0df69f6857b246ebaca45d97b8a5840a": {
      "model_module": "@jupyter-widgets/base",
      "model_module_version": "1.2.0",
      "model_name": "LayoutModel",
      "state": {}
     },
     "0e7c3f1ac1144cb59f42df88e15fcea7": {
      "model_module": "@jupyter-widgets/controls",
      "model_module_version": "1.5.0",
      "model_name": "FloatSliderModel",
      "state": {
       "description": "$\\gamma = \\log \\frac{r_1}{r_2}$",
       "layout": "IPY_MODEL_a37a4649c1854a1ebf71a5193b5c2dc4",
       "max": 5,
       "min": -5,
       "step": 0.25,
       "style": "IPY_MODEL_41ba4949079f4dd89582f42bcfa03cd3",
       "value": 1.5
      }
     },
     "0e839cce18b44120800dca335ceffc41": {
      "model_module": "@jupyter-widgets/base",
      "model_module_version": "1.2.0",
      "model_name": "LayoutModel",
      "state": {}
     },
     "0ec4a2188ce8494d973b6b2cb3137ce3": {
      "model_module": "@jupyter-widgets/base",
      "model_module_version": "1.2.0",
      "model_name": "LayoutModel",
      "state": {}
     },
     "0f1b55c5eee24b7d91b8dac64991589d": {
      "model_module": "@jupyter-widgets/controls",
      "model_module_version": "1.5.0",
      "model_name": "FloatSliderModel",
      "state": {
       "description": "$\\gamma = \\log \\frac{r_1}{r_2}$",
       "layout": "IPY_MODEL_b15905c0dfbc4d5a9cbfb12229e5ec5a",
       "max": 5,
       "min": -5,
       "step": 0.25,
       "style": "IPY_MODEL_84103336da44449387ac766d7cc67987",
       "value": 1.5
      }
     },
     "0f1ea066ea264cfdac70f5b08787e5f9": {
      "model_module": "@jupyter-widgets/base",
      "model_module_version": "1.2.0",
      "model_name": "LayoutModel",
      "state": {}
     },
     "0f2bff6dcdfc4bbc8ad3bf65e81dea71": {
      "model_module": "@jupyter-widgets/base",
      "model_module_version": "1.2.0",
      "model_name": "LayoutModel",
      "state": {}
     },
     "0f43b88c879842a091f3b60104ded199": {
      "model_module": "@jupyter-widgets/base",
      "model_module_version": "1.2.0",
      "model_name": "LayoutModel",
      "state": {}
     },
     "0fd74addb51343ddbd276777334ca406": {
      "model_module": "@jupyter-widgets/base",
      "model_module_version": "1.2.0",
      "model_name": "LayoutModel",
      "state": {}
     },
     "1054e4cbe32643f78922d4dae1729620": {
      "model_module": "@jupyter-widgets/base",
      "model_module_version": "1.2.0",
      "model_name": "LayoutModel",
      "state": {}
     },
     "10a96ef935a74817a4a7bad3be9adc0a": {
      "model_module": "@jupyter-widgets/controls",
      "model_module_version": "1.5.0",
      "model_name": "VBoxModel",
      "state": {
       "children": [
        "IPY_MODEL_34cbc2b81b354902b8180c1924842aa6",
        "IPY_MODEL_5a17b701d05b44ba81ed299ae75d2018",
        "IPY_MODEL_835788dd9d0a44a5a096bcb37a0c43bb",
        "IPY_MODEL_b4cdf78794714f4881290bcc63f18362"
       ],
       "layout": "IPY_MODEL_e709d578f3934756aad04d2005efcb6b"
      }
     },
     "10a9ef9e51f64e198b8a49be5e2d6153": {
      "model_module": "@jupyter-widgets/base",
      "model_module_version": "1.2.0",
      "model_name": "LayoutModel",
      "state": {}
     },
     "1135fb9b1d55493a9782d3120be0859e": {
      "model_module": "@jupyter-widgets/controls",
      "model_module_version": "1.5.0",
      "model_name": "FloatSliderModel",
      "state": {
       "description": "$\\tau_{\\phi}$",
       "layout": "IPY_MODEL_bcbffcd90f9d4d7eafb5f2474362663f",
       "max": 1,
       "min": 0.001,
       "step": 0.05,
       "style": "IPY_MODEL_687e827efb6a47c186c5284cb5feb752",
       "value": 0.15
      }
     },
     "11c4f6b2ddb64cb59872d10b5735c1d2": {
      "model_module": "@jupyter-widgets/controls",
      "model_module_version": "1.5.0",
      "model_name": "SliderStyleModel",
      "state": {
       "description_width": ""
      }
     },
     "11cffda0ad0742b3be0b65a7b7931fc3": {
      "model_module": "@jupyter-widgets/controls",
      "model_module_version": "1.5.0",
      "model_name": "SliderStyleModel",
      "state": {
       "description_width": ""
      }
     },
     "12120df3e49745c38259fc93f2e9e1f2": {
      "model_module": "@jupyter-widgets/output",
      "model_module_version": "1.0.0",
      "model_name": "OutputModel",
      "state": {
       "layout": "IPY_MODEL_72eafe2bbb254a5ab5ef7a45f48e33b2",
       "outputs": [
        {
         "name": "stdout",
         "output_type": "stream",
         "text": "Adaptation parameters\n\n"
        }
       ]
      }
     },
     "123ea64072dd4844bc923d75c8ae5e37": {
      "model_module": "@jupyter-widgets/controls",
      "model_module_version": "1.5.0",
      "model_name": "FloatSliderModel",
      "state": {
       "description": "Lapse",
       "layout": "IPY_MODEL_2f817eabe47b4d7f82468856c2df6af7",
       "max": 1,
       "step": 0.01,
       "style": "IPY_MODEL_638aa7b0cbbb42fe9ff3ea0083b64b79",
       "value": 0.05
      }
     },
     "126ade34e40a423a8d9b784708fcca06": {
      "model_module": "@jupyter-widgets/output",
      "model_module_version": "1.0.0",
      "model_name": "OutputModel",
      "state": {
       "layout": "IPY_MODEL_0fd74addb51343ddbd276777334ca406",
       "outputs": [
        {
         "data": {
          "image/png": "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\n",
          "text/plain": "<Figure size 600x700 with 4 Axes>"
         },
         "metadata": {},
         "output_type": "display_data"
        }
       ]
      }
     },
     "12982acd55174bb9b81b2f33717d5461": {
      "model_module": "@jupyter-widgets/base",
      "model_module_version": "1.2.0",
      "model_name": "LayoutModel",
      "state": {}
     },
     "12be8418dae54b2d8fa69c1aad1031e9": {
      "model_module": "@jupyter-widgets/controls",
      "model_module_version": "1.5.0",
      "model_name": "SliderStyleModel",
      "state": {
       "description_width": ""
      }
     },
     "12c9add9cd084e038256866e6d22cee0": {
      "model_module": "@jupyter-widgets/output",
      "model_module_version": "1.0.0",
      "model_name": "OutputModel",
      "state": {
       "layout": "IPY_MODEL_df6bed873c144dd4b587c60c60bb965b",
       "outputs": [
        {
         "name": "stdout",
         "output_type": "stream",
         "text": "\nAdaptation parameters\n\n"
        }
       ]
      }
     },
     "12dc051fdc874d97a43560760dac266a": {
      "model_module": "@jupyter-widgets/controls",
      "model_module_version": "1.5.0",
      "model_name": "FloatSliderModel",
      "state": {
       "description": "$B$",
       "layout": "IPY_MODEL_570cac27876541e6be35f1dfb64c64ca",
       "max": 25,
       "style": "IPY_MODEL_f156024ca51b477c9186c0ecfc6aaefe",
       "value": 10
      }
     },
     "12fe9f30b31344069f0b1c1c4558b1ba": {
      "model_module": "@jupyter-widgets/controls",
      "model_module_version": "1.5.0",
      "model_name": "IntSliderModel",
      "state": {
       "description": "Seed",
       "layout": "IPY_MODEL_c774105aa9bc4ef7bac30b348475e869",
       "max": 10,
       "style": "IPY_MODEL_b28892baca2e475cbef6f8eff62e87ac",
       "value": 1
      }
     },
     "13bd52893889472ea8954be3eabbed10": {
      "model_module": "@jupyter-widgets/base",
      "model_module_version": "1.2.0",
      "model_name": "LayoutModel",
      "state": {}
     },
     "13d1d167e2664f418ce4c67c4d0bccd9": {
      "model_module": "@jupyter-widgets/base",
      "model_module_version": "1.2.0",
      "model_name": "LayoutModel",
      "state": {}
     },
     "140d21b17f76489ea40cf98e7f813127": {
      "model_module": "@jupyter-widgets/base",
      "model_module_version": "1.2.0",
      "model_name": "LayoutModel",
      "state": {}
     },
     "1456f82bedd54aae847f4f6b5b57447e": {
      "model_module": "@jupyter-widgets/base",
      "model_module_version": "1.2.0",
      "model_name": "LayoutModel",
      "state": {}
     },
     "14a9e2d5acf24f1e9bd4d9b865f693bc": {
      "model_module": "@jupyter-widgets/output",
      "model_module_version": "1.0.0",
      "model_name": "OutputModel",
      "state": {
       "layout": "IPY_MODEL_81cd4eceb2f2445797c83853e609217c",
       "outputs": [
        {
         "name": "stdout",
         "output_type": "stream",
         "text": "\n\nAccumulation parameters \n\n"
        }
       ]
      }
     },
     "1557b110719c448d8fff74cc7da60340": {
      "model_module": "@jupyter-widgets/controls",
      "model_module_version": "1.5.0",
      "model_name": "SliderStyleModel",
      "state": {
       "description_width": ""
      }
     },
     "15a7d2faa2744e499d8bfea3933f3f11": {
      "model_module": "@jupyter-widgets/controls",
      "model_module_version": "1.5.0",
      "model_name": "FloatSliderModel",
      "state": {
       "description": "$\\sigma^2_a$",
       "layout": "IPY_MODEL_12982acd55174bb9b81b2f33717d5461",
       "max": 10,
       "min": 0.001,
       "step": 0.25,
       "style": "IPY_MODEL_de2d7d1b41b94427bcf89e6bfc44cd63",
       "value": 0.05
      }
     },
     "16173f19884b4ca49c9ca9ac70ddc5af": {
      "model_module": "@jupyter-widgets/controls",
      "model_module_version": "1.5.0",
      "model_name": "FloatSliderModel",
      "state": {
       "description": "$\\sigma^2_i$",
       "layout": "IPY_MODEL_c399bfbec8774504b4f5628aaed15618",
       "max": 5,
       "min": 0.001,
       "step": 0.25,
       "style": "IPY_MODEL_3b8dc6c924834dde8929a130fb394712",
       "value": 0.5
      }
     },
     "161e4bc56b6d4498b913b6438d425d5b": {
      "model_module": "@jupyter-widgets/controls",
      "model_module_version": "1.5.0",
      "model_name": "FloatSliderModel",
      "state": {
       "description": "$\\sigma^2_s$",
       "layout": "IPY_MODEL_1abec6ae414142dcbc9ed567f416faaf",
       "max": 50,
       "min": 0.001,
       "step": 0.25,
       "style": "IPY_MODEL_279245a064314e329de6cfa2a00a8ea2",
       "value": 1
      }
     },
     "16caa22d96d84e9e8a9ed20c53b58333": {
      "model_module": "@jupyter-widgets/controls",
      "model_module_version": "1.5.0",
      "model_name": "SliderStyleModel",
      "state": {
       "description_width": ""
      }
     },
     "16e5c91c9b094f16acf67369eaef5b42": {
      "model_module": "@jupyter-widgets/output",
      "model_module_version": "1.0.0",
      "model_name": "OutputModel",
      "state": {
       "layout": "IPY_MODEL_7480405872464d14b4da7322be7537ad",
       "outputs": [
        {
         "name": "stdout",
         "output_type": "stream",
         "text": "Click train parameters\n\n"
        }
       ]
      }
     },
     "170cd6575c904da2b900b8dfe5983e02": {
      "model_module": "@jupyter-widgets/controls",
      "model_module_version": "1.5.0",
      "model_name": "FloatSliderModel",
      "state": {
       "description": "T (s)",
       "layout": "IPY_MODEL_32e59affdcdc4e54a02c5d5d9ab70fdb",
       "max": 5,
       "min": 0.25,
       "step": 0.25,
       "style": "IPY_MODEL_9027e840e8f74dcbb2aba2ad28a41d7e",
       "value": 1
      }
     },
     "171a73f479224751ae50394a2b1c7739": {
      "model_module": "@jupyter-widgets/controls",
      "model_module_version": "1.5.0",
      "model_name": "HBoxModel",
      "state": {
       "children": [
        "IPY_MODEL_9eda7f00c1af448695632682e80d5116",
        "IPY_MODEL_5eec7eb4f73f48adbbab1932cf887371"
       ],
       "layout": "IPY_MODEL_b4202e67bac44548b706070e3cc98ff7"
      }
     },
     "174d0ba0f6164dd7a4e4ce3de80e8e88": {
      "model_module": "@jupyter-widgets/controls",
      "model_module_version": "1.5.0",
      "model_name": "FloatSliderModel",
      "state": {
       "description": "T (s)",
       "layout": "IPY_MODEL_fec54c89c9024b6aa8a52ee28e350d45",
       "max": 5,
       "min": 0.25,
       "step": 0.25,
       "style": "IPY_MODEL_c0a13185ca2c4a09adf6982e262f2654",
       "value": 1
      }
     },
     "1793db45a1a043acab1f76c18ae57a46": {
      "model_module": "@jupyter-widgets/controls",
      "model_module_version": "1.5.0",
      "model_name": "HBoxModel",
      "state": {
       "children": [
        "IPY_MODEL_10a96ef935a74817a4a7bad3be9adc0a",
        "IPY_MODEL_126ade34e40a423a8d9b784708fcca06"
       ],
       "layout": "IPY_MODEL_866c806f6f4c462f8daef844f2cf539c"
      }
     },
     "17b44c5cd1524978a004ddcb80f65468": {
      "model_module": "@jupyter-widgets/controls",
      "model_module_version": "1.5.0",
      "model_name": "FloatSliderModel",
      "state": {
       "description": "$\\sigma^2_i$",
       "layout": "IPY_MODEL_b873b22d37d84419b9f66483dfeddc22",
       "max": 5,
       "min": 0.001,
       "step": 0.25,
       "style": "IPY_MODEL_212603c72d2c4750b4989354d14106e9",
       "value": 0.5
      }
     },
     "17c76fe215c04dc5aca80a74b0dd3bc4": {
      "model_module": "@jupyter-widgets/base",
      "model_module_version": "1.2.0",
      "model_name": "LayoutModel",
      "state": {}
     },
     "17db13a24b474f00a8b0597ca86cb9aa": {
      "model_module": "@jupyter-widgets/controls",
      "model_module_version": "1.5.0",
      "model_name": "SliderStyleModel",
      "state": {
       "description_width": ""
      }
     },
     "187f28cbf3644506a845bf47122371a7": {
      "model_module": "@jupyter-widgets/controls",
      "model_module_version": "1.5.0",
      "model_name": "VBoxModel",
      "state": {
       "children": [
        "IPY_MODEL_956c2df5d4ab479496335b3344b12725",
        "IPY_MODEL_80763d36eedb4c96a568a087fb474a50",
        "IPY_MODEL_bc50b0370613482d93aad12ecf6b369a",
        "IPY_MODEL_252b9ade138647c789b63008311a1052"
       ],
       "layout": "IPY_MODEL_231f8d56f3164c3aa1f926bc75e30c0d"
      }
     },
     "18b7219e7b3a492eb72de6f3b620f05c": {
      "model_module": "@jupyter-widgets/base",
      "model_module_version": "1.2.0",
      "model_name": "LayoutModel",
      "state": {}
     },
     "191049fb829c4b74b73cc56e88001369": {
      "model_module": "@jupyter-widgets/base",
      "model_module_version": "1.2.0",
      "model_name": "LayoutModel",
      "state": {}
     },
     "1a50ebe4103d44d6858173cd2617754b": {
      "model_module": "@jupyter-widgets/controls",
      "model_module_version": "1.5.0",
      "model_name": "IntSliderModel",
      "state": {
       "description": "$r_L+r_R$ (Hz)",
       "layout": "IPY_MODEL_3a0cadfa921946bbafa1d56c9e417cb0",
       "max": 50,
       "min": 5,
       "step": 5,
       "style": "IPY_MODEL_17db13a24b474f00a8b0597ca86cb9aa",
       "value": 40
      }
     },
     "1a7081861e3547a6b1188b773456af3c": {
      "model_module": "@jupyter-widgets/base",
      "model_module_version": "1.2.0",
      "model_name": "LayoutModel",
      "state": {}
     },
     "1a73c429228a43c5a98d3789f2399242": {
      "model_module": "@jupyter-widgets/base",
      "model_module_version": "1.2.0",
      "model_name": "LayoutModel",
      "state": {}
     },
     "1a83a4f8847a4f0597e337192d2bf507": {
      "model_module": "@jupyter-widgets/controls",
      "model_module_version": "1.5.0",
      "model_name": "SliderStyleModel",
      "state": {
       "description_width": ""
      }
     },
     "1aa0a69490a04332a4f23063dfaac0c9": {
      "model_module": "@jupyter-widgets/controls",
      "model_module_version": "1.5.0",
      "model_name": "VBoxModel",
      "state": {
       "children": [
        "IPY_MODEL_298826fb6e734996a7031f4ebfa1eb9a",
        "IPY_MODEL_0cd464dd35bc43c790472e8173cb79d4",
        "IPY_MODEL_ba0cfc18cd154de69ef384e349557a5b",
        "IPY_MODEL_b6704ae0203b4fd5b630cb6d6ab55886"
       ],
       "layout": "IPY_MODEL_c8a03fb95c0747d1854d9b87aaa5264a"
      }
     },
     "1abec6ae414142dcbc9ed567f416faaf": {
      "model_module": "@jupyter-widgets/base",
      "model_module_version": "1.2.0",
      "model_name": "LayoutModel",
      "state": {}
     },
     "1af8d512d23d4b8bbac37df69747cf9d": {
      "model_module": "@jupyter-widgets/base",
      "model_module_version": "1.2.0",
      "model_name": "LayoutModel",
      "state": {}
     },
     "1b349a9c614244d49afaedf293f1d9ef": {
      "model_module": "@jupyter-widgets/controls",
      "model_module_version": "1.5.0",
      "model_name": "HBoxModel",
      "state": {
       "children": [
        "IPY_MODEL_0d3a93d1bb9548ee9ddf112a4764437c",
        "IPY_MODEL_aaab4456c9ef4b60877ca293507c86c2"
       ],
       "layout": "IPY_MODEL_44b2503820db44ddb190b893b2801949"
      }
     },
     "1bdc5d40276745f684a24222f1e3af4a": {
      "model_module": "@jupyter-widgets/base",
      "model_module_version": "1.2.0",
      "model_name": "LayoutModel",
      "state": {}
     },
     "1cdd6338d7f94ccaa2eb5575c355395b": {
      "model_module": "@jupyter-widgets/controls",
      "model_module_version": "1.5.0",
      "model_name": "VBoxModel",
      "state": {
       "children": [
        "IPY_MODEL_2ae352b0d99d4a75ba92f96f4c2fa256",
        "IPY_MODEL_d09af4406b194c6a9902317456bbb628",
        "IPY_MODEL_991bf8bd9cab457cb9972a6ae9b19a1b"
       ],
       "layout": "IPY_MODEL_3d88c292c1f146faa3490ea4bdb862c6"
      }
     },
     "1d612b3a0a574f92924a64745f2a9671": {
      "model_module": "@jupyter-widgets/output",
      "model_module_version": "1.0.0",
      "model_name": "OutputModel",
      "state": {
       "layout": "IPY_MODEL_270453900c2f4890ab4053b353f979b0",
       "outputs": [
        {
         "name": "stdout",
         "output_type": "stream",
         "text": "\nAdaptation parameters\n\n"
        }
       ]
      }
     },
     "1d7db3f4a06340da9b7438313cbbb696": {
      "model_module": "@jupyter-widgets/base",
      "model_module_version": "1.2.0",
      "model_name": "LayoutModel",
      "state": {}
     },
     "1db0b9da00e04d9b9c0c6e689f615c18": {
      "model_module": "@jupyter-widgets/controls",
      "model_module_version": "1.5.0",
      "model_name": "IntSliderModel",
      "state": {
       "description": "$r_L+r_R$ (Hz)",
       "layout": "IPY_MODEL_c92dd927e9be4a068dfb42f5beb9d33c",
       "max": 50,
       "min": 5,
       "step": 5,
       "style": "IPY_MODEL_7053cd80b1654b62b1e43fb384dc777c",
       "value": 40
      }
     },
     "1e7fc3f7d0154a128b732c7a92bea771": {
      "model_module": "@jupyter-widgets/controls",
      "model_module_version": "1.5.0",
      "model_name": "SliderStyleModel",
      "state": {
       "description_width": ""
      }
     },
     "1ee8a38b01be4673bd3a04a73eb6ba6b": {
      "model_module": "@jupyter-widgets/base",
      "model_module_version": "1.2.0",
      "model_name": "LayoutModel",
      "state": {}
     },
     "1fcf29569e2846819531d9278d0e5fbf": {
      "model_module": "@jupyter-widgets/controls",
      "model_module_version": "1.5.0",
      "model_name": "VBoxModel",
      "state": {
       "children": [
        "IPY_MODEL_d31439541cc7400388b118a145aaa6ca",
        "IPY_MODEL_d3c82655337d4332aac2686bf1d677f3",
        "IPY_MODEL_3999a897dd2d4e93b42b6671b5d8a016",
        "IPY_MODEL_462d4a409bbc451a86bb489656095ba4"
       ],
       "layout": "IPY_MODEL_27339382d70d470b94659411d0d0976d"
      }
     },
     "20cacb2558f04007bb9057f7334dc51a": {
      "model_module": "@jupyter-widgets/base",
      "model_module_version": "1.2.0",
      "model_name": "LayoutModel",
      "state": {}
     },
     "20e024ecb6a04b34a88b6ae9a938d628": {
      "model_module": "@jupyter-widgets/controls",
      "model_module_version": "1.5.0",
      "model_name": "FloatSliderModel",
      "state": {
       "description": "Lapse",
       "layout": "IPY_MODEL_a5eb950104824c62b981dba9bf3ec1c9",
       "max": 1,
       "step": 0.01,
       "style": "IPY_MODEL_ae2703563433425a9cd2ab636647d947",
       "value": 0.05
      }
     },
     "212603c72d2c4750b4989354d14106e9": {
      "model_module": "@jupyter-widgets/controls",
      "model_module_version": "1.5.0",
      "model_name": "SliderStyleModel",
      "state": {
       "description_width": ""
      }
     },
     "21e4bfd92fd1467782300747db221787": {
      "model_module": "@jupyter-widgets/controls",
      "model_module_version": "1.5.0",
      "model_name": "SliderStyleModel",
      "state": {
       "description_width": ""
      }
     },
     "220f7608da1043b4910f5d070d64308f": {
      "model_module": "@jupyter-widgets/controls",
      "model_module_version": "1.5.0",
      "model_name": "SliderStyleModel",
      "state": {
       "description_width": ""
      }
     },
     "22eabba512684214a6e2ab8f9a082a6f": {
      "model_module": "@jupyter-widgets/base",
      "model_module_version": "1.2.0",
      "model_name": "LayoutModel",
      "state": {}
     },
     "231f8d56f3164c3aa1f926bc75e30c0d": {
      "model_module": "@jupyter-widgets/base",
      "model_module_version": "1.2.0",
      "model_name": "LayoutModel",
      "state": {}
     },
     "23650b09b8a14db9aa4960aa387ceaf0": {
      "model_module": "@jupyter-widgets/base",
      "model_module_version": "1.2.0",
      "model_name": "LayoutModel",
      "state": {}
     },
     "238ffb38f79c4c0092681cccf7bb1beb": {
      "model_module": "@jupyter-widgets/controls",
      "model_module_version": "1.5.0",
      "model_name": "IntSliderModel",
      "state": {
       "description": "N samples",
       "layout": "IPY_MODEL_e557fc33ec33483292c485f137dee31f",
       "max": 50,
       "min": 1,
       "style": "IPY_MODEL_b6196436d1714331b374105fa2afa9be",
       "value": 10
      }
     },
     "239060b877bc471d99fb0726421ad8a1": {
      "model_module": "@jupyter-widgets/base",
      "model_module_version": "1.2.0",
      "model_name": "LayoutModel",
      "state": {}
     },
     "23a1d1fbcc3d41e386f584222dd07d41": {
      "model_module": "@jupyter-widgets/base",
      "model_module_version": "1.2.0",
      "model_name": "LayoutModel",
      "state": {}
     },
     "23b0485ae8b14c3cac8c037db4691fca": {
      "model_module": "@jupyter-widgets/base",
      "model_module_version": "1.2.0",
      "model_name": "LayoutModel",
      "state": {}
     },
     "2464c23ca0de4018bdb56186741a8173": {
      "model_module": "@jupyter-widgets/controls",
      "model_module_version": "1.5.0",
      "model_name": "FloatSliderModel",
      "state": {
       "description": "$B$",
       "layout": "IPY_MODEL_c001bc974e044af98f4f0790703482bf",
       "max": 25,
       "style": "IPY_MODEL_8cba3ef367ba421fb54ddbb7c8d842c0",
       "value": 10
      }
     },
     "24814105712e4d528cb7b1b6e0bebcc9": {
      "model_module": "@jupyter-widgets/controls",
      "model_module_version": "1.5.0",
      "model_name": "IntSliderModel",
      "state": {
       "description": "Seed",
       "layout": "IPY_MODEL_8be6ed8a5cdc47a896e0dc1d0a10ea5a",
       "max": 10,
       "style": "IPY_MODEL_91e9b0db06984cabb661b98ee8ce0473",
       "value": 1
      }
     },
     "24bf486ab5054fcb9aca6dca45d80550": {
      "model_module": "@jupyter-widgets/base",
      "model_module_version": "1.2.0",
      "model_name": "LayoutModel",
      "state": {}
     },
     "252b9ade138647c789b63008311a1052": {
      "model_module": "@jupyter-widgets/controls",
      "model_module_version": "1.5.0",
      "model_name": "VBoxModel",
      "state": {
       "children": [
        "IPY_MODEL_94b742c2a302456baf16c14e7126ccff",
        "IPY_MODEL_ad8c7a61c55444b4b892fcf8eb207cba",
        "IPY_MODEL_e8c3a2fdc45a4fd3b3f395a95417eb07"
       ],
       "layout": "IPY_MODEL_fbf5ea4dc6b247a99c17e3d1673bfe29"
      }
     },
     "253f1d89035c443fbddebe0c9338a0a3": {
      "model_module": "@jupyter-widgets/controls",
      "model_module_version": "1.5.0",
      "model_name": "IntSliderModel",
      "state": {
       "description": "$r_L+r_R$ (Hz)",
       "layout": "IPY_MODEL_a9dc4c3d2c4c44f581706358094bbda8",
       "max": 50,
       "min": 5,
       "step": 5,
       "style": "IPY_MODEL_1a83a4f8847a4f0597e337192d2bf507",
       "value": 40
      }
     },
     "256c8c4553944e539ecbd5b815c0f492": {
      "model_module": "@jupyter-widgets/controls",
      "model_module_version": "1.5.0",
      "model_name": "VBoxModel",
      "state": {
       "children": [
        "IPY_MODEL_7faa341f81d5456fbf568b7a39d120fa",
        "IPY_MODEL_5cb5c031ec614969a3154385aedb236b",
        "IPY_MODEL_b75ab14f943448299e264e6bea8dcad4",
        "IPY_MODEL_bce74abc2c3740a0997f9fcc9a686a1a"
       ],
       "layout": "IPY_MODEL_e8b1193334b2472aae160687ba6b526d"
      }
     },
     "25a2b5478a9b4af0bde5333204674c3e": {
      "model_module": "@jupyter-widgets/controls",
      "model_module_version": "1.5.0",
      "model_name": "VBoxModel",
      "state": {
       "children": [
        "IPY_MODEL_d491547a1adc4196b152268c2d94044f",
        "IPY_MODEL_d6c40d4c91e84fe59d7d2941931267a2",
        "IPY_MODEL_66385fb9f26d4f60b0dfb4796b121689",
        "IPY_MODEL_63416e01bbd240e2a684e701f345cd44"
       ],
       "layout": "IPY_MODEL_65b25956144440518b7e2f3bd9acf1ff"
      }
     },
     "26143d5356db48bd9563a8870349fa67": {
      "model_module": "@jupyter-widgets/output",
      "model_module_version": "1.0.0",
      "model_name": "OutputModel",
      "state": {
       "layout": "IPY_MODEL_77cefa725f7e434fbacc73b9130e46e1",
       "outputs": [
        {
         "name": "stdout",
         "output_type": "stream",
         "text": "\n\nIntegration parameters \n\n"
        }
       ]
      }
     },
     "2627a6340fdf4e1ea8c87c4f8f55b193": {
      "model_module": "@jupyter-widgets/controls",
      "model_module_version": "1.5.0",
      "model_name": "FloatSliderModel",
      "state": {
       "description": "T (s)",
       "layout": "IPY_MODEL_48119a10f69a4cd69ae3f9c221e4dce1",
       "max": 5,
       "min": 0.25,
       "step": 0.25,
       "style": "IPY_MODEL_28d2824efc6a4151b81464a6186b1475",
       "value": 1
      }
     },
     "26adccec49774eafb005aac56eb57c68": {
      "model_module": "@jupyter-widgets/controls",
      "model_module_version": "1.5.0",
      "model_name": "IntSliderModel",
      "state": {
       "description": "$r_L+r_R$ (Hz)",
       "layout": "IPY_MODEL_de5b224d6f074f20803d08a7239534d0",
       "max": 50,
       "min": 5,
       "step": 5,
       "style": "IPY_MODEL_ec268a49fda4418ca0070927455c4071",
       "value": 40
      }
     },
     "26b7f0d766b34ff68cf951750f90d458": {
      "model_module": "@jupyter-widgets/controls",
      "model_module_version": "1.5.0",
      "model_name": "VBoxModel",
      "state": {
       "children": [
        "IPY_MODEL_aecbda6521414b9bb26e3b222201ab09",
        "IPY_MODEL_80674834107b4add9b5e373b2818cd3c",
        "IPY_MODEL_90c152d158f740109e5af9024b750ef3",
        "IPY_MODEL_1cdd6338d7f94ccaa2eb5575c355395b"
       ],
       "layout": "IPY_MODEL_349d07981e3a4c2c8ce00cb9a7dcceab"
      }
     },
     "26b833d1ed8a4e79a7f6d372cc4f446d": {
      "model_module": "@jupyter-widgets/controls",
      "model_module_version": "1.5.0",
      "model_name": "SliderStyleModel",
      "state": {
       "description_width": ""
      }
     },
     "26e5d56492b64ecf9c691c24826248bd": {
      "model_module": "@jupyter-widgets/base",
      "model_module_version": "1.2.0",
      "model_name": "LayoutModel",
      "state": {}
     },
     "270453900c2f4890ab4053b353f979b0": {
      "model_module": "@jupyter-widgets/base",
      "model_module_version": "1.2.0",
      "model_name": "LayoutModel",
      "state": {}
     },
     "27339382d70d470b94659411d0d0976d": {
      "model_module": "@jupyter-widgets/base",
      "model_module_version": "1.2.0",
      "model_name": "LayoutModel",
      "state": {}
     },
     "279245a064314e329de6cfa2a00a8ea2": {
      "model_module": "@jupyter-widgets/controls",
      "model_module_version": "1.5.0",
      "model_name": "SliderStyleModel",
      "state": {
       "description_width": ""
      }
     },
     "285e7cbbb0d9445db4fb627ee6c6c022": {
      "model_module": "@jupyter-widgets/base",
      "model_module_version": "1.2.0",
      "model_name": "LayoutModel",
      "state": {}
     },
     "28d2824efc6a4151b81464a6186b1475": {
      "model_module": "@jupyter-widgets/controls",
      "model_module_version": "1.5.0",
      "model_name": "SliderStyleModel",
      "state": {
       "description_width": ""
      }
     },
     "2920d4faed7a4ce1b4a739b90b2a2300": {
      "model_module": "@jupyter-widgets/controls",
      "model_module_version": "1.5.0",
      "model_name": "SliderStyleModel",
      "state": {
       "description_width": ""
      }
     },
     "2922cf09b6a74a3e91e1d7f8026a2b73": {
      "model_module": "@jupyter-widgets/base",
      "model_module_version": "1.2.0",
      "model_name": "LayoutModel",
      "state": {}
     },
     "298826fb6e734996a7031f4ebfa1eb9a": {
      "model_module": "@jupyter-widgets/controls",
      "model_module_version": "1.5.0",
      "model_name": "VBoxModel",
      "state": {
       "children": [
        "IPY_MODEL_fd1f3a89b0c4453784eba6234c6cc9b3",
        "IPY_MODEL_24814105712e4d528cb7b1b6e0bebcc9",
        "IPY_MODEL_253f1d89035c443fbddebe0c9338a0a3",
        "IPY_MODEL_6b7a629161a942dd81f6b46c1ba38b58",
        "IPY_MODEL_ce322aa9ce3c4d51bd70e5e5ebf0c716"
       ],
       "layout": "IPY_MODEL_1456f82bedd54aae847f4f6b5b57447e"
      }
     },
     "29b18d2f23cf4f8088604452082a2f02": {
      "model_module": "@jupyter-widgets/base",
      "model_module_version": "1.2.0",
      "model_name": "LayoutModel",
      "state": {}
     },
     "2a771aa4c25845348762c964af60b78c": {
      "model_module": "@jupyter-widgets/output",
      "model_module_version": "1.0.0",
      "model_name": "OutputModel",
      "state": {
       "layout": "IPY_MODEL_e6023d8ff4a04eae818ccfab1ab8bd1f"
      }
     },
     "2a87ab95191344c5820cf5625f4988f0": {
      "model_module": "@jupyter-widgets/controls",
      "model_module_version": "1.5.0",
      "model_name": "SliderStyleModel",
      "state": {
       "description_width": ""
      }
     },
     "2a9bb0b402a74434b9284b7a76145525": {
      "model_module": "@jupyter-widgets/controls",
      "model_module_version": "1.5.0",
      "model_name": "IntSliderModel",
      "state": {
       "description": "Seed",
       "layout": "IPY_MODEL_01abb4bb8e8141799c154f89923f66fd",
       "max": 10,
       "style": "IPY_MODEL_84c23e02dc2a442197cc64d79a4940eb",
       "value": 1
      }
     },
     "2ae352b0d99d4a75ba92f96f4c2fa256": {
      "model_module": "@jupyter-widgets/output",
      "model_module_version": "1.0.0",
      "model_name": "OutputModel",
      "state": {
       "layout": "IPY_MODEL_49353604af97497b919ca0feab0af6aa",
       "outputs": [
        {
         "name": "stdout",
         "output_type": "stream",
         "text": "\nChoice parameters\n\n"
        }
       ]
      }
     },
     "2aebcd079aec47e29b4808440af5e5b4": {
      "model_module": "@jupyter-widgets/base",
      "model_module_version": "1.2.0",
      "model_name": "LayoutModel",
      "state": {}
     },
     "2af92ed76ca646e388d50fec9ff579fb": {
      "model_module": "@jupyter-widgets/controls",
      "model_module_version": "1.5.0",
      "model_name": "SliderStyleModel",
      "state": {
       "description_width": ""
      }
     },
     "2c9c2fcdfaa44c22b2adba57f044badc": {
      "model_module": "@jupyter-widgets/base",
      "model_module_version": "1.2.0",
      "model_name": "LayoutModel",
      "state": {}
     },
     "2cd0d21a57ca4a90b8bf318010d6d629": {
      "model_module": "@jupyter-widgets/output",
      "model_module_version": "1.0.0",
      "model_name": "OutputModel",
      "state": {
       "layout": "IPY_MODEL_1d7db3f4a06340da9b7438313cbbb696",
       "outputs": [
        {
         "name": "stdout",
         "output_type": "stream",
         "text": "\n\nAccumulation parameters \n\n"
        }
       ]
      }
     },
     "2d8789ea4e16465996cb8c3e9e1230c6": {
      "model_module": "@jupyter-widgets/controls",
      "model_module_version": "1.5.0",
      "model_name": "FloatSliderModel",
      "state": {
       "description": "$\\sigma^2_i$",
       "layout": "IPY_MODEL_fc2e436eace541119c169e087d7098a6",
       "max": 5,
       "min": 0.001,
       "step": 0.25,
       "style": "IPY_MODEL_9d3f2598507a4020989b75a9d68a0bde",
       "value": 0.5
      }
     },
     "2e781da21e884d8d9bb4fb77b2a9eb49": {
      "model_module": "@jupyter-widgets/controls",
      "model_module_version": "1.5.0",
      "model_name": "FloatSliderModel",
      "state": {
       "description": "T (s)",
       "layout": "IPY_MODEL_e222c738d84c4635bf6d348afdb025ef",
       "max": 5,
       "min": 0.25,
       "step": 0.25,
       "style": "IPY_MODEL_3b1e6e5fac9a46bb945db9c811d5b72c",
       "value": 1
      }
     },
     "2ecaf15ebc2842398ece8c8bbf2f0d72": {
      "model_module": "@jupyter-widgets/controls",
      "model_module_version": "1.5.0",
      "model_name": "FloatSliderModel",
      "state": {
       "description": "$\\sigma^2_a$",
       "layout": "IPY_MODEL_0ec4a2188ce8494d973b6b2cb3137ce3",
       "max": 10,
       "min": 0.001,
       "step": 0.25,
       "style": "IPY_MODEL_904bb55a726d45969855dbdd129eac1c",
       "value": 0.05
      }
     },
     "2ee786d3335a49ceb3b8c095f2251874": {
      "model_module": "@jupyter-widgets/base",
      "model_module_version": "1.2.0",
      "model_name": "LayoutModel",
      "state": {}
     },
     "2f768900e1f54894ae8296e866185ee6": {
      "model_module": "@jupyter-widgets/controls",
      "model_module_version": "1.5.0",
      "model_name": "SliderStyleModel",
      "state": {
       "description_width": ""
      }
     },
     "2f817eabe47b4d7f82468856c2df6af7": {
      "model_module": "@jupyter-widgets/base",
      "model_module_version": "1.2.0",
      "model_name": "LayoutModel",
      "state": {}
     },
     "2f9b5cfbc1f944a9b68f1f7a6fa2c021": {
      "model_module": "@jupyter-widgets/controls",
      "model_module_version": "1.5.0",
      "model_name": "FloatSliderModel",
      "state": {
       "description": "T (s)",
       "layout": "IPY_MODEL_5ca6c5e855c44e1bb088b21fbd65000b",
       "max": 5,
       "min": 0.25,
       "step": 0.25,
       "style": "IPY_MODEL_cdde052695944deab3fb8b0fcf2bd96c",
       "value": 1
      }
     },
     "302785c391ca43cbbbcd46d6dfcb9b08": {
      "model_module": "@jupyter-widgets/base",
      "model_module_version": "1.2.0",
      "model_name": "LayoutModel",
      "state": {}
     },
     "307883ff79b043e08cd093b79f1d8919": {
      "model_module": "@jupyter-widgets/controls",
      "model_module_version": "1.5.0",
      "model_name": "FloatSliderModel",
      "state": {
       "description": "$\\sigma^2_s$",
       "layout": "IPY_MODEL_5160fed0faff41cbad64e8fef7568f0b",
       "max": 50,
       "min": 0.001,
       "step": 0.25,
       "style": "IPY_MODEL_eaed879089024c0db60c5874b3b0e88f",
       "value": 1
      }
     },
     "30afc6344951475bbb8d6a6c29867fff": {
      "model_module": "@jupyter-widgets/base",
      "model_module_version": "1.2.0",
      "model_name": "LayoutModel",
      "state": {}
     },
     "313f969cbc4e4e78b5dd6de628f6029f": {
      "model_module": "@jupyter-widgets/base",
      "model_module_version": "1.2.0",
      "model_name": "LayoutModel",
      "state": {}
     },
     "31704460e2b84090af8874b9956be207": {
      "model_module": "@jupyter-widgets/controls",
      "model_module_version": "1.5.0",
      "model_name": "SliderStyleModel",
      "state": {
       "description_width": ""
      }
     },
     "320c5f44e9bc4f2fab8f13e2c931b14d": {
      "model_module": "@jupyter-widgets/base",
      "model_module_version": "1.2.0",
      "model_name": "LayoutModel",
      "state": {}
     },
     "324fb990c00f4505a77155879ad41e30": {
      "model_module": "@jupyter-widgets/controls",
      "model_module_version": "1.5.0",
      "model_name": "VBoxModel",
      "state": {
       "children": [
        "IPY_MODEL_9aa9d87746b94910a46e9f16a24d3c2a",
        "IPY_MODEL_7910e2d4fcd94ac4821447a342cdc13c",
        "IPY_MODEL_dd8d907768754477ac5d442c87cbae72"
       ],
       "layout": "IPY_MODEL_55617ea1c03c402e9e34951c65535aa7"
      }
     },
     "3287239e3f954783b1553beb37f1cebd": {
      "model_module": "@jupyter-widgets/base",
      "model_module_version": "1.2.0",
      "model_name": "LayoutModel",
      "state": {}
     },
     "32e59affdcdc4e54a02c5d5d9ab70fdb": {
      "model_module": "@jupyter-widgets/base",
      "model_module_version": "1.2.0",
      "model_name": "LayoutModel",
      "state": {}
     },
     "33a0b7854e8f4c188bbcc9ffa63ac533": {
      "model_module": "@jupyter-widgets/output",
      "model_module_version": "1.0.0",
      "model_name": "OutputModel",
      "state": {
       "layout": "IPY_MODEL_ccad7a7df318493a80aa69db48f26f5b",
       "outputs": [
        {
         "name": "stdout",
         "output_type": "stream",
         "text": "Click train parameters\n\n"
        }
       ]
      }
     },
     "33e4a44c27e240f493ad50a3a6a28db1": {
      "model_module": "@jupyter-widgets/base",
      "model_module_version": "1.2.0",
      "model_name": "LayoutModel",
      "state": {}
     },
     "344eec0c0501452d83ec313e926b402a": {
      "model_module": "@jupyter-widgets/base",
      "model_module_version": "1.2.0",
      "model_name": "LayoutModel",
      "state": {}
     },
     "346d6cea0cd04e16bcefd8a96394b3da": {
      "model_module": "@jupyter-widgets/base",
      "model_module_version": "1.2.0",
      "model_name": "LayoutModel",
      "state": {}
     },
     "349d07981e3a4c2c8ce00cb9a7dcceab": {
      "model_module": "@jupyter-widgets/base",
      "model_module_version": "1.2.0",
      "model_name": "LayoutModel",
      "state": {}
     },
     "34cbc2b81b354902b8180c1924842aa6": {
      "model_module": "@jupyter-widgets/controls",
      "model_module_version": "1.5.0",
      "model_name": "VBoxModel",
      "state": {
       "children": [
        "IPY_MODEL_89ff3e224de94fc5b6085b52abb64c6c",
        "IPY_MODEL_d705e138ac574a808a316192ae44ae40",
        "IPY_MODEL_1a50ebe4103d44d6858173cd2617754b",
        "IPY_MODEL_00fcc9f769db4dce9a52ee0a9bbc27aa",
        "IPY_MODEL_2627a6340fdf4e1ea8c87c4f8f55b193"
       ],
       "layout": "IPY_MODEL_c3dd2912d8d145bb9bb6ae8ffaf4133c"
      }
     },
     "36467bfc836c4538bae47fc4eec319a4": {
      "model_module": "@jupyter-widgets/controls",
      "model_module_version": "1.5.0",
      "model_name": "FloatSliderModel",
      "state": {
       "description": "Bias",
       "layout": "IPY_MODEL_6bb4cf1496a24fd2963d7b60b6d422a2",
       "max": 5,
       "min": -5,
       "step": 0.05,
       "style": "IPY_MODEL_8cb45adf9bb740b49d3880487b8cc13b"
      }
     },
     "36f7066b73684609b9c3b76b65340a62": {
      "model_module": "@jupyter-widgets/controls",
      "model_module_version": "1.5.0",
      "model_name": "SliderStyleModel",
      "state": {
       "description_width": ""
      }
     },
     "374456c6fabd44e181df5b14f540c7df": {
      "model_module": "@jupyter-widgets/base",
      "model_module_version": "1.2.0",
      "model_name": "LayoutModel",
      "state": {}
     },
     "37546d6754a84412a6730a375d767eb3": {
      "model_module": "@jupyter-widgets/output",
      "model_module_version": "1.0.0",
      "model_name": "OutputModel",
      "state": {
       "layout": "IPY_MODEL_e0b4390f816c4093a0b01fa1a4da91b9",
       "outputs": [
        {
         "name": "stdout",
         "output_type": "stream",
         "text": "\n\nIntegration parameters \n\n"
        }
       ]
      }
     },
     "3772e255b9b247098a4193156f8fa305": {
      "model_module": "@jupyter-widgets/controls",
      "model_module_version": "1.5.0",
      "model_name": "SliderStyleModel",
      "state": {
       "description_width": ""
      }
     },
     "379fee22112047639c5fcfbc6e80c04f": {
      "model_module": "@jupyter-widgets/output",
      "model_module_version": "1.0.0",
      "model_name": "OutputModel",
      "state": {
       "layout": "IPY_MODEL_d364b5c518124fe4be6a24fc16036ad0",
       "outputs": [
        {
         "name": "stdout",
         "output_type": "stream",
         "text": "\nAdaptation parameters\n\n"
        }
       ]
      }
     },
     "37a3a7abe65e491383ee608a4af38106": {
      "model_module": "@jupyter-widgets/controls",
      "model_module_version": "1.5.0",
      "model_name": "VBoxModel",
      "state": {
       "children": [
        "IPY_MODEL_c14885b2a7884fbd9549f904d75a84ce",
        "IPY_MODEL_3e5f144a01524e398da146954302482c",
        "IPY_MODEL_ecff05d57ed64720b0458a67d2aee498",
        "IPY_MODEL_d285fac8f0b84b30bbca4393bc08a0e8",
        "IPY_MODEL_7e2456957dec47f4804aeec720926dcd"
       ],
       "layout": "IPY_MODEL_140d21b17f76489ea40cf98e7f813127"
      }
     },
     "38c2226fc7994d8184dc67d8a2253e27": {
      "model_module": "@jupyter-widgets/base",
      "model_module_version": "1.2.0",
      "model_name": "LayoutModel",
      "state": {}
     },
     "3999a897dd2d4e93b42b6671b5d8a016": {
      "model_module": "@jupyter-widgets/controls",
      "model_module_version": "1.5.0",
      "model_name": "VBoxModel",
      "state": {
       "children": [
        "IPY_MODEL_eea529e8005c4b06b8556ae69c2c06a7",
        "IPY_MODEL_78a78e4bbd134db6bae9e52d764c35e0",
        "IPY_MODEL_0217a4068aee4823b747a2f147592f04",
        "IPY_MODEL_e114a301571a4ed99ab79969514b97ec",
        "IPY_MODEL_808907926d1d4194a0f3159e98c31baf",
        "IPY_MODEL_2464c23ca0de4018bdb56186741a8173",
        "IPY_MODEL_f11720f909244632850426e5a493dfcb"
       ],
       "layout": "IPY_MODEL_4da0be8d9bcb4f669795a012b942467b"
      }
     },
     "3a039c54b9694920b70922ef57218179": {
      "model_module": "@jupyter-widgets/base",
      "model_module_version": "1.2.0",
      "model_name": "LayoutModel",
      "state": {}
     },
     "3a0cadfa921946bbafa1d56c9e417cb0": {
      "model_module": "@jupyter-widgets/base",
      "model_module_version": "1.2.0",
      "model_name": "LayoutModel",
      "state": {}
     },
     "3ae4fd61f50a4ff7b7121b625f4782af": {
      "model_module": "@jupyter-widgets/controls",
      "model_module_version": "1.5.0",
      "model_name": "FloatSliderModel",
      "state": {
       "description": "$\\sigma^2_i$",
       "layout": "IPY_MODEL_26e5d56492b64ecf9c691c24826248bd",
       "max": 5,
       "min": 0.001,
       "step": 0.25,
       "style": "IPY_MODEL_767fc7bd415e4cb88bdb945a42ef339c",
       "value": 0.5
      }
     },
     "3af78134ff5248579710a437aaf2b995": {
      "model_module": "@jupyter-widgets/base",
      "model_module_version": "1.2.0",
      "model_name": "LayoutModel",
      "state": {}
     },
     "3b0e708bcc714ed6a6671df4e4efc34d": {
      "model_module": "@jupyter-widgets/controls",
      "model_module_version": "1.5.0",
      "model_name": "FloatSliderModel",
      "state": {
       "description": "$\\tau_{\\phi}$",
       "layout": "IPY_MODEL_ac4f1beb4b6340ec9f4a16f3ff47be67",
       "max": 1,
       "min": 0.001,
       "step": 0.05,
       "style": "IPY_MODEL_6743fa2a407b406a875e8e67b4853de2",
       "value": 0.15
      }
     },
     "3b1e6e5fac9a46bb945db9c811d5b72c": {
      "model_module": "@jupyter-widgets/controls",
      "model_module_version": "1.5.0",
      "model_name": "SliderStyleModel",
      "state": {
       "description_width": ""
      }
     },
     "3b8dc6c924834dde8929a130fb394712": {
      "model_module": "@jupyter-widgets/controls",
      "model_module_version": "1.5.0",
      "model_name": "SliderStyleModel",
      "state": {
       "description_width": ""
      }
     },
     "3bc425f3ed53435ba38f46c9b556727b": {
      "model_module": "@jupyter-widgets/controls",
      "model_module_version": "1.5.0",
      "model_name": "FloatSliderModel",
      "state": {
       "description": "$\\sigma^2_a$",
       "layout": "IPY_MODEL_18b7219e7b3a492eb72de6f3b620f05c",
       "max": 10,
       "min": 0.001,
       "step": 0.25,
       "style": "IPY_MODEL_473e4f214f58449d9963967fcc384558",
       "value": 0.05
      }
     },
     "3c33fea9d7134dc8840cb6046f8f2720": {
      "model_module": "@jupyter-widgets/controls",
      "model_module_version": "1.5.0",
      "model_name": "FloatSliderModel",
      "state": {
       "description": "$\\sigma^2_s$",
       "layout": "IPY_MODEL_ac5f68f75f2146e7ac72457370673495",
       "max": 50,
       "min": 0.001,
       "step": 0.25,
       "style": "IPY_MODEL_9463aab43d9e477a900880cc5e88df7e",
       "value": 1
      }
     },
     "3cef18438fb84343924d07665ad04939": {
      "model_module": "@jupyter-widgets/controls",
      "model_module_version": "1.5.0",
      "model_name": "SliderStyleModel",
      "state": {
       "description_width": ""
      }
     },
     "3d3a06d12cd645e59d1d9ba504aee77d": {
      "model_module": "@jupyter-widgets/controls",
      "model_module_version": "1.5.0",
      "model_name": "FloatSliderModel",
      "state": {
       "description": "$\\gamma = \\log \\frac{r_1}{r_2}$",
       "layout": "IPY_MODEL_3287239e3f954783b1553beb37f1cebd",
       "max": 5,
       "min": -5,
       "step": 0.25,
       "style": "IPY_MODEL_96876f8771404bde956040c148279d4e",
       "value": 1.5
      }
     },
     "3d49a3b5cd654af08e79b1b0fa765b13": {
      "model_module": "@jupyter-widgets/controls",
      "model_module_version": "1.5.0",
      "model_name": "FloatSliderModel",
      "state": {
       "description": "$\\phi$",
       "layout": "IPY_MODEL_33e4a44c27e240f493ad50a3a6a28db1",
       "max": 1,
       "min": 0.001,
       "step": 0.05,
       "style": "IPY_MODEL_d8b331a4379445f8939466c48ebae2e2",
       "value": 0.1
      }
     },
     "3d88c292c1f146faa3490ea4bdb862c6": {
      "model_module": "@jupyter-widgets/base",
      "model_module_version": "1.2.0",
      "model_name": "LayoutModel",
      "state": {}
     },
     "3e0a62cd907f4821bca248874838259b": {
      "model_module": "@jupyter-widgets/base",
      "model_module_version": "1.2.0",
      "model_name": "LayoutModel",
      "state": {}
     },
     "3e5f144a01524e398da146954302482c": {
      "model_module": "@jupyter-widgets/controls",
      "model_module_version": "1.5.0",
      "model_name": "IntSliderModel",
      "state": {
       "description": "Seed",
       "layout": "IPY_MODEL_9ca23e539f2843139e150e468cfbae5b",
       "max": 10,
       "style": "IPY_MODEL_4a38a4c60b5340118a61a6869c1ed5a4",
       "value": 1
      }
     },
     "3f20423c3bdd40dc9f0bab6162cdda75": {
      "model_module": "@jupyter-widgets/base",
      "model_module_version": "1.2.0",
      "model_name": "LayoutModel",
      "state": {}
     },
     "3f845adb668f4237b10ead613c0e01bc": {
      "model_module": "@jupyter-widgets/controls",
      "model_module_version": "1.5.0",
      "model_name": "FloatSliderModel",
      "state": {
       "description": "$\\sigma^2_a$",
       "layout": "IPY_MODEL_98b9133bd15048a887befa02e075ee64",
       "max": 10,
       "min": 0.001,
       "step": 0.25,
       "style": "IPY_MODEL_11c4f6b2ddb64cb59872d10b5735c1d2",
       "value": 0.05
      }
     },
     "400e4143d3a849a0aa6fce362fdf4183": {
      "model_module": "@jupyter-widgets/controls",
      "model_module_version": "1.5.0",
      "model_name": "FloatSliderModel",
      "state": {
       "description": "$\\lambda$",
       "layout": "IPY_MODEL_4b1b94d7d8fc47eda0affabcb3858ea7",
       "max": 5,
       "min": -5,
       "step": 0.25,
       "style": "IPY_MODEL_a8fb89c082204d4e8dc171de57456a8c",
       "value": -1.75
      }
     },
     "40908e674ee74952815e2cb4aff5a0fe": {
      "model_module": "@jupyter-widgets/output",
      "model_module_version": "1.0.0",
      "model_name": "OutputModel",
      "state": {
       "layout": "IPY_MODEL_99d3fa728fdf4cfebdd6775db4b57e3c",
       "outputs": [
        {
         "name": "stdout",
         "output_type": "stream",
         "text": "Click train parameters\n\n"
        }
       ]
      }
     },
     "4131c1e76d8b4896a83302b19395713f": {
      "model_module": "@jupyter-widgets/base",
      "model_module_version": "1.2.0",
      "model_name": "LayoutModel",
      "state": {}
     },
     "414cd002154e496fa6eb6b4a73c2af00": {
      "model_module": "@jupyter-widgets/controls",
      "model_module_version": "1.5.0",
      "model_name": "FloatSliderModel",
      "state": {
       "description": "$\\phi$",
       "layout": "IPY_MODEL_1a73c429228a43c5a98d3789f2399242",
       "max": 1,
       "min": 0.001,
       "step": 0.05,
       "style": "IPY_MODEL_f9326d94faf14d7292c5effa694ce77b",
       "value": 0.1
      }
     },
     "41828ede789d4e39bf261533126c0fcd": {
      "model_module": "@jupyter-widgets/controls",
      "model_module_version": "1.5.0",
      "model_name": "FloatSliderModel",
      "state": {
       "description": "$\\tau_{\\phi}$",
       "layout": "IPY_MODEL_50d009a71c8d4fd5a3178beaa51798d2",
       "max": 1,
       "min": 0.001,
       "step": 0.05,
       "style": "IPY_MODEL_708aab2dc7524aeeae2795883734a585",
       "value": 0.15
      }
     },
     "4194f46056cc4a31b6d66210c7b0ba69": {
      "model_module": "@jupyter-widgets/base",
      "model_module_version": "1.2.0",
      "model_name": "LayoutModel",
      "state": {}
     },
     "41ba4949079f4dd89582f42bcfa03cd3": {
      "model_module": "@jupyter-widgets/controls",
      "model_module_version": "1.5.0",
      "model_name": "SliderStyleModel",
      "state": {
       "description_width": ""
      }
     },
     "421ee5db320647d88d7b2c197acc00c9": {
      "model_module": "@jupyter-widgets/controls",
      "model_module_version": "1.5.0",
      "model_name": "SliderStyleModel",
      "state": {
       "description_width": ""
      }
     },
     "42be63ccb1444805bd65514f1270c3d4": {
      "model_module": "@jupyter-widgets/controls",
      "model_module_version": "1.5.0",
      "model_name": "IntSliderModel",
      "state": {
       "description": "N samples",
       "layout": "IPY_MODEL_a075bbba6c7a437f9b67a8586025b838",
       "max": 50,
       "min": 1,
       "style": "IPY_MODEL_2f768900e1f54894ae8296e866185ee6",
       "value": 10
      }
     },
     "42cbd91b8fc64b6cb0e297aea9902625": {
      "model_module": "@jupyter-widgets/controls",
      "model_module_version": "1.5.0",
      "model_name": "FloatSliderModel",
      "state": {
       "description": "$\\tau_{\\phi}$",
       "layout": "IPY_MODEL_a84bf6cebc7e48f69f41ea08a249d6aa",
       "max": 1,
       "min": 0.001,
       "step": 0.05,
       "style": "IPY_MODEL_a39a1568fe7448f9a088cc233f464e22",
       "value": 0.15
      }
     },
     "431b7c1cf75544e08c58004953b85cfa": {
      "model_module": "@jupyter-widgets/base",
      "model_module_version": "1.2.0",
      "model_name": "LayoutModel",
      "state": {}
     },
     "4373b6317fff42d787e3dda75474c7ee": {
      "model_module": "@jupyter-widgets/controls",
      "model_module_version": "1.5.0",
      "model_name": "SliderStyleModel",
      "state": {
       "description_width": ""
      }
     },
     "439025d509cb4c7698d58b1e33801699": {
      "model_module": "@jupyter-widgets/base",
      "model_module_version": "1.2.0",
      "model_name": "LayoutModel",
      "state": {}
     },
     "4392a5fb99144b5185bae14516384079": {
      "model_module": "@jupyter-widgets/output",
      "model_module_version": "1.0.0",
      "model_name": "OutputModel",
      "state": {
       "layout": "IPY_MODEL_20cacb2558f04007bb9057f7334dc51a",
       "outputs": [
        {
         "name": "stdout",
         "output_type": "stream",
         "text": "Click train parameters\n\n"
        }
       ]
      }
     },
     "43b650909b0e4247a2773765149233e9": {
      "model_module": "@jupyter-widgets/controls",
      "model_module_version": "1.5.0",
      "model_name": "SliderStyleModel",
      "state": {
       "description_width": ""
      }
     },
     "43c10df8b597438299ab8ed40fd6c8e7": {
      "model_module": "@jupyter-widgets/base",
      "model_module_version": "1.2.0",
      "model_name": "LayoutModel",
      "state": {}
     },
     "43c1d552d98649e3a3f05cc71c694499": {
      "model_module": "@jupyter-widgets/controls",
      "model_module_version": "1.5.0",
      "model_name": "FloatSliderModel",
      "state": {
       "description": "$\\sigma^2_a$",
       "layout": "IPY_MODEL_f7be11dc6e4e4e9dbd12dad0e4efed98",
       "max": 10,
       "min": 0.001,
       "step": 0.25,
       "style": "IPY_MODEL_ee2e826cd6d94bf79a234617e72e506b",
       "value": 0.05
      }
     },
     "43fd2d4501104f909074ee99f8c87802": {
      "model_module": "@jupyter-widgets/controls",
      "model_module_version": "1.5.0",
      "model_name": "FloatSliderModel",
      "state": {
       "description": "T (s)",
       "layout": "IPY_MODEL_e2357afc1d4143199836168ef2ccc5e1",
       "max": 5,
       "min": 0.25,
       "step": 0.25,
       "style": "IPY_MODEL_8af82b410354439f943be1b0d6e2dbdd",
       "value": 1
      }
     },
     "447ff07ee1d64852aa71202534c1b6c3": {
      "model_module": "@jupyter-widgets/base",
      "model_module_version": "1.2.0",
      "model_name": "LayoutModel",
      "state": {}
     },
     "44900a35c94541878b0236a8d15c9508": {
      "model_module": "@jupyter-widgets/controls",
      "model_module_version": "1.5.0",
      "model_name": "FloatSliderModel",
      "state": {
       "description": "$\\gamma = \\log \\frac{r_1}{r_2}$",
       "layout": "IPY_MODEL_302785c391ca43cbbbcd46d6dfcb9b08",
       "max": 5,
       "min": -5,
       "step": 0.25,
       "style": "IPY_MODEL_b7ed58294f54403da092323baca10ea7",
       "value": 1.5
      }
     },
     "44a977c7e22a4c1cb8f9bd4754d182eb": {
      "model_module": "@jupyter-widgets/controls",
      "model_module_version": "1.5.0",
      "model_name": "FloatSliderModel",
      "state": {
       "description": "$\\lambda$",
       "layout": "IPY_MODEL_a67632d6b2a7497b81edeaa1b8f13a59",
       "max": 5,
       "min": -5,
       "step": 0.25,
       "style": "IPY_MODEL_b5e462c401f34db0ac8ac9f161638b8f"
      }
     },
     "44b2503820db44ddb190b893b2801949": {
      "model_module": "@jupyter-widgets/base",
      "model_module_version": "1.2.0",
      "model_name": "LayoutModel",
      "state": {}
     },
     "44c86a82a56c4024bf1dace74a6b6478": {
      "model_module": "@jupyter-widgets/output",
      "model_module_version": "1.0.0",
      "model_name": "OutputModel",
      "state": {
       "layout": "IPY_MODEL_5f79509932494d45b378898c7ff30a5d",
       "outputs": [
        {
         "name": "stdout",
         "output_type": "stream",
         "text": "\nIntegration parameters \n\n"
        }
       ]
      }
     },
     "44e4ff1fd31843cb8337edc0ca27275b": {
      "model_module": "@jupyter-widgets/base",
      "model_module_version": "1.2.0",
      "model_name": "LayoutModel",
      "state": {}
     },
     "4511cdc2cad0444e881275db610c60f1": {
      "model_module": "@jupyter-widgets/output",
      "model_module_version": "1.0.0",
      "model_name": "OutputModel",
      "state": {
       "layout": "IPY_MODEL_9800a1ba979f4c458db37fccb73a0d82"
      }
     },
     "458a0c873fdd468baece59cf09bcb858": {
      "model_module": "@jupyter-widgets/controls",
      "model_module_version": "1.5.0",
      "model_name": "FloatSliderModel",
      "state": {
       "description": "$\\lambda$",
       "layout": "IPY_MODEL_4131c1e76d8b4896a83302b19395713f",
       "max": 5,
       "min": -5,
       "step": 0.25,
       "style": "IPY_MODEL_1e7fc3f7d0154a128b732c7a92bea771"
      }
     },
     "459535bf344b4a899464326c46bcff3f": {
      "model_module": "@jupyter-widgets/controls",
      "model_module_version": "1.5.0",
      "model_name": "SliderStyleModel",
      "state": {
       "description_width": ""
      }
     },
     "462d4a409bbc451a86bb489656095ba4": {
      "model_module": "@jupyter-widgets/controls",
      "model_module_version": "1.5.0",
      "model_name": "VBoxModel",
      "state": {
       "children": [
        "IPY_MODEL_a8db26634e87420a97c321ca80cb7a9d",
        "IPY_MODEL_60d2b94b59a1429aa301d70586fc6c16",
        "IPY_MODEL_e698a701c83a49fea7353c3bf890a73a"
       ],
       "layout": "IPY_MODEL_602b18ce54594cdaaacbbe33e5d3bb26"
      }
     },
     "463766964c2d4af597ba30c362127333": {
      "model_module": "@jupyter-widgets/controls",
      "model_module_version": "1.5.0",
      "model_name": "IntSliderModel",
      "state": {
       "description": "$r_L+r_R$ (Hz)",
       "layout": "IPY_MODEL_374456c6fabd44e181df5b14f540c7df",
       "max": 50,
       "min": 5,
       "step": 5,
       "style": "IPY_MODEL_8fd9d0ab0b09486ca53aa4c0e73ebf44",
       "value": 40
      }
     },
     "463f548779a34f419c31cfca7eda6e62": {
      "model_module": "@jupyter-widgets/base",
      "model_module_version": "1.2.0",
      "model_name": "LayoutModel",
      "state": {}
     },
     "4691efff034e463ab8e6c67b3dcf87f3": {
      "model_module": "@jupyter-widgets/controls",
      "model_module_version": "1.5.0",
      "model_name": "SliderStyleModel",
      "state": {
       "description_width": ""
      }
     },
     "469743ad5040462cb7cbeb21a56b93d5": {
      "model_module": "@jupyter-widgets/base",
      "model_module_version": "1.2.0",
      "model_name": "LayoutModel",
      "state": {}
     },
     "46d5c2cac6574e90b1397fdb32587e9b": {
      "model_module": "@jupyter-widgets/base",
      "model_module_version": "1.2.0",
      "model_name": "LayoutModel",
      "state": {}
     },
     "46d79d7f5a4f4f9e8b4f4ef4074aa2bd": {
      "model_module": "@jupyter-widgets/controls",
      "model_module_version": "1.5.0",
      "model_name": "FloatSliderModel",
      "state": {
       "description": "$\\sigma^2_i$",
       "layout": "IPY_MODEL_c02cfd9502b64b4e8eda5bde32bd44c7",
       "max": 5,
       "min": 0.001,
       "step": 0.25,
       "style": "IPY_MODEL_8d8bf67cfab14e47a98224030952a189",
       "value": 0.5
      }
     },
     "473e4f214f58449d9963967fcc384558": {
      "model_module": "@jupyter-widgets/controls",
      "model_module_version": "1.5.0",
      "model_name": "SliderStyleModel",
      "state": {
       "description_width": ""
      }
     },
     "4779ce4941db4608b590748f2028a328": {
      "model_module": "@jupyter-widgets/controls",
      "model_module_version": "1.5.0",
      "model_name": "IntSliderModel",
      "state": {
       "description": "$r_L+r_R$ (Hz)",
       "layout": "IPY_MODEL_ce9ca8898ab9468fb99cf77d620c4cd6",
       "max": 50,
       "min": 5,
       "step": 5,
       "style": "IPY_MODEL_9ccb79849e754644baf363936dfb54c1",
       "value": 40
      }
     },
     "47e34a2c5a074d0bb55cdb61e0370f99": {
      "model_module": "@jupyter-widgets/controls",
      "model_module_version": "1.5.0",
      "model_name": "FloatSliderModel",
      "state": {
       "description": "Lapse",
       "layout": "IPY_MODEL_23b0485ae8b14c3cac8c037db4691fca",
       "max": 1,
       "step": 0.01,
       "style": "IPY_MODEL_87f419223dfb4b9cab3729918f8720eb",
       "value": 0.05
      }
     },
     "48119a10f69a4cd69ae3f9c221e4dce1": {
      "model_module": "@jupyter-widgets/base",
      "model_module_version": "1.2.0",
      "model_name": "LayoutModel",
      "state": {}
     },
     "4831f4074a43494b82e0166ddf7c5be7": {
      "model_module": "@jupyter-widgets/base",
      "model_module_version": "1.2.0",
      "model_name": "LayoutModel",
      "state": {}
     },
     "485d56cc892f4042b44fc3078dc96a87": {
      "model_module": "@jupyter-widgets/controls",
      "model_module_version": "1.5.0",
      "model_name": "HBoxModel",
      "state": {
       "children": [
        "IPY_MODEL_256c8c4553944e539ecbd5b815c0f492",
        "IPY_MODEL_fa39f4b7cd8f43689a2458826a9b9946"
       ],
       "layout": "IPY_MODEL_fd81e3b001da41e4866ac9123afc153f"
      }
     },
     "488ea7bc52ae425db0d5fa70cc49de44": {
      "model_module": "@jupyter-widgets/controls",
      "model_module_version": "1.5.0",
      "model_name": "SliderStyleModel",
      "state": {
       "description_width": ""
      }
     },
     "49353604af97497b919ca0feab0af6aa": {
      "model_module": "@jupyter-widgets/base",
      "model_module_version": "1.2.0",
      "model_name": "LayoutModel",
      "state": {}
     },
     "49414f2543f04a4ebabd9ebec6de2804": {
      "model_module": "@jupyter-widgets/controls",
      "model_module_version": "1.5.0",
      "model_name": "FloatSliderModel",
      "state": {
       "description": "$\\tau_{\\phi}$",
       "layout": "IPY_MODEL_bd314010d35e4cfbac2a12a92d020608",
       "max": 1,
       "min": 0.001,
       "step": 0.05,
       "style": "IPY_MODEL_790dd841fa4a4dab8f81aeefb1bb129f",
       "value": 0.15
      }
     },
     "4a38a4c60b5340118a61a6869c1ed5a4": {
      "model_module": "@jupyter-widgets/controls",
      "model_module_version": "1.5.0",
      "model_name": "SliderStyleModel",
      "state": {
       "description_width": ""
      }
     },
     "4a90667d9d8e45b4806391a791a00a7f": {
      "model_module": "@jupyter-widgets/controls",
      "model_module_version": "1.5.0",
      "model_name": "SliderStyleModel",
      "state": {
       "description_width": ""
      }
     },
     "4aa37543eb7948ce8d57698b2c3894b5": {
      "model_module": "@jupyter-widgets/output",
      "model_module_version": "1.0.0",
      "model_name": "OutputModel",
      "state": {
       "layout": "IPY_MODEL_fa4de6b381c5496b8563e5ce54c47551",
       "outputs": [
        {
         "name": "stdout",
         "output_type": "stream",
         "text": "\nChoice parameters\n\n"
        }
       ]
      }
     },
     "4ace407021754aa5a8f89ec1fd283a3b": {
      "model_module": "@jupyter-widgets/base",
      "model_module_version": "1.2.0",
      "model_name": "LayoutModel",
      "state": {}
     },
     "4adb3e27e6b545c09cd5719f6a1713a3": {
      "model_module": "@jupyter-widgets/base",
      "model_module_version": "1.2.0",
      "model_name": "LayoutModel",
      "state": {}
     },
     "4b1b94d7d8fc47eda0affabcb3858ea7": {
      "model_module": "@jupyter-widgets/base",
      "model_module_version": "1.2.0",
      "model_name": "LayoutModel",
      "state": {}
     },
     "4b5a0551ee70430cba7efc450dc6d7ec": {
      "model_module": "@jupyter-widgets/controls",
      "model_module_version": "1.5.0",
      "model_name": "SliderStyleModel",
      "state": {
       "description_width": ""
      }
     },
     "4b61224d2e7f4c988018c3dc2829a3f6": {
      "model_module": "@jupyter-widgets/base",
      "model_module_version": "1.2.0",
      "model_name": "LayoutModel",
      "state": {}
     },
     "4b92c98ab02a47c887d26281970e5ad0": {
      "model_module": "@jupyter-widgets/base",
      "model_module_version": "1.2.0",
      "model_name": "LayoutModel",
      "state": {}
     },
     "4bb3c2038f1044169eb008bfa8d486db": {
      "model_module": "@jupyter-widgets/base",
      "model_module_version": "1.2.0",
      "model_name": "LayoutModel",
      "state": {}
     },
     "4c0a9154db614f16aec7ceb9ff3a6dfc": {
      "model_module": "@jupyter-widgets/base",
      "model_module_version": "1.2.0",
      "model_name": "LayoutModel",
      "state": {}
     },
     "4c5626ca505d4bac911e967f4fd42c00": {
      "model_module": "@jupyter-widgets/controls",
      "model_module_version": "1.5.0",
      "model_name": "IntSliderModel",
      "state": {
       "description": "Seed",
       "layout": "IPY_MODEL_b9772092be454878b7b6a3a459275c17",
       "max": 10,
       "style": "IPY_MODEL_21e4bfd92fd1467782300747db221787",
       "value": 1
      }
     },
     "4c84070179ed4fa5a18edadd03ecf14d": {
      "model_module": "@jupyter-widgets/base",
      "model_module_version": "1.2.0",
      "model_name": "LayoutModel",
      "state": {}
     },
     "4c9e1d18211b4483b4b45880534b5bd7": {
      "model_module": "@jupyter-widgets/base",
      "model_module_version": "1.2.0",
      "model_name": "LayoutModel",
      "state": {}
     },
     "4d6ac4381759421190b7125ed13701bd": {
      "model_module": "@jupyter-widgets/controls",
      "model_module_version": "1.5.0",
      "model_name": "HBoxModel",
      "state": {
       "children": [
        "IPY_MODEL_1fcf29569e2846819531d9278d0e5fbf",
        "IPY_MODEL_9d1f4f8659004f688b84867e1bc6de42"
       ],
       "layout": "IPY_MODEL_c97ca8b6ae2d4f9a912fa4e4dcefece4"
      }
     },
     "4da0be8d9bcb4f669795a012b942467b": {
      "model_module": "@jupyter-widgets/base",
      "model_module_version": "1.2.0",
      "model_name": "LayoutModel",
      "state": {}
     },
     "4e5c359d276445f0a30b3888ec5bf28f": {
      "model_module": "@jupyter-widgets/base",
      "model_module_version": "1.2.0",
      "model_name": "LayoutModel",
      "state": {}
     },
     "4efccfa5577a47548acc7db9f90c9706": {
      "model_module": "@jupyter-widgets/base",
      "model_module_version": "1.2.0",
      "model_name": "LayoutModel",
      "state": {}
     },
     "4f08cea7b3cb403a8a87adbf25af74de": {
      "model_module": "@jupyter-widgets/base",
      "model_module_version": "1.2.0",
      "model_name": "LayoutModel",
      "state": {}
     },
     "50d009a71c8d4fd5a3178beaa51798d2": {
      "model_module": "@jupyter-widgets/base",
      "model_module_version": "1.2.0",
      "model_name": "LayoutModel",
      "state": {}
     },
     "5160fed0faff41cbad64e8fef7568f0b": {
      "model_module": "@jupyter-widgets/base",
      "model_module_version": "1.2.0",
      "model_name": "LayoutModel",
      "state": {}
     },
     "5245d35c337544aaa253f18ad24995ee": {
      "model_module": "@jupyter-widgets/controls",
      "model_module_version": "1.5.0",
      "model_name": "SliderStyleModel",
      "state": {
       "description_width": ""
      }
     },
     "525cecd5bab04e5a876631beb66acace": {
      "model_module": "@jupyter-widgets/controls",
      "model_module_version": "1.5.0",
      "model_name": "SliderStyleModel",
      "state": {
       "description_width": ""
      }
     },
     "526a0a4a954e4dfb999ae2bd700339ad": {
      "model_module": "@jupyter-widgets/base",
      "model_module_version": "1.2.0",
      "model_name": "LayoutModel",
      "state": {}
     },
     "52801ebc284843d896e0283feff99f98": {
      "model_module": "@jupyter-widgets/controls",
      "model_module_version": "1.5.0",
      "model_name": "SliderStyleModel",
      "state": {
       "description_width": ""
      }
     },
     "528099740ed748079d4cc2cc74227232": {
      "model_module": "@jupyter-widgets/base",
      "model_module_version": "1.2.0",
      "model_name": "LayoutModel",
      "state": {}
     },
     "529995f2d64940268b90777563c7d395": {
      "model_module": "@jupyter-widgets/controls",
      "model_module_version": "1.5.0",
      "model_name": "FloatSliderModel",
      "state": {
       "description": "$\\lambda$",
       "layout": "IPY_MODEL_db435d515a4349eaa200cdecacfc151c",
       "max": 5,
       "min": -5,
       "step": 0.25,
       "style": "IPY_MODEL_b9056727ae5044f7b9ebf8668efc9704"
      }
     },
     "52d6a6ffd5554d7bbd7a67231ce57187": {
      "model_module": "@jupyter-widgets/controls",
      "model_module_version": "1.5.0",
      "model_name": "VBoxModel",
      "state": {
       "children": [
        "IPY_MODEL_14a9e2d5acf24f1e9bd4d9b865f693bc",
        "IPY_MODEL_e3ac7091ad864e919f08c0f05fe91073",
        "IPY_MODEL_d685a0a61e86475894f42707a7ae7940",
        "IPY_MODEL_a1f4d3898ff24222b2e3a5d1fcf0770f",
        "IPY_MODEL_3ae4fd61f50a4ff7b7121b625f4782af",
        "IPY_MODEL_d13c8f485da0406898ee315f4755cd9f",
        "IPY_MODEL_c59feb47041c46d690421813766f9145"
       ],
       "layout": "IPY_MODEL_831087fedeba4722b4fc25bea76af784"
      }
     },
     "540d31952a8d453c853478af7d73cd21": {
      "model_module": "@jupyter-widgets/base",
      "model_module_version": "1.2.0",
      "model_name": "LayoutModel",
      "state": {}
     },
     "5464b41c163540de84a1fdbb11a1b4b5": {
      "model_module": "@jupyter-widgets/base",
      "model_module_version": "1.2.0",
      "model_name": "LayoutModel",
      "state": {}
     },
     "552c73a2629f42d2a8567636b803b6c6": {
      "model_module": "@jupyter-widgets/controls",
      "model_module_version": "1.5.0",
      "model_name": "FloatSliderModel",
      "state": {
       "description": "$\\lambda$",
       "layout": "IPY_MODEL_a56797b7700444a6bb19b7b48823bd79",
       "max": 5,
       "min": -5,
       "step": 0.25,
       "style": "IPY_MODEL_4373b6317fff42d787e3dda75474c7ee"
      }
     },
     "55617ea1c03c402e9e34951c65535aa7": {
      "model_module": "@jupyter-widgets/base",
      "model_module_version": "1.2.0",
      "model_name": "LayoutModel",
      "state": {}
     },
     "5588c33005f949c2a33a299a205a3b24": {
      "model_module": "@jupyter-widgets/controls",
      "model_module_version": "1.5.0",
      "model_name": "SliderStyleModel",
      "state": {
       "description_width": ""
      }
     },
     "558fc00ff93b42e488b08f60f4f1b1cb": {
      "model_module": "@jupyter-widgets/controls",
      "model_module_version": "1.5.0",
      "model_name": "FloatSliderModel",
      "state": {
       "description": "T (s)",
       "layout": "IPY_MODEL_4831f4074a43494b82e0166ddf7c5be7",
       "max": 5,
       "min": 0.25,
       "step": 0.25,
       "style": "IPY_MODEL_5588c33005f949c2a33a299a205a3b24",
       "value": 1
      }
     },
     "55a2f61751bb40fca05e659806f4df4c": {
      "model_module": "@jupyter-widgets/controls",
      "model_module_version": "1.5.0",
      "model_name": "SliderStyleModel",
      "state": {
       "description_width": ""
      }
     },
     "5603f15ce23e4bd0854fac2bf043d725": {
      "model_module": "@jupyter-widgets/controls",
      "model_module_version": "1.5.0",
      "model_name": "SliderStyleModel",
      "state": {
       "description_width": ""
      }
     },
     "56db754c2e2643368342c1f1e4c791cf": {
      "model_module": "@jupyter-widgets/base",
      "model_module_version": "1.2.0",
      "model_name": "LayoutModel",
      "state": {}
     },
     "570cac27876541e6be35f1dfb64c64ca": {
      "model_module": "@jupyter-widgets/base",
      "model_module_version": "1.2.0",
      "model_name": "LayoutModel",
      "state": {}
     },
     "577960b07fe047b6aebab6407f3de715": {
      "model_module": "@jupyter-widgets/base",
      "model_module_version": "1.2.0",
      "model_name": "LayoutModel",
      "state": {}
     },
     "578430f4292f41519194df0d7ea69d48": {
      "model_module": "@jupyter-widgets/controls",
      "model_module_version": "1.5.0",
      "model_name": "FloatSliderModel",
      "state": {
       "description": "$\\sigma^2_s$",
       "layout": "IPY_MODEL_dcf7b2af5c334ebf878a39d86781bb8f",
       "max": 50,
       "min": 0.001,
       "step": 0.25,
       "style": "IPY_MODEL_f1bc07bb279041b8a3383a4ac6861587",
       "value": 1
      }
     },
     "5794c1d51b9b42268d3f0f6e85c2db72": {
      "model_module": "@jupyter-widgets/base",
      "model_module_version": "1.2.0",
      "model_name": "LayoutModel",
      "state": {}
     },
     "58041e56d7df44adb69e37ff70b1bcc2": {
      "model_module": "@jupyter-widgets/base",
      "model_module_version": "1.2.0",
      "model_name": "LayoutModel",
      "state": {}
     },
     "581b453fdb2d4550871552ca5a5a9b23": {
      "model_module": "@jupyter-widgets/controls",
      "model_module_version": "1.5.0",
      "model_name": "SliderStyleModel",
      "state": {
       "description_width": ""
      }
     },
     "5833b67ceb504a48969eac7d97ede21f": {
      "model_module": "@jupyter-widgets/base",
      "model_module_version": "1.2.0",
      "model_name": "LayoutModel",
      "state": {}
     },
     "586f5feeb7814c52ba78326f2ef3f192": {
      "model_module": "@jupyter-widgets/base",
      "model_module_version": "1.2.0",
      "model_name": "LayoutModel",
      "state": {}
     },
     "587cfcc23937438081fdc9f86b8e417d": {
      "model_module": "@jupyter-widgets/controls",
      "model_module_version": "1.5.0",
      "model_name": "HBoxModel",
      "state": {
       "children": [
        "IPY_MODEL_01fb686ca4d64e3ca0c75681931e1435",
        "IPY_MODEL_ad8bcbcf69d6473bbd93b0414d5a2d7e"
       ],
       "layout": "IPY_MODEL_5d409b3caf7d4753b4f5e8b0170d4cd9"
      }
     },
     "58cae15b208c470fb63da6dda81b6a57": {
      "model_module": "@jupyter-widgets/controls",
      "model_module_version": "1.5.0",
      "model_name": "IntSliderModel",
      "state": {
       "description": "Seed",
       "layout": "IPY_MODEL_0b2a0235e0e3479085d0b38640ca2702",
       "max": 10,
       "style": "IPY_MODEL_713d3a234464484483c845d505433bcc",
       "value": 1
      }
     },
     "58cb85287a0c43219a90185a66e5ccc5": {
      "model_module": "@jupyter-widgets/controls",
      "model_module_version": "1.5.0",
      "model_name": "FloatSliderModel",
      "state": {
       "description": "$\\gamma = \\log \\frac{r_1}{r_2}$",
       "layout": "IPY_MODEL_6fc758f7863e4509b91bc2f8c2c261ca",
       "max": 5,
       "min": -5,
       "step": 0.25,
       "style": "IPY_MODEL_4b5a0551ee70430cba7efc450dc6d7ec",
       "value": 1.5
      }
     },
     "5a17b701d05b44ba81ed299ae75d2018": {
      "model_module": "@jupyter-widgets/controls",
      "model_module_version": "1.5.0",
      "model_name": "VBoxModel",
      "state": {
       "children": [
        "IPY_MODEL_12120df3e49745c38259fc93f2e9e1f2",
        "IPY_MODEL_414cd002154e496fa6eb6b4a73c2af00",
        "IPY_MODEL_c4eb353537a840918fc9cddd4fef05eb"
       ],
       "layout": "IPY_MODEL_bac61f513f7a494f94dd94545a15f8d8"
      }
     },
     "5a92e6a0778144dcb8f80ef2846fb337": {
      "model_module": "@jupyter-widgets/controls",
      "model_module_version": "1.5.0",
      "model_name": "SliderStyleModel",
      "state": {
       "description_width": ""
      }
     },
     "5aae5c84f5474f83be8cb97cbae53982": {
      "model_module": "@jupyter-widgets/controls",
      "model_module_version": "1.5.0",
      "model_name": "FloatSliderModel",
      "state": {
       "description": "$\\phi$",
       "layout": "IPY_MODEL_0df69f6857b246ebaca45d97b8a5840a",
       "max": 1,
       "min": 0.001,
       "step": 0.05,
       "style": "IPY_MODEL_9012d9641dc94c319cb1dca516d4387d",
       "value": 0.1
      }
     },
     "5b63d1629e734531ac0badc4d380915e": {
      "model_module": "@jupyter-widgets/base",
      "model_module_version": "1.2.0",
      "model_name": "LayoutModel",
      "state": {}
     },
     "5b7a142bdb7144bdb44b2001a27feff4": {
      "model_module": "@jupyter-widgets/controls",
      "model_module_version": "1.5.0",
      "model_name": "SliderStyleModel",
      "state": {
       "description_width": ""
      }
     },
     "5bcbddfb50eb4bd0a45eb8b4d207baa9": {
      "model_module": "@jupyter-widgets/base",
      "model_module_version": "1.2.0",
      "model_name": "LayoutModel",
      "state": {}
     },
     "5c27a5851b4e4c9d99f8867dd77c5864": {
      "model_module": "@jupyter-widgets/output",
      "model_module_version": "1.0.0",
      "model_name": "OutputModel",
      "state": {
       "layout": "IPY_MODEL_0f2bff6dcdfc4bbc8ad3bf65e81dea71",
       "outputs": [
        {
         "name": "stdout",
         "output_type": "stream",
         "text": "\nChoice parameters\n\n"
        }
       ]
      }
     },
     "5c2e41141d7b43f8b1e521746893de15": {
      "model_module": "@jupyter-widgets/output",
      "model_module_version": "1.0.0",
      "model_name": "OutputModel",
      "state": {
       "layout": "IPY_MODEL_44e4ff1fd31843cb8337edc0ca27275b",
       "outputs": [
        {
         "name": "stdout",
         "output_type": "stream",
         "text": "\nIntegration parameters \n\n"
        }
       ]
      }
     },
     "5ca6c5e855c44e1bb088b21fbd65000b": {
      "model_module": "@jupyter-widgets/base",
      "model_module_version": "1.2.0",
      "model_name": "LayoutModel",
      "state": {}
     },
     "5cb5c031ec614969a3154385aedb236b": {
      "model_module": "@jupyter-widgets/controls",
      "model_module_version": "1.5.0",
      "model_name": "VBoxModel",
      "state": {
       "children": [
        "IPY_MODEL_03a3a210171a475cabf7a8d22503ae8d",
        "IPY_MODEL_d08c120d37cf44ee91146d7364e1af85",
        "IPY_MODEL_c333bdbf389744369bfea895583ee2c2"
       ],
       "layout": "IPY_MODEL_3a039c54b9694920b70922ef57218179"
      }
     },
     "5d3166a912dd470fa27fdd4803db5c0d": {
      "model_module": "@jupyter-widgets/base",
      "model_module_version": "1.2.0",
      "model_name": "LayoutModel",
      "state": {}
     },
     "5d3278d84a6a439092d473fb224b88e6": {
      "model_module": "@jupyter-widgets/base",
      "model_module_version": "1.2.0",
      "model_name": "LayoutModel",
      "state": {}
     },
     "5d409b3caf7d4753b4f5e8b0170d4cd9": {
      "model_module": "@jupyter-widgets/base",
      "model_module_version": "1.2.0",
      "model_name": "LayoutModel",
      "state": {}
     },
     "5dd3607e803540e28537427d1f0454dc": {
      "model_module": "@jupyter-widgets/base",
      "model_module_version": "1.2.0",
      "model_name": "LayoutModel",
      "state": {}
     },
     "5ee8c19837c94d5791c8742595f43186": {
      "model_module": "@jupyter-widgets/controls",
      "model_module_version": "1.5.0",
      "model_name": "SliderStyleModel",
      "state": {
       "description_width": ""
      }
     },
     "5eec42a478e4414a98bfcef12c09d741": {
      "model_module": "@jupyter-widgets/base",
      "model_module_version": "1.2.0",
      "model_name": "LayoutModel",
      "state": {}
     },
     "5eec7eb4f73f48adbbab1932cf887371": {
      "model_module": "@jupyter-widgets/output",
      "model_module_version": "1.0.0",
      "model_name": "OutputModel",
      "state": {
       "layout": "IPY_MODEL_346d6cea0cd04e16bcefd8a96394b3da",
       "outputs": [
        {
         "data": {
          "image/png": "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\n",
          "text/plain": "<Figure size 600x700 with 4 Axes>"
         },
         "metadata": {},
         "output_type": "display_data"
        }
       ]
      }
     },
     "5f3fbd49b63f402f84827082612fd7dd": {
      "model_module": "@jupyter-widgets/controls",
      "model_module_version": "1.5.0",
      "model_name": "FloatSliderModel",
      "state": {
       "description": "Bias",
       "layout": "IPY_MODEL_b43ac16c3049419dbe36bd1cc1601a50",
       "max": 5,
       "min": -5,
       "step": 0.05,
       "style": "IPY_MODEL_7ec719693f5549b39c8baa4d3a8d9980"
      }
     },
     "5f6ef597c2b54228b4cdb96d3e1d7159": {
      "model_module": "@jupyter-widgets/base",
      "model_module_version": "1.2.0",
      "model_name": "LayoutModel",
      "state": {}
     },
     "5f79509932494d45b378898c7ff30a5d": {
      "model_module": "@jupyter-widgets/base",
      "model_module_version": "1.2.0",
      "model_name": "LayoutModel",
      "state": {}
     },
     "600d5353109d46708d1494a8bb864ac4": {
      "model_module": "@jupyter-widgets/controls",
      "model_module_version": "1.5.0",
      "model_name": "SliderStyleModel",
      "state": {
       "description_width": ""
      }
     },
     "602b18ce54594cdaaacbbe33e5d3bb26": {
      "model_module": "@jupyter-widgets/base",
      "model_module_version": "1.2.0",
      "model_name": "LayoutModel",
      "state": {}
     },
     "60cfc733f93b4ec5844219df05da889f": {
      "model_module": "@jupyter-widgets/controls",
      "model_module_version": "1.5.0",
      "model_name": "FloatSliderModel",
      "state": {
       "description": "Bias",
       "layout": "IPY_MODEL_67d7c015b01941bfb12d120718b71cef",
       "max": 5,
       "min": -5,
       "step": 0.05,
       "style": "IPY_MODEL_f861d407858c420f889c0f341339d66d"
      }
     },
     "60d2b94b59a1429aa301d70586fc6c16": {
      "model_module": "@jupyter-widgets/controls",
      "model_module_version": "1.5.0",
      "model_name": "FloatSliderModel",
      "state": {
       "description": "Bias",
       "layout": "IPY_MODEL_85543d58418c406c97ed7479026c9224",
       "max": 5,
       "min": -5,
       "step": 0.05,
       "style": "IPY_MODEL_6efae41b1c1747eaa860c98ba32a8b00"
      }
     },
     "60de824fd0054f92bbe98a822f98146e": {
      "model_module": "@jupyter-widgets/controls",
      "model_module_version": "1.5.0",
      "model_name": "FloatSliderModel",
      "state": {
       "description": "Lapse",
       "layout": "IPY_MODEL_df324a6842484297a17f6fb27f9c5409",
       "max": 1,
       "step": 0.01,
       "style": "IPY_MODEL_d849728a1fa0472ead26de71cb1020ab",
       "value": 0.05
      }
     },
     "61451cac03204aee92ac171e6d5f0d67": {
      "model_module": "@jupyter-widgets/controls",
      "model_module_version": "1.5.0",
      "model_name": "FloatSliderModel",
      "state": {
       "description": "$\\lambda$",
       "layout": "IPY_MODEL_b4e13b68cc674c99b261ccc64ce99d0b",
       "max": 5,
       "min": -5,
       "step": 0.25,
       "style": "IPY_MODEL_16caa22d96d84e9e8a9ed20c53b58333"
      }
     },
     "616910472e95424bb3e2c364ffcc4759": {
      "model_module": "@jupyter-widgets/controls",
      "model_module_version": "1.5.0",
      "model_name": "SliderStyleModel",
      "state": {
       "description_width": ""
      }
     },
     "61df5df092304b65921a670255375fc7": {
      "model_module": "@jupyter-widgets/controls",
      "model_module_version": "1.5.0",
      "model_name": "SliderStyleModel",
      "state": {
       "description_width": ""
      }
     },
     "61fe75c8b4834d43bace7d77e3e75766": {
      "model_module": "@jupyter-widgets/controls",
      "model_module_version": "1.5.0",
      "model_name": "SliderStyleModel",
      "state": {
       "description_width": ""
      }
     },
     "62504b904ce14026b5e1510da2b9e6c0": {
      "model_module": "@jupyter-widgets/controls",
      "model_module_version": "1.5.0",
      "model_name": "IntSliderModel",
      "state": {
       "description": "N samples",
       "layout": "IPY_MODEL_bb3cc6cec77242c8b0c02fcf215715bd",
       "max": 50,
       "min": 1,
       "style": "IPY_MODEL_b9c2680f07f04f4d9239144d624d2f95",
       "value": 10
      }
     },
     "626ca2864898431f9e0f5e1febb73a38": {
      "model_module": "@jupyter-widgets/base",
      "model_module_version": "1.2.0",
      "model_name": "LayoutModel",
      "state": {}
     },
     "62b2a91b8e194f0eb78bb4a123ed183c": {
      "model_module": "@jupyter-widgets/base",
      "model_module_version": "1.2.0",
      "model_name": "LayoutModel",
      "state": {}
     },
     "6331057e99534ac2a8024b5fc03627e7": {
      "model_module": "@jupyter-widgets/controls",
      "model_module_version": "1.5.0",
      "model_name": "VBoxModel",
      "state": {
       "children": [
        "IPY_MODEL_00813952351340fb8f0a6c47bfb69dd2",
        "IPY_MODEL_b888b6db68c04fce8b4440294a724406",
        "IPY_MODEL_070d4a591add4023877bf548da38b307",
        "IPY_MODEL_9b38c675471247e688f27e94ebea47c9"
       ],
       "layout": "IPY_MODEL_88711bd5afea48a5a8bb63221904663b"
      }
     },
     "63416e01bbd240e2a684e701f345cd44": {
      "model_module": "@jupyter-widgets/controls",
      "model_module_version": "1.5.0",
      "model_name": "VBoxModel",
      "state": {
       "children": [
        "IPY_MODEL_5c27a5851b4e4c9d99f8867dd77c5864",
        "IPY_MODEL_98c1cf3976a844629d2b82f246ef166f",
        "IPY_MODEL_60de824fd0054f92bbe98a822f98146e"
       ],
       "layout": "IPY_MODEL_431b7c1cf75544e08c58004953b85cfa"
      }
     },
     "63566e291b7a43ceb7bcbcfe737aafb8": {
      "model_module": "@jupyter-widgets/base",
      "model_module_version": "1.2.0",
      "model_name": "LayoutModel",
      "state": {}
     },
     "638aa7b0cbbb42fe9ff3ea0083b64b79": {
      "model_module": "@jupyter-widgets/controls",
      "model_module_version": "1.5.0",
      "model_name": "SliderStyleModel",
      "state": {
       "description_width": ""
      }
     },
     "63e8d907b93a42f388cd78012b7fe3a7": {
      "model_module": "@jupyter-widgets/base",
      "model_module_version": "1.2.0",
      "model_name": "LayoutModel",
      "state": {}
     },
     "63e9db8ea22341dd92bfccacc12d42d8": {
      "model_module": "@jupyter-widgets/controls",
      "model_module_version": "1.5.0",
      "model_name": "SliderStyleModel",
      "state": {
       "description_width": ""
      }
     },
     "640a24b4efa84410912227a1cba05ac6": {
      "model_module": "@jupyter-widgets/controls",
      "model_module_version": "1.5.0",
      "model_name": "FloatSliderModel",
      "state": {
       "description": "$\\sigma^2_i$",
       "layout": "IPY_MODEL_4b61224d2e7f4c988018c3dc2829a3f6",
       "max": 5,
       "min": 0.001,
       "step": 0.25,
       "style": "IPY_MODEL_05c0bc1a1a45409486ebf80199c98b08",
       "value": 0.5
      }
     },
     "6452192be65d428f982f4a89b194a783": {
      "model_module": "@jupyter-widgets/base",
      "model_module_version": "1.2.0",
      "model_name": "LayoutModel",
      "state": {}
     },
     "65b25956144440518b7e2f3bd9acf1ff": {
      "model_module": "@jupyter-widgets/base",
      "model_module_version": "1.2.0",
      "model_name": "LayoutModel",
      "state": {}
     },
     "65f50d24d4eb40f994f2bc9d239121f8": {
      "model_module": "@jupyter-widgets/base",
      "model_module_version": "1.2.0",
      "model_name": "LayoutModel",
      "state": {}
     },
     "66385fb9f26d4f60b0dfb4796b121689": {
      "model_module": "@jupyter-widgets/controls",
      "model_module_version": "1.5.0",
      "model_name": "VBoxModel",
      "state": {
       "children": [
        "IPY_MODEL_9a56ced5c3584af09f953a3d8f9a7d2a",
        "IPY_MODEL_866cdf482349419ca41e55239afe0aef",
        "IPY_MODEL_3c33fea9d7134dc8840cb6046f8f2720",
        "IPY_MODEL_b0e6c6e73d1a4e7c95ab55a56ff37f59",
        "IPY_MODEL_a9fc7068cd774738919a6f2936c3101f",
        "IPY_MODEL_942b36f9dbfa403eac2070fd6c44f03c",
        "IPY_MODEL_238ffb38f79c4c0092681cccf7bb1beb"
       ],
       "layout": "IPY_MODEL_823184dd79054f92afdc784f0621ead4"
      }
     },
     "66bdfe0a8cb24d4e88e33ba73603b8f0": {
      "model_module": "@jupyter-widgets/base",
      "model_module_version": "1.2.0",
      "model_name": "LayoutModel",
      "state": {}
     },
     "66ea354f413540c0a9021bbde0ad22f0": {
      "model_module": "@jupyter-widgets/base",
      "model_module_version": "1.2.0",
      "model_name": "LayoutModel",
      "state": {}
     },
     "6743fa2a407b406a875e8e67b4853de2": {
      "model_module": "@jupyter-widgets/controls",
      "model_module_version": "1.5.0",
      "model_name": "SliderStyleModel",
      "state": {
       "description_width": ""
      }
     },
     "678174847e7c428183adef1c81c2fe8e": {
      "model_module": "@jupyter-widgets/base",
      "model_module_version": "1.2.0",
      "model_name": "LayoutModel",
      "state": {}
     },
     "67a71fac3ea74742a4ae9075f5f68c87": {
      "model_module": "@jupyter-widgets/base",
      "model_module_version": "1.2.0",
      "model_name": "LayoutModel",
      "state": {}
     },
     "67d7c015b01941bfb12d120718b71cef": {
      "model_module": "@jupyter-widgets/base",
      "model_module_version": "1.2.0",
      "model_name": "LayoutModel",
      "state": {}
     },
     "6819f581105e41bc91932424942f8865": {
      "model_module": "@jupyter-widgets/controls",
      "model_module_version": "1.5.0",
      "model_name": "SliderStyleModel",
      "state": {
       "description_width": ""
      }
     },
     "687e827efb6a47c186c5284cb5feb752": {
      "model_module": "@jupyter-widgets/controls",
      "model_module_version": "1.5.0",
      "model_name": "SliderStyleModel",
      "state": {
       "description_width": ""
      }
     },
     "68c097899e3d47cc96aa60573540fcc2": {
      "model_module": "@jupyter-widgets/controls",
      "model_module_version": "1.5.0",
      "model_name": "SliderStyleModel",
      "state": {
       "description_width": ""
      }
     },
     "69978edbc34940c48c02bbe4efbb4858": {
      "model_module": "@jupyter-widgets/base",
      "model_module_version": "1.2.0",
      "model_name": "LayoutModel",
      "state": {}
     },
     "69dae0d615f34c1a89d912a4176a92de": {
      "model_module": "@jupyter-widgets/output",
      "model_module_version": "1.0.0",
      "model_name": "OutputModel",
      "state": {
       "layout": "IPY_MODEL_62b2a91b8e194f0eb78bb4a123ed183c",
       "outputs": [
        {
         "name": "stdout",
         "output_type": "stream",
         "text": "\nChoice parameters\n\n"
        }
       ]
      }
     },
     "6b7a629161a942dd81f6b46c1ba38b58": {
      "model_module": "@jupyter-widgets/controls",
      "model_module_version": "1.5.0",
      "model_name": "FloatSliderModel",
      "state": {
       "description": "$\\gamma = \\log \\frac{r_1}{r_2}$",
       "layout": "IPY_MODEL_722ca534822c4c2f945f73045dfd2860",
       "max": 5,
       "min": -5,
       "step": 0.25,
       "style": "IPY_MODEL_86ef28ec21f848bc9e12d44da6a61900",
       "value": 1.5
      }
     },
     "6bb4cf1496a24fd2963d7b60b6d422a2": {
      "model_module": "@jupyter-widgets/base",
      "model_module_version": "1.2.0",
      "model_name": "LayoutModel",
      "state": {}
     },
     "6c271cda1a164dc391caf01faa2afd0f": {
      "model_module": "@jupyter-widgets/controls",
      "model_module_version": "1.5.0",
      "model_name": "FloatSliderModel",
      "state": {
       "description": "$\\gamma = \\log \\frac{r_1}{r_2}$",
       "layout": "IPY_MODEL_7b50f8bb2f584c208c75f991d1a7075e",
       "max": 5,
       "min": -5,
       "step": 0.25,
       "style": "IPY_MODEL_616910472e95424bb3e2c364ffcc4759",
       "value": 1.5
      }
     },
     "6c910895c7ba402ab70655b8b91de12e": {
      "model_module": "@jupyter-widgets/controls",
      "model_module_version": "1.5.0",
      "model_name": "SliderStyleModel",
      "state": {
       "description_width": ""
      }
     },
     "6da580a833154b61a956a7740bb2f30e": {
      "model_module": "@jupyter-widgets/base",
      "model_module_version": "1.2.0",
      "model_name": "LayoutModel",
      "state": {}
     },
     "6efae41b1c1747eaa860c98ba32a8b00": {
      "model_module": "@jupyter-widgets/controls",
      "model_module_version": "1.5.0",
      "model_name": "SliderStyleModel",
      "state": {
       "description_width": ""
      }
     },
     "6f35739e4c9b4bf0b1edd45869bf2308": {
      "model_module": "@jupyter-widgets/controls",
      "model_module_version": "1.5.0",
      "model_name": "SliderStyleModel",
      "state": {
       "description_width": ""
      }
     },
     "6f632a4ae2f546029e1c134de2479df7": {
      "model_module": "@jupyter-widgets/base",
      "model_module_version": "1.2.0",
      "model_name": "LayoutModel",
      "state": {}
     },
     "6fc758f7863e4509b91bc2f8c2c261ca": {
      "model_module": "@jupyter-widgets/base",
      "model_module_version": "1.2.0",
      "model_name": "LayoutModel",
      "state": {}
     },
     "701813b4285143c49dd6c5f30a94b7ab": {
      "model_module": "@jupyter-widgets/base",
      "model_module_version": "1.2.0",
      "model_name": "LayoutModel",
      "state": {}
     },
     "7026972afc1348d689ed672864f6d7eb": {
      "model_module": "@jupyter-widgets/base",
      "model_module_version": "1.2.0",
      "model_name": "LayoutModel",
      "state": {}
     },
     "7046c29daacb40b5a7c930ce553e8cc9": {
      "model_module": "@jupyter-widgets/controls",
      "model_module_version": "1.5.0",
      "model_name": "FloatSliderModel",
      "state": {
       "description": "Bias",
       "layout": "IPY_MODEL_4b92c98ab02a47c887d26281970e5ad0",
       "max": 5,
       "min": -5,
       "step": 0.05,
       "style": "IPY_MODEL_5b7a142bdb7144bdb44b2001a27feff4"
      }
     },
     "7053cd80b1654b62b1e43fb384dc777c": {
      "model_module": "@jupyter-widgets/controls",
      "model_module_version": "1.5.0",
      "model_name": "SliderStyleModel",
      "state": {
       "description_width": ""
      }
     },
     "7070d68eb4df419ea047f197a0e9cc18": {
      "model_module": "@jupyter-widgets/controls",
      "model_module_version": "1.5.0",
      "model_name": "IntSliderModel",
      "state": {
       "description": "Seed",
       "layout": "IPY_MODEL_c7ea883094544b949d8b373e6eb6ea60",
       "max": 10,
       "style": "IPY_MODEL_7719df848dbd40b296ad4cfcd7729809",
       "value": 1
      }
     },
     "708aab2dc7524aeeae2795883734a585": {
      "model_module": "@jupyter-widgets/controls",
      "model_module_version": "1.5.0",
      "model_name": "SliderStyleModel",
      "state": {
       "description_width": ""
      }
     },
     "70d53b8584e44606a517ead4cc8951de": {
      "model_module": "@jupyter-widgets/controls",
      "model_module_version": "1.5.0",
      "model_name": "IntSliderModel",
      "state": {
       "description": "N samples",
       "layout": "IPY_MODEL_bdd25f0999c34544b924415a1dde87eb",
       "max": 50,
       "min": 1,
       "style": "IPY_MODEL_d53ff50f53a245808294b08220b95ef3",
       "value": 5
      }
     },
     "70e579cb15254862874335fe2c17d57b": {
      "model_module": "@jupyter-widgets/base",
      "model_module_version": "1.2.0",
      "model_name": "LayoutModel",
      "state": {}
     },
     "7137131d9c3e45b5a6dcad5f785230e2": {
      "model_module": "@jupyter-widgets/controls",
      "model_module_version": "1.5.0",
      "model_name": "SliderStyleModel",
      "state": {
       "description_width": ""
      }
     },
     "713d3a234464484483c845d505433bcc": {
      "model_module": "@jupyter-widgets/controls",
      "model_module_version": "1.5.0",
      "model_name": "SliderStyleModel",
      "state": {
       "description_width": ""
      }
     },
     "722ca534822c4c2f945f73045dfd2860": {
      "model_module": "@jupyter-widgets/base",
      "model_module_version": "1.2.0",
      "model_name": "LayoutModel",
      "state": {}
     },
     "72cbeb08875f4d16a40873d16c67e14d": {
      "model_module": "@jupyter-widgets/base",
      "model_module_version": "1.2.0",
      "model_name": "LayoutModel",
      "state": {}
     },
     "72e6d297522a4cf8aa91f89e15dfdeef": {
      "model_module": "@jupyter-widgets/base",
      "model_module_version": "1.2.0",
      "model_name": "LayoutModel",
      "state": {}
     },
     "72eafe2bbb254a5ab5ef7a45f48e33b2": {
      "model_module": "@jupyter-widgets/base",
      "model_module_version": "1.2.0",
      "model_name": "LayoutModel",
      "state": {}
     },
     "7373fbf75bc04845a9e6a34c3eaae5cf": {
      "model_module": "@jupyter-widgets/base",
      "model_module_version": "1.2.0",
      "model_name": "LayoutModel",
      "state": {}
     },
     "7394b70fc948451fb39a151545240edf": {
      "model_module": "@jupyter-widgets/controls",
      "model_module_version": "1.5.0",
      "model_name": "FloatSliderModel",
      "state": {
       "description": "$\\sigma^2_s$",
       "layout": "IPY_MODEL_b29f5f4f9646481d844d12c73a823fc4",
       "max": 50,
       "min": 0.001,
       "step": 0.25,
       "style": "IPY_MODEL_00899e684e1147fc9df404405b285612",
       "value": 1
      }
     },
     "73f5b72ae7824e75b28c68fd4caeb1df": {
      "model_module": "@jupyter-widgets/controls",
      "model_module_version": "1.5.0",
      "model_name": "FloatSliderModel",
      "state": {
       "description": "$\\phi$",
       "layout": "IPY_MODEL_4c9e1d18211b4483b4b45880534b5bd7",
       "max": 1,
       "min": 0.001,
       "step": 0.05,
       "style": "IPY_MODEL_890af7de8b1b4225880a294a9c37fbbc",
       "value": 0.1
      }
     },
     "7461038cf3e34f5b96965fbe6b69f071": {
      "model_module": "@jupyter-widgets/controls",
      "model_module_version": "1.5.0",
      "model_name": "SliderStyleModel",
      "state": {
       "description_width": ""
      }
     },
     "7480405872464d14b4da7322be7537ad": {
      "model_module": "@jupyter-widgets/base",
      "model_module_version": "1.2.0",
      "model_name": "LayoutModel",
      "state": {}
     },
     "75b90e0709c542acb1c3c686b7aa70bf": {
      "model_module": "@jupyter-widgets/base",
      "model_module_version": "1.2.0",
      "model_name": "LayoutModel",
      "state": {}
     },
     "75d5972403cd4aa2ab8560eb70ebf23b": {
      "model_module": "@jupyter-widgets/base",
      "model_module_version": "1.2.0",
      "model_name": "LayoutModel",
      "state": {}
     },
     "76794efa7e5648a2a4415dc271e14bed": {
      "model_module": "@jupyter-widgets/output",
      "model_module_version": "1.0.0",
      "model_name": "OutputModel",
      "state": {
       "layout": "IPY_MODEL_d206614ab2324c7dadfb9507f2951789"
      }
     },
     "767fc7bd415e4cb88bdb945a42ef339c": {
      "model_module": "@jupyter-widgets/controls",
      "model_module_version": "1.5.0",
      "model_name": "SliderStyleModel",
      "state": {
       "description_width": ""
      }
     },
     "76e6de23b428420c99aeee010f2aed80": {
      "model_module": "@jupyter-widgets/base",
      "model_module_version": "1.2.0",
      "model_name": "LayoutModel",
      "state": {}
     },
     "7719df848dbd40b296ad4cfcd7729809": {
      "model_module": "@jupyter-widgets/controls",
      "model_module_version": "1.5.0",
      "model_name": "SliderStyleModel",
      "state": {
       "description_width": ""
      }
     },
     "77a3311dd6374b67930548d482b33b1d": {
      "model_module": "@jupyter-widgets/controls",
      "model_module_version": "1.5.0",
      "model_name": "FloatSliderModel",
      "state": {
       "description": "$\\lambda$",
       "layout": "IPY_MODEL_ac55b719af4a4e46938c10166d2f14e5",
       "max": 5,
       "min": -5,
       "step": 0.25,
       "style": "IPY_MODEL_220f7608da1043b4910f5d070d64308f"
      }
     },
     "77cefa725f7e434fbacc73b9130e46e1": {
      "model_module": "@jupyter-widgets/base",
      "model_module_version": "1.2.0",
      "model_name": "LayoutModel",
      "state": {}
     },
     "77dc860113384e37af2b6b3b442f7341": {
      "model_module": "@jupyter-widgets/base",
      "model_module_version": "1.2.0",
      "model_name": "LayoutModel",
      "state": {}
     },
     "781c527995684c4c84f9d9da40b20af7": {
      "model_module": "@jupyter-widgets/controls",
      "model_module_version": "1.5.0",
      "model_name": "VBoxModel",
      "state": {
       "children": [
        "IPY_MODEL_d4db673b74cf4ed78aa615d98eb9c854",
        "IPY_MODEL_58cae15b208c470fb63da6dda81b6a57",
        "IPY_MODEL_8fa50e0c800642e6a47091c8f622d9fa",
        "IPY_MODEL_0e7c3f1ac1144cb59f42df88e15fcea7",
        "IPY_MODEL_558fc00ff93b42e488b08f60f4f1b1cb"
       ],
       "layout": "IPY_MODEL_0f43b88c879842a091f3b60104ded199"
      }
     },
     "789b0c5433c042ac8e75d45daae0c52c": {
      "model_module": "@jupyter-widgets/base",
      "model_module_version": "1.2.0",
      "model_name": "LayoutModel",
      "state": {}
     },
     "78a78e4bbd134db6bae9e52d764c35e0": {
      "model_module": "@jupyter-widgets/controls",
      "model_module_version": "1.5.0",
      "model_name": "FloatSliderModel",
      "state": {
       "description": "$\\lambda$",
       "layout": "IPY_MODEL_320c5f44e9bc4f2fab8f13e2c931b14d",
       "max": 5,
       "min": -5,
       "step": 0.25,
       "style": "IPY_MODEL_930b3650602e478f99d11505ee603156"
      }
     },
     "790dd841fa4a4dab8f81aeefb1bb129f": {
      "model_module": "@jupyter-widgets/controls",
      "model_module_version": "1.5.0",
      "model_name": "SliderStyleModel",
      "state": {
       "description_width": ""
      }
     },
     "7910e2d4fcd94ac4821447a342cdc13c": {
      "model_module": "@jupyter-widgets/controls",
      "model_module_version": "1.5.0",
      "model_name": "FloatSliderModel",
      "state": {
       "description": "$\\phi$",
       "layout": "IPY_MODEL_789b0c5433c042ac8e75d45daae0c52c",
       "max": 1,
       "min": 0.001,
       "step": 0.05,
       "style": "IPY_MODEL_55a2f61751bb40fca05e659806f4df4c",
       "value": 0.1
      }
     },
     "796dcefe8d69476c8fd57ee092ba6b3d": {
      "model_module": "@jupyter-widgets/controls",
      "model_module_version": "1.5.0",
      "model_name": "SliderStyleModel",
      "state": {
       "description_width": ""
      }
     },
     "7a24f7b068c5483cbda9bec18bd18c83": {
      "model_module": "@jupyter-widgets/base",
      "model_module_version": "1.2.0",
      "model_name": "LayoutModel",
      "state": {}
     },
     "7a43704699db4524ac88b5489886dad7": {
      "model_module": "@jupyter-widgets/controls",
      "model_module_version": "1.5.0",
      "model_name": "SliderStyleModel",
      "state": {
       "description_width": ""
      }
     },
     "7a7e68055898427d9622ba62e6443dc0": {
      "model_module": "@jupyter-widgets/base",
      "model_module_version": "1.2.0",
      "model_name": "LayoutModel",
      "state": {}
     },
     "7a8af41757bc4c909689e6ca1df19045": {
      "model_module": "@jupyter-widgets/controls",
      "model_module_version": "1.5.0",
      "model_name": "SliderStyleModel",
      "state": {
       "description_width": ""
      }
     },
     "7a8fbcd45f2149dea8f6c6717d7a6baa": {
      "model_module": "@jupyter-widgets/base",
      "model_module_version": "1.2.0",
      "model_name": "LayoutModel",
      "state": {}
     },
     "7ace1b216cfa424fa1e19b7ed3e6db70": {
      "model_module": "@jupyter-widgets/controls",
      "model_module_version": "1.5.0",
      "model_name": "FloatSliderModel",
      "state": {
       "description": "$\\gamma = \\log \\frac{r_1}{r_2}$",
       "layout": "IPY_MODEL_285e7cbbb0d9445db4fb627ee6c6c022",
       "max": 5,
       "min": -5,
       "step": 0.25,
       "style": "IPY_MODEL_aa7804d285594ee4b0fb44fbaa1324bd",
       "value": 1.5
      }
     },
     "7b50f8bb2f584c208c75f991d1a7075e": {
      "model_module": "@jupyter-widgets/base",
      "model_module_version": "1.2.0",
      "model_name": "LayoutModel",
      "state": {}
     },
     "7ba70bd4311849cd9d3b22bd85002d0a": {
      "model_module": "@jupyter-widgets/controls",
      "model_module_version": "1.5.0",
      "model_name": "SliderStyleModel",
      "state": {
       "description_width": ""
      }
     },
     "7bc198551f124abea1c701b8e3218045": {
      "model_module": "@jupyter-widgets/base",
      "model_module_version": "1.2.0",
      "model_name": "LayoutModel",
      "state": {}
     },
     "7be8bcef57be47e0ad589e0711086461": {
      "model_module": "@jupyter-widgets/controls",
      "model_module_version": "1.5.0",
      "model_name": "SliderStyleModel",
      "state": {
       "description_width": ""
      }
     },
     "7c7fba4f35b541eda447862b78a411cb": {
      "model_module": "@jupyter-widgets/base",
      "model_module_version": "1.2.0",
      "model_name": "LayoutModel",
      "state": {}
     },
     "7d516eed35a440ba82633a5da854b1b3": {
      "model_module": "@jupyter-widgets/controls",
      "model_module_version": "1.5.0",
      "model_name": "SliderStyleModel",
      "state": {
       "description_width": ""
      }
     },
     "7d5810243fe341f0bdf24b8f2b19df3d": {
      "model_module": "@jupyter-widgets/output",
      "model_module_version": "1.0.0",
      "model_name": "OutputModel",
      "state": {
       "layout": "IPY_MODEL_2ee786d3335a49ceb3b8c095f2251874",
       "outputs": [
        {
         "name": "stdout",
         "output_type": "stream",
         "text": "\nAdaptation parameters\n\n"
        }
       ]
      }
     },
     "7dddee440bbe4790bc95560d687e7167": {
      "model_module": "@jupyter-widgets/controls",
      "model_module_version": "1.5.0",
      "model_name": "VBoxModel",
      "state": {
       "children": [
        "IPY_MODEL_4aa37543eb7948ce8d57698b2c3894b5",
        "IPY_MODEL_60cfc733f93b4ec5844219df05da889f",
        "IPY_MODEL_47e34a2c5a074d0bb55cdb61e0370f99"
       ],
       "layout": "IPY_MODEL_75d5972403cd4aa2ab8560eb70ebf23b"
      }
     },
     "7e2456957dec47f4804aeec720926dcd": {
      "model_module": "@jupyter-widgets/controls",
      "model_module_version": "1.5.0",
      "model_name": "FloatSliderModel",
      "state": {
       "description": "T (s)",
       "layout": "IPY_MODEL_94b68ecab90644bbb9fa0f24e55c590c",
       "max": 5,
       "min": 0.25,
       "step": 0.25,
       "style": "IPY_MODEL_7d516eed35a440ba82633a5da854b1b3",
       "value": 1
      }
     },
     "7e2804095f5a49cfbdd6eece4b25a4b6": {
      "model_module": "@jupyter-widgets/controls",
      "model_module_version": "1.5.0",
      "model_name": "SliderStyleModel",
      "state": {
       "description_width": ""
      }
     },
     "7ec719693f5549b39c8baa4d3a8d9980": {
      "model_module": "@jupyter-widgets/controls",
      "model_module_version": "1.5.0",
      "model_name": "SliderStyleModel",
      "state": {
       "description_width": ""
      }
     },
     "7f247dd2ad104d7c85b1cda562dc7171": {
      "model_module": "@jupyter-widgets/controls",
      "model_module_version": "1.5.0",
      "model_name": "FloatSliderModel",
      "state": {
       "description": "$\\phi$",
       "layout": "IPY_MODEL_7373fbf75bc04845a9e6a34c3eaae5cf",
       "max": 1,
       "min": 0.001,
       "step": 0.05,
       "style": "IPY_MODEL_daa74b0ccf0b4d3798b76da6c3b0d873",
       "value": 0.1
      }
     },
     "7f2ffa22e3504ce68fa74374b435b528": {
      "model_module": "@jupyter-widgets/controls",
      "model_module_version": "1.5.0",
      "model_name": "IntSliderModel",
      "state": {
       "description": "N samples",
       "layout": "IPY_MODEL_447ff07ee1d64852aa71202534c1b6c3",
       "max": 50,
       "min": 1,
       "style": "IPY_MODEL_5245d35c337544aaa253f18ad24995ee",
       "value": 10
      }
     },
     "7f8d5405697c419e961ce9bcb0280fd2": {
      "model_module": "@jupyter-widgets/controls",
      "model_module_version": "1.5.0",
      "model_name": "HBoxModel",
      "state": {
       "children": [
        "IPY_MODEL_25a2b5478a9b4af0bde5333204674c3e",
        "IPY_MODEL_bf0babe606d94e6c9048e0a57f7a4bc1"
       ],
       "layout": "IPY_MODEL_76e6de23b428420c99aeee010f2aed80"
      }
     },
     "7faa341f81d5456fbf568b7a39d120fa": {
      "model_module": "@jupyter-widgets/controls",
      "model_module_version": "1.5.0",
      "model_name": "VBoxModel",
      "state": {
       "children": [
        "IPY_MODEL_16e5c91c9b094f16acf67369eaef5b42",
        "IPY_MODEL_12fe9f30b31344069f0b1c1c4558b1ba",
        "IPY_MODEL_a0fc569264484d3f9c8e7ba103407e75",
        "IPY_MODEL_d06215fb1c244c6aaecfcf06bb91ab23",
        "IPY_MODEL_2e781da21e884d8d9bb4fb77b2a9eb49"
       ],
       "layout": "IPY_MODEL_a9c19faff525493f901151863f5b5e34"
      }
     },
     "80662381411a4681b244aecf0c03da99": {
      "model_module": "@jupyter-widgets/output",
      "model_module_version": "1.0.0",
      "model_name": "OutputModel",
      "state": {
       "layout": "IPY_MODEL_17c76fe215c04dc5aca80a74b0dd3bc4",
       "outputs": [
        {
         "name": "stdout",
         "output_type": "stream",
         "text": "\nIntegration parameters \n\n"
        }
       ]
      }
     },
     "80674834107b4add9b5e373b2818cd3c": {
      "model_module": "@jupyter-widgets/controls",
      "model_module_version": "1.5.0",
      "model_name": "VBoxModel",
      "state": {
       "children": [
        "IPY_MODEL_7d5810243fe341f0bdf24b8f2b19df3d",
        "IPY_MODEL_e2bab0f2b1f6436d88767df32b5d1085",
        "IPY_MODEL_42cbd91b8fc64b6cb0e297aea9902625"
       ],
       "layout": "IPY_MODEL_23a1d1fbcc3d41e386f584222dd07d41"
      }
     },
     "80763d36eedb4c96a568a087fb474a50": {
      "model_module": "@jupyter-widgets/controls",
      "model_module_version": "1.5.0",
      "model_name": "VBoxModel",
      "state": {
       "children": [
        "IPY_MODEL_05e18a53eba54a8e984f538d0e13fe37",
        "IPY_MODEL_3d49a3b5cd654af08e79b1b0fa765b13",
        "IPY_MODEL_82709a23e82043089be74b8bdabeec5d"
       ],
       "layout": "IPY_MODEL_626ca2864898431f9e0f5e1febb73a38"
      }
     },
     "808907926d1d4194a0f3159e98c31baf": {
      "model_module": "@jupyter-widgets/controls",
      "model_module_version": "1.5.0",
      "model_name": "FloatSliderModel",
      "state": {
       "description": "$\\sigma^2_i$",
       "layout": "IPY_MODEL_04ce6bf2dda846c69395f9230215ebc6",
       "max": 5,
       "min": 0.001,
       "step": 0.25,
       "style": "IPY_MODEL_adf55c8c560449b0ae001341ba6afffe",
       "value": 0.5
      }
     },
     "811e52b88f1c46108777034cc9bde026": {
      "model_module": "@jupyter-widgets/controls",
      "model_module_version": "1.5.0",
      "model_name": "FloatSliderModel",
      "state": {
       "description": "Bias",
       "layout": "IPY_MODEL_ff2eb5498c0d40a088d0ecb8a4107ea9",
       "max": 5,
       "min": -5,
       "step": 0.05,
       "style": "IPY_MODEL_36f7066b73684609b9c3b76b65340a62"
      }
     },
     "81af9e1c443f49a9a2ca4589a38d0920": {
      "model_module": "@jupyter-widgets/base",
      "model_module_version": "1.2.0",
      "model_name": "LayoutModel",
      "state": {}
     },
     "81cd4eceb2f2445797c83853e609217c": {
      "model_module": "@jupyter-widgets/base",
      "model_module_version": "1.2.0",
      "model_name": "LayoutModel",
      "state": {}
     },
     "8204c9dd77364d63b4cab6897b354f9e": {
      "model_module": "@jupyter-widgets/controls",
      "model_module_version": "1.5.0",
      "model_name": "FloatSliderModel",
      "state": {
       "description": "$B$",
       "layout": "IPY_MODEL_313f969cbc4e4e78b5dd6de628f6029f",
       "max": 25,
       "style": "IPY_MODEL_acc1366bc34948798cd89172e82c2091",
       "value": 10
      }
     },
     "823184dd79054f92afdc784f0621ead4": {
      "model_module": "@jupyter-widgets/base",
      "model_module_version": "1.2.0",
      "model_name": "LayoutModel",
      "state": {}
     },
     "82709a23e82043089be74b8bdabeec5d": {
      "model_module": "@jupyter-widgets/controls",
      "model_module_version": "1.5.0",
      "model_name": "FloatSliderModel",
      "state": {
       "description": "$\\tau_{\\phi}$",
       "layout": "IPY_MODEL_5eec42a478e4414a98bfcef12c09d741",
       "max": 1,
       "min": 0.001,
       "step": 0.05,
       "style": "IPY_MODEL_f4b4e1cd29304e83a1515cebd23448ba",
       "value": 0.15
      }
     },
     "82bb0c128e074645bf9d9a266bf65384": {
      "model_module": "@jupyter-widgets/base",
      "model_module_version": "1.2.0",
      "model_name": "LayoutModel",
      "state": {}
     },
     "831087fedeba4722b4fc25bea76af784": {
      "model_module": "@jupyter-widgets/base",
      "model_module_version": "1.2.0",
      "model_name": "LayoutModel",
      "state": {}
     },
     "835788dd9d0a44a5a096bcb37a0c43bb": {
      "model_module": "@jupyter-widgets/controls",
      "model_module_version": "1.5.0",
      "model_name": "VBoxModel",
      "state": {
       "children": [
        "IPY_MODEL_26143d5356db48bd9563a8870349fa67",
        "IPY_MODEL_458a0c873fdd468baece59cf09bcb858",
        "IPY_MODEL_7394b70fc948451fb39a151545240edf",
        "IPY_MODEL_e63d601087844872be20fe12f2276053",
        "IPY_MODEL_46d79d7f5a4f4f9e8b4f4ef4074aa2bd",
        "IPY_MODEL_c16d9bec02f2485396294376e11a06b5",
        "IPY_MODEL_42be63ccb1444805bd65514f1270c3d4"
       ],
       "layout": "IPY_MODEL_344eec0c0501452d83ec313e926b402a"
      }
     },
     "83cc60cd312646c698018d5b9ea93649": {
      "model_module": "@jupyter-widgets/base",
      "model_module_version": "1.2.0",
      "model_name": "LayoutModel",
      "state": {}
     },
     "83d7b5dd2b064241bc3a5a7337f17179": {
      "model_module": "@jupyter-widgets/controls",
      "model_module_version": "1.5.0",
      "model_name": "VBoxModel",
      "state": {
       "children": [
        "IPY_MODEL_98243e16ffac40e28ca57f0de37a50bb",
        "IPY_MODEL_61451cac03204aee92ac171e6d5f0d67",
        "IPY_MODEL_578430f4292f41519194df0d7ea69d48",
        "IPY_MODEL_3bc425f3ed53435ba38f46c9b556727b",
        "IPY_MODEL_640a24b4efa84410912227a1cba05ac6",
        "IPY_MODEL_12dc051fdc874d97a43560760dac266a",
        "IPY_MODEL_cc8edf4cc48947b5b6373e78ad1c4b8a"
       ],
       "layout": "IPY_MODEL_66ea354f413540c0a9021bbde0ad22f0"
      }
     },
     "840d9320006b4e65979160b4342cbf11": {
      "model_module": "@jupyter-widgets/base",
      "model_module_version": "1.2.0",
      "model_name": "LayoutModel",
      "state": {}
     },
     "84103336da44449387ac766d7cc67987": {
      "model_module": "@jupyter-widgets/controls",
      "model_module_version": "1.5.0",
      "model_name": "SliderStyleModel",
      "state": {
       "description_width": ""
      }
     },
     "8457f28fe5c84f2a89eb37830eec3dbb": {
      "model_module": "@jupyter-widgets/base",
      "model_module_version": "1.2.0",
      "model_name": "LayoutModel",
      "state": {}
     },
     "84c23e02dc2a442197cc64d79a4940eb": {
      "model_module": "@jupyter-widgets/controls",
      "model_module_version": "1.5.0",
      "model_name": "SliderStyleModel",
      "state": {
       "description_width": ""
      }
     },
     "854b708b1a6047728e43f7170f76d9a3": {
      "model_module": "@jupyter-widgets/base",
      "model_module_version": "1.2.0",
      "model_name": "LayoutModel",
      "state": {}
     },
     "85543d58418c406c97ed7479026c9224": {
      "model_module": "@jupyter-widgets/base",
      "model_module_version": "1.2.0",
      "model_name": "LayoutModel",
      "state": {}
     },
     "85ecca8f1c5a4569ac08cd7fc2f47dbd": {
      "model_module": "@jupyter-widgets/base",
      "model_module_version": "1.2.0",
      "model_name": "LayoutModel",
      "state": {}
     },
     "865f650ce24947a7a86043c13f6251e1": {
      "model_module": "@jupyter-widgets/base",
      "model_module_version": "1.2.0",
      "model_name": "LayoutModel",
      "state": {}
     },
     "866c806f6f4c462f8daef844f2cf539c": {
      "model_module": "@jupyter-widgets/base",
      "model_module_version": "1.2.0",
      "model_name": "LayoutModel",
      "state": {}
     },
     "866cdf482349419ca41e55239afe0aef": {
      "model_module": "@jupyter-widgets/controls",
      "model_module_version": "1.5.0",
      "model_name": "FloatSliderModel",
      "state": {
       "description": "$\\lambda$",
       "layout": "IPY_MODEL_865f650ce24947a7a86043c13f6251e1",
       "max": 5,
       "min": -5,
       "step": 0.25,
       "style": "IPY_MODEL_adf5a78b011248ad96f768fca49c9ab6"
      }
     },
     "86d601c6efb54914a268ba93a82e6e06": {
      "model_module": "@jupyter-widgets/controls",
      "model_module_version": "1.5.0",
      "model_name": "FloatSliderModel",
      "state": {
       "description": "$\\sigma^2_i$",
       "layout": "IPY_MODEL_0a232a4acfa347c0a447b6130068c2d8",
       "max": 5,
       "min": 0.001,
       "step": 0.25,
       "style": "IPY_MODEL_9149c2b769be47e588bc4ef34ef55f35",
       "value": 0.5
      }
     },
     "86ef28ec21f848bc9e12d44da6a61900": {
      "model_module": "@jupyter-widgets/controls",
      "model_module_version": "1.5.0",
      "model_name": "SliderStyleModel",
      "state": {
       "description_width": ""
      }
     },
     "873aa5d406444b7b8ff63800a703aa13": {
      "model_module": "@jupyter-widgets/controls",
      "model_module_version": "1.5.0",
      "model_name": "IntSliderModel",
      "state": {
       "description": "Seed",
       "layout": "IPY_MODEL_0f1ea066ea264cfdac70f5b08787e5f9",
       "max": 10,
       "style": "IPY_MODEL_c2013a30af24443389a2733f6ba51afd",
       "value": 1
      }
     },
     "879d9511770d4601aebf5c245125d13a": {
      "model_module": "@jupyter-widgets/controls",
      "model_module_version": "1.5.0",
      "model_name": "IntSliderModel",
      "state": {
       "description": "Seed",
       "layout": "IPY_MODEL_da6a63b98ecf451c93464c2b3d910ecc",
       "max": 10,
       "style": "IPY_MODEL_7a8af41757bc4c909689e6ca1df19045",
       "value": 1
      }
     },
     "87f419223dfb4b9cab3729918f8720eb": {
      "model_module": "@jupyter-widgets/controls",
      "model_module_version": "1.5.0",
      "model_name": "SliderStyleModel",
      "state": {
       "description_width": ""
      }
     },
     "88711bd5afea48a5a8bb63221904663b": {
      "model_module": "@jupyter-widgets/base",
      "model_module_version": "1.2.0",
      "model_name": "LayoutModel",
      "state": {}
     },
     "889dd7639d8a48f5bb89bb355e58fade": {
      "model_module": "@jupyter-widgets/controls",
      "model_module_version": "1.5.0",
      "model_name": "SliderStyleModel",
      "state": {
       "description_width": ""
      }
     },
     "890af7de8b1b4225880a294a9c37fbbc": {
      "model_module": "@jupyter-widgets/controls",
      "model_module_version": "1.5.0",
      "model_name": "SliderStyleModel",
      "state": {
       "description_width": ""
      }
     },
     "899611a1b6bb45a49e38deadc39f582a": {
      "model_module": "@jupyter-widgets/controls",
      "model_module_version": "1.5.0",
      "model_name": "SliderStyleModel",
      "state": {
       "description_width": ""
      }
     },
     "89ff3e224de94fc5b6085b52abb64c6c": {
      "model_module": "@jupyter-widgets/output",
      "model_module_version": "1.0.0",
      "model_name": "OutputModel",
      "state": {
       "layout": "IPY_MODEL_01968d8b5ae8461b84fd7d0ee96f66ee",
       "outputs": [
        {
         "name": "stdout",
         "output_type": "stream",
         "text": "Click train parameters\n\n"
        }
       ]
      }
     },
     "8a4685d2605c4021b3fa888221a24a6e": {
      "model_module": "@jupyter-widgets/base",
      "model_module_version": "1.2.0",
      "model_name": "LayoutModel",
      "state": {}
     },
     "8aab10e572214baa81530b6bd7b5eceb": {
      "model_module": "@jupyter-widgets/controls",
      "model_module_version": "1.5.0",
      "model_name": "VBoxModel",
      "state": {
       "children": [
        "IPY_MODEL_ef7761fc2e8c4849aede7acc9b841fa3",
        "IPY_MODEL_7f247dd2ad104d7c85b1cda562dc7171",
        "IPY_MODEL_cd063588c0e14143979b8edf0053fafe"
       ],
       "layout": "IPY_MODEL_24bf486ab5054fcb9aca6dca45d80550"
      }
     },
     "8ab9a377358e4898aad1204cb18f3a0b": {
      "model_module": "@jupyter-widgets/base",
      "model_module_version": "1.2.0",
      "model_name": "LayoutModel",
      "state": {}
     },
     "8ad8eac7273f457eaa93ac6e7cadb4c3": {
      "model_module": "@jupyter-widgets/controls",
      "model_module_version": "1.5.0",
      "model_name": "SliderStyleModel",
      "state": {
       "description_width": ""
      }
     },
     "8af82b410354439f943be1b0d6e2dbdd": {
      "model_module": "@jupyter-widgets/controls",
      "model_module_version": "1.5.0",
      "model_name": "SliderStyleModel",
      "state": {
       "description_width": ""
      }
     },
     "8b02f75cfe8f46ee9225d5877879eb0f": {
      "model_module": "@jupyter-widgets/controls",
      "model_module_version": "1.5.0",
      "model_name": "SliderStyleModel",
      "state": {
       "description_width": ""
      }
     },
     "8bb667e7f4fc477aaaf6769d40d0e159": {
      "model_module": "@jupyter-widgets/base",
      "model_module_version": "1.2.0",
      "model_name": "LayoutModel",
      "state": {}
     },
     "8be6ed8a5cdc47a896e0dc1d0a10ea5a": {
      "model_module": "@jupyter-widgets/base",
      "model_module_version": "1.2.0",
      "model_name": "LayoutModel",
      "state": {}
     },
     "8cb45adf9bb740b49d3880487b8cc13b": {
      "model_module": "@jupyter-widgets/controls",
      "model_module_version": "1.5.0",
      "model_name": "SliderStyleModel",
      "state": {
       "description_width": ""
      }
     },
     "8cba3ef367ba421fb54ddbb7c8d842c0": {
      "model_module": "@jupyter-widgets/controls",
      "model_module_version": "1.5.0",
      "model_name": "SliderStyleModel",
      "state": {
       "description_width": ""
      }
     },
     "8d6b70fa8fc14ce5af7ff988502c0abc": {
      "model_module": "@jupyter-widgets/controls",
      "model_module_version": "1.5.0",
      "model_name": "FloatSliderModel",
      "state": {
       "description": "$\\lambda$",
       "layout": "IPY_MODEL_81af9e1c443f49a9a2ca4589a38d0920",
       "max": 5,
       "min": -5,
       "step": 0.25,
       "style": "IPY_MODEL_9ee8bd5725ab4d17a81a7ef65ee6bbbb"
      }
     },
     "8d8bf67cfab14e47a98224030952a189": {
      "model_module": "@jupyter-widgets/controls",
      "model_module_version": "1.5.0",
      "model_name": "SliderStyleModel",
      "state": {
       "description_width": ""
      }
     },
     "8fa37fd9e4dc4c20b58d252c88edc393": {
      "model_module": "@jupyter-widgets/base",
      "model_module_version": "1.2.0",
      "model_name": "LayoutModel",
      "state": {}
     },
     "8fa50e0c800642e6a47091c8f622d9fa": {
      "model_module": "@jupyter-widgets/controls",
      "model_module_version": "1.5.0",
      "model_name": "IntSliderModel",
      "state": {
       "description": "$r_L+r_R$ (Hz)",
       "layout": "IPY_MODEL_bef556ce12df449bbbdb3694b563577f",
       "max": 50,
       "min": 5,
       "step": 5,
       "style": "IPY_MODEL_5a92e6a0778144dcb8f80ef2846fb337",
       "value": 40
      }
     },
     "8fd9d0ab0b09486ca53aa4c0e73ebf44": {
      "model_module": "@jupyter-widgets/controls",
      "model_module_version": "1.5.0",
      "model_name": "SliderStyleModel",
      "state": {
       "description_width": ""
      }
     },
     "9012d9641dc94c319cb1dca516d4387d": {
      "model_module": "@jupyter-widgets/controls",
      "model_module_version": "1.5.0",
      "model_name": "SliderStyleModel",
      "state": {
       "description_width": ""
      }
     },
     "9027e840e8f74dcbb2aba2ad28a41d7e": {
      "model_module": "@jupyter-widgets/controls",
      "model_module_version": "1.5.0",
      "model_name": "SliderStyleModel",
      "state": {
       "description_width": ""
      }
     },
     "904bb55a726d45969855dbdd129eac1c": {
      "model_module": "@jupyter-widgets/controls",
      "model_module_version": "1.5.0",
      "model_name": "SliderStyleModel",
      "state": {
       "description_width": ""
      }
     },
     "9068683985fe4e7bb2ce7d7449f3db15": {
      "model_module": "@jupyter-widgets/controls",
      "model_module_version": "1.5.0",
      "model_name": "SliderStyleModel",
      "state": {
       "description_width": ""
      }
     },
     "90c152d158f740109e5af9024b750ef3": {
      "model_module": "@jupyter-widgets/controls",
      "model_module_version": "1.5.0",
      "model_name": "VBoxModel",
      "state": {
       "children": [
        "IPY_MODEL_b0132306d3e5492aa54d731f7b5681c7",
        "IPY_MODEL_552c73a2629f42d2a8567636b803b6c6",
        "IPY_MODEL_b78ac510f7544d3181b9676fa99fada5",
        "IPY_MODEL_2ecaf15ebc2842398ece8c8bbf2f0d72",
        "IPY_MODEL_e34ca5cec013414897cff5d622f16aa7",
        "IPY_MODEL_bd8632bdd0db4f1783cc41ae83e7f709",
        "IPY_MODEL_62504b904ce14026b5e1510da2b9e6c0"
       ],
       "layout": "IPY_MODEL_c083ccf56b194b129ab78291624a75f2"
      }
     },
     "9149c2b769be47e588bc4ef34ef55f35": {
      "model_module": "@jupyter-widgets/controls",
      "model_module_version": "1.5.0",
      "model_name": "SliderStyleModel",
      "state": {
       "description_width": ""
      }
     },
     "91df29b5d9ea4e1eb89ca601c2ca2546": {
      "model_module": "@jupyter-widgets/controls",
      "model_module_version": "1.5.0",
      "model_name": "SliderStyleModel",
      "state": {
       "description_width": ""
      }
     },
     "91e6db7d48864c18b65ca1511ab28fa7": {
      "model_module": "@jupyter-widgets/controls",
      "model_module_version": "1.5.0",
      "model_name": "SliderStyleModel",
      "state": {
       "description_width": ""
      }
     },
     "91e9b0db06984cabb661b98ee8ce0473": {
      "model_module": "@jupyter-widgets/controls",
      "model_module_version": "1.5.0",
      "model_name": "SliderStyleModel",
      "state": {
       "description_width": ""
      }
     },
     "930b3650602e478f99d11505ee603156": {
      "model_module": "@jupyter-widgets/controls",
      "model_module_version": "1.5.0",
      "model_name": "SliderStyleModel",
      "state": {
       "description_width": ""
      }
     },
     "93ce9fe9c433467e90dcb97f00a729ac": {
      "model_module": "@jupyter-widgets/controls",
      "model_module_version": "1.5.0",
      "model_name": "FloatSliderModel",
      "state": {
       "description": "$\\sigma^2_s$",
       "layout": "IPY_MODEL_c756d9d3b62249b19ecfb530e3c32c3d",
       "max": 50,
       "min": 0.001,
       "step": 0.25,
       "style": "IPY_MODEL_3cef18438fb84343924d07665ad04939",
       "value": 1
      }
     },
     "942b36f9dbfa403eac2070fd6c44f03c": {
      "model_module": "@jupyter-widgets/controls",
      "model_module_version": "1.5.0",
      "model_name": "FloatSliderModel",
      "state": {
       "description": "$B$",
       "layout": "IPY_MODEL_3f20423c3bdd40dc9f0bab6162cdda75",
       "max": 25,
       "style": "IPY_MODEL_de8b5213c5184fb197848325d4fc634b",
       "value": 10
      }
     },
     "9463aab43d9e477a900880cc5e88df7e": {
      "model_module": "@jupyter-widgets/controls",
      "model_module_version": "1.5.0",
      "model_name": "SliderStyleModel",
      "state": {
       "description_width": ""
      }
     },
     "94b68ecab90644bbb9fa0f24e55c590c": {
      "model_module": "@jupyter-widgets/base",
      "model_module_version": "1.2.0",
      "model_name": "LayoutModel",
      "state": {}
     },
     "94b742c2a302456baf16c14e7126ccff": {
      "model_module": "@jupyter-widgets/output",
      "model_module_version": "1.0.0",
      "model_name": "OutputModel",
      "state": {
       "layout": "IPY_MODEL_2aebcd079aec47e29b4808440af5e5b4",
       "outputs": [
        {
         "name": "stdout",
         "output_type": "stream",
         "text": "\nChoice parameters\n\n"
        }
       ]
      }
     },
     "956c2df5d4ab479496335b3344b12725": {
      "model_module": "@jupyter-widgets/controls",
      "model_module_version": "1.5.0",
      "model_name": "VBoxModel",
      "state": {
       "children": [
        "IPY_MODEL_dff8c302fdf3428eb0af931cb0da6e2b",
        "IPY_MODEL_2a9bb0b402a74434b9284b7a76145525",
        "IPY_MODEL_4779ce4941db4608b590748f2028a328",
        "IPY_MODEL_58cb85287a0c43219a90185a66e5ccc5",
        "IPY_MODEL_e66e53d4395148c793369c5e6a887cbd"
       ],
       "layout": "IPY_MODEL_10a9ef9e51f64e198b8a49be5e2d6153"
      }
     },
     "95bbbda9977f46d597fe3a31d6622a4e": {
      "model_module": "@jupyter-widgets/base",
      "model_module_version": "1.2.0",
      "model_name": "LayoutModel",
      "state": {}
     },
     "95e89b1e4a6b4dcc96e4a8371ddbdbfb": {
      "model_module": "@jupyter-widgets/base",
      "model_module_version": "1.2.0",
      "model_name": "LayoutModel",
      "state": {}
     },
     "95f14f5510384cd2ae3f9c10e5eb5431": {
      "model_module": "@jupyter-widgets/controls",
      "model_module_version": "1.5.0",
      "model_name": "IntSliderModel",
      "state": {
       "description": "N samples",
       "layout": "IPY_MODEL_8a4685d2605c4021b3fa888221a24a6e",
       "max": 50,
       "min": 1,
       "style": "IPY_MODEL_d84b16758e3b4bf4a09776ca55660f0f",
       "value": 10
      }
     },
     "96876f8771404bde956040c148279d4e": {
      "model_module": "@jupyter-widgets/controls",
      "model_module_version": "1.5.0",
      "model_name": "SliderStyleModel",
      "state": {
       "description_width": ""
      }
     },
     "96a15deebbb24b2aaaae8faf00af1cac": {
      "model_module": "@jupyter-widgets/base",
      "model_module_version": "1.2.0",
      "model_name": "LayoutModel",
      "state": {}
     },
     "9753c25f2fb84129a8bdd47c0c094ba8": {
      "model_module": "@jupyter-widgets/controls",
      "model_module_version": "1.5.0",
      "model_name": "FloatSliderModel",
      "state": {
       "description": "$\\phi$",
       "layout": "IPY_MODEL_95e89b1e4a6b4dcc96e4a8371ddbdbfb",
       "max": 1,
       "min": 0.001,
       "step": 0.05,
       "style": "IPY_MODEL_889dd7639d8a48f5bb89bb355e58fade",
       "value": 0.1
      }
     },
     "979040ada26c4c26b40bc98021ba620d": {
      "model_module": "@jupyter-widgets/controls",
      "model_module_version": "1.5.0",
      "model_name": "FloatSliderModel",
      "state": {
       "description": "T (s)",
       "layout": "IPY_MODEL_72cbeb08875f4d16a40873d16c67e14d",
       "max": 5,
       "min": 0.25,
       "step": 0.25,
       "style": "IPY_MODEL_e02c223a13d94d54b026340279c0aeeb",
       "value": 1
      }
     },
     "9800a1ba979f4c458db37fccb73a0d82": {
      "model_module": "@jupyter-widgets/base",
      "model_module_version": "1.2.0",
      "model_name": "LayoutModel",
      "state": {}
     },
     "98243e16ffac40e28ca57f0de37a50bb": {
      "model_module": "@jupyter-widgets/output",
      "model_module_version": "1.0.0",
      "model_name": "OutputModel",
      "state": {
       "layout": "IPY_MODEL_4ace407021754aa5a8f89ec1fd283a3b",
       "outputs": [
        {
         "name": "stdout",
         "output_type": "stream",
         "text": "\n\nIntegration parameters \n\n"
        }
       ]
      }
     },
     "98b9133bd15048a887befa02e075ee64": {
      "model_module": "@jupyter-widgets/base",
      "model_module_version": "1.2.0",
      "model_name": "LayoutModel",
      "state": {}
     },
     "98c1cf3976a844629d2b82f246ef166f": {
      "model_module": "@jupyter-widgets/controls",
      "model_module_version": "1.5.0",
      "model_name": "FloatSliderModel",
      "state": {
       "description": "Bias",
       "layout": "IPY_MODEL_5d3278d84a6a439092d473fb224b88e6",
       "max": 5,
       "min": -5,
       "step": 0.05,
       "style": "IPY_MODEL_6c910895c7ba402ab70655b8b91de12e"
      }
     },
     "991bf8bd9cab457cb9972a6ae9b19a1b": {
      "model_module": "@jupyter-widgets/controls",
      "model_module_version": "1.5.0",
      "model_name": "FloatSliderModel",
      "state": {
       "description": "Lapse",
       "layout": "IPY_MODEL_0e839cce18b44120800dca335ceffc41",
       "max": 1,
       "step": 0.01,
       "style": "IPY_MODEL_a1db49f8303c4892b856641f33771e7c",
       "value": 0.05
      }
     },
     "99d3fa728fdf4cfebdd6775db4b57e3c": {
      "model_module": "@jupyter-widgets/base",
      "model_module_version": "1.2.0",
      "model_name": "LayoutModel",
      "state": {}
     },
     "9a56ced5c3584af09f953a3d8f9a7d2a": {
      "model_module": "@jupyter-widgets/output",
      "model_module_version": "1.0.0",
      "model_name": "OutputModel",
      "state": {
       "layout": "IPY_MODEL_ec140a7d5249449f8c86e8dd675adf94",
       "outputs": [
        {
         "name": "stdout",
         "output_type": "stream",
         "text": "\n\nIntegration parameters \n\n"
        }
       ]
      }
     },
     "9aa9d87746b94910a46e9f16a24d3c2a": {
      "model_module": "@jupyter-widgets/output",
      "model_module_version": "1.0.0",
      "model_name": "OutputModel",
      "state": {
       "layout": "IPY_MODEL_3af78134ff5248579710a437aaf2b995",
       "outputs": [
        {
         "name": "stdout",
         "output_type": "stream",
         "text": "\n\nAdaptation parameters\n\n"
        }
       ]
      }
     },
     "9aef56cbee7f49d4ba8d2c705cd85d00": {
      "model_module": "@jupyter-widgets/controls",
      "model_module_version": "1.5.0",
      "model_name": "SliderStyleModel",
      "state": {
       "description_width": ""
      }
     },
     "9b0a0249f48a48a3b00969c0c23cda36": {
      "model_module": "@jupyter-widgets/controls",
      "model_module_version": "1.5.0",
      "model_name": "SliderStyleModel",
      "state": {
       "description_width": ""
      }
     },
     "9b383e51922244ef828339d2618eaddb": {
      "model_module": "@jupyter-widgets/output",
      "model_module_version": "1.0.0",
      "model_name": "OutputModel",
      "state": {
       "layout": "IPY_MODEL_0c779ca6fa3046ca9172c0f39ef9b4e6",
       "outputs": [
        {
         "name": "stdout",
         "output_type": "stream",
         "text": "Click train parameters\n\n"
        }
       ]
      }
     },
     "9b38c675471247e688f27e94ebea47c9": {
      "model_module": "@jupyter-widgets/controls",
      "model_module_version": "1.5.0",
      "model_name": "VBoxModel",
      "state": {
       "children": [
        "IPY_MODEL_9b7e8afb3cf74a268c5f235e6d90e34c",
        "IPY_MODEL_811e52b88f1c46108777034cc9bde026",
        "IPY_MODEL_f9999c937cf74de5b40660215a84a462"
       ],
       "layout": "IPY_MODEL_6452192be65d428f982f4a89b194a783"
      }
     },
     "9b4762b5426f4b66b2e8106a95b7a492": {
      "model_module": "@jupyter-widgets/controls",
      "model_module_version": "1.5.0",
      "model_name": "SliderStyleModel",
      "state": {
       "description_width": ""
      }
     },
     "9b7e8afb3cf74a268c5f235e6d90e34c": {
      "model_module": "@jupyter-widgets/output",
      "model_module_version": "1.0.0",
      "model_name": "OutputModel",
      "state": {
       "layout": "IPY_MODEL_edf954c320f74e47b871108dee35546f",
       "outputs": [
        {
         "name": "stdout",
         "output_type": "stream",
         "text": "\nChoice parameters\n\n"
        }
       ]
      }
     },
     "9ca23e539f2843139e150e468cfbae5b": {
      "model_module": "@jupyter-widgets/base",
      "model_module_version": "1.2.0",
      "model_name": "LayoutModel",
      "state": {}
     },
     "9ccb79849e754644baf363936dfb54c1": {
      "model_module": "@jupyter-widgets/controls",
      "model_module_version": "1.5.0",
      "model_name": "SliderStyleModel",
      "state": {
       "description_width": ""
      }
     },
     "9d1f4f8659004f688b84867e1bc6de42": {
      "model_module": "@jupyter-widgets/output",
      "model_module_version": "1.0.0",
      "model_name": "OutputModel",
      "state": {
       "layout": "IPY_MODEL_a3e6b0ab016e42e6a0e03a402b51b9be",
       "outputs": [
        {
         "data": {
          "image/png": "iVBORw0KGgoAAAANSUhEUgAAAjwAAAKrCAYAAAD1bFdhAAAAOXRFWHRTb2Z0d2FyZQBNYXRwbG90bGliIHZlcnNpb24zLjYuMiwgaHR0cHM6Ly9tYXRwbG90bGliLm9yZy8o6BhiAAAACXBIWXMAAA9hAAAPYQGoP6dpAAEAAElEQVR4nOzdd1gU59oH4N+y7C4svQoWEFERRey9YhcsscUWo9FEU/SclJOcVDXGaJJj8iXxJCYn0dh719gSxRJ7xShiQVARFKR3trzfH+OMu2wFdllYnvu6uBJnp7wzOzvzzPOWETHGGAghhBBC7JiDrQtACCGEEGJtFPAQQgghxO5RwEMIIYQQu0cBDyGEEELsHgU8hBBCCLF7FPAQQgghxO5RwEMIIYQQu0cBDyGEEELsHgU8hBBCCLF7FPAQQgghxO5RwEPqpKtXr+Kll15CSEgInJyc4Orqivbt2+Orr75CVlYWAGDlypUQiURITk4WltM3zRzz58+HSCTCkydPLLgX2hYsWICWLVtCrVZbbRuVNW3aNIhEIoN/Z86cMbr8lStXEBMTg6CgIDg7O8Pb2xvdunXD2rVrdeYtKCjAm2++ifr168PJyQlt27bFxo0bzSon//1euHBB7+fDhg1D48aNzVqXPajIcT9y5AimT5+OFi1awMXFBQ0aNMDIkSNx8eJFo9uo6LlR077f5cuXo0GDBigsLKzQcqT6Odq6AIRUt19++QWvv/46wsLC8O6776Jly5ZQKBS4cOECfvrpJ5w+fRo7duzQu2xMTAxOnz6NwMDAai61campqfjqq6+wcuVKODjUvOeYTz75BK+++qrO9OHDh0Mmk6FTp05Gl8/JyUGjRo0wceJE4eaybt06TJkyBcnJyfj444+FeUePHo3z58/jiy++QPPmzbF+/XpMnDgRarUakyZNsvi+2bOKHPdly5YhMzMT//znP9GyZUtkZGTg66+/RteuXXHw4EH069dP7zYqem7UtO936tSp+PLLL/HVV1/h008/rfbtkwpghNQhp06dYmKxmA0ZMoSVlJTofF5aWsp27drFGGPst99+YwBYUlJSlbc7b948BoBlZGRUeV36vPfee6xBgwZMpVKZNb++fa9uR48eZQDYxx9/XOl1dOnShTVq1Ej49++//84AsPXr12vNN3DgQFa/fn2mVCqNro//zs+fP6/385iYGBYcHFzp8lZWTfi+NJU/7owx9vjxY5358vPzWb169Vj//v0rtH5D50ZN/X6XLFnCPDw8WGFhYYWXJdWn5j0KEmJFixYtgkgkwv/+9z/IZDKdz6VSKUaMGGFweX1VWgkJCZg4cSLq1asHmUyGoKAgvPjiiygtLTValoSEBDRp0gRdunRBeno6MjIyMHPmTDRq1AgymQx+fn7o0aMH/vzzT6PrKSsrw/LlyzFp0iS92Z1BgwahV69e+P3339GtWzc4OzvjjTfeMLrO6rB8+XKIRCJMnz690uvw9fWFo+OzRPWOHTvg6uqKcePGac330ksvITU1FWfPnq30tgwxVh1T0apPoOZ+X5rKH3cA8Pf315nP1dUVLVu2xIMHDyq0fkPnRnV/v+Z+t5MnT0ZeXp7ZVWvENqhKi9QZKpUKR44cQYcOHdCoUSOLrDMuLg49e/aEr68vFixYgGbNmiEtLQ27d+9GWVmZ3qAKAI4dO4ZRo0ahd+/eWL9+PeRyOYYMGYJLly7h888/R/PmzZGTk4NLly4hMzPTaBnOnj2LzMxMREVF6f388uXLkEqlePvtt/H+++8jJCQEXl5eZu8jYwwqlcqsecvfBA3Jzc3F1q1b0b9/f4SEhJhdFrVaDbVajezsbGzZsgUHDx7Ef//7X+Hza9euITw8XKcckZGRwufdu3c3uR2VSgWlUqkznTGmM+306dNa/y4uLsaUKVOgUqng7e1t1n5pqur3pVlWS31vpo67Ibm5ubh06ZLB6ixDyxg6N6r7+zX3uw0ICECLFi3w+++/VymAJ1Zm2wQTIdXn0aNHDACbMGGCWfPrq9IqP61fv37M09OTpaenG12XZpXWmjVrmFQqZf/4xz+0qqBcXV3Zm2++WeH9+vLLLxkA9ujRI53PkpOTGQDWtGlTlpeXp/XZ7du3mVgsZsXFxUbXHxsbywCY9Wdu9d+yZcsYALZhwwaz95MxxmbNmiVsSyqVsh9//FHr82bNmrHBgwfrLJeamsoAsEWLFhldP//9GvszVuWhVCrZyJEjmaurK7t48WKF9o0x499XUlISA8BcXFyYs7MzCw8PZ4cPHza4Lkt+b6aOuyGTJ09mjo6O7MKFC2bNz5jxc8OW36+p73by5MmsXr165u0ksQnK8BBSSUVFRTh27BhmzJgBPz8/s5b5/PPPsXTpUvznP//BW2+9pfVZ586dsXLlSvj4+GDAgAHo0KEDJBKJyXWmpqZCJBLB19dX5zO+h8wXX3wBNzc3rc+uXr2KsLAwODk5GV1/hw4dcP78eZPlAID69eubNd/y5cvh4+ODUaNGmTU/78MPP8TLL7+M9PR07NmzB7Nnz0ZhYSH+9a9/CfOIRCKDyxv7TNPq1asRHh6uM/2tt94yWj0ze/Zs/P7779izZw/at29v1rY0Gfu+4uLi0LJlS1y/fh2MMcybNw+vvPIKEhMT9a7Lkt+bOce9vE8++QTr1q3D0qVL0aFDB7PKAZg+N2z1/Zr6bv39/ZGeng6lUml2ppNUL/pWSJ3h6+sLuVyOpKQki6wvOzsbKpUKDRs2NHuZtWvXokGDBpgwYYLOZ5s2bcLChQvx66+/4pNPPoGrqytGjRqFr776CgEBAQbXWVxcDIlEArFYrPPZpUuXIJPJEB0drfNZXFwc2rRpY7LMrq6uaNu2rcn5APOqtK5evYoLFy7gn//8p8EqP0OCgoIQFBQEAMI+ffDBB5g6dSr8/Pzg4+OjtwqQH2rA3Cqm8PBwdOzYUWe6h4eHwRviwoUL8dNPP2H58uUYMmSIWdspz9T3xX8PIpEIPXv2xHfffWdwXZb83kwd9/I+/fRTLFy4EJ9//jlmz55tVhkA0+eGrb5fc75bJycnMMZQUlICV1dXs8pBqhc1WiZ1hlgsRv/+/XHx4kWkpKRUeX3e3t4Qi8UVWteBAwcgkUjQq1cv3Lt3T+szX19ffPvtt0hOTsa9e/ewePFibN++HdOmTTO6Tl9fX5SVlekdB+TixYuIjIyEs7OzzmdxcXFC2wdjjh07BolEYtafOY10ly9fDgB4+eWXTc5rSufOnaFUKnH37l0AQOvWrXHjxg2d9hl///03ACAiIqLK29Rn5cqV+OSTTzB//vwqteEw9X3xAUxqaioWL16M0aNHG1yXpb83TeWPu6ZPP/0U8+fPx/z58/Hhhx9WaL2mzg1bfL/mfrdZWVmQyWQU7NRktq5TI6Q6aXZLLy0t1fm8rKyM7d69mzFmfhseLy8vk93NNdvwpKamspYtW7JGjRqxW7duGV3uueeeY35+fkbnWb16NQPA4uLidD7z9/dnr732mt7lQkJC2L59+4yumzHG8vLy2Pnz583603dMNZWUlDBvb2/WuXNnk9s1x5QpU5iDg4PQhmrfvn0MANu4caPWfEOGDLFat+X9+/czR0dHNn369MrvyFPGvq/Q0FDm4uLCXFxcGAD2yiuvGO2ubsnvrbzyx523YMGCSg81YM65Ud3fb0W+24EDB7J27dqZnI/YDlVpkTqlW7duWLZsGV5//XV06NABr732Glq1agWFQoHLly/jf//7HyIiIjB8+HCz1vfNN9+gZ8+e6NKlC95//300bdoUjx8/xu7du/Hzzz/rtMMAgMDAQBw7dgyDBw9G79698ccff6BRo0aIiorCpEmT0KJFC7i5ueH8+fM4cOCA0ad4AOjbty8A4MyZM1oZm5SUFKSnp+tN3efl5SE5OdmsKi03Nze966iMnTt3Iisry2h259ixY+jfvz/mzp2LuXPnAgBmzpwJd3d3dO7cGfXq1cOTJ0+wZcsWbNq0Ce+++65QrTJ06FAMHDgQr732GvLy8tC0aVNs2LABBw4cwNq1a/VW+1VFUlISxo0bhyZNmuCll17SGRW4Xbt2QtWMSCRCnz59cPToUb3rMvZ9FRQU4O7du0hPT4e3tze+/vprrFu3zmiVoCW+N3OPOwB8/fXXmDt3LoYMGYKYmBidY9G1a1cA+r9fwLxzozq/34p8t2q1GufOncOMGTMstn1iBbaOuAixhStXrrCpU6eyoKAgJpVKmYuLC2vXrh2bO3eu8NRqToaHMcbi4+PZuHHjmI+PD5NKpSwoKIhNmzZN6+lb38CDOTk5rEePHszb25udOXOGvfrqqywyMpK5u7szZ2dnFhYWxubNm2fWYGa9evVi0dHRWtN27txpMPNz4sQJ5uPjY+7hspiBAwcyFxcXnR5ImvjeRfPmzROmrVixgvXq1Yv5+voyR0dH5unpyfr06cPWrFmjs3x+fj77xz/+wQICAphUKmWRkZFm9waraAbAVE8o/jzJz8832UPQ2Pd18uRJFhAQIPy7tLSUeXh4VKonWEVU5Lj36dPH6LHg6ft+GTPv3GCs+r5fc79bxhg7fPgwA2D174NUjYgxPQNLEEJqlW3btmH8+PG4d+8eGjRoYHL+H3/8EZs3b8aBAweEaQ4ODpBKpdYsZp21b98+DBs2DHFxcWjdunWFl1+2bBl27NiBQ4cOCdNGjRqFdu3aaWVJiG1MmTIFd+/excmTJ21dFGIENVomxA6MHj0anTp1wuLFi82aPy4uDseOHYOzs7PwN2bMGCuXsu6KjY3FhAkTKhXsANz3Vb5B7sCBA7F3715LFI9UQWJiIjZt2oQvv/zS1kUhJlCGhxA7ce3aNezevRvvv/9+jXyBKCH2KDY2Frdv38bMmTNtXRRiAgU8hBBCCLF79BhICCGEELtHAQ8hhBBC7B4FPIQQQgixexTwEEIIIcTuUcBDCCGEELtHAQ8hhBBC7B4FPIQQQgixexTwEEIIIcTuUcBDCCGEELtHAU85v/zyC9q3bw93d3e4uroiMjIShw8ftnWxCCGEEFIFjrYuQE2yceNGvPHGG1i8eDE6deoEtVqN+Ph4ODrSYSKEEEJqM7qTazh8+DC8vb0xZswYNG7cGADQt29fm5aJEEIIIVVHVVoaZs6cifz8fISGhqJDhw5YtGgRioqKbF0sQgghhFQRvS39KYVCgRdeeAG+vr6YNWsWjh07ho8//hgtWrTAyZMnqVqLEEIIqcXoLv7Ue++9hydPnmDTpk0AgMjISLi7u2PatGn466+/bFq1VaYqw6ITiwAAH/b6EFKxVO80ay1f2bL+q/u/sOTUEp1tlKnKMD92PtZfW48gjyDsm7wPrlJXo2Wq7GfmltXQcmWqMnx27DOcuH8CvYJ64ZM+n+jMZ2g91jrGVVXVcplzTPRtB0CVj7e52za23yq1CgAgdhCbXS5z1lt+eXN+C/r26d89/21w3oqWobqY+7u35jWn/PdqzjlZ1TLY+rhXtByWmq8ix7wmoSotAKmpqfj+++/x7rvvak3v2LEjAODJkycAgP3798PT0xNt27ZFaGgoJkyYgLKysmovLyGEEEIqhgIeALt37wZjDFFRUVrT09PTAQBBQUEAgMuXL2PKlCm4cuUK4uPjcf78eezZs6fay0sIIYSQiqGAB0BSUhLc3d0hk8m0pu/fvx8BAQFCpufy5cto2bIlAEAmk6Fhw4aQSmt2Co8QQgghFPAAANzd3ZGbm4tHjx4J05KTk7Fs2TK8+uqrcHDgDtPly5cRHh4OADh69ChcXV0RHR1tkzITQgghxHwU8AAYOXIkxGIxJk6ciN9//x3Lly9Hz5490aZNG3z00UcAgLy8PNy9exdz5sxB48aNMXbsWCxduhRisdjGpSeEEEKIKRTwAIiIiMCGDRuQlpaGUaNG4dNPP8XkyZNx6NAhoTv6lStX0KRJE/z9999ITExEnz598M0339i45IQQQggxB3VLf2rcuHEYN26cwc8vX76MTp06AQDEYjHefPNNTJw4EUuXLoVIJKquYhJCCCGkEijDYybNgAcAevToAZVKhYsXL9qwVIQQQggxB2V4zLRy5Uqtfzs4OCAtLc02hSGEEEJIhVCGhxBCCCF2jwIeQgghhNg9CngIIYQQYvco4CGEEEKI3RMxxpitC0GMU5WpcGLRCQBArw97QSylwQ5rGnv6jmy1L/Z0DG2Bjl/NQd9FzUQZHkIIIYTYPQp4CCGEEGL3KOAhhBBCiN2jgIcQQgghdo8CHkIIIYTYPQp4CCGEEGL3KOAhhBBCiN2jgIcQQgghdo8CHkIIIYTYPQp4CCGEEGL3KODR45dffkH79u3h7u4OV1dXREZG4vDhw7YuFiGEEEIqydHWBahpNm7ciDfeeAOLFy9Gp06doFarER8fD0dHOlSEEEJIbUV38XIOHz4Mb29vjBkzBo0bNwYA9O3b16ZlIoQQQkjVUJVWOTNnzkR+fj5CQ0PRoUMHLFq0CEVFRbYuFiGEEEKqQMQYY7YuRE2hUCjwwgsvwNfXF7NmzcKxY8fw8ccfo0WLFjh58iRVaxFCCCG1FN3BNbz33nt48uQJNm3aBACIjIyEu7s7pk2bhr/++ouqtgghhJBaiqq0nkpNTcX333+Pd999V2t6x44dAQBPnjwBAOzZswe9evWq9vIRQgghpPIo4Hlq9+7dYIwhKipKa3p6ejoAICgoCABw5coVtG3btrqLRwghhJAqoIDnqaSkJLi7u0Mmk2lN379/PwICAoRMz+XLlyngIYQQQmoZCniecnd3R25uLh49eiRMS05OxrJly/Dqq6/CwYE7VFeuXEG7du1sVUxCCCGEVAL10nrq2rVraNu2LXr16oV//etfePToEebNm4fGjRvj6NGjcHR0RG5uLvz8/JCfn6+TCSKEEEJIzUUZnqciIiKwYcMGpKWlYdSoUfj0008xefJkHDp0SOiOfuXKFbRo0YKCHUIIIaSWoQxPBXz77be4dOkSVq9ebeuiEEIIIaQCKMNTAVeuXMHu3bvRuHFj4e/SpUu2LhYhhBBCTKAMDyGEEELsHmV4CCGEEGL3KOAhhBBCiN2jgIcQQgghdo8CHkIIIYTYPQp4CCGEEGL3KOAhhBBCiN2jgIcQQgghdo8CHkIIIYTYPQp4CCGEEGL3KOAhhBBCiN2jgIcQQgghdo8CHkIIIYTYPQp4CCGEEGL3KOAhhBBCiN2jgIcQQgghdo8CHkIIIYTYPQp4CCGEEGL3KOAhhBBCiN2jgIcQQgghdo8CHkIIIYTYPQp4CCGEEGL3KOAhhBBCiN2jgIcQQgghdo8CHkIIIYTYPQp4CCGEEGL3KOAhhBBCiN2jgIcQQgghdo8CHkLqkO+//x4ikQgREREVWm7lypUQiURITk62TsGeWrRoEXbu3Fnp5YuKijB//nwcPXpU57Pq2gdCSM1EAQ8hdciKFSsAANevX8fZs2dtXBpdlgh4Pv30U70BT0xMDE6fPo3AwMDKF5AQUmtRwENIHXHhwgXExcUhJiYGALB8+XIbl6h6+fn5oWvXrpDJZLYuSoUoFAoolUpbF4OQWo8CHkLqCD7A+eKLL9C9e3ds3LgRRUVFOvOdOXMGPXr0gJOTE+rXr48PPvgACoVCZ75NmzZh0KBBCAwMhLOzM8LDw/H++++jsLBQa75p06bB1dUV169fR//+/eHi4gI/Pz/Mnj1ba/sikQiFhYVYtWoVRCIRRCIR+vbtCwDIyMjA66+/jpYtW8LV1RX+/v7o168fTpw4ISyfnJwMPz8/AMCnn34qrGPatGkADFdprVixAm3atIGTkxO8vb0xatQo3LhxQ+8+3LlzB9HR0XB1dUWjRo3wzjvvoLS01OSxb9y4MYYNG4YdO3YgMjISTk5OaNKkCb7//nut+Y4ePQqRSIQ1a9bgnXfeQYMGDSCTyXDnzh2zywoAZ8+exfDhw+Hj4wMnJyeEhobizTff1Jrn9u3bmDRpEvz9/SGTyRAeHo4ffvhBax61Wo2FCxciLCwMzs7O8PT0RGRkJL777jthnoyMDMycORONGjWCTCaDn58fevTogT///NPkcSGkWjFCiN0rKipiHh4erFOnTowxxn799VcGgK1cuVJrvuvXrzO5XM5atmzJNmzYwHbt2sUGDx7MgoKCGACWlJQkzPvZZ5+x//u//2O///47O3r0KPvpp59YSEgIi4qK0lrn1KlTmVQqZUFBQezzzz9nhw4dYvPnz2eOjo5s2LBhwnynT59mzs7OLDo6mp0+fZqdPn2aXb9+nTHGWEJCAnvttdfYxo0b2dGjR9nevXvZjBkzmIODA4uNjWWMMVZSUsIOHDjAALAZM2YI67hz5w5jjLHffvtNZx8WLVrEALCJEyey33//na1evZo1adKEeXh4sFu3bunsQ3h4OFuyZAn7888/2dy5c5lIJGKffvqpyeMfHBzMGjRowIKCgtiKFSvYvn372OTJkxkA9p///EeYLzY2lgFgDRo0YGPHjmW7d+9me/fuZZmZmWaX9cCBA0wikbDIyEi2cuVKduTIEbZixQo2YcIEre/Zw8ODtW7dmq1evZodOnSIvfPOO8zBwYHNnz9fmG/x4sVMLBazefPmscOHD7MDBw6wb7/9VmuewYMHMz8/P/a///2PHT16lO3cuZPNnTuXbdy40eRxIaQ6UcBDSB2wevVqBoD99NNPjDHG8vPzmaurK+vVq5fWfOPHj2fOzs7s0aNHwjSlUslatGihEyxoUqvVTKFQsGPHjjEALC4uTvhs6tSpDAD77rvvtJb5/PPPGQD2119/CdNcXFzY1KlTTe6PUqlkCoWC9e/fn40aNUqYnpGRwQCwefPm6SxTPuDJzs4WAixN9+/fZzKZjE2aNElnHzZv3qw1b3R0NAsLCzNZ3uDgYCYSidiVK1e0pg8cOJC5u7uzwsJCxtizgKd3795a81WkrKGhoSw0NJQVFxcbLM/gwYNZw4YNWW5urtb02bNnMycnJ5aVlcUYY2zYsGGsbdu2RvfN1dWVvfnmm0bnIaQmoCotQuqA5cuXw9nZGRMmTAAAuLq6Yty4cThx4gRu374tzBcbG4v+/fujXr16wjSxWIzx48frrPPu3buYNGkSAgICIBaLIZFI0KdPHwDQW80yefJkrX9PmjRJ2KY5fvrpJ7Rv3x5OTk5wdHSERCLB4cOH9W7LHKdPn0ZxcbFQ5cVr1KgR+vXrh8OHD2tNF4lEGD58uNa0yMhI3Lt3z6zttWrVCm3atNGaNmnSJOTl5eHSpUta08eMGVOpst66dQuJiYmYMWMGnJyc9JajpKQEhw8fxqhRoyCXy6FUKoW/6OholJSU4MyZMwCAzp07Iy4uDq+//joOHjyIvLw8nfV17twZK1euxMKFC3HmzBm91Z+E1AQU8BBi5+7cuYPjx48jJiYGjDHk5OQgJycHY8eOBfCs5xYAZGZmIiAgQGcd5acVFBSgV69eOHv2LBYuXIijR4/i/Pnz2L59OwCguLhYa35HR0f4+PjoXWdmZqbJffjmm2/w2muvoUuXLti2bRvOnDmD8+fPY8iQITrbMhe/XX29turXr69TLrlcrhNEyGQylJSUmLU9Y8e1/LbKl8ncsmZkZAAAGjZsaLAcmZmZUCqVWLp0KSQSidZfdHQ0AODJkycAgA8++ABLlizBmTNnMHToUPj4+KB///64cOGCsL5NmzZh6tSp+PXXX9GtWzd4e3vjxRdfxKNHj4wfEEKqmaOtC0AIsa4VK1aAMYatW7di69atOp+vWrUKCxcuhFgsho+Pj94bVflpR44cQWpqKo4ePSpkdQAgJydHbxmUSiUyMzO1gh5+neUDIX3Wrl2Lvn37YtmyZVrT8/PzTS5rCL/dtLQ0nc9SU1Ph6+tb6XXrY+y4lj8GIpFI69/mlpVvtJ2SkmKwHF5eXhCLxZgyZQreeOMNvfOEhIQA4ALVt99+G2+//TZycnLw559/4sMPP8TgwYPx4MEDyOVy+Pr64ttvv8W3336L+/fvY/fu3Xj//feRnp6OAwcOGCwHIdWNMjyE2DGVSoVVq1YhNDQUsbGxOn/vvPMO0tLSsH//fgBAVFQUDh8+jMePH2utY9OmTVrr5W/I5bt4//zzzwbLsm7dOq1/r1+/HgCEnlj8+vRlbEQikc62rl69itOnT2tN4+cxJ+vTrVs3ODs7Y+3atVrTU1JScOTIEfTv39/kOiri+vXriIuL05q2fv16uLm5oX379hYpa/PmzREaGooVK1YY7D0ml8sRFRWFy5cvIzIyEh07dtT50xeEenp6YuzYsXjjjTeQlZWldwDHoKAgzJ49GwMHDtSppiPE1ijDQ4gd279/P1JTU/Hll19qBRa8iIgI/Pe//8Xy5csxbNgwfPzxx9i9ezf69euHuXPnQi6X44cfftDpat69e3d4eXnh1Vdfxbx58yCRSLBu3TqdGzpPKpXi66+/RkFBATp16oRTp05h4cKFGDp0KHr27CnM17p1axw9ehR79uxBYGAg3NzcEBYWhmHDhuGzzz7DvHnz0KdPH9y8eRMLFixASEiI1hg1bm5uCA4Oxq5du9C/f394e3vD19cXjRs31imTp6cnPvnkE3z44Yd48cUXMXHiRGRmZuLTTz+Fk5MT5s2bV7mDbkD9+vUxYsQIzJ8/H4GBgVi7di3++OMPfPnll5DL5UaXrUhZf/jhBwwfPhxdu3bFW2+9haCgINy/fx8HDx4Ugs7vvvsOPXv2RK9evfDaa6+hcePGyM/Px507d7Bnzx4cOXIEADB8+HBERESgY8eO8PPzw7179/Dtt98iODgYzZo1Q25uLqKiojBp0iS0aNECbm5uOH/+PA4cOIDRo0db9PgRUmW2bjVNCLGe5557jkmlUpaenm5wngkTJjBHR0ehZ9bJkydZ165dmUwmYwEBAezdd99l//vf/3R6aZ06dYp169aNyeVy5ufnx15++WV26dIlBoD99ttvwnxTp05lLi4u7OrVq6xv377M2dmZeXt7s9dee40VFBRoleXKlSusR48eTC6XMwCsT58+jDHGSktL2b/+9S/WoEED5uTkxNq3b8927tzJpk6dyoKDg7XW8eeff7J27doxmUzGAAi9vvR1S2eM66IfGRnJpFIp8/DwYCNHjhS6w5ffh/LmzZvHzLmMBgcHs5iYGLZ161bWqlUrJpVKWePGjdk333yjNR/fS2vLli1612NOWRnjuvgPHTqUeXh4MJlMxkJDQ9lbb72lNU9SUhKbPn06a9CgAZNIJMzPz491796dLVy4UJjn66+/Zt27d2e+vr7C0AIzZsxgycnJjDFuKIBXX32VRUZGMnd3d+bs7MzCwsLYvHnzhJ5nhNQUIsYYs2G8RQixc9OmTcPWrVtRUFBg66LYTOPGjREREYG9e/fauiiE1FnUhocQQgghdo8CHkIIIYTYParSIoQQQojdowwPIYQQQuweBTyEEEIIsXsU8BBCCCHE7tHAg7XAjRs3sHnzZjRq1AjTp0+3dXEIIYSQWocyPIQQQgixexTw1AL8e4uoQx2xBMYYzp49i4sXL9q6KIQQUm2oSouQOkSpVGLbtm1ISEgAALRp0waOjnQZIITYP7rS1QKU4SGWUFZWho0bNyIpKUmYplKpKOAhhNQJdKUjpA4oLi7GunXr8PDhQ4jFYqhUKgCAWq22cckIIaR6UBueWoAyPKQq8vPzsXLlSjx8+BDOzs6YNm2a8BmdU4SQuoIyPITYsezsbKxZswbZ2dlwdXXFlClT4OfnJ3xOAQ8hpK6ggKcWoAwPqYwnT55g1apVKCgogJeXF6ZMmQIvLy8A3DnFGKMqLUJInUFVWrUAH/AQYi7NYMff3x8vvfSSEOwAFEQTy0pJScGWLVvw+PFjWxeFEIMow1OL0M2JmEMz2KlXrx5efPFFyOVyrXkcHBygVqspw0Oq7P79+1i3bh3Kysrg4eGBQYMG2bpIdRZjjB6QjaAMTy1AT+PEXOYEOwCdU8QyHjx4IAQ7ADfOE7GN48eP4z//+Y/WsBNEGwU8hNgJc4Md4FnAQxkeUlkpKSlYu3YtysrK4ODA3UoogLaNY8eOITY2FsXFxUhMTLR1cWosCnhqAXoaJ6ZkZ2dj9erVZgU7AOgGRark0aNHQrATHByMbt26AaAA2hbOnDmDo0ePCv/mf9tEFx0ZQmq5/Px8rFmzBvn5+fDz8zMZ7AAURJPKy8zMxJo1a1BaWopGjRph0qRJkMlkACjgqW6XL1/GwYMHtabRb9owCnhqAbo5EUOKi4uxdu1aZGdnw9PTE1OmTDEZ7ADPngLpBkUqIjc3F2vWrEFRURECAgIwadIkSKVSyhjaQHx8PPbs2QMA6NatG2XZzEABDyG1VFlZGdatW4f09HS4urrixRdfhJubm1nLUhBNKqqwsBBr165Fbm4ufHx88MILL8DJyQkAnU/V7c6dO9i2bRsYY2jXrh0GDhxIDzFmoICnFqCLCSlPqVRi48aNwusiNAcVNAc1WiYVUVpainXr1uHJkydwd3fHlClT4OLiInxON9vqk5KSgs2bN0OtVqNly5YYNmwYRCIR/abNYDcBz61btzBkyBC4uLjA398f//znP1FcXGx0mby8PMyfPx9dunSBp6cn/Pz8MGTIEFy6dElnXv6E0vwLCAiw1u7UWowxPHjwAAqFwtZFsVuMMezevRtJSUmQSqWYPHky/P39K7QOqoIg5lKpVNi8eTPS0tIgl8sxZcoUeHh4aM1jy4AnPT0da9euxe3bt6t929UtKysLGzZsgEKhQNOmTTF69Gjh2NNv2jS7GHgwJycH/fr1Q3BwMLZt24b09HS8/fbbyMzMxNq1aw0ud//+ffz888+YPn06FixYAIVCge+++w7du3fHqVOn0L59e63558yZg0mTJgn/lkqlVtsnTbUlw8MYw759+3DhwgV07doVgwcPtnWR7NKRI0fw999/w8HBAc8//zwaNGhQ4XXUlnOK2BZjDHv37sXdu3chkUgwefJk+Pr66sxnq/MpLy8Pa9euRX5+PiQSCZo1a1at2we4fVYoFFa/H/BVikVFRahfvz7GjRsHsVgsfE5ZNtPsIuD5+eefkZ2djStXrgg/RkdHR0yePBkfffQRwsPD9S4XEhKCxMRErUaeAwYMQJMmTbB06VL89ttvWvMHBQWha9eu1tsRA2rLyJmnT5/GhQsXAHCNG4nlXbx4EX/99RcAYNiwYQgNDa3UeujiSMxx/PhxXLlyBSKRCOPGjUP9+vX1zmeL86m0tBTr169Hfn4+AC4TVd0UCgXWrFmDR48eYfbs2XB3d7fadjZs2CB0Tpg4caJOgGUvVVqJiYm4du0aYmJi4Oho2RClWqu0srOzMWbMGOzdu9fgPHv37sWYMWOQmZlp9nr37duHAQMGaD15jBkzBjKZDPv27TO4nIuLi06PFicnJ4SHhyM1NdXs7VeXmvw0Hh8fjz/++EP4d23/0dVEt2/fxu+//w4A6NOnD9q1a1fpdVGGh5gSFxcnjO8SHR1tNHtS3QGPSqXSeXdXdV9z1Go1tm/fLlThP3nyxKrbefjwIZycnDB58mS4urrqzGcPVVrp6enYsmULrly5gtOnT1t8/dUa8Pz666+Ii4vDkCFDDM4zZMgQ/P333/jhhx/MXu+NGzd0sjgymQyhoaG4ceNGhcpYWFiIy5cv680KffHFF5BIJPD09MT48eNx//59o+tq0qSJ0T9z1fSbU0pKCrZv3w4A8PT0BEABj6WlpaVhy5YtYIyhTZs26NOnT5XWZy9Pg8Q6kpKSsHv3bgBA9+7d0bFjR6PzV+c1iq86T0xMhEQiEbLu1X0uHz58GAkJCcK/rbX9Q4cOISEhAWKxGBMnTtRbpQjU/qxtQUEB1q9fj9LSUgQFBQnd7C2pWgOejRs34pVXXjGapnJ0dMQrr7wi/NjMwaf5yvPy8kJWVlaFyvjxxx+jqKgIs2fP1pr+4osvYtmyZTh8+DAWLVqE48ePo2fPnsjOzq7Q+u1NXl4eNm7cCJVKhebNmws34tr6o6uJCgoKsHHjRigUCjRp0gTDhw+vcjWnPTwNEuvIzMwUegG1atUKAwYMMLlMdd5sz507h0uXLkEkEmHMmDFo2LBhtW2bFxcXh1OnTmlNs0aV2sWLF3H27FkAwKhRoxAUFGRw3toc8CiVSmzevBm5ubnw9vbG+PHjLV6dBVRzG55bt26ZfFIAgPbt2+Ozzz6r0Lr13QAq+ubY9evX49tvv8UPP/yApk2ban22atUq4f979+6Nnj17on379vjll1/w3nvv6V3f3bt3zd62MTU1w6NQKLBx40YUFhbC398fY8aMwc2bNwHYpj7dHvEXgry8PPj4+Og0VKysmnpO1VbXr1/HsWPHMGzYMKM3pZqupKQEGzduRElJCRo2bIjnnnvOrGtodd1sExMThZGFBw4ciLCwMCGLX13XnJSUFGHAv169eiE5ORkPHjyw+L7fu3dPaJIRFRWFVq1aGZ2/tv6m+YzdgwcPIJPJMHHiRLMGT62Mas3wKJVKSCQSk/NJJJIKdWv28vLSm2nJyckxe2ySP/74Ay+99BLeffddvP766ybnj4yMRFhYGC5evGh2Oe0J3zWa76rKN6Ljb8a18SmjpmGM4ffff9e6EPADvVVVbX4arGkePnyIHTt2ICMjQwj4ayO+rQg/1k5FnrKr42abmZmJrVu3gjGGtm3bClVZ1XnNycvLw6ZNm6BSqdCiRQtERUVZ5beUk5OjlWXr1auXyWVq62/63LlzuHz5MkQiEcaOHWuwys4SqjXgCQwMRHx8vMn5rl+/XqExbsLDw3Xa6pSWliIxMdFgDy1N586dw+jRozFu3Dh8+eWXZm+3uiLpmhi5nzx5EteuXYODgwPGjRsnVCnW1h9dTXTu3Dmhh8zYsWPh4+NjsXXXxHOqNsrPzxdugEDtPu9jY2Nx+/ZtODo6Yvz48Xobxhpi7d99+cxTTEyMcA5X1zWHz2gXFBTA398fo0aNgkgkEgIuS2WYysrKsHHjRuH1HSNHjqxRWTZLunv3rpCxGzBggE7NiqVVa8DTp08f/Pjjj0azNwqFAsuWLUNUVJTZ642Ojsbhw4e1enbt2LEDpaWliI6ONrrsjRs3EB0djR49euC3334zuwrsypUruHXrFjp16mR2Oe3FzZs3cfjwYQDA0KFD0bhxY+Gz2vajy8jIMCsIr26aF4KBAwda/EJQVxstl5SU4OHDhxZZF1/dyHeLBmpvVe61a9eE4Q5GjBhhsPu5IdZsE2Yq81Qd15zyGe0JEyYI3cItuX3GGHbu3InHjx/DxcUFEyZMMKtWRLMcteUhJjs7W8jYRUZGWqWRcnnVGvC89dZbSEhIwKhRo/R2+05NTcVzzz2Hmzdv4q233jJ7vbNmzYKnpydGjhyJgwcPYs2aNZgzZw4mT56sleGZMWOG1g8lPT0dgwcPhkQiwbvvvouLFy/izJkzOHPmDC5fvizMt2TJErz++uvYtGkTYmNjsXTpUgwZMgSNGjXCyy+/XMmjYb6a9DSemZkp9Mjq2LGjTpus2hTwZGVlYfny5diyZQvS09NtXRxBTk6OVo8sa4z9VNsujpZQUlKCJUuW4Ndff0VaWlqV13fgwAGkpKTAyckJkZGRAGpnwPPo0SPs2rULANcjq3Xr1hVehzUD6GPHjhnNPFXHNefs2bNaGW3NphKW3P7Jkydx48YNODg4YPz48TojWhtTmx5i+CxWcXExGjRoYJGOGOao1kbLkZGR+OGHH/D6668jJCQEHTp0QEhICACuG+TFixehVquxbNmyCv3oPD09ceTIEcyZMwejR48W2pSUr55SqVRaF6T4+Hg8ePAAAHR6IgQHByM5ORkAEBYWhm3btmHjxo3Iz8+Hn58fYmJisHDhQr29wyytpgw8qFAosHnzZpSVlSEoKEjv8AL8j7+mX/j5fSktLQXADUdQEyiVSmzZsgUlJSVo0KCB8J4cS6tJQXR1YIxh165dwnmZk5ODwMDASq8vLi5OaL83ZswYPHr0CIDtbjYqlQr79++Hh4eHWe09eCUlJdi8eTOUSiWaNm2K/v37V2r71go6bt++jePHjwMAhg8frjfzZO2A5/79+8IYY4MGDdLKaGtuv6rXvOTkZBw5cgQAV2vRqFGjCi1fWx42+baJ/EuPrdUjS59qH2n5lVdeQUREBBYtWoTY2FicOXMGACCXyzFkyBB88MEHlXqibd68uVAFYMjKlSuxcuVK4d99+/Y164I/fPhwDB8+vMJlsjRb3pw0T1IXFxeMHTtWb2+h2tJoef/+/VqDltWUAO3gwYNITU2Fs7Mzxo0bZ7ULQW25OFrKmTNntMZMqcr3nZ6erjUAZNOmTZGRkVHl9VbFH3/8gYsXL0IkEqFnz55mBcl8EJidnQ0PDw+t9zJVlDUyhrm5udixYwcALpvMZ9EMbdsax76wsBBbt26FWq1GREQEOnfurDOPJa55+fn5QvVOmzZtdF5rZA5zf9PFxcXIysqq1CtpLOHSpUu4evWq0DbRzc2t2rZtk1dLdOvWDXv27IFarRZGp/T19a30j83eWeJpvKSkBI6OjpW+gV6+fBlxcXHC2BeGTtLacCO9fPmy0CvAyckJxcXFUCqVti4W/v77b+HVHKNHj65QOrui6lKG58GDB/jzzz+1plX25lhaWorNmzdDoVAgNDQUvXv3BmDbzGZ8fLwwVgtjDGq12qyhC/ggUCwWY9y4cXB2dq50GSxdncKPpFxcXIz69esbfS+ftR6y1Go1tm3bhvz8fPj6+hqsdqnqNU+tVmPr1q3C8B6aDbIrwpzfdHFxMZYsWQK1Wo1XX30V9erVMzivSqVCSkoKGjZsaJGhMABuANX9+/cDAPr374/g4GCLrNdcNo0wHBwc4O/vD39/fwp2rCgjIwPfffcdfv3110ot/+jRI63xIPhqSH1qesCjuS99+/YV3jJu6wxPRkaGMLZH7969rd5bwdgNijGGv/76S8i+1maFhYXYsmWL8ITevHlzAJX7vvkXaWZmZsLNzQ2jRo0SzndbZTazsrJ0Bmk1Z9/u378vBIGDBg2q8tO+pX/3Bw8eFF6lYCrTaa1rTmxsLJKSkiCRSPD8888bfDloVbd/+PBh3L9/H1KpFM8//7zZjZQrWg7GmJBoALhqXUMYY1ixYgVWrlyJK1euVKo85fHVp/wgtd27d7fIeiuCooxaoCpP4wqFAqtXr0ZJSQkeP35c4XVonqTNmjVDz549jc5fkwMezfYKzZo1Q69evUx2KWWM4ciRI9izZ4/VsiFlZWVC1iAkJKTKr40wh7EqiAsXLuDw4cM4ePAgysrKrF4Wa1Gr1dixYwfy8/Ph4+ODYcOGVakL8fnz57Uarrq4uAifWbprsjn49l6lpaXCaMP8dGPKV9NYoqepJTOG165dw/nz5wFwowubaidZ0WuOQqEw+XLj27dva/Va8/PzM7n9ynz3CQkJwojNI0eOrNLQE6aOw8WLF7WGbzFW3jNnzggdiyzxXkm+91lOTg48PT3NHtDS0ijgsXOHDh1CQUGB8O+K/Cj5J1q+jp8fd8IYW1z4zcG3QSq/L6bKe/HiRZw4cQKXLl0y+kRUFfv378eTJ0/g5uaGMWPGVEu209AN6tGjR1pt4QwNIVFSUiI0+K6p/vrrLyQmJsLR0RHPP/88ZDKZkCmo6PmZlpamNUxA+QaltjjvDx48iEePHkEul2PcuHHCd2qsDIwxnSDQEjceSz3oZGdna41izGfkLLVthUKB5cuX47vvvjP4e87Pz8fOnTsBAJ06dUJERITFtq8pNzdX6B3XpUsXtGzZskLLV6Qcjx8/xoEDB7SmGQqM09LStKqAK5tx0nT27FncvHnTItWnVUEBTy1Q2aenmzdvCm1CeBVpqxIXF4fr16/DwcEBY8eONeskrakZnqtXr+LatWtCQzl+X4zdADMyMrRu/tbIdly7dk0YXHDMmDFaWQNr0lelVVZWhq1bt2odC33nS25uLv773//ixx9/NPo9FxcXY9u2bWanxBljiIuL02pMXlkPHjwQ3vQ9bNgwoeqSD0wq8jsoKyvDtm3boFar0aJFC3Tp0kVnnuo+7zV/26NGjYK7u7twLhvbtzNnzugEgZZgif1XqVTYtm2b0Au0b9++Ft/2oUOHhEy35rhtPD4TUVRUhHr16mHQoEEm11mZ6ky1Wo2dO3eipKQE9evXx8CBA81e1hBD9wnN33WzZs2Et97rO080z3WeofPJ3PvRo0ePtKpPKzrGkyVRwGOn8vPzhbr9rl27Cj8Gc1/ZkZmZqdXWRTNlbow1L/wKhULo/lvekydPcOTIERQXF+t8lpWVZXBfDN0AlUoltm3bpjXd2I3k6tWrOqN9m5KTk4O9e/cC4J5mq7MBn74qrf379wvtU/ibZ/nzha8mKiwsRF5eHkpKSvSun28vcO3aNZw8edKsMp08eRI7d+4UnvArq7S0FNu3bwdjDK1bt0abNm2EzypT/XDw4EHhuBhquFqdGR7N33a3bt2E9l6myvDo0SNhwNBBgwYJQaAlWKJK69ixY3j48CFkMlmFeoyZ+52WfwDU93s+ffo07t69C0dHR4wZM8asTh6Gtl9aWmrwenvy5EkkJydDIpFg9OjRFmkUbOjaq5lBHjlypJCx0Xe8Dhw4IJzr/ECA+uaLj4/HV199hbi4OKNlUigU2L59O1QqFcLCwmw+UC8FPLVARS8mmk8pAQEB6N+/v1lPfzyVSoXt27dDoVAgODgYPXr0MLusFQl4KnJzUKlUWLlyJX7++Wdh7CReSUkJ1q1bhxMnTuDq1as6y23fvl14aizfBsnQTeKPP/7A48ePIZfLhYHODF28rl+/jh07dmDbtm1m7xMfOPDtL6qj3Y6m8hme69evC5mm0aNHC+/sKn++nDx5Evfu3RP+beiYXLlyRQgAzcmMpaamIjY2FgC0qmD1KSoq0vt0ztu/fz9ycnLg4eGhM9J6Rau0bty4gUuXLgHgMimGXmpo6Dy6dOkS1q9fb7L6LzEx0az3cPFdyfnfdr9+/YTPjP3GFQqFcH42b97crJc4V0RVH3Tu3buHEydOAOCGAalID0VzMiz5+flC9RGv/LmblpYmBIRDhgwx2m5Hk759z83Nxffff49ly5bplCslJUU416Ojoy32yhh95fj777+FDOvo0aPh4uJi8CHv+vXrwoC7fNZQ33w5OTnYvXs3SkpKTL4g+9ChQ8jIyICrq2u1DS5oDAU8tUBFT5IzZ84ITymjR4/W6o6uefJmZGTg/PnzOoFUbGwsUlNT4eTkpNUTxRzmXviOHDmCxYsXa908jTl69KjQeK78zY6/wQHQyfAcPXpU6O2h76lR343q1q1bOHfuHADgueeeEwIefTeSvLw8IUujUqnMrvb666+/hJ4ZVRn/pLI0Mzz5+fnCuDI9e/ZE48aN9Z4vDx8+FKqJePoCnqysLKHrqaF5NJWVlWH79u3COWPsGBYVFeH//u//sGzZMr2B0bVr14ThEzQDN15FMjF5eXlCtql79+5m9U7UXO/9+/exZ88e3L59G4mJiQaXvX//PtauXSuMPGuMZpUU/9s2Z9/++OMPPHnyBK6urhgxYoTFbzzm/O4ZY7hy5QpSUlK0phcXFwujt7dt29bkW8ENbdvQ9vkHwOLiYgQEBKBJkyYAtM/L8tWWFRkHp3zAxRjDtm3bUFRUhOzsbK3zWTP72KpVK63sY1WVfzDOzc0Vfte9e/cWBkzU99vOzc0VrmM9e/ZESEiI3vk0H9QA479VzYzac889V23V9cZQwFOLlA9MGGM6J5xmg7PBgwcLTynlT97CwkL8+OOP2Ldvn1aUnpSUJFRBVPRJC9D+8fNjgpS/4SUmJuLEiRNQqVS4ffu2yXXeu3dP6DEBaP/Irl27ppXV0fwsOTlZWM7QvpS/SRQWFmo1JGzWrJnB6h3+aVuzWsecgEezfUl0dLTWMPXVRTPDs3v3bhQXFyMwMFDINJU/XzSDkpYtWwrjMJU/JprZQf6tx6YCnkOHDiEzM1Po9mtofr4RvVKphEql0ml0Wr6KMCgoSGcd5rbh0bxJBgYGamVS9Cl/0ysrKxMGzeP/rU9paanWfMYCHs0qKc3fNs9QhufWrVtCrydr3Xg0b7YqlQobN27EypUrtQKQY8eOYdeuXdi6daswjf9O8/Ly4O3tjaFDh1Z426YCnvLVVHy7Jc3jpFmVU9FMRPlg9+zZs1pZaM3vfv/+/ULHCUuPoq4ZdPLXptLSUjRo0EArg1z+POHfVcaP7s63ndJ3Pp08eRL379/Xu2+aCgoKtJpUhIaGWmgvq4YCnlpA34+CMYYtW7bgq6++EjIeSqVSuCmFhYWhQ4cOwvyaJy/fY4nHd9EsKSkReie0a9euUr0GNC8+SqUSq1evxtdffy28uqG4uFgntazp/v37Wlmn0tJSoUz8ceB/ZJqZCf4izn+muVzbtm0N7otmwMMfl6KiIvj7+wuvG+HrvMvfSM6ePStcSPnjW/4CcOXKFa1XGvA3QsYYIiIiDI4ea238sbx8+TLu3LkDR0dHjBo1Sjge5S92f/75J7KysuDu7o5hw4YZDE6OHz+u1Q6DXwd/I0pPT9e6qd+6dUt4RQM/mjl/jpZXvp2UZjWRuVWE5mZ4Tp8+LYzBYk4bi/LrPXTokFZAZujGcODAAa35DFV98b9tvi2E5m/bUBkA7sbD/96seePRvNn+9ddfuHnzJu7du4fs7GwAXFb22LFjAKDVJfzq1auIj4+Hg4MDRo8ebXCsG3O2zW9fU/kg0dfXV/g98+furVu3hKoc/tVEldk+P5Auvz0e/53Gx8cbzT5WlWY5zp8/j6SkJOF3rXmMygf9Z8+eFbLNY8aMET4vf9179OiR8KDWokULAPofTjSrXevVq1fp15VYAwU8tYjmTeDChQu4ceOGMBomwFVFGUpba97Arl+/rnXj4E/agwcPCk9a+t6TZQ7NH9bx48dx7949lJaWCi/nPHjwoNbbpTVvBFlZWVi7di327dsnNE7+448/hLEb+OCgrKxMeDIsKSlBYGCg8DoSfl8OHTqE3NxceHp6Gn1q1PzxX7t2TXhx33PPPSccM30ZnszMTK0GoOUDLoCrq9+9ezeuXLkiPBX9+eefyM7Ohru7e6VHVLUE/nviX4nQv39/rYyB5j7fvXtXyBCMHDkSzs7OOjcNgGuHw7fDGDZsmJDhAbjjm5CQgGXLlglP+MXFxUKVUdeuXbW6IJe/kObl5WlVkwHax1rzom2sGlZfG57S0lKcPXsWeXl5wjHh32nE3yRN0Qw2EhMThSCOzyrqC3hu3bql04PNUGAUGxtrsi1E+SBVM4C39o2HP94KhUJ49xXAHVu+R5ImtVqN/Px8oat0nz59Kj34oeZ3nZeXJxxDlUqFXbt26TwAap7bmudgt27ddN6TVZHtK5VK7Ny5E0qlEqGhoUIbmLKyMhQWFgoPZz169NCbfawqvhxFRUXCu78GDhyo00ZI8zzJyMjQuo5pZps1j5NKpcLOnTuFKj++DZi+81XzIcrcht/VhQKeWqB83Wx2drZwQgPcReXBgwc4ffo0AO5mU/4phT/pcnJyhB5Lmsvfvn1buPiOHDmyUk9agPbFR7N3TnFxMW7evCk84fBPCPzTD2MMu3fvFm50+fn5uHv3rnDjGDFihFCNUlZWhqtXr+LWrVsQi8V47rnnhKelsrIy3LlzR2hoampf+OOSm5srHJfevXtrvViy/JOOWq3Grl27oFQq0aRJE3Ts2FEnAFAqldi1a5fwnRUVFSEpKUkIHEaMGGHxJ7yK0LxhhoSE6HS15vensLBQSE137NhRaP9gbH9btWqFiIgIrQudZhsBPsg6cOAACgoK4OPjg379+mmN96F5IeWDWz49z5eBP3cyMzOFAGXQoEHw9vY2uN/6siC7d+/GgQMHcPz4ceG7ValUaNq0qdltOfjzvrS0VDhenTt3RlhYmDD95s2bWLNmDXJzc1FcXCwcj65duwrnm74MT0pKitZv21CVVPl9u3btGhISEnQCeGvQvEZpZllKSkpw5swZpKSkaGXJSktLsWfPHqFbtqkBTY3RvOb88MMPWLt2LQDgxIkTePToEZydnbWqjzTPXc1zMCoqqlLb5/frxo0bQnZzxIgRQtVZWVkZ9u3bJ2SOrdVBQbMnLn9t0tcrSjOQ2blzp8FzXTMwOn78OB4/fgxnZ2fExMRoHcOysjLhFVG5ubnCUB5RUVFmN/yuLhTw1DJ8d1/NJ2C+BwJjDJGRkcJFVhN/8v7xxx9CuwT+RXg5OTlaT9pVefrQvPhoZqSysrKEC3y3bt2E1Dp/gT9//rxWA2a+JwDA3WhDQkKEwCUzM1N42udfD8F/ptnQtHPnziaf2PiLVUJCgpAtKn/xLZ/h4evopVKpkEnjt8/fqPlsGy83N1fYnw4dOti8Tpu/OMpkMowcOVInY8Dv87Fjx4RMmeZYIfwFj9/f48ePIz09HXK5XMioiUQiYb49e/YI1ZpFRUW4efOm8ALB5557DhKJRGt+zfM7Li4Ot2/fhlgsxsiRI4VAkc8eaAafpgKU8un8+Ph4xMfHA+DOudOnTws3rYq05eDXW1JSImRJBwwYIJwXGRkZ2L59O+7evYvr168LmU4+2NO8OQJcO6+7d+8KNyVjv22e5g2qoKBA+I307t0bAQEBZu1HZWn+7l1cXISsWEpKitYbwPnjdPbsWeE7fe6556rUaL/8sqmpqUhLSxOyjUOHDhU6HgDPzl1952BVts+fU9HR0XB3dxe++ytXrgjVdtYMPDWPg6HfNfDsPLl27RpSU1MNnuv8fNnZ2cKxjImJgaurq7BvJSUlWLlyJX744Qc8fvwYu3fvRllZGRo1alSpl4Bbm90EPLdu3cKQIUPg4uICf39//POf/zTZ44G3atUqtGjRAk5OToiIiMCWLVt05lEoFPjggw8QGBgIuVyOqKgonS7Q1qL59HTp0iWhbpbPkpw9exaZmZlwdXU1WBXFn7zFxcXCD4/PAl25ckXr4lsVmj86uVwujBFy/PhxFBQUwNfXF1FRUVoX+KysLKGhNT89NjZW50bL/8ju3LkjPO3z72PhP0tNTRVuOOak8DWfOvmLb/n2Gvyx++uvv5CWlqaVTeCrLPjtP378WOuJnE8RHz9+XOgqbYlBxqoqNDQUcrkcI0eO1NuYm99nvidU+UwZf3O4ceMGUlNThcbhMTExWhkIfr4HDx5ojQSsOY6M5rhImoGUSqVCXl6eUO3Rt29f+Pn5aQWX+oJPYzSfxv/66y+ttmyPHz8WugsPHjxYqJIwh+Y5o3kD5ct68+ZNIZi5evWqMH4JPy4KP19+fj4eP36MlStXYt26ddi3b5/J33b5MpSUlOD3338XeiVVJXtiLs2b+LBhw4Tz/tixY0IGoV27dkKwyld78d+pJfEDGKrVaoSHh+uMlMyXlX8g6d69u9njjOmjec0LDw9H69atATy7JvD3iZ49e2plji1N8xzkgy59yj/ADR06VO+8mu0S+cwt34OO/50WFRUhLS0NANcgm2/TOHLkyBr5fsyaU7lWBTk5OejXrx+Cg4Oxbds2pKen4+2330ZmZqaQ3jRk69atmDZtGt5//30MGjQIO3fuxPjx4+Hh4aE1yuZbb70lNMBt3LgxvvrqK/Tv3x9///231Z+eeCqVCocOHQIA9OvXDyqVCgkJCcKJO3z4cIOjIWtekPisCN87izEGkUikNShVZfFvIC8pKUFMTAzu37+PO3fuQKFQCNtwdHQUApuSkhKhKqtx48bw8/PD+fPnhZ5PmjdazRsu/7TP/6jKl9vcajnNi0RUVJTewdj4bZSUlOB///sfAC5g0Mwm8NvngyEAaN26Ndzc3HDq1Ckhk6WZ6ralVq1aoWXLlgYDBM3zRV+mTDMzlpCQoLVOTZrfS48ePXDmzBkolUoUFRUJwa8mvjpk06ZNyMnJEbKEmsEtf/zOnTsnnCeawae5+LYL/PnKB3fNmjVD27ZtK7QuzYt7t27dhFdP6Puu+ZGk9c3H/755fDWzsd82j28nx1fNOjg4YOTIkRZ707Uxzs7OGDp0KMRiMVq0aCFkzdRqtVYGQSaTobCwEIwxre+0quRyOYqKioR/Z2ZmwtnZGdHR0TrnuOY56efnZ/aIzobw1xm5XK7VLk/z+lOvXj307t27StsxxdvbG23btoW7u7sQdOmjeT6EhYUZ7DiheQ1wcXHRGtNK37WVz9D369fPYmMLWZpdBDw///wzsrOzceXKFSGV6ujoiMmTJ+Ojjz5CeHi4wWU/+eQTjBs3DosXLwbA3fQSEhIwd+5cIeB5+PAhfvrpJ3z//fd45ZVXAHBVPyEhIfj222/xxRdfWHX/NLsQl5WVoWHDhujSpYvQTgUA2rRpY/S9M/wJ2qBBA2EgQc02JF27dtV5P1BljRs3DsXFxWjZsqXQXgPQfpLiL/D804FEIsGIESO0Ru7s1KmT1o1W80dWvn5Y87OKVMvxN8lGjRoJI4uWV75Hj1Qq1UkBl+8i7erqiqFDhwptkADtNjA1gbFsCH9T4Ktmyis/Bo5cLtcZ5A949r34+fmhT58+iIuLQ35+vpAFKZ/e5wMYvncPoBvc8t8HXwZzqrJ45dv3iEQijBgxAps3bwbAnZeV6S7s7u6OevXqwcnJSSuI0zwvGzZsKHQwKN9mRPNmXZ6p3zYvMDBQaHgNVE9Vlia+ihzQDvSGDBkiZBD46ZaoytI0ceJEFBYW4o8//hB6rUZHR2tVZfH4c9vQOVhRLVq0QLdu3RAREaGV3eS/ez6jbu3Ak3+gNIW/7pdv21Se5rlbvl1o+YdP/jfZqFEjva9eqSlqXs6pEvbt24cBAwZo9abgx1so30BXU1JSEhISEjBx4kSt6ZMmTcK5c+eElOehQ4egUqkwYcIEYR5+vAbNlHh10Lz48zdrNzc3k+nuzp07o1WrVlovp+TTzvqetKuiSZMmQuqTv9CVf5LiGyDzBgwYAC8vL2F+Ly8vnRstn30JDg7WCU58fHwgkUhQr169ClXLNW/eHFOmTMELL7xg8OJbflTawYMH62QTyg8gNmzYMDg7Owv7Wb4NTE3Xrl07NGvWDOPGjdOb9SvfGDImJkZvd96QkBA4OzsLNxb+++3evbveXjl8Na2m8tUe5QPzigyk17hxY6G7PMBlnZo1ayZ895o354oQi8WYNWsWpk6dqnUD5csdFBQkVLHqazPCV/3y+DK4ublh8ODBZpVBszeiRCKplqosQ/g3nDdr1kzrt8Ffc/r162dW7zdzNWzYEGFhYcLvLTw83OAAhk2aNIGPjw+GDBlikfc6yWQyve+I4q9XUVFR1Rp4mtK8eXN07doVkyZN0hsQ8jw9PdGtWzcMGjRI53cplUrh6+sLd3d3rbG7ampVFk/EqvLykxrC398f06dP18m0tGrVCt26dcOvv/6qd7l9+/YhJiYGN27c0PpCz58/j86dO+PEiRPo2bMn3nvvPaxevVrnPU7/+c9/8NFHH6GkpETvl2zsaT4tLc3s+ly1Wi2MXeHs7KyVmSktLYVEIqn0SaZUKiEWi63aPdpQGYuKioTP+B8eYwylpaWQSqV690mtVhvcV75qzlry8/MhFosNjtOhUqlQWFgIiUSiVf1Q1e+opuJHaS6/v8aoVCoolUqj1XqFhYVCA1CxWKz3olxUVISysjLI5fJK9SgsKioCY0xrOAHGmFWqGzXP2aKiIjg6OuotM1/Vx1f5FhUVwdnZuUIZiJKSEpSVlWm9QsAWGGNQKBRCY3TN6SqVymoNd5VKJcrKyuDs7Gzz1xgAxq9X9oIxhqKiIkilUou8Wb0yGjVqJIzzZIxdVGllZ2cLTxSavLy8kJWVZXQ5ADrL8k8h/LLG1q9QKFBQUFCpp0JzOTg4GByNt6oX6OoYI8FQGeVyuU7wwLcBMsTYxcPaF7jyWanyxGKx3vOgJrTZsQaRSFTh814sFpu8EZszErC+c6ciyi9b2WEYzFG+Ib8hmhkwwPT5po+Tk5NNhzvgafZcLD/dmtcczUFAawJ7D3YA7jutCa+NMEfNOTOqyNBoxObcBMvPwye9NKcbWr+hzwCYfLEaIYQQQqqHXYSfXl5eWo0ceTk5OUbfU8R/Vn5ZvgEq/7mx9UskkloT3RJCCCF1lV0EPOHh4VqvSgC4dhOJiYlGe2jxn5VfNj4+Xms04PDwcKSnp+tUj8XHxyMsLKxOpC0JIYSQ2swu7tTR0dE4fPiw0B0RgPAiQX1dZXkhISFo0aIFNm3apDV9w4YN6Ny5s9CLYNCgQXBwcBC6rgJcl9g9e/YgJibGwntDCCGEEEuzizY8s2bNwtKlSzFy5Eh88sknwsCDkydP1srwzJgxA6tWrdJ66/WCBQswfvx4hIaGYuDAgdi1axcOHTokjO4KcGPXvPrqq/j3v/8NR0dHBAcHY8mSJQCAN998s9r2kxBCCCGVYxcBj6enJ44cOYI5c+Zg9OjRkMvlmDhxIr788kut+VQqlc4gcuPGjUNRUREWLVqEJUuWoGnTpti0aZPWKMsA8M0338DV1RUff/wxcnNz0aVLFxw+fLhGja9ACCGEEP3sYhweQgghhBBj7KINDyGEEEKIMRTwEEIIIcTuUcBDCCGEELtHAQ8hhBBC7B4FPIQQQgixexTwEEIIIcTuUcBDCCGEELtHAQ8hhBBC7B4FPIQQQgixexTwEEIIIcTuUcBDCCGEELtHAQ8hhBBC7B4FPIQQQgixexTwEEIIIcTuUcBDCCGEELtHAQ8hhBBC7B4FPIQQQgixexTwEEIIIcTuUcBDCCGEELtHAQ8hhBBC7B4FPISQSvv+++8hEokQERFRoeVWrlwJkUiE5ORk6xTsqUWLFmHnzp0WX29ycjJEIhFWrlxplXVV9vhMmzYNrq6uVS4TIfaIAh5CSKWtWLECAHD9+nWcPXvWxqXRZa2Ax9piYmJw+vRpBAYG2roohNgNCngIIZVy4cIFxMXFISYmBgCwfPlyG5fIfvj5+aFr166QyWS2LgohdoMCHkJIpfABzhdffIHu3btj48aNKCoq0pnvzJkz6NGjB5ycnFC/fn188MEHUCgUOvNt2rQJgwYNQmBgIJydnREeHo73338fhYWFWvPx1TbXr19H//794eLiAj8/P8yePVtr+yKRCIWFhVi1ahVEIhFEIhH69u0rfP7o0SPMmjULDRs2hFQqRUhICD799FMolUqt7aWmpuL555+Hm5sbPDw8MH78eDx69Mjs4/Tw4UPMnDkTjRo1glQqRf369TF27Fg8fvzY4DKGqrQOHDiA/v37w8PDA3K5HOHh4Vi8eLHR7Z88eRK+vr4YNmyYcCyPHDmCvn37wsfHB87OzggKCsKYMWP0fn+E2AtHWxeAEFL7FBcXY8OGDejUqRMiIiIwffp0vPzyy9iyZQumTp0qzBcfH4/+/fujcePGWLlyJeRyOX788UesX79eZ523b99GdHQ03nzzTbi4uCAhIQFffvklzp07hyNHjmjNq1AoEB0djVmzZuH999/HqVOnsHDhQty7dw979uwBAJw+fRr9+vVDVFQUPvnkEwCAu7s7AC7Y6dy5MxwcHDB37lyEhobi9OnTWLhwIZKTk/Hbb78J+zlgwACkpqZi8eLFaN68OX7//XeMHz/erOP08OFDdOrUCQqFAh9++CEiIyORmZmJgwcPIjs7G/Xq1TP7mC9fvhyvvPIK+vTpg59++gn+/v64desWrl27ZnCZzZs348UXX8T06dOxdOlSiMViJCcnIyYmBr169cKKFSvg6emJhw8f4sCBAygrK4NcLje7TITUKowQQipo9erVDAD76aefGGOM5efnM1dXV9arVy+t+caPH8+cnZ3Zo0ePhGlKpZK1aNGCAWBJSUl6169Wq5lCoWDHjh1jAFhcXJzw2dSpUxkA9t1332kt8/nnnzMA7K+//hKmubi4sKlTp+qsf9asWczV1ZXdu3dPa/qSJUsYAHb9+nXGGGPLli1jANiuXbu05nvllVcYAPbbb7/pP0BPTZ8+nUkkEhYfH29wnqSkJJ11/fbbb1rHJz8/n7m7u7OePXsytVptcF1Tp05lLi4ujDHGvvjiCyYWi9mXX36pNc/WrVsZAHblyhWjZSfE3lCVFiGkwpYvXw5nZ2dMmDABAODq6opx48bhxIkTuH37tjBfbGws+vfvr5XJEIvFejMkd+/exaRJkxAQEACxWAyJRII+ffoAAG7cuKEz/+TJk7X+PWnSJGGbpuzduxdRUVGoX78+lEql8Dd06FAAwLFjx4R1ubm5YcSIEXq3Zcr+/fsRFRWF8PBws+Y35NSpU8jLy8Prr78OkUhkdF7GGGbNmoV58+Zh/fr1eO+997Q+b9u2LaRSKWbOnIlVq1bh7t27VSobIbUFBTyEkAq5c+cOjh8/jpiYGDDGkJOTg5ycHIwdOxbAs55bAJCZmYmAgACddZSfVlBQgF69euHs2bNYuHAhjh49ivPnz2P79u0AuKolTY6OjvDx8dG7zszMTJP78PjxY+zZswcSiUTrr1WrVgCAJ0+eCOvSV+2kb5/0ycjIQMOGDc2a19R6AJi1rrKyMmzatAmtWrUSAjhNoaGh+PPPP+Hv74833ngDoaGhCA0NxXfffVflchJSk1EbHkJIhaxYsQKMMWzduhVbt27V+XzVqlVYuHAhxGIxfHx89DbwLT/tyJEjSE1NxdGjR4WsDgDk5OToLYNSqURmZqZW0MOvs3wgpI+vry8iIyPx+eef6/28fv36wrrOnTtnsvyG+Pn5ISUlxax5Ta0HgFnrkslkiI2NxeDBgzFgwAAcOHAAXl5eWvP06tULvXr1gkqlwoULF7B06VK8+eabqFevnpC1I8TeUIaHEGI2lUqFVatWITQ0FLGxsTp/77zzDtLS0rB//34AQFRUFA4fPqzVI0mlUmHTpk1a6+Wracp3w/75558NlmXdunVa/+YbQmv2xJLJZDrZIQAYNmwYrl27htDQUHTs2FHnjw94oqKikJ+fj927d+vdlilDhw5FbGwsbt68adb8hnTv3h0eHh746aefwBgzOX+7du1w7NgxpKSkoG/fvkhPT9c7n1gsRpcuXfDDDz8AAC5dulSlchJSk1GGhxBitv379yM1NRVffvmlVmDBi4iIwH//+18sX74cw4YNw8cff4zdu3ejX79+mDt3LuRyOX744Qedrubdu3eHl5cXXn31VcybNw8SiQTr1q1DXFyc3nJIpVJ8/fXXKCgoQKdOnYReWkOHDkXPnj2F+Vq3bo2jR49iz549CAwMhJubG8LCwrBgwQL88ccf6N69O/7xj38gLCwMJSUlSE5Oxr59+/DTTz+hYcOGePHFF/F///d/ePHFF/H555+jWbNm2LdvHw4ePGjW8VqwYAH279+P3r1748MPP0Tr1q2Rk5ODAwcO4O2330aLFi3MWo+rqyu+/vprvPzyyxgwYABeeeUV1KtXD3fu3EFcXBz++9//6iwTHh6OEydOYMCAAejduzf+/PNPNGzYED/99BOOHDmCmJgYBAUFoaSkRKiGHDBggFnlIaRWsm2baUJIbfLcc88xqVTK0tPTDc4zYcIE5ujoKPTMOnnyJOvatSuTyWQsICCAvfvuu+x///ufTi+tU6dOsW7dujG5XM78/PzYyy+/zC5duqTTg4nviXT16lXWt29f5uzszLy9vdlrr73GCgoKtMpy5coV1qNHDyaXyxkA1qdPH+GzjIwM9o9//IOFhIQwiUTCvL29WYcOHdhHH32ktZ6UlBQ2ZswY5urqytzc3NiYMWPYqVOnzOqlxRhjDx48YNOnT2cBAQFMIpGw+vXrs+eff549fvyYMWZeLy3evn37WJ8+fZiLiwuTy+WsZcuWWr2wNHtpaZa/RYsWrHHjxiwxMZGdPn2ajRo1igUHBzOZTMZ8fHxYnz592O7du03uCyG1mYgxM/KjhBBSQ0ybNg1bt25FQUGBrYtCCKlFqA0PIYQQQuweBTyEEEIIsXtUpUUIIYQQu0cZHkIIIYTYPQp4CCGEEGL3KOAhhBBCiN2jgIcQQgghdo8CHkIIIYTYPXq1BCF1TFp+GuIz4pFelA5/uT9a+rVEoFugrYtFCCFWRd3SCalD0vLT8Put35FZnAk3qRuKFEXwcvZCdLNoCnoIIXaNqrQIqUPiM+KRWZyJ2KRY7L65G028miCnJAfxGfG2LhohhFgVBTyE1CHpRelwk7ppTXOXuSO9KN1GJSKEkOpBAQ8hdYi/3B/5Zfla0/JK8+Av97dRiQghpHpQwENIHdLSryU8nDyQW5qLIkURbmfdhqeTJ1r5t7J10QghxKoo4CGkDgl0C8SQ0CHwdvaGRCxBm3ptENM8BgGuAbYuGiGEWBV1Syekjgl0C0RD94YAgKiQKMgcZTYuESGEWB8FPIQQQqqExnYitQEFPIQQQiqt/NhOD3MfIjknmcZ2IjUOBTyEEEIqTXNsJwCY2WEmknKSEJ8RTwFPNaEMm3ko4CGEEFJpNLaTbVGGzXzUS4sQQkil0dhOtkWjp5uPAh5CCCGVRmM72RZl2MxHAQ8hhJBKo7GdbIsybOajNjyEEEKqhMZ2sp2Wfi1xO+s2cktzIXGQ4HbWbfjKfSnDpgdleAghhJBaijJs5qMMDyGEEFKLUYbNPBTwEIui8SAIIdWJrjnEXBTwEIuh8SAIIdXJ1tccCrZqF7tpw3Pr1i0MGTIELi4u8Pf3xz//+U8UFxcbXSYvLw/z589Hly5d4OnpCT8/PwwZMgSXLl3SmVckEun8BQRQHakmGg+CEFKdbHnN4YOtC6kXkF2Ujctpl7Hv9j6k5adZfdukcuwiw5OTk4N+/fohODgY27ZtQ3p6Ot5++21kZmZi7dq1Bpe7f/8+fv75Z0yfPh0LFiyAQqHAd999h+7du+PUqVNo37691vxz5szBpEmThH9LpVKr7VNtRONBEEKqky2vOfRKjdrHLgKen3/+GdnZ2bhy5Qp8fX0BAI6Ojpg8eTI++ugjhIeH610uJCQEiYmJkMvlwrQBAwagSZMmWLp0KX777Tet+YOCgtC1a1fr7Ugt5y/3x/2c+1rT8krz0MSriY1KRAixZ7a85tADXu1jF1Va+/btw4ABA4RgBwDGjBkDmUyGffv2GVzOxcVFK9gBACcnJ4SHhyM1NdVq5bVXNOIqIaQ62fKaQwP+1T52EfDcuHFDJ4sjk8kQGhqKGzduVGhdhYWFuHz5st6s0BdffAGJRAJPT0+MHz8e9+/f17OGZ5o0aWL0z97QeBCkLkrLT8Phu4ex4doGHL57mNpwVCNbXnPoAa/2sYsqrezsbHh6eupM9/LyQlZWVoXW9fHHH6OoqAizZ8/Wmv7iiy9i2LBhqFevHq5du4bPPvsMPXv2RFxcHLy8vKpSfLtC40GQusTWvYSI7a45fLC15+YelChL0KZeG7QNbEsPeDWYXQQ8ANeLqjzGmN7phqxfvx7ffvstfvjhBzRt2lTrs1WrVgn/37t3b/Ts2RPt27fHL7/8gvfee0/v+u7evWv2tgkhtQ81XK3b6AGvdrGLKi0vLy9kZ2frTM/JyTE7+/LHH3/gpZdewrvvvovXX3/d5PyRkZEICwvDxYsXK1xeQoh9oIarhNQedpHhCQ8P12mrU1paisTEREyfPt3k8ufOncPo0aMxbtw4fPnll2ZvlzFW4bKSmoMGDatbrPF9U89EQmoPq2V4FAoFRo4caa3Va4mOjsbhw4eRmZkpTNuxYwdKS0sRHR1tdNkbN24gOjoaPXr0wG+//WZ2FdiVK1dw69YtdOrUqUplJ7ZBg4bVLdb6vqnhKiG1h9UyPGq1Gnv37rXW6rXMmjULS5cuxciRI/HJJ58IAw9OnjxZq7fVjBkzsGrVKiiVSgBAeno6Bg8eDIlEgnfffVerekomk6Fdu3YAgCVLluDu3bvo06cP/P39ce3aNXz++edo1KgRXn755WrZR2JZ1PaibrHW911TGq5StpIQ06oU8JSVldWI0YY9PT1x5MgRzJkzB6NHj4ZcLsfEiRN1qqdUKhVUKpXw7/j4eDx48AAAN+CgpuDgYCQnJwMAwsLCsG3bNmzcuBH5+fnw8/NDTEwMFi5cqLd3GKn5qO1F3WLN79vWDVeppxgxV10PjKsU8Li4uKBFixZo06YNIiMj0aZNG7Rp08Ym75hq3rw5Dh48aHSelStXYuXKlcK/+/bta1Y7nOHDh2P48OFVLSKpQajtRd1iz983ZSuJOSoSGNtrYFSlgCchIQFXr15FXFwcTp8+jZ9//hnJycnw8fFBRESEpcpIqsheT96qaOnXErezbiO3NBcSBwluZ92Gr9yX2l7YKXv+vilbScxhbmBszxnDKgU8oaGhCA0NxahRo4Rp+fn5uHr1Kq5evYrmzZtXuYCkauz55K0Kc9teULBoH2pKWxtrsOfsFbEccwNje84YWrzRspubG3r06IEePXpYetWkEuz55K0qU20vKFi0L7Zua2Mt9py9srS6/ABjbmBszxlDuxiHhxhmzyevtVGwqJ+5N426fHOpTvacvbKkuv4AY25gbM8ZQwp47Jw9n7w8a91YKVjUZe5No67fXKqbvWavLKmuP8CYGxibExjV1ocZqwU806dPR8+ePTF16lSIxWJrbYaYYC/pbkM/MGveWM0NFmvrj78yzL1p1PWbC1C3zovagB5gzAuMTQVGtflhxmoBD2MMGzZswDfffINr165ZazPEhJqY7q7ojcDYD8yaN1Zzn3Rq64+/Msy9aVjr5lJbggjqAlzz1IVst6UYC4xq88OM1QKe3377DQC0BvojtqHv5LXVRbYyAYKxH5i1B5QzFSzW5h9/ZZh707DGzaU2BZd1uQtwWn4aErMT9WZjbRnY2Uu229Zqc6bM6m14qDrLOqpy8aiui6y+C19lAgRjPzBrP7WZSgHX5h9/ZZh707DGzaU2BZd1tQtwkaII++/sR15pnta1pUNgB1xIvWDTwK4mZrtro9qcKavSy0NjY2PRtGlTeHl54eWXX4ZCoQDAvVhz4cKF6Nq1q0UKSbRV9UWImhfZ3Td3o4lXE+SU5CA+I95iZeQvfOXLeDPzpsEbQVp+Gg7fPYwN1zbg8N3Dwv74y/2RX5avtUxeaZ4QRNny5Y3GymZof2oz/qbh7ewNiViCNvXaIKZ5jM5NQ998Het3xPX065U+HrUpuDR2XmiqTftkjqziLGQVZ+lcW/64+4fVrznm4B9gmno3RVRIFAU7lWDra25VVCnDM2fOHEyePBk9e/bE4sWLMWfOHJw7dw5JSUmIiorC1KlTLVVOoqGqT4XVcZHlL3wn7p3QKqOaqaFmaq1580rz4CHzMJh1MpYtCHANsOlTm6Gy+cp97a6qgmdujyDN+Vr4tsCfd/+s0vGw1pOlNapa6moX4BJlid5rS9zjOLT0bakz3ZLXnCJFEWKTYpFdmk1toayoNmfKqhTwJCcn49NPPwUAtGrVCg0bNsR//vMf/OMf/4BEIrFIAYmuqgYs1XGRNXThU6gVcBA56NwIRCKRwSCuf5P+Rn9gtuySa+jHfz39ul1VVVRVwpOEKh8Pa1STWat6t/x50ci9ESRiCWKTY7VuxvbWrsTJ0UlvZivYI1jvdEtdc4oURbiXew8X0y7Cy8nLrh4waiL+mlukKAIAnfO6pqpSlZaDw7PF69evDxcXF7zzzjsU7FiZuelyQ6ojJWnowhfmE6a3SkTJlEaDuJqcitZXNnurqqgqSxwPc6vTKsKa1bv8eVHfrT5yS3NxN/uuThW0Nar+bMnb2RseMt1ry6DQQVa95mQVZ6FEUYJj947ZtMqsLtEMMivTtMIWqpThKSgoQOvWrdG2bVu0bdsWIpEI2dnZ8PLyslT5iB5VfSqsjpSk5oWvfBm9nLx0MjI1ObVfpChCVnEWNl3fhAZuDcx6iqnJ+2MJFT0mfJsmTZU5HpbI5mlWfVx7fA2uEletz6urepfPblm66s+W5BI5BoUOwv47+3WuLR4yD6tdc0qUJZCKpVrT6vIDRnXQDDId4FArsthVCniSkpIQFxcnvC29Xr168PX1RUBAAFq3bo2IiAgsWbLEUmUlT1kiYLF2NZCxC1+pslRn/pqa2k/LT8O93HsoUZQgpzgH6QXpZt2Aaur+WEJljkkL3xZIzk02eTzS8tNw4t4JxKXHAQxoE9AGvYJ6WewCWr7q40nhEyQUJ6BUVQqZmPsNVFf1rubNmA8gl11chqyiLNzJugOZWFYrbiLlBbgG6L22WPOa4+TohPzSfMghF6bZ0wNGTVQbg8wqVWkFBwdjxIgR+OSTT7B161bcvn0beXl52Lp1K5577jkUFhZaqpwm3bp1C0OGDIGLiwv8/f3xz3/+E8XFxWYtu2rVKrRo0QJOTk6IiIjAli1bdOZRKBT44IMPEBgYCLlcjqioKFy9etXSu2G2mlzFw+MvfPrKWKQoQkpeCjZd34TDdw8DgMWrKywh4UkCShQlSC1Ixd7be81OlVuj+qWmqMwxMed4pOWnYd3Vddh0fROup1/HjYwb2Hp9Kzb8vUErO1T+3KlICr181UfnBp0hggiPCh5Ve/UuXwXNB5AZhRl4lP8ImUWZyCjMQKmKezCo6TeRmsDb2RsyRxlySnJqXc+h2srJ0QllqjKtaRVpWmELZmd4UlJSIJPJ4OfnJ0wrLS1FXl6e1jQXFxd069YN3bp1s2xJjcjJyUG/fv0QHByMbdu2IT09HW+//TYyMzOxdu1ao8tu3boV06ZNw/vvv49BgwZh586dGD9+PDw8PDBo0CBhvrfeegurV6/G119/jcaNG+Orr75C//798ffffyMgoPbfxKpTWn4abmfdRnZxNg7fPQwnsROa+zbHmPAxNe59QOlF6ZV+irHX9xtV9piYOh7xGfFIyEzA34//RmZJJoLcgxBZLxK3Mm8JGY7KZtx45Z9KvZy90CGwAxKzE4VArDqrdwHtAFLFVGjp1xJKtVIIkihTYZpcIkcj90bILslGmaqsVvUcqq28nb2RV5qHnJIcOImdakUW2+yAZ8aMGejatavQK2vevHn4z3/+g9LSUri6umLMmDGYM2cO2rVrZ7XCGvLzzz8jOzsbV65cga+vLwDA0dERkydPxkcffYTw8HCDy37yyScYN24cFi9eDACIiopCQkIC5s6dKwQ8Dx8+xE8//YTvv/8er7zyCgCga9euCAkJwbfffosvvvjCqvt3O/E2zlw+g7TMNAT6BKJru64ICg6y6jat6dSDU3ic/xhZpVk4+/AsujTogrMpZxHoWvNS9v5yf71PMXX5BmStY5JelA61Wg1Hh2eXJbmjHAqmEIKp8tmlVzu8WqEqH31VHw4ODqjvVh8N3RtWe/Uuv998EOYqdYVcIkeZqgwFZQW14iZSU8glcsilcohFYrt6wKipamOQaXaV1uXLl4Wszb59+/DZZ5+hQ4cOeOuttzBs2DDs3r0b3bp1w/Lly61WWEP27duHAQMGCMEOAIwZMwYymQz79u0zuFxSUhISEhIwceJEremTJk3CuXPn8OTJEwDAoUOHoFKpMGHCBGEeNzc3DB8+HL///ruF90bb7cTbWLN3Dc7dPoe84jycu30Oa/auwZ3EO1bdrjXFpceBgaFUWYqMogzUc6kHBsa126hhWvi2gMxRhjJVmdFUOQODWq2GslQJxpiNSmsZjDEoS5UG98XcY1JRfnI/iJgICrVCmFakLIKjyFFIk1cl4wbor/rwcPKAt7N3lcpuirHqXc0AUuYoQ7uAdpA5yuDs6FyhqlB7OgdrO1O/IXshl8jRwL1BjW5aocnsDE9eXh48PDwAAGvWrMHYsWOxefNm4XOFQoGPPvoIs2bNQpMmTRAVFWX50hpw48YNTJ8+XWuaTCZDaGgobty4YXQ5ADoZoJYtW4IxhoSEBPTs2RM3btxAvXr14O3trTPfunXroFartbro85o0Mf7Ee/fuXaOfA8CZy2eQXZSNlg25QbsaoAHiU+JxLu4c4Gxy8RpJxESAnmuAiImqvzAmBLoFopF7I9zLvQeJg+EqD6ZmeHDyAQ7uO4gR34+Ao8zqb22xGlWZCvv/sR8AMPT7oTr7Yu4xqagwjzAojyuR55KHMnkZckpyUFBWgDYBbYRgqqrZJX1PpeF+4bicdrlKZa+K8gFkZnEm/F38EeQRVKFMhT2dg7Wdqd8QsQ0RMzP8rF+/PlasWIEhQ4bA398fa9asweDBg3Xme+GFF5CRkYGDBw9avLCGSCQSfPbZZ3j//fe1pvfs2RP+/v7Yvn273uXWrVuHF154AWlpaVrtcO7cuYNmzZph165dGDFiBF555RWcOHECCQkJWsv/+uuveOWVV5Cbmwt3d3ed9ZsKeAYPHoyHDx8anefOvTtQqpRwkjoJ00rKSiB2EKPImRv0qbV/aziIDCfr1EyNv9P/1ppX3zRL0FxvK79WuJ5xXWcbKXkpXNWEktuPei71oGZqBLoG4knxE71lMlbeyu6LOcupmRp/P/4bWcVZ8Hb2Rut6uvPx8xRnFSNYEYyA1gEQOYisdoyrylS5mJoh/W8uY+Lf2h8iB5Hu8iaOib7tADC53QfXHuCu5C5KJCVwcnRCM+9m8JX7Cjf9IkURLqddRkFZAVykLghwDYBULEU9l3omAwOhPPwVT2ReuUwxdDzN+S3w811Ju4LMkky4SFzQxKsJUvNTIXYQm10eQ+dgdTFnX61+zSn3vZpzTla1DIbWZ+o3ZGnm7pel5qvIMa8ODRo0wLJly0zOZ3bY2blzZyxfvhwPHz5EZmamVvWRpokTJ2Ly5Mnml9RCRCLdE4oxpne6qWX5GFBzuqH1G/oMMC+DY8qarVx1Fp/hAYD4lHh0btYZzz/3PABAKpYa3U/GmPBUzM+rb5olaK5X4iARqic0t5Gal4rVcatx48kNMMYgd5SjuV9zTIyYKFQtlC+TsfJWdl/MWY4xruqtTFUGqVgKmaNM7/mSfjcdB/5xAKyEocfsHghoEwDXAFerHOOqMrXfylKl0adTc46Jvu0AMLndff/YBwUUiPoqCnK5XGfdjDEk5yTj78d/I6ckB/Xd6yPCP8K8Kp+n5dH83ZpTLnPXW355c34L/Hyax1Mqlhqc11gZ9J2DboFuJpe1BHP21drXnPLfqznnZFXLYGh9pn5Dlmbufllqvooc85rE7G/h/fffR9++fbF9+3aEh4fjzTffxK5du3SqefLy8lBWVmZgLdbh5eWF7Oxsnek5OTlGGyzzAyRmZ2ejXr16Wstpfm5s/RKJBC4uLlUpvlFd23XF7Ye3EZ8SDw9nD+QW58JL7oXu7bubneoWiUQ68+qbZgnl1ytz0N1Gfff6mNp2qtb7i/j3Ypm7XnM/q0hZDc3jJHGCk8TJ4DwFjwrw4I8HUGQp4CBxwOO4x8h/mI9m0c2q7YZTEVX97s05Joa2Y/J4QwQppHB3coejRPfyJBKJEOIVghCvkEqV29D2q3o89C1vzm+Bn6/88TQ0ryG2PgfN2dfquuZYal5brM/a5bDUfDVlvyvK7ICna9euSEhIQGxsLEaOHInvv/8erVq1wuzZszF48GAEBAQgPj4eH374YbX31AoPD9dpq1NaWorExESdtj3llwO4tjwtWrQQpsfHx0MkEgnTwsPDkZ6ejqysLK0ALz4+HmFhYXrb71hKs9BmmDJsitBLK6xhGLq3747QJqFW22Z14EeYtQcZ8RkoyS2BzIO7AHg380ZOUg4y4jNqZMBD7A+dg4SYVqE8W+PGjfHSSy8BAObPnw+ZTIbPPvsMc+fOFeZxcnLCmjVrLFtKE6Kjo/HZZ58hMzMTPj4+AIAdO3agtLQU0dHRBpcLCQlBixYtsGnTJowaNUqYvmHDBnTu3Fmoths0aBAcHBywefNmvPrqqwC412rs2bMHL7/8shX3jNMstBmahTaz+nZI5RSlF0Hqpt1zSOYuQ1F6kY1KROoaOgcJMa1KFYsffPABXn75ZRw4cADJycnw9PTEqFGj0LBhQ0uVzyyzZs3C0qVLMXLkSHzyySfCwIOTJ0/WqtKaMWMGVq1aBaVSKUxbsGABxo8fj9DQUAwcOBC7du3CoUOHcODAAWGeBg0a4NVXX8W///1vODo6Ijg4WHhlxptvvllt+0lqJrm/HLkPc9FhZgcAgIOjA0rzSuHVhN4pR6oHnYOEmFblllR+fn6YMmWKJcpSaZ6enjhy5AjmzJmD0aNHQy6XY+LEifjyyy+15lOpVFCpVFrTxo0bh6KiIixatAhLlixB06ZNsWnTJq1RlgHgm2++gaurKz7++GPk5uaiS5cuOHz4MI2yTODX0g85yTnIScqBzF2G0rxSOHk6wb9VzR1indgXOgcJMc3sbumEEMPy0/KREZ+BovQiyP3l8G/lD9cAV9ML1kDV3cPE1tu1F/Z0DtZ2dC7XTPQtEGIBboFu1DiU2BSdg4QYVzNGQiOEEELsRH5aPvJS8pB1JwtJsUnIT8u3dZEIKOAhhBBCLCY/LR+JBxJRnFUMlUKFx3GPcXvfbQp6aoAqBTwLFizAZ599hpKSEkuVhxBSR9FTMbEHmmMiSeQSeDfzRklOCTLiM2xdtDqvSm145s+fD5FIhDfeeANOTsZHXSWEEEM0n4prw2jVhBhCYyLVXFUKeE6fPg2A6xZOCCGVRSMFE3tBYyLVXFUKeLp06WKpchBCagi+aklZokRSbFK1vISSnoqJvaAxkWou6pZOCBHYqmqJnoqJvXALdEOz6GbCmEheTbxoTKQaggIeQojAVlVL9FRM7AmNiVQzmd1Lq6CgAIsWLcKlS5esWR5CiA3ZqmqJfyoOaBsAmasMAW0D0DymOT0VE0IsxuwMzw8//IDPP/8cY8aMsWZ5CCE2ZMuqJXoqJoRYk9kZnu3bt2P69OkICwszOM+RI0cQFRWFuLg4ixSOEFK9/Fr6wdnLGTlJOSjOLEbW7SyqWiKE2AWzA574+HgMHjzY6Dz9+vVDUVER1q9fX+WCEUKqH1UtEULsldlVWiqVCm5uptPN48ePx8aNG6tUKEKI7VDVEiHEHpmd4QkMDERiYqLJ+Vq3bo379+9XqVCEEEIIIZZkdsDTp08frFq1yuR8YrEYOTk5VSkTIYQQQohFmR3wvPrqq/jrr7+wcOFCo/PFx8fDz8+vygWriH379qFdu3ZwcnJC06ZN8eOPP5pc5tatW5gzZw5atmwJFxcXBAcHY8aMGXj06JHWfEePHoVIJNL5mzBhgrV2hxBCCCEWZnYbns6dO+O9997D3Llzce3aNSxcuBBNmzbVmicjIwP/+c9/EBUVZfGCGnL69GmMHDkSL774Ir755hucPHkSc+bMgVQqxcsvv2xwuUOHDuHYsWOYOXMm2rZti5SUFMyfPx/dunXD33//DVdX7Uaav/32G1q0aCH829fX12r7RAghhBDLEjHGWEUWmD9/Pj7//HMwxtCrVy+0bdsWgYGBuHfvHjZv3ozCwkJcuHABLVu2tFaZtQwdOhRZWVk4e/asMG3mzJnYu3cvUlJS4OCgP4n15MkT+Pj4QCQSCdOuXr2KNm3aYOXKlZg6dSoALsMTFRWF8+fPo2PHjtbdGUIIIYRYRYVfLTF//nwMHz4cCxcuxP79+3Hs2DHhsyZNmmDz5s3VFuyUlpbiyJEj+OKLL7SmT548Gb/88gsuX76MDh066F1WX4amdevWEIvFSE1NtUp5CSGEEGIblXqXVocOHbBjxw4UFRXh+vXryMnJQUBAAFq3bm3p8hmVmJiIsrIyhIeHa03nA64bN24YDHj0OX36NFQqlc76ACA6OhqZmZkIDAzExIkTsWDBAjg7OxtdX5MmTYx+fvfuXbPLRgghhJDKq9LLQ+VyOTp16mSpslRYdnY2AMDT01NrupcXNwx+VlaW2etSKBR48803ERYWhmHDhgnTPTw88N5776F3795wdnbGkSNHsGTJEty4cQN79+6t+k4QQgghxOpq3NvSc3NzkZaWZnK+kJAQ4f812+FoMjRdn9mzZ+PatWs4fvw4HB2fHZZ27dqhXbt2wr/79euHwMBAzJ49G+fOnUPnzp0NrpMyOIQQQkjNUOMCnh07duCll14yOd/ly5eFTA6f6eHx/+Y/N+XTTz/F8uXLsX37drMaJj///POYPXs2Ll68aDTgIYQQQkjNYPY4PNVl2rRpYIyZ/Gvbti1CQ0MhlUpx48YNrXXEx8cDgN62OOX9+OOPmD9/Pn788UeMGDHCKvtECCGEENuqcQFPRchkMvTr1w+bN2/Wmr5hwwYEBgZqVUXps3HjRsyZMwcLFizAzJkzzd4u/64wW7ZfIoQQQoj5alyVVkXNnTsXvXv3xiuvvILJkyfj5MmT+OWXX/Dzzz9rjcHTtGlTBAcH4/DhwwCAY8eO4cUXX0SvXr0wcOBAnDlzRpjXz88PoaGhAIAXXngBTZs2Rfv27eHk5IQjR47g//7v/zBy5Egal4cQQgipJWp9wNOtWzfs2rULH374IVavXo2GDRvi+++/1xllWalUQqVSCf+OjY2FQqHAsWPH0K1bN615p06dipUrVwIAWrVqhXXr1uHrr79GaWkpQkJC8OGHH+KDDz6w+r4RQgghxDIqPNIyIYQQQkhtU6vb8BBCCCGEmIMCHkIIIYTYPQp4CCGEEGL3KOAhhBBCiN2jgIcQQgghdo8CHkIIIYTYPQp4CCGEEGL3KOAhhBBCiN2jgIcQQgghdo8CHkIIIYTYPQp4CCGEEGL3KOAhhBBCiN2jgIcQQgghdo8CHkIIIYTYPQp4CCGEEGL3KOAhhBBCiN2jgIcQQgghdo8CHkIIIYTYPQp4CCGEEGL3KOAhhBBCiN2jgIcQQgghdo8CHkIIIYTYPQp4CCGEEGL3KOAhhBBCiN2jgIcQQgghdo8CHkIIIYTYPQp4CCGEEGL3KOAhhBBCiN2jgIcQQgghdo8CHkIIIYTYPQp4CCGEEGL3KOAhhBBCiN2jgIcQQgghdo8CHkIIIYTYPQp4CCGEEGL3KOAhhBBCiN2jgIcQQgghdo8CHkIIIYTYPQp4CCGEEGL3KOAhhBBCiN2jgIcQQgghdo8CHkIIIYTYPQp4CCGEEGL3KOAhhBBCiN2jgIcQQgghdo8CHkIIIYTYPQp4CKnlvv/+e4hEIkRERNi6KDbRt29f9O3bt1LL/vjjj1i5cqXO9OTkZIhEIr2fEUJqJwp4CKnlVqxYAQC4fv06zp49a+PS1C6GAp7AwECcPn0aMTEx1V8oQohVUMBDSC124cIFxMXFCTfm5cuX27hE9kEmk6Fr167w8/OzdVEqhDGG4uJiWxeDkBqJAh5CajE+wPniiy/QvXt3bNy4EUVFRTrzPXz4EDNnzkSjRo0glUpRv359jB07Fo8fPxbmycnJwTvvvIMmTZpAJpPB398f0dHRSEhIAAAcPXoUIpEIR48e1Vq3vuqfadOmwdXVFQkJCRg8eDBcXFwQGBiIL774AgBw5swZ9OzZEy4uLmjevDlWrVqltc758+dDJBLp7MfKlSshEomQnJxs9Lh8+umn6NKlC7y9veHu7o727dtj+fLlYIwJ8zRu3BjXr1/HsWPHIBKJIBKJ0LhxY4P7BAB//fUX+vfvDzc3N8jlcnTv3h2///673jLGxsbitddeg6+vL3x8fDB69GikpqYaLbfmsbt+/Tr69+8PFxcX+Pn5Yfbs2TrfrUgkwuzZs/HTTz8hPDwcMplMOJbmlBUw79zIy8vDv/71L4SEhEAqlaJBgwZ48803UVhYqLWuLVu2oEuXLvDw8IBcLkeTJk0wffp04XO1Wo2FCxciLCwMzs7O8PT0RGRkJL777juTx4WQqnK0dQEIIZVTXFyMDRs2oFOnToiIiMD06dPx8ssvY8uWLZg6daow38OHD9GpUycoFAp8+OGHiIyMRGZmJg4ePIjs7GzUq1cP+fn56NmzJ5KTk/Hvf/8bXbp0QUFBAY4fP460tDS0aNGiwuVTKBQYPXo0Xn31Vbz77rtYv349PvjgA+Tl5WHbtm3497//jYYNG2Lp0qWYNm0aIiIi0KFDB4scm+TkZMyaNQtBQUEAuABrzpw5ePjwIebOnQsA2LFjB8aOHQsPDw/8+OOPALjMjiHHjh3DwIEDERkZieXLl0Mmk+HHH3/E8OHDsWHDBowfP15r/pdffhkxMTFYv349Hjx4gHfffRcvvPACjhw5YrL8CoUC0dHRmDVrFt5//32cOnUKCxcuxL1797Bnzx6teXfu3IkTJ05g7ty5CAgIgL+/v9llNefcKCoqQp8+fZCSkiLMc/36dcydOxd///03/vzzT4hEIpw+fRrjx4/H+PHjMX/+fDg5OeHevXta+/vVV19h/vz5+Pjjj9G7d28oFAokJCQgJyfH9JdKSFUxQkittHr1agaA/fTTT4wxxvLz85mrqyvr1auX1nzTp09nEomExcfHG1zXggULGAD2xx9/GJwnNjaWAWCxsbFa05OSkhgA9ttvvwnTpk6dygCwbdu2CdMUCgXz8/NjANilS5eE6ZmZmUwsFrO3335bmDZv3jym7/L022+/MQAsKSlJmNanTx/Wp08fg+VWqVRMoVCwBQsWMB8fH6ZWq4XPWrVqpXdZffvUtWtX5u/vz/Lz84VpSqWSRUREsIYNGwrr5cv4+uuva63zq6++YgBYWlqawbIy9uzYfffdd1rTP//8cwaA/fXXX8I0AMzDw4NlZWVpzWtuWc05NxYvXswcHBzY+fPntaZv3bqVAWD79u1jjDG2ZMkSBoDl5OQYXNewYcNY27Ztje4/IdZCVVqE1FLLly+Hs7MzJkyYAABwdXXFuHHjcOLECdy+fVuYb//+/YiKikJ4eLjBde3fvx/NmzfHgAEDLFY+kUiE6Oho4d+Ojo5o2rQpAgMD0a5dO2G6t7c3/P39ce/ePYtt+8iRIxgwYAA8PDwgFoshkUgwd+5cZGZmIj09vcLrKywsxNmzZzF27Fi4uroK08ViMaZMmYKUlBTcvHlTa5kRI0Zo/TsyMhIAzN7PyZMna/170qRJAIDY2Fit6f369YOXl1elymrOubF3715ERESgbdu2UCqVwt/gwYO1qjg7deoEAHj++eexefNmPHz4UGddnTt3RlxcHF5//XUcPHgQeXl5Zh0LQiyBAh5CaqE7d+7g+PHjiImJAWMMOTk5yMnJwdixYwE867kFABkZGWjYsKHR9ZkzT0XJ5XI4OTlpTZNKpfD29taZVyqVoqSkxCLbPXfuHAYNGgQA+OWXX3Dy5EmcP38eH330EQBUqlFvdnY2GGMIDAzU+ax+/foAgMzMTK3pPj4+Wv/mq8vM2b6jo6PO8gEBAXq3U75MFSmrOd/748ePcfXqVUgkEq0/Nzc3MMbw5MkTAEDv3r2xc+dOKJVKvPjii2jYsCEiIiKwYcMGYV0ffPABlixZgjNnzmDo0KHw8fFB//79ceHCBZPHhJCqojY8hNRCK1asAGMMW7duxdatW3U+X7VqFRYuXAixWAw/Pz+kpKQYXZ858/DBS2lpqdZ0/oZnSZrb0mxXY862Nm7cCIlEgr1792oFXDt37qx0eby8vODg4IC0tDSdz/iGyL6+vpVef3lKpRKZmZlaQc+jR48A6AZS5Rt3V6Ss5nzvvr6+cHZ21gqiy3/OGzlyJEaOHInS0lKcOXMGixcvxqRJk9C4cWN069YNjo6OePvtt/H2228jJycHf/75Jz788EMMHjwYDx48gFwuN1oWQqqCMjyE1DIqlQqrVq1CaGgoYmNjdf7eeecdpKWlYf/+/QCAoUOHIjY2VqfKRdPQoUNx69Ytow1q+R5MV69e1Zq+e/fuqu+Umdsq32BXH5FIBEdHR4jFYmFacXEx1qxZozOvTCYzK+Pi4uKCLl26YPv27Vrzq9VqrF27Fg0bNkTz5s1Nrqci1q1bp/Xv9evXA4DJQRYrUlZzzo1hw4YhMTERPj4+6Nixo84f/11pkslk6NOnD7788ksAwOXLl3Xm8fT0xNixY/HGG28gKyvLZM87QqqKMjyE1DL79+9HamoqvvzyS703v4iICPz3v//F8uXLMWzYMCxYsAD79+9H79698eGHH6J169bIycnBgQMH8Pbbb6NFixZ48803sWnTJowcORLvv/8+OnfujOLiYhw7dgzDhg1DVFQUAgICMGDAACxevBheXl4IDg7G4cOHsX37dovvY3R0NLy9vTFjxgwsWLAAjo6OWLlyJR48eGBy2ZiYGHzzzTeYNGkSZs6ciczMTCxZskRvD6zWrVtj48aN2LRpE5o0aQInJye0bt1a73oXL16MgQMHIioqCv/6178glUrx448/4tq1a9iwYYPebvSVJZVK8fXXX6OgoACdOnUSemkNHToUPXv2NLm8uWU199zYtm0bevfujbfeeguRkZFQq9W4f/8+Dh06hHfeeQddunTB3LlzkZKSgv79+6Nhw4bIycnBd999B4lEgj59+gAAhg8fjoiICHTs2BF+fn64d+8evv32WwQHB6NZs2YWO36E6GXTJtOEkAp77rnnmFQqZenp6QbnmTBhAnN0dGSPHj1ijDH24MEDNn36dBYQEMAkEgmrX78+e/7559njx4+FZbKzs9k///lPFhQUxCQSCfP392cxMTEsISFBmCctLY2NHTuWeXt7Mw8PD/bCCy+wCxcu6O2l5eLiolOuPn36sFatWulMDw4OZjExMVrTzp07x7p3785cXFxYgwYN2Lx589ivv/5qVi+tFStWsLCwMCaTyViTJk3Y4sWL2fLly3WWTU5OZoMGDWJubm4MAAsODmaM6e+lxRhjJ06cYP369WMuLi7M2dmZde3ale3Zs0drHr6XVvleTYZ6uZXHH7urV6+yvn37MmdnZ+bt7c1ee+01VlBQoDUvAPbGG2/oXY85ZWXMvHOjoKCAffzxxywsLIxJpVLm4eHBWrduzd566y3hHNu7dy8bOnQoa9CgAZNKpczf359FR0ezEydOCOv5+uuvWffu3Zmvry+TSqUsKCiIzZgxgyUnJxs9JoRYgogxjZG4CCGE2NS0adOwdetWFBQU2LoohNgVasNDCCGEELtHAQ8hhBBC7B5VaRFCCCHE7lGGhxBCCCF2jwIeQgghhNg9CnhspE+fPsLYFIQQQgixLhp40EYePHiApKQkiw5WRgghhNQ15jZFpoDHhho0aGCVYfkJIYQQoo0CHhuSSqVo3769rYtBCCGE2D1qw0MIIYQQu0cBDyGEEELsHgU8hBBCCLF7FPAQQgghxO5RwEMIIYQQu0cBDyGEEELsHgU8hBBCCLF7FPAQQgghxO5RwEMIIYQQu0cBDyGEEELsHgU8hBBCCLF7FPAQQgghxO7Ry0MJIYRUnUIJlCkAqQRQqwGZ1NYlIkQLBTyEEFLTqFTA4yxA7AB4ugEiEaBSAxIxIBZz/65J1Grg/DUu6OE1CgBCGmiXVa3m/l3Tyk/qBAp4CCGkpnnwGLiXqv8zsRjwcgO83AEvD8BJCjAGlJRx/+9gg5YKpWXawQ4APHjElclNDhSVAHkF3H99PYFWTau/jKTOo4CHEEJqmqJiw5+pVMCTHO6vPFc50KGltUplGB/syKRAx1ZAQhKQmQNkZHF/mjJzuQCtslme0jJueQDIyQdKSoGsXKBRIODnVeldIPaPAh5CCKlpSsu4/7ZsAvh4PgsOVCqgqBTIzgWy84C8wmc3fwAoKOKqjao7y8MHPBJHwFEMNA3i/l+l4qY7yQB3F+DGXUDNuCDFScZlfMoUXHUdGAARt285+dwxcHPh9qWgiJuHMW7/9Hn4mAIeYhQFPIQQYmvFJUByKnczd3TkAhmAy5hoBi+OjoC7Ixc8BNfnAgo1A8CAU3HcPCpV9Qc8yqeBjeTpLcVJCoQ11p3P2QkoLAbibgJK9bOAyJCcfOOfO8m4/5aUArkFwP00wMMV8HCrUPFJ3UABDyGE2FpqBpCepTudv6EbIhYD4qf/7+DABUxKFSCRWLyIBqnVXLYJ4AIyY/y9gaSHQKmC+7dIBDjLuP0oLeMCIE93rp2PTMoFgsWlXAAjdeTmk0kBMC7jI5Ny2z9xiVtf0kPumHVpba29JbUYBTyEEGJrSo0Gvx6uXFWOuyvXxdtcjmKgTM1lTkwpU3Dzi0Tc/ytVXLshR0fur+Bphkn9tBqpVME1QBY7cGVTq7ksVG6+dmNliYlbSlAgUN8PyC/ituvtbjw483I3sr9P/+vgwFWhpaY/qyIjRA8KeAghxNb4IKVpENDAv3LrcBQ/bQ+jfNZrSiR6Oj5OGZCdD+QXcsEN30aoMh5n6t+2izMQ6GtGOR2NBzKV0cCfywqduardpokQDRTwEEKIrfFtWRzFxuczRvx02bhbFV/WwYELWPhAyd31WXlE4KqOnGTcZwWF3LZc5Vw2ytmJy+zYemwdvt0SY1XrBUbsFgU8hBBia3yjX3EVAp7ywZJYDIBx1WJSCSB3BjxdAakUkDs926aT9NlggHx2pDYGCw4aZVapqxY8ErtEAQ8hhNiakOGpQu8qzRt+10jTr3bQ1z6oNgY6PM2eaWo1nrXmJoRDAQ8hhFSXrFyuYa1CyfVO8nLn2rRYIsPTKJDLbPh61c33WGlmqQyN1UO445Nf+Kwakw9yFUquR1yZguvmX1TMNVRvGsRlBO0ABTyEEFIdCoqAv28bn6cq1TAerkCbsMovbw/EDlzwSAGPYbn5z9p5OThwgXdp2bOgu7zHmdw70eyADV66QgghdYxKDWRkP/u3v7fuU7NIZLpbNzGOr9ZSUU8tg4pLn/2/Ws0NBMkHO1IJ4OrMvf+MZ2pwyFqEfl2EEGItZQrg+p1nIycDQOP63CjJAHczKVNwowQ7y0wP3EeM4wMeyvAYxh8bXy/uXCwp5apA+QEgefdSn43+bScow2OmnTt3okuXLnB3d0e9evUwevRo3Lx509bFIoTUZDl5z4IdiSP3XqwAjbFqxGKuW3eAL70OwRLEFPCYpH6a/RI/bcPj48kNMVC+/ZiQLbOfY0kBjxn+/PNPjB49GmFhYdi2bRv++9//4ubNmxgwYADy8vJsXTxCSE3FDyjo4wF0awNENK2bDYqrC99TLTcfSHnMjb6ckcW9k4sPgvhxeuoq/jg4mOiRxwdAdhTwUP7UDBs3bkRwcDBWrVoF0dMW7cHBwejSpQtOnjyJoUOH2riEhJAaSehuXgMG5qsL+KzEvTTdz8TiZ6NRO4qBTq2q951jNQUfwJh6wSyfLbOjNjyU4TGDQqGAm5ubEOwAgKenJwCA1eUnBUKIcUoLjKBMzKf5ygp3V+51Ex6uXHWi6ukrNRh7OmJ0sc2KaVN8lZa5AY8dVQ9ShscMM2bMQP/+/bF06VJMmTIFOTk5+Ne//oXw8HD079/f4HJNmjQx+NmDBw/QqFEjaxSXEFJTqCwwvg4xX3B9oEE97mYtKjfycm4+9z3cvsf1TLKjG3mFMDOrtKgNT93Uu3dv7NixAx999BG8vLwQEhKCxMREHDp0CDKZzNbFI4TUVMKAgnSprTb8W+A1iR0Abw8u28Nn2+pqwKM2t0qL2vDUSadOncILL7yA6dOnY8SIEcjNzcWiRYswdOhQnDx5Eu7u+t/8e/fuXYPrNJb9IYTYCUu8FJRYltB1vY42R1BVsEpLoQAepnPjRpUpuCBeBMDTvdaNwEwBjxn+8Y9/oF+/fvj222+FaT179kTDhg3x66+/4u2337Zd4QghNUN+IdcbSKnkno7FYq7qBKAqrZqkro/VY26Gh3/XmkoN3Lmvf56mQUADf8uVzcoo4DFDfHw8RowYoTXNz88P9evXR2Jioo1KRQixOYWC64FVpgAuJxju7qzvRZ3ENvi2K3U+4DHRhkcqASKacWNJFRRxAxSKxdz0vEIue3nnPrceuVOtGEeKAh4zBAcH4+LFi1rTHj16hIcPH6Jx48a2KRQhxHJS04HMXC47o1Zz4+cwNSCTAU5Srk0I/8JPmZR76s3Jf9YQVrPrbgN/Lu1fWMyl/gP9Ac+afzOoM+ywMW6FmJvhAbjxo3w8dKeXlAJn/+b+/9Y97r/twwE3F8uU0Uoo4DHDG2+8gTlz5mD27NkYOXIkcnJysGjRIri6uuKFF16wdfEIIVWhUAK3DaTsSxWAqbFFNYOd0EZAw3oWKxqxgrrQhocfXDG/iKtqFTtw+1tSyr3GBDAv4DHESca9liKvAMh6+gMpLKaAxx688cYbkEql+PHHH7Fy5Uq4urqic+fOWL16NQIDA21dPEJIRWXmcBd+JylQVMJNk0qAZkHcjUCl4jIADiJuvBY147I1So3pzjJuWH7+TdNOMsC9Zl/wCey3Sosx4Hoil3U09OZzTVUdB9PF+WnmU8UFVSWlxufnq3tNDcDJmNUG6aSAxwwikQgzZ87EzJkzbV0UQkhVqVTcjaF8exsPV+6FiuWZapPpKjcxA6lR7LXRck4+F8ibqyoZLrUaiL+r/RvKzgf8irm3sWflcO18+AEfJY7PMkGOYkDuDEjEQJmSa//GGJeFUqq4P5kUaNIQ8NPze6wCCngIIXUHY8CDR88u1F7u3AVWIn72BnNi3+y1SqtIY+TohvW4QNzNhWuXVqbgpjs4ADeTuX8rFJXflkKp+8CQVwBcuG56WaWKm9eYklIuc2phFPAQQuqOnPxn71ny9QRaNbVpcYgNaFZplZQBYFzDc8nT2yE/rIBmtYqlqlkYe9bDSeLIVaNKHLWzToUlXDBSXPp0m4yrPtL3RnNNpRpBTaiRUfx9PIG0jGfzV4bwyhRHri2PoW7rhohEXEaHgXvYEDlw+84HOQ4Oz74PC6KAhxBSd/DtdQAgiNrf1Un8gHqPM7k/nrOMC4D4zIXciQtIyhTPMiR+XoBUygVNDg5c7zu+LUt5RSVAcipQXMLNo1By3bvL9AQaEkeuDVhxKRdw6ePgwAU9Mim3DtHT5UoV3Lr5xvOmupvLng6RkPKYa8NWWMz9lSq4dTjLuP2SSbmApJ63bqDFl1EiBur7cf9fWMxVV6lUXAAjduDW4evJBTISRy5AUiq56fqOmVr9NONqnZftUsBDCKk7+DR+oF+N71FCrKT864AcRFz1VnG5RrdFJdoBMgCkPdFdn7OMe21FaCPtm3TKYyAji/v/gqJn0/m3tjP2LPhRKLk/gPtMJtXO/PCBkqmqIH79xkil3H/V6mddyjWVKZ715AK430z56l6FRoZHJDI9+KDmOFTGRh13cACk1nsNCwU8hJC6g7+pWCFdTmoJHw+gdTMu4PB04wKE0jIuQyGVPOu5x4+SLZNyN2KlEkjPAiACVEqut15eIRcoPUznqoo039bOn2suzlxAJHYAXOSAt7t2FZZSxW1PoeCCEXcX3ewGY1xvweIS7g8AJBKud5TcidsGP5aUk4n3O/p6AtleXPlEIm7/3V247JFIxPXyKi59lv1KTuXK6yjmAhxHMTcPUOtemUK/ekJI3cHfhKR06auzRCIuANEkk3J/PHdX7q+88r34SsuAM1e5/y9fVcVXMTUKAOr56C8Ln9EwNRK3SAS4ybk/LX7P/reohAt4TK1L4gi0DDX8OT9IZsN6wMV47v/vphhelybGnlavqbnAkS87wAV2ufncZ47iZ8GSmwvXtq6wmGusXFzKVbtZIQtLv3pCSO3Etwvgn5YZe9bosaSMu+GUKZ5WV5RwT+P5hdznEnrVg11ijPvuFQru+y4q5r5rmRTwcuNuxvlF3HwN/KveTkQm5dr1ZGQ/C6Z5fMPe6nqPGh9giS1UJSR3evbCULVaf682Bwduv28mcfMVlWoPxMk3Pq5Mjysfz0oX3RAKeAghtU9aBtf+QCoB/L25i2xWrnk9T/inZWJ/7twHUjPMmzfxAZfFUam4jIKPF3cuaVbTsKejExeWPO2pBe4m7vQ0IyQWPwuey3fz5hv28o2gGeOyGAVF3Jg0jHHBQHEJV13l6cqNT1NWBri5cp8xxmVECou5oIF/zUlxKTcfv22507P2PZYKeErKdNswlVdaBjx+wmWWNIlEXNk1e14BXPml0mdBFN+9nc+68a9uUSitMr4VBTyEkNqHb1RZpuAah5YnFnM3MQcHrvrKScbd3JxkXHuHWtb2gJgpJ//Z/3u4PnvvWWkpF1SIHbTfocUHCYXFXBBy+x4XDMtkXHCTV2g8OyGVPMvs3H/ENeZ1EHFBFN8IOt7MF0w/yQGQw/3/o0wjM+qhObulMkqaAzO2avqsbVGZghvgMOkhkJ3H/QHccWveGHB24o5daRl3rEvKALWKC3Q8XLWzamo195AicayW3yQFPISQ2odvL+Hmwl1oHRy4i6mXx7NuuVYanp7UQEolUKyRkejcmssWaFKpnlV/Ps7k/l/0NDjJyX/WSDe/iPvjiURc8CyVcvMqlFx1lVqt224nzUR2SSTigjC5E7fOkjIuCPfx5Nq3lJQ+eyu5+mnmQ/30tSVuLlwQwRjXXdxV/vT/nzaezs7jltP3ss/K4AMep6ddy3kSR24fkh5qz9+ssXZWxtmJ+6+xTI2Dg+73ZEUU8BBCah/+qTq4vuUu8KT2unLzWa8qkehZg1lNmpmPAF/tzwJ8gebB3HmVk88FNgxcRsjXSzf7wBgX9BSXAMkPudcqGNKx1dOBBiXPso761LTzmG+zo6+8jmKgRQgXpMmdud5pLs7VW75KoICHEFL78NUM1NuKAM+CHYDLRlQmu+fwdKA8Qz2qNIlEXKZD4go0DQKu3tLffkziyGVzamO2kc/wGBrIsJ6PeceqBqGrBSGkdsnO0xhPh3pb1XmabU26tTHdLdvS5M5A1zbc//O9xETg2q9YacTgasEfV5H1BgKsbhTwEEJqF370WuDZMPmk7tLsLm3rxugiUbW2SbEqY1VaVcXY05GmldxvWDMo5N+eLpVYPFikgIcQUjMVlzzrAcLAta0oKn7WMLVlaO19eiaWo5nhofPBckxVafHKFEBCEvf/rnKuurmklGvjJH06BpJKBUDEfaZUcb3m+IDKSQq4unD/LS7leoABQHgTbpgAC6KAhxBS8yiUwIXr+gc7A7gGqJ56RsIldY/mjdkWAY9azb1aQqXixuspK+OqtZxlXIPnhvWqv0yWYG6GJzPn2YMJ/1+eqXF8AO5Ylejp+m+F7C0FPISQmqeo5NkF19uDu5HJnbhh76USrpuurasvSM0gBDwVqHrhX9xprNqEr3bRt17+HVj8QIL6Xr3Av4Qz0Lf6Rls2l0r1bDwi/j1ZALe/RSXciORZTwcTNBVEajbW9vHkhongjys/cKOjI9euSSbj2jVJHbljIhJxx6+omBtWQCbhhpZwtU6PLwp4CCE1D98Ly8OVe9EjIYaoKtjWpLAYiLvJZRFlEu4mLRY/aztSXMIFM/x4O05SrqpGKn328k59GQmA65rt5sIF5MlPx6kpUwLONSjgySsErtzgqok1iUQAmO50U1masqfHIrg+0Li+8Xn18fbQfbeZlVDAQwipWQqLuVcEANovdCREn4pmeDR7+ZUqTL+KwlCVC8BlKzTfoVVYrN1FHuACgprUkDk1XTeoAZ69AqO8omLg7FXuTe/8aytUTwddlDo+e61ELehAQAEPIaRmuX7n2U2kJt0oSM1kbuNaHv+OKz9vbsA8voGt+GnVjvPTcXNE4P6dnsUFRiVPXxUhlXLrYGquioZ/C7irM/6/vTePk+Mq771/tfU+uzTarc2yJVm2hXfjQAzYBgwvEBwSlhAMeQOEHRIwSxJw7JcLIdwEDBdsbgDn4nDZXvMCMcvFVsDByAbLuxbb2i1ppNmX3mt5/3jOM6e6prqnu6d7pnvmfD+f/mjUXV19urqqzu88K7o7yY3FTWoBEktBAwa71FwPgEflFebLResfmx/TBEydrFTJOH1vFnqVRB8Ta/1rVQkehULROnAdE4ACPlf3L+x4FK1PrRYeFtO2TQ9NI7EzNEbuKtMU3cHd8Pf7LThTgb/5/1FLxrbsP0xBzRrIIuR6lI3EAgqgMfT3UiE/16XrIBohwc/xP8FYmnyB2jtMZWTMDMcWmQY9nMD3KNqlLqpEjMbpOOJ4gK4/fzNQ06CMqakMfaZpigaoYpvVy6kWUXdHhYPeGijBo1AoWge+2QPAuRtUYLJidnhCL9rAgSNATwfQX6ECMIsSf+NLP7Zd+n/TIPHBE7rtkAXEMslKc2ZkphsrWHW5nFUFkA1NTw/Lfl5+dJ2+Y8SieCLunu4n+P9qiEeBS3fIQGUuAzEyUSrGbAfYdxiIR2jbeEyKHUMHtqyv/bMXCCV4FApF62A78m9j8VR4VVSB69Lk7gkLSL4gLC2etFxwzEzRpviRdFZ0GQdtPzBEDw9ycu4KlC8o+sRIMk4Cp6uDgpe5H5Su0VgMXWYTlcMR2VqrlwMb1tBYs3kKjAbIcrOsR3y2TfuORqRo0jTq2n7iDAkjXZeWmUJRCrpCcWaz0mSc+oB5Hu3bNMhqUyjKXmDc98s0yHozMExxRRERH6dp0o01Pc4iBTc/fZT2ZdvApBCCfqtWm9U9UoJHoVC0Dix4zDYuya8Ih+NWRsZJEBSK9K9pkEWhmpot1cKF8ABKk7ZMwHalGAGA3k7g/HPm/ln+ejWWmFL9wfY9HcDynsr76EzRIwiLnKJNLrGs6KTemRQxNwELqOOQqNF1ElEZW6adx5Mk6gaGaFurgvXUEtlrV3TR/vIFGkO+IIsHDgw1pwpzE1GCpwb+9V//FV/84hdx4MABdHZ24oorrsCPfvSjhR6WQrF4YHeCcmW1N+OT5F7iCZGtMuUygYLoGk3s0QgJX13E2RRsEhW6Ti6Yrg4AHnBKTOIXnENxLZ5H75tMA5OZ8M/wNLIOeR7t2/VIVOi6FAlsSYpFy0/u/J2CAl1keaPoBN9RPRGrtDdYd4VtbQd48ImZLrlyVNOHjltlBJMHMjkSPE6ZOKcWRQmeKvnUpz6Ff/7nf8YnPvEJXH755RgZGcHPfvazhR6WQrG44MlJCZ72ZnBUWlKCRCNUdyViSYsIT6quR+ImFq3ewle0peDp7gAu2iZf47gUdvdELODoKXJBjY7To1o4jkfXaKLP5WX9HiBkvELxHD1JY8jlSQCZhhRYtk1WJ3abdYv4o1Sc/l+0KetLE9/NrDBlZ3NS7LDY4n/DmEtxP74+HYeEbXcHue5a3CqrBE8V7Nu3D7feeivuueceXHfdddPP/9Ef/dECjkqhWIScOEP/WurW1Nawa3JFH7Csm8SCaTQn/ZqtDJpGQiYRk9aYeIwefo6clH8n4yQ2XIcECLuDdJHx5EH0gQK5csKCipmgZUXXqCii44YHR5cgRFM6K6+BShhCNEUjZIHiooiMF/g3jDAXWrWwaHNcGTcViwiLW+ui7ipV8M1vfhObNm0qETsKxaKGA0CZrhRNHIOj9FpXilbp9frwPU9mllimCDJ1ZXbIGpWO3taw4OlMyUDYZsFBvZ4HPLyXJuJknM5Xz6PzK5Ug60jUkmPr6SQX2Gxw7NFkhuJiPI8mfHZ7HTxOE38xIHgsE3AKZP1Y1k2p2wCd45oIioYH6EI8cMbX+JQUWYBwJ2mlgsZx6BEMYma2b6LPN006DoUCMDZFwci6TtWgU4kqDm4ZdB248Fzqo3X0FD0XzExrQZTgqYLdu3fj/PPPxy233ILbbrsNY2NjuPLKK/GFL3wBO3fuLPu+TZs2lX3t+PHjWLduXRNGq1A0gOMDlVeaz52mwMmdWyubsUfG6SYO0GRh6IBhUvXW4ATBWOa8lZpXNIn5jMVyAjEyjksZRhMVUsGB6q2ImsiqikZIuAQ5doqEDQspFmCmCaAArFkR/r4wVvTJjKt8QVhwRKxNURQqdMXrti1jo4pF4NiAHO/yQJfxMEvXXOlI0mMqS8LHnkOs0jyhBE8VDAwMYM+ePXjqqafw1a9+FZFIBDfffDOuvfZaPPPMM+ju7l7oISoUjcW/WuvtouBPjoNIxmkVOpEGnjkGbDmrvOg5eLx89g2n/RZt+X5Dp548LR4LoAhhMiOsED7r3XwIHv9Ee+WFJBS4rgxAVpBcgQRCJi8FUqOqeLOVc3QCuH/PzIKFh58jgd/dQaLDcSi+aXiMjpPjyEBpDZRNViyScOPSDKkEXYeWKevmcK8v2wZSSZmyX23F6UbBv3G1wdILiBI8VeC6LqampvCDH/wA5513HgDg4osvxsaNG3HHHXfgIx/5SOj7Dh06VHaflaw/CsWCwzevrRtp1QnQDVjXSIw89SxluJwapIlj5TJRtdaX3eJPNV65TFhtRHNCTSOXgmnI+iuK9sVxgD17w59vNv6JlmvieCBLSEcCOGsViZ58EUjGgCeeIbHeKIuHP5A4rDpzJkeZY3Mhmyd3cjm4FhEAUk3zyLTgURaeRUFvby9WrFgxLXYAYNWqVdi6dSueeuqpBRyZQtEk+OblN/v7CwGuXy1vsoeeo0c5LJOqJpdDiZ32Z6pMpd9ymVqNxD/RHnouMPlXoFHWJ74uNqyhmjuGQVaYIyfJitPdQQJsKiMFYESk1huGTLPn8Rg6iajeLhJQ+QK5hgtFSss3DXo/NHJ3xaMk4IbF9zYWSPDMh7idI0rwVMG2bdtw9OjRGc97ngdd3awVi5HiLDEYqQSVpf/9U+Vrq3ANkZXLmjNGRSncxLIzNf9ZbpkytW7KxWmVw3XJ/eR5FPPFFZe5GnBEBB0nYvR/x5UTPUDbMj2dMjtK06TlkWmUhYfP/3i0NPOJhdDYJImXVAKAR+KkUMVxOT5A39M0ZXq56wJTgR5ciVjpNWjMgxvRD1u4xiZL3XAtiBI8VfDKV74Sd955J5588kns2LEDAHDixAns378fb33rWxd4dApFHRRtYGhU1BMp0OqRu0NHLDlxVKr7kYgBV1wgO0sbhiwux80MFfPHkRMUaJ6MA5ecN/v2jSTrExrP30lCuFCk4PbBEcpQSsTI5amBXEvJhIxBmUxTD6d0tvrihEE0jeJfAMog6u6QFhIuYJjJUTxNPEbjaQRcaTl4vqcSMmCfe08xEYuy11Jx6W7LF8hlbDvkDs4VZq8+7c92ZOZb7PKiKJMD/msPnX+dSfoe0YgoIGmRIEpn6e+eLrJSJUS9IS4UGYs0VbApwVMFf/RHf4SLLroIr33ta3HrrbciEongH/7hH7B8+XL85V/+5UIPT6GoneMD9JiNSuXngdIqsGH/V8wfY5P0bzpLxe7iMdlLSRPuj4kpmqBNUxTCE5aUok0uCe5bZYhu26ZJcTDdnSRUOFtJA207PkkTsz++xBLp35wynRcT+qy1aOaIrkm3Ck/Cul5qyeGeUY2kXKXltSuoPUMuT5YqXadg5O5OOqazLQjSWXKDFYp0PHVdHn9TFCpkUaQLMffssflfaPR0kmVrKkPnTjpbuZlpOkviNgxdlBTg5IUGd2BXgqcKDMPAT3/6U3zwgx/E29/+dhSLRfzhH/4hvv3tbyOZTC708BSK2vGb/pd1002GK7sWinTzjEYqW3gUrYU/hsJfXK+ufblSsHBjy1pYtxLYWz5poyq4sJ2mkbXE0Ek4mQbVlQnWffEg43m49YTrSeFmi3PbdsjKo+tk5WFBNDFFr3M3cg68Nwya1CMWHeOiTe4rx6X/cyf0YHYUu5vqtSRVI878bR84YHq+2z1EI8Dztkpr0/AY/Ra6JjPJMjlZbiIrrGy5ghTahkHbua48nusa/z3U3axK+vv7cddddy30MBSKxsCT4znrgVXLF3YsivpwXSCdoyrBnHoN0ASUStAE77gARO2WQpHqpnD6csSiSSoRo79NUxSrM2R9l1y+dMWeyZW6nGJRmpSnMjLWBqA6MBdFybLBE+HYJJ13/X3Ail5y92R8rR/YFZKIU5sCy6RJ0NDDrRY8vudO0778GVKVYsvqgSfhSix0PCfHzoRlis0HLEzrLWjounSOsFu8Yw6FEcugBI9CsRThWIf5DnBU1EYuT2LCn+00PkWr5Fxexo/4Wb2cUrGbhevShOS4JEo0DXjmKHBysDRglQvTlaOaMVbKpLKEQOtIylgZxhM9uXS9NIuLY8s44HkqLS0isQjFFWmiUWkiRs9lC3Ss8wVhiRBWi4hF4pItO50LbO1nwcXfx/Po3MnlKUjatqmRqevScU3ESFzwceRMMduRLtAzwxRkzcKTxaeu0743rSW3XaPG3+SCo0rwKBRLEVdMAi2cUbGkGRkHnj5a6noMg901EZOsPY5DNV/WrWxeLAdPrJroN6Vppf2sAJpsx6fodceR1icAWN5DlqFK5AoUH5TOAumMcB+5JFRMg6wIlrBQPRcSi3bZ+SRWOCA2rMwCYwfiftoVXrwUisDjT5OLrtnurTMjjRM884ASPArFUkRZeFoPz6NMq8lMaYBvKl4aeBuxaCUcj5Z2FX/8afm+XEGKWX8guecBw+MkRJJx2keYK8YTnbzzor/T6Dj9zRaBaITiMIIWJt7XiTNUZTuMQ8+R6OG2CZomrVUsTobKFNmbKpP+7icaKa2irGmVM5faXegwnBHlOPI8MHQ6FppOAjBiydR/fj1fpOc4Yy4m4pMKopHqquVkDWJhqGnUToPjndoIJXgUikbRThWDHWXhaTkm0rIfEsPp1bXy0BOl/+d031y+dJJi943j0qTG8T3BWB0/HN8Thq7RRHjUFzTdkaBJVNfJclW0K1cNZqIWdd9OxmlcPP58ARidpEyxQlFO2gCwcU1lN9pixjSAy3fIOJiOFKX/z6XBLxBuKTQNYP/htig26EcJHoWiEZw4Qymh8Rh1YI5FKm/P/vVsjm5I3R3VZUTZtlwJs989uN9sniaLStYbR1l4Wg5/N+zVy8mKU4vYqeT+ygVeY5Hjd/eEpRJrGtDXRWOJRki4cNNKjmHxPFrxnxykc++3j8n3X7StVIAUisDpYTqHbVsGOvO5bDskmlb0VS9c0lkKUjaN5sYutQOWNbNxaL1UconyfUNZeBSKJcjEFP2bzZE5fu0K+r/rUhaJJ7JkuDw8Nw1kOJDSdcVDZNYkRS0VO5CJA9AE0eWrqlu0yUrA++UgxC5R/TWbFwGLprLwtBp8ngDkQtiyvvZ9+AXPVTtpUnJdUa1YFJY0RF0av2vDEwKaG2wCdM6wK6waURycHHWdMq2CGTsRi+KLGkmw9o6i+fB9Q1l4FIoliD8V9PiAqN+hk3l5okxKq6FTCm5eVDoOi08Yn6r8mZWKubkuUHAruw/UJNEaPHdaWljq7eLt90DtOwTEhFjuSIp+Th79XxfFCLkvE1cfzgjLYMQCTo9I62MsQmI8IQKGc3k6r0cnyMJTCBQVvPQ8IBqdXUxXcpnUAluolLVy/jCVhUehWLr4gzcLxfBCbauX06QRsWgSSfmqrU5mgMkpWeyPLT0cK8GVbzmeAaDaIBNTNHE5Dq3cu0XMg+PQqp4nJ9eleAhTBDWmczQONUm0Bn7LHXenrxnfOTgyAaCMGGZ3VjNgEV+O0Qlyf2Vyst5K1CJx5rok9kyDzktNo4J/XSlRyydHgbSZHG3TmaJr7dQg7VuJ9/lDWXgUiiWM38ITi1CvGNshEeOBKpFGK8T1dCRqL7TVmSptVujHNOmRjIenjapag60FTxyb1tbfnoMtJhGL3EmO6CPFgnf6swJixzBIaHQkSHjl8iSe41ES19k8pYZn8rLtRMSkWBGOJbNM4MCR2fs4HTslW2Aw3HoCmFng79ip0lT3SijxPn/wsWZXe5u0lFGCR6FoBDyJnLeZmgIqFLXAgmQuMVWsBzavI8ET3Lcn4sLYutIjAqL1MpWMZ+xfvD9sjOzSmi0jiGOE1q0EVvbRxJnOksgyDRI+tiMtlMNjUugYBhCPkLssl6fvYYjeS0UbWLls9u+gaAx+cfnbx2hRtW1jy4tOJXgUikbgiUmlXdLSFa0Fx6EMjpLlpNaO137rR7Dhq/+cNCCD2GtF0wCjjDCqNuuP6z/1dUvXVyXLpz8FPh5tXjFFRW0YIrOUrXXDY+RGXd7aiz0leBSKRuCICUcJHkWtTEzJ4PSxSSr0191BtWz8KduAzPZjK4hhiDo0vhigWsVSI3CrFPy1ZlSxu0xRHSdOk0Ds6xaFCPXqLXi1oGlUI8rzqB7PmZHSsgotijqTFIpGMH3DVytQhQ/Po9UvQHFd7A4anaCWCFNZ2ZWcOXQ8vEdWtSyEW6Fal5ytyiE0jXQWeFZUtz56Sj4fsSgw3AMAkZ0XtaheWDW1vyrBHeEBKprpiMDzZFy6Obs7KEEjVyChy/3XPK9UiLkuXQ+ZLD3f3VHZ+lcHSvAoFI2g2hWuYmkxNgk8dZD+1nWqq5Qvloocvvkzrs9auHq5nKigUS0dz6OJIBohiwm7fA6foH8XQvA4VQgebjoKLI2MKsellhy2Q7+lK5qt9nY1xzWX8VlY/OdUoThTVBeKZFVsRB8sTpxwHAoynw1/1Wy2QDkOneL+62D7ZmC5EjwKRevRiKBTxeIj5+ty7rpUfoBZtZxS0JNx4IFH5c2+qwM4dwOtwqsV0K4rBc9CxLn4i12Ww9+1fCGDWz2PrA+2TTFFXKuIm43yNtwc1XZIoLFryLZlUcepjBCg0Zn1k46epJpcQUyTgq+5+WlE1D7SRd8rXaPMuFSCzg3uN+aJgPN0lsaUz4ueZkLocCmM/l5g2yYSNZ5H23seCWPXBZ45RtvNxYrop6eTApbHp2RbklyeOs9bJol+f/q6Py6Lm8JOHxtuhmvVX4+qAkrwKBSNwFUxPIoQOLYmYslWCd0puqnbDgUpHzkRsPA4NAnPlobtxw1YiKop6ue65N7IZGV383SWJv5ETNZpymRpYk0lpcs2k6NJeWSMJlYWcpUEP8cpNSOmpBaGx4Gnng1/TdOk0AnCoqdQpOMQtEhcukO6d4BSi0t3hxQDtg1MlulFFoahlwqb2eDq1pwqHnQLDY7OLFUwV/r76BEGt7uJiTYkIxN0/JIJKnfgQTax9YvOJqAEj0IxVzzfBKMEj8LPlKieXCjKWB7+txyTGdmPqkvUWkqKitxFm/ZlmTQ55AokWvwT725fLysu4teVoolE12kCHRmvfgKthVNDVKVZ12SBTVdYGditElngaccf4N3bScc0nZVCsZzQtB0AwlIRZh0ZnyoVPPx9/aUqHIeO+5SY6HWNXJxZUSqAXZSxiIzvclz5W3HMjGVSX7N8gf41DRp3PDp74UoWpY0UPJXwx/kApZlcs/UcbDBK8CgU1eC4wKP76WaUissbnqHT6oVRQcsKP+zGsUxaeVdqBRLG+FTl9iLVfL7tUBZNOXQRR9HTSed2oUgCgCfgZJzOcb9AikbI5cZNRT0ATx+hSddxSBewkPDT3dH4Xlq1whP9ij5g60b6m7PfiqI5r2VSqQldJ0Hh7yCfjNP3MnT6TQ8eJ3fS00coxkrXAMMste4xhkGWvmobo3IvNLaQxKNzdwfyoqzN2kI0AiV4FIpqSGdkr6tyXakTMWXhUZTCsQsRi6wJ5QSPJiwiZ60iN9F4mlwfXSmK9SiI5p+JGMWLTGXodUu4xjoSADQZNHr+FpqYbUdWWzZEWxG2CizvoYrK1cadub54i2CqOIt+XQMuPk+4y4r0vG2T+yKVmPcVfShhGZWaJgPBw7DM0vpF/i72/gapB47MfO9cqhDrorBiskK7jnr2CczdwvP0ETqvIhESypvWtvz9TwkehaIa/AGXZ6+jFS13MY+KmIdETBVGU0grx0RaWjh0XbZPAID1q2mS4PYfnLWkaZSZ9fQRcg+xdUfTShs2JmJkJSgUKcZmZKK0+Wx3B31mFLT/3q65fy+2BIXhz1L0uy9aEbbOag2anPt76T6QzpAVSBNBx4WiDMBtJRoheGyHzk+Avuv4JJ1jjTjPmogSPApFNXBJ/K4OYM2KhR1LK+N5dCPNF6j3UsQi68NiF4KeBzx2QLZtCGKZ8nnLBDasrry/1f0Uw8G9pTjLplr31nyvtNsphq3RNbN0HVgbuCdwEHjEbL1jMi145pClxfdDTSNBPZWZmfregijBo1BUQ5FjMZZA/ZBqcBwqNHZ8gGI5ohEZYBm88S3rocDNxUw2P1OMRCyaVHMFcuWwhaeaCTCVAC7aJifngmiwmcnK2Jh0lqw+nL6czQOnh2dOvvNBO9Whmg9xxoXzWhFuDzJXCw9A4l0JHoVikcErmrlWJl0sHBuQ8SK5Aj38GDrdDHMF6hhfjmrSp9sB22fVOW8z9YmKR4FDzwHPnabJlbeppVYTT8qxKD1m64O1aW1t424U7VRpvJ3G2gwaEbTM1kqunOx/roVRd+86mJqawtatW3HixAn87ne/wyWXXLLQQ1I0E8+TTfKWQoXYavAHbm/dSDdPS6RAp0TBsXwBePAJmTatacDAEDAwDCSigG4AQ6N0o+xIUHDuil6KA2gHS4EfXvEm4zIFGZCTqwZp4WnxjtJ10U51qNpprM0gLIaHs8EmRPFA26H/5/LAlvVAZyCrjM93v+B57jT9zcUDNU1UUtYo0N5x6D7grzpdtAFolJafFlaiSIReX7W84fFgSvDUwS233ALbbn01q2gQA0NS8KhGhgTfLM9aVb7uhyWCNTmI1zSp+myuQEGOftgdNDRK7p8dWxqbmdJspicAM/z546flc4tRNLeT1aSdxtoMWPCcGZFFFMfTpdWQ/TyyjwKzdZ0yDaHJqs7BoGyu9t0IujuU4Flo9u/fjy9/+cv4/Oc/j3e+850LPRzFXLFtEYcSpayZRIysFVzOHaBJGKALvlw10aUGZx8dO0VulrDsDEMUuXNcWv11JKTrK2KRIIpZtKIr2rSanMrQNs8cA3aeO3/fZ67wAigY4xXWQbqdhFy1tJPVpJ3G2gz8LtWxwMIjlRDXpklCiDOxuI7TwFDp9pYJ9HWREHKE1cZ1KebRcaTbLF+g+ym/rml0zeuiongiRiUSYsK6w/WPGowSPDXyvve9D+985ztx7rltdDNWlGdwlOJRgsSiMuCUV4QXbGmNOiKtgN9f/8QzwI6zpbmaRWM0IicXf/dmQDY0TJfZ//gkZT1tOYviYRpNWmRAWSaVGHAcEm18Q7Yd2oZr1uQLFDDseuSSMnVZuTgRA4bGaL9BC48/kFPXyN111qrGf5+FZtp11wZWk3YaazPo7aKmoRxwDI/qJHV3zDwmq5bTgs8RjV+Hx8k9G43IEgqWBZx/TuXPDIvVYzd3sGt6E1GCpwa+//3v47HHHsP3v/997NmzZ9btN23aVPa148ePY926dY0cnqIeCr6Jm60RQGnTR4BuBtVWR10KBMvvP1mmN1EYpgFsXAOkc0CxKBoyOnTM/dV8xyZpv+tWyhYJ2TwwOEKC69wNslNzrWN/dH9pbSWAfv+IRbE29WawBN1VttiPaQKXnSfdfIuNdrKatFNGWTOIWLRAqYZgVegtdX5mmKDh5+ZReCrBUyWZTAYf+tCH8N/+239DZ2fnQg9H0SjYb71mBbB5regwDDLhuo408caiS/cGGQZPcIkoNZWcypAFwxHBj9MrNwCb1lGqtOeRpYQ7QwfJF4Ddj9PfK/souDmbB54+Gj6Gx54Gnn9hbUHAnkfuNRY78aisEsxjZ3SdLDls1Skp/idaNkz3XtLouZODZPaPi6rb05WWzcUrdoD2EhHT4myJWniWMErwVMmtt96KFStW4MYbb6z6PYcOHSr7WiXrj2IeKQqXw9AoMDYBdHfS38H2EaYBXH7B4gk4nZgCnj1Gk7ztkAXL32XZdWll5y+b74ctPKv6Z9Z9YR+840i3D0B/V/LL+4/tpnUANBonB4rbDu27M0X1ZlzRVLEWy9vgKKWKM5fuILG2Z9/MbV0XKLjys6vBdQEXsmAgE5lnV2ihSCLN38+pmedutYHAhSK5/ybTMqbDNOh3jEVpnBGThOhEmoLZucRBKiG3YZdqRmT3pBLkqmFrgeeRO5r3z4HzUxn527SDOFM0FCV4quDo0aP4/Oc/j7vvvhsTE9QLZ2pqavrfqakppFJ1mNYVCw8H3+YLQN73f06tZNcW9yQyF0nA6fEB6srNnBmZ2WBS1ymGJpWYKXxY8IRlrfFEUmv6ta5Ly5DjkMuqHJzptf+wbEapa2Sd4waLnBqfL8gmmgePl+5H08LdV5pG+3Nd2mctJGL0mdx9GwBW9FR+TyM4PUwi1i90/MQidAx0XRwfgwRIMiFcFwl6fWiUhEZHkoRwxCKhMD4l+3mZJr3e0yE+b5aiip5H4nrfoZmBso1i81pasBwfoJ5lLIr4vAi6YWuph6RYFCjBUwWHDx9GoVDAK17xihmvvehFL8Lll1+O3bt3L8DIFCXYNk2EyXj1fmH/yn3DGrLy9HSSi8sQGQQPPEb7nmuzvVbC33cJEO4aE4BH35uDtbkZYtQKt/g00k3DLqOiTZadk4OU5ZSMU3acP0U1FSfBk8mFN2ys6vPEv3431gsuoonZNKT44rE5DonEXJ4m0aKoL5QvkhuLz6VMIDNL14DOeai6OzQmhd30Z+ty7NPFIR0ARYAbmecKwPDYzP0Nj4U/768ozVaaQkDwTEwB+4/QeWOa9Fv5A91X9JEAKxTpeMWjJBC5fYYrfoO+bhnjlcnS9v7v52/ZMThKQbUsqPj3C7ZQSMQos7Ce+C9FW6METxXs3LkTu3btKnnu0UcfxQc/+EF89atfxaWXXrpAI1NMU7SB3z1J/3alaJJ0PdFR2qL/Ry0ykw8M0ao0FpGTXXcHsH4VPfxoGq2Ebbu6yqQj47JDdL4o0zZb7ebqnwQiohs3u/f8FeJ50sgXgfyYzEZiorMInryYTDWNPlPTyCoQL1NfwxQT2L7D8rmhMcryMnSyRkQs2seaftqWJzz+vbnFBU+a8Zi02JkGMDFJAdMegAceLZ2Igw0y/cLZMES7gBDxkowBB8rEGrkeiaRmN9VkQd7XBWxcS64hLgDHncsdRwr5qSyNi11KkxkSgR1J6hmXyYqu7A4dc7b25PIU7D82IZtkAnSNcU2moTESq2Fp+f29VKyyHH5LTNjCxb/w0HUa9569NBZ+77ZNwLJueezZtRqLLN3sLIUSPNXQ3d2Nq6++OvS1iy++GBdddNH8DkgxE3/TxvGp2Zssct0XppJ5m1+rZOEZGQf2HgwXRcdOAZec11r1V/i7rOgj19HIhKyDMzohXSJnraRU6qJN2VGjkwA8aS2YrRDj/sPhLoyIRce1Iykqu9okQPwTpKbRCt91aHyOS5YDgNwul51PloEwKrWsOHoKSIsCaUGxUy9Fn9Vh51bpKnvsAD0X5mJqNHzu9ffNPNci1syu3d1zTL7wPDpfHJc+z38u+FO/V/aRUO3rpj5Os1kFZxMkwd+JzwH+LTWNxI6uAzrKx6EplhxK8CgWB5wNo2nUT6hoS3N7vkCrUWi0wkslRI0Yl9wmUxn6fzl0zsypIHhOD8vXYxGaTCyTnufVdSsJHhYEhnB59HWVvvbksyTijp6aWUPHz2xxECyMNI2CSkfGaf9sFfC7k5hYBLhkB23Hgba5PO0rm5NZW4ViecFTbtLM5YHjvu9z/hYSZMcHZgqCWmDrmKGX9rta0UfnwHz0GZrvCsKaVj5g3F+Je7bO8HPFNMgNPUrxldNVgRWKAErw1MnVV18NLxgEp1g4WGx0JGvrFp3JiZTqOVp4+PM7k3KFD1AQ9Mh46zXWmxY8IYHFvEIeGS/NegHIrdGZIotMZ2r2wGSuQHzxduFmdMmt6HmUXVN0SLRYJlnljg+QpScopLh5ZncHlbVPZ8uXwq/E2GSpcO3tku69WtuGcEo6u/yAmecRC7Zqs7zmQiulhs936vf5W+h31bXW+P6KlkQJHsXigCe/WjMvqimYVk134el6Pv2l1oXpTsLFme9ZSILf2/PI2pLJkjBJxEi4cQB4JkvP1Vrzxt9kEKDPmMpQ0PHKZaWViWNREjyzBYdXI0DLUQj8DifOAFO+FPJsHvBcmWFlmSTKbJs+1zQpm43Tm4P7C55H89lJuiUFzzyNxV8jSaEogxI8isWBE5hYq8Wrwg0wPcFWWKXzxB4UBDyhz8cKPwzPIzeQ49IkbZkUrMo8dxo4PeTL4PFhGsAVF8pYm1rxC0Q+Ds8cLY2vikVIUOj+on6zCZ4qtwtjIhDb9ewx+fdkGnjoidr36ScSuKWy4BkYot+iM0UxLc0QAix4WiHdupXEl0IhUIJHsTgoJzhmw60Q3MrUYuEJfj5PeGO+uiCFIsWSxGM0QWp6dZOU49B4/SnTXO0XoL9PDZI1IhYjgTM8NrP+SHCffteQYcj/2w6JpWqCPvMFilXxRF+ejkRp4DALynzAIsJCy4Ev26pKCw93sY9F6Tjy8ckVgMkpElm6KFrH58fweOV9a5qMawJkLBhnNrkefbfeLspkikYos2lgiGKdgn2//IUWTw/LmC5/XAv/jvy71ovTQu0dqllIKBTzjBI8isWBU+fqtpqVKO8z2F8r9PMDgofTticzlAJdjliEqvEu66YATMMA4FEvpkyWhMvQmK9BZ7TUUjMbmkYTNXc0nkzT36kEsG4FtYeIR2V20aMHaJtHD8iAZtMQGTailUI8ShN9ThT3Cworf8o6T+Qspi7eLgvaWSbtb3QcOCyypyo1FORjPDYJYA5F7BIxCnBlIdPTObOBouOUFkT0f5fQsQXOo55OSsHOFyhbz3GBoyeBE6fJXei4FI/keTPjv2qllawqqn2DogVpK8HzzDPP4Pbbb8e+ffuQzZbe7DVNw7333rtAI1MsCMPjJAZMg1wzQP0Wnko3Zp5ABoYp7qQrpA7LdKxKYLJZ3kPCYXC0NI7D36gUINGQK8x0uYSO2Q0XO5pGk2ZniibYaATo7aT/a1rpRPrAo0LwiKJ+we+bjAtR5MyswFyODiGa0lnRaVxYc/yZVH5hGLHIUsJYhhQ8RWeme4jxiwquD8MVhB2HhEwqQccpJ4QYV9s9OShF14Xnzp6ZVe588jwKeM8X6F8+RkGxoWmyNs3KZdTCgis/B0snTKRpvOUyzyrhecqlpVDMQtsInieffBJXXHEF1qxZg2effRYXXHABhoaGcOLECaxbtw6bN29e6CEqmo3jUgyI69KkMZGeuU3NmTZV3JiX95Cg8jxKiV6/WhRfExO6afgmm8AEaRjAlvX08Ncm8bc0KNokEEYnyGqRycnXTIOES08nWSOScSqal82RxcayaALn+JdqBd+0taLM9z5rlSjWZ9CxcUXPrXyRXDiDo3If61cBfT0knlhUZXJUt2cqQ3V8+DMrTcr+365QqCB4fN+xt0tW7M0X6bwoFumYcuxSvkjHyDKl2OnpLBU7Uxl6FG1ZOHIqQ++NWjITixuK2s5MF6emicKEZYhYwOXn02dMZcjqx26sZ0SqfTGQau+6M8VqGH7rWitYVapxFSsU80zbCJ6Pf/zjeOlLX4rvfOc7iEQi+Nd//VdcdNFF+I//+A+87W1vw6233rrQQ1Q0m9FxioHw09sJQEwIEYtEQS1Uc2PuSAIXnENF5DI56gdUjkpB00FRxf+PRoQ1JlALhwmOrUPEyFTzmeXwZrFsxaPA5nXl33+OQwItGQ+vmpyIkTD044/NCRM8/uNzZqR87JB/yAND4duEWcD8FrZYQFQ8dqB8YLm/VlAw5sk0qcrysh4692azGPF52ttV+nsPDJIAKogxjk2QuM7mpcWNu83HojKVP5mgYHp/0HkrWFWUhUfRgrSN4NmzZw/+x//4H9DFBeSKC+oVr3gF/uZv/gYf+9jH8Ktf/Wohh6hoNgXfhHXOeqBHrO7nQrXps10pCjQdGpMl6qMRGTRcKNI2jbrBz9fKuN7xGoa03FSL3yIS9rn+7zw0SgUkw/ALk75umvgtk4REPEbWoaJNwiQalcUmsznqlD6RJmsU4+/PtLxHiqFknMRuTrQsiMfoO7CLLB5rnPuIqw8fPUmuxGO+4oiuW9p9vWjP7MbOcLzRQjOboF5sOI5sX6FoWdpG8IyOjqK3txe6rsOyLIyOjk6/dskll+Af/uEfFnB0inmBa9msXAasWl55W14NR2fpnVNtNommkcUiaLVoV9iANJ8Tkj+Trtxvwu6zbJ46m69dQb+h40o3IjfnTIgeWbm8jKXJF0j4xKL02xqGFKT5os9VaJLbyjSldSQeBbaHuMab3QMLkO47dq0x551Nn8/PccbZVEZ+bxFDDtel49UKgmcpWXgm08Aj++k860iQpc80SWQnYkvjGLQJbSN41qxZg6EhMl+fffbZ+PWvf41rr70WAPD4448jlWqx5oxLmbRoOsgXfKNuwOySKBenMzpBFpjJKXIPADRZcmfk3k6aCP3j4cDaVpgk5hOvSsvWXElnZaBwNUG1hi63e+40BXF7nvw9/WRyMzuTAyRuggUB/cSjZEnZd4gmKD4HKrUXaTapJIBhEmupBAm1VJwy5DRtpuhaXsa6dnKQaglxOj53uDd06RqbSwuNapnvwoMLyWRaXk+TmdJzNRGjPnpL7f7SorSN4PmDP/gDPPDAA3jNa16DN73pTfjkJz+JU6dOIRKJ4Jvf/Cb+7M/+bKGHqGAef7o0oDceA7ZuoLiKQpFSr2NlMlFcFzg1RIIpGaOJQNNkp3MgXPBk8/S5QfIFigfhLBquCcOVdJlWyGxZCJo9IR04MtP9UinmyNBLu7UHA9PjUbJwsPjt66YAZF2ncyQeI9dV0ZbWIs7QskyZCs4FBv2TU7kO7rXAgdm1upZWLw8X5LVyfKC0fEK5xq2pBAmqjpSwLmmyLYNlkODynxvZHC0ohsfpGPZ2kpjiAHK2orF1jt2XS2GiZ3HXmaS4rMkMWaMn0iTIHae0orhiwWibX+ETn/gETp48CQC46aabMDAwgLvuuguapuFP/uRP8E//9E8LPEIFALrh+VfXtkMT3u+eks8dPC5vuuesL11ZnxoEnj1e+TPCJsyML0h12ya5kh0ZpwlgeFyuxByv9L3LuuurJNzWzHEFzq0ogMouH7bAdCQAaNLtUg4eT1dKpm2fs15mVek6iaiBIbLa7Th75j4qpXV7HnDMd36du0H2UqulB1vYfvcfpnpJXOsoHiURFY1Q/FelyV/T5i64Boak2DlvM4m+kQmKaSoU6SfPi79HxukxGywW/YuDkXESVppoxmsYIjsupH3GUmj3wBbJeCBQ/9cP+4pKts1UW8rYBLl8XU8G68citHh1HBLqBZuOQU+nrFeVydE92XZIxM+XZXEW2uZX2Lx583TquWEY+OIXv4gvfvGLCzwqxQz8galX7QQeejL8Rsg33Uf2A1dcIJ8fHJ25bTXkRRxGX1dpphbXQFm/WtRlyYs0X51u5oZee+2excB0DE+dgufEGRKuAE3snK2ViEkxq2mlNW9qOc7+GjW2Qw+O/ckKEbV6ljiuMMYmaewACd2Vy2rfRxjZfGm9oqJND7ZQdaZKO9I3A7+A4YDyYKyb7UiX81SGjkehQEHTrksP/zXs+oROZ5IWBoUi/T6FYni3+0SMzoWOhBQ8XCZgZILEbE9nY75zK1CulpdpiOD5OlqgtAKFIvBYiNXcD19LgIyXDCtCCoiyEK4stdCZBLo76f6hi2rzhk41uEydMhBrLTMyC20jeBRtAk9wukarmuU9FFdgmlTRlyevIVGIL18AnjpINwfbLnVh9HYFOlKL4nyDoyIzx6KbqGHIC69SHIauzyz9v9SpN2g57XMFZfPhEx9jmdWLndX9pf2tAMqsCqOcW7QSfuvj2pW1v78c/uawV15I52U6CzwjvosdIvobDU+8G9eU38Y0SHB0VYh5LNpywnKE+zAWLV2h8/XILpsTZ6RIvXQHWWqfPgocGyCLgD/WyjLpGLE1IFeg5/zWIBZeGsiCwLWq8gWyHEQjNFmaOlUj10AFQRfColQuQJvds/4yBu2Ev9RBV4esd5XO0oImaCHM+7bnLEZdp3M/my9d+HoenS/B4pt+zttceyboLCjBo2gswRYL/O+KXipmx6xfBex+nP4eCrHqrO4HtpxV+tzQKImj0Ql6hFHPJLiUqTd2iX/ndSup2F5GFEPkf/09s2pZzfd1lwqehHAJTUyVrpT7uktrEVULT+Q9nZUn/Vrhm3lnkoRBxKJJYnSSztv5aB7L322uroOSVbUFhK0RNI2uNb7eHFdOXiO+FiGuK8UOx1QVbXJLZnMU78LjtszwHnHl8FsXALJmnbO+hi/aIMq1HOF730I1Dp4rLNJTcWDnuTNfZxHakZTXfsSi35FdndP7cuh1TkrwQO6yTE4ulmzhGmNLkNV4F5gSPIrGMt1EkzuMl1n9BG/KPZ30GBolK08iRLj0dVMxvMk0meIdR8Y9cK+oRrkolgpzFTzx2MwiegD9NoWirF9TLVGrtG9VTxdwtiiA6Iq+U5ZZv7DlOTQ4OWVFSrtu0DEJyy7kgGT/jZyf4xpRwZs0txqZj1W+v5L3fOMXSU88I/9ev4qsql0pEq579tH16y8gyr93mOsbkBlnUSEkO5I0UY5PAfCkJcIfxzeflLXwiPOkXV1a/HuUiz+yTFrs5AskYD2P3FPstnKE68o06HpKxkVMp7AOx0Tj3b4u2o+u0zkyMi6C4xtfDkIJHkVjCVp4yqUi8woxlychc+4GuoDY2hOm7jWtNLC0UoNJRSmuK7NF/Mes3hie2Zq1GgYQr8O9oGkUWzM4Sn/7rUO6PvfgchZSmRzw28fo/xGLhJQfwyABbYi2IRyIyS6xjgSdv+lsqbsm2A5jetKbRwvPQlwT/kkxEaPjlIyTVdd/jp29jlzcnkfb9XWLidCeWSIiGpEr/krfaXSCMjTLCaZmUzaGZx7FbjNgC89scTTDY7JOVPA6YspZ5CuxrLv2yvmzoASPorEELTxOmdUPAKzpp8DX4TFqZskmb6C6YLXFIHa4waUrej5xLIgH2aPLcWk1lBfbdSSFb9yhm5LjlqZqQ2RQGQZNPFMZ6V+PWOR2Yeq18LiB37mRbN8smoE2o3KtmJz8qdv+iVLXaRvHCU/pZoL1VphgjNi0W2OWVX7RBk6eod/3rFX1BdIvZHVj/ux4lGJ4ytEpamIFsawyLowqjgNbiyvVXmoms1l4DhyhCX+6J5qoFKmLxAm+7hMi6J9jH5tdMiKXJ1exYch4StMk0R6NyLYts2WYsYWtt5MsssViaVkDjvvh+1V3J31Gvkjff3hcxooBdAyWdZdvLTMHlOBRNBY+aactPBXSn1cto8l4cFRmiAA0udcTn7HQhK2wXZdiDTI5urg7knQDyYq0zaGx+fXxF4r0mUy9GWqVhGwjaFbwaTAs5MJzZfzBquV0s/U8ukFzGQM+RhGLXnddEulF0Zk9HiWXloaZ8UpGlav8Y6eo0CJA7TDqyUBbyIadC1lZma1qtiMrbc/nMShXxNOfQOHP4CuHX2AfPC6D/WMR2nfEko2ELVM2UY5FpXAy9NndvY5DwfRnRmaPk2Im0tJNbRo0hpwIIOfMWtel7zA8Vnlf7LryPHJT9nTQucuW1I4kfYcmLKaU4FHUB08KE1NUk0EDXQAcuT8dw1PBEmAYwNaN5M6yHVoZeKhcnTlfkA0Ym43rkiDTdBk/UI7Tw8DTRygGZOe5ZKYHgIHhQJbR4Mz3ckom36i5Q3k6Q8IilSCLDZv401nRz0knP7dhkIiyDBHsCTqGtsiu6UjS/w2dblwTU8ARqmk1Z8HTbgUb/Tf4eJRiB4IdzjVNFOarILqrzfBi4XZ6mCapqQz9JutW0rEbHqObPYsdoDTjqxYW0qVVzq0zH/gtELsfp3iy87fM3+dPi73Ad1+3kq7pfEGWVOBJXdNIPBSLVPzR0El05/IkGrisAVC+b1o5tm8uX4kbIIsKx1Al46IZryZdkVxuIGLRGE4N0sOPZc50IY6FZFxxKxT/dRdsnxKEF2Tnnd3w6udK8Cx1sjlanUZEZDxHzcejNMnnizId3LblycspqWFYpqx/41Sw8DCaJhtAViKTlQUMoxa5D7i4m2nQo7er9lXm6WG6qTiuSHPXRQZCztd7yQAuP7+8eXdkXKxSbGpZwI1G/TeWrhRtZxgizdcElvfShFvLJFVN7BIH02oa1T45elKYsDOlKdL1To7TsVltVsPIf+OdD9HsPz7TomayfJd3oP4gV/5duWxDNl86CfPK39DpPE5n6bxk1wrXTeIq0VnRu8wS1dL9weQzAro5YHoBBLCmkUXspJiU64kXmQvlrNgRi0RPrRSKwPgkuUE94erWNFG2YyrclepnfKqy4PFbGy/eHn4P4AXtw3vp/+zq4jo7frFj6PKcXbuCEke4+KeuiyKlOdpHJkcLuaIjy40Ywj3vOHTMpjL03ZtwfSrBs5SZysgTul6ScfLJG7osQNeZkhdRI03d/oC4vGgGGcxoP3dDbZlaYxNUIbcc/jTZQyfo5j/dwFFkDHWlSuvQpLOUPu/HceimsGGNvJA5e6Fo0344MNYRRfZYZHINi0yWjjO3SUjEaR8sFHWdRM3IuDRBVyIamXuWVrv1SvJn8syH4OnppGvC0MlipOskrjmFu0OksU9MyUmk3iDXonjfwFBlQRUGX6/cCZ7jOhjLpOeLDlkEEnGRZSOEEddlcusUa3Nly3pg41rgN4+IaurO/InxRmfHRSxaCJXDbzHSNRHvpgOnzgAHn6NCkhXHKwTasp7yY9a00pgaf1yW41D7n3yBBN1zp6ny9urllEUbti+ObYtYMy2q84gSPEuZYES9aYhqmSDLTLEoS+MnoqTQ2d2ia1RnpNykkS+QoGJzbCNM3TzJdqVoJcEZMvmCnEAqFcALw79aOmuVFA9Riyp9xqPAnr0kboJmXSY4uSRidFPp6aAxnxkh8ZIbLk3HnS8sEQSZiJH5PBYhV8qJM8BjB+g7diTptVScblCTaeDoKaA7Rav2XF52LS/6uo63m0ur6BMTq/ub/3kRi5pHBglLcT8+QO7PemO6gr3hkglheRGBstk8/e06dH5yT7nge9lSCZBVqFCc6b6YTIe7WhYqUwqg7+xPcZ83wTPP7rygm4fvWRHx/GzB2+VccEHYYhi0ahtGabYsC/Q2aJ/R+iNsAb73ve/hrrvuwsMPP4yRkRFs3rwZf/VXf4V3vOMd0NttheuHb6zLeoBtGxu3Wt9/eObE3oiJkW8spklj9lfhPHyCAj9rrWjLN+g1/eUr1FoWACEOuaCcrklLDwe4ApR2u8Z3M+BYGcsky5M/oC+bDw8aNIQZOBmn78oBi7GIdGex+5GztKaLzpk0vq4OEjKcdh1cyU2kpeAdn6JYIx6n/7hUCkBkN2I7wa6XWGRBV5rQtJkTcjCzsWbEObBpbWVXynR/J0OeO0VbZsVxijj3P3JdWhj4s+Ym03Ji9Ty54q82CLYZaJrM/hkZJ4vaZIa+m2nQIsYqUxgPkO48QMTvicrO8Rgt+PIiYHd8kg41N6mdXtQt8FzAi8/xKeCpZ+k3TvhckbpO9xyOs5ztt+LFwWyhBnyvaHAbiGbQ+iNsAT7/+c9j/fr1+NznPocVK1Zg165deN/73odDhw7hc5/73EIPr36mlbnR2Is1KHbiUVptzpVKVoXpibrG1XE1tSb8VqzuDmpOGoQbBQYnK97/ymU0EW1aK19zXRJxGuRNmU3VzYaPJfez4WKOwRV6xKKMuWiEbviWCJCOWkDfPKTONpqFDK6djbnW7OH5azbLBsfMAVKw+s//iFWaXq/rM6tSJ+Ol/09ngcEFFjwACZp8Ubb0KAe7GF0XyIhYp7lapxocYFsz/qa5HPhbqbRC8PuyOz0WLQ1KtsqcT88NUCVxFlBK8CwOfvzjH2P5cpkm+qIXvQhTU1P40pe+hFtvvRXRaJu2M2ALTyPdEv4b3pUXzl40rBYqxQPxjbteC08lc6xf8JRL+eRV1KlBMvfyGG2fqAyi6wB/lfkO/uVxcSZSVwfV0XA9IJUkS0g8Wrn3WL5AEx2vrMOOoetKawKw8AJpOnW7BYUanwNcsj/MClEN5gJ8N38M0EKSiovMSiHqohF6LleQ7thsvrQVBgCEaUxuLOy4pSI0Ltz7sSiJgUiEBGFQBM430QiVWZhMy4wwvr+xZTgakU1/xyYpq42zs/whDtGIrN0Vdl07DsUL+WmBbuizoQRPFfjFDvO85z0PuVwOIyMjWLVqVci72oDpIoENnGz9N7zpQlsNwqnge+bVxegEmZyTiercLdWYY1cuk2mU5QKieUi5AsXs8Hatau7lDLuTZeKS+rrIZVhO8JwZBvYFgr0NUV+DV4iuSxli/smiK0Wd6xeqW/Z0NlELWnhYqKSzwO+fognksvNrX5A0Qzxzk0+OPWI3WCZL4pHrzCy04Nl8FtVT4gDxMFyXzntXFPSMCbdP1CJxrkGUeRDXrOeR1YgzWVvtWvYTVmYhyLFT8r6UL0hhwyUxuAihf59B/L3yNq6hY72QLuIqaeFfrrW5//770dvbi/7+8oGPmzaFuD4Ex48fx7p1IRHt8wkLiEbGYfhveI12G1S08PhO5UcP0L/RCN2kbJduZpyCz+ZaXgUBlY9BIgZccE7lsem+1MwDR2j1ZJlSWLRarItfhCzrock2X5TZXcPj9FjWEz724XH5t2HILLRMrny5AoBW1c8cpYl8IWhll1ZSZN2x9a1QJEFRTTsN/3VXzlrJ27BQyYtg5IyIReEO77pGopVdrJ4IeM7Pkv0D0DlwfIDen4xVthA2A9MIr+TsR9dLg279hFkpNI2EEb93sWDolN3G8T3dHbJuUL5A10osKr+7H47fikdLm0K3OErw1MHvf/97fOMb38AnP/lJGO1WhwSQ9Q/sZlh4fH83ehVdSfAk4yRwuBIor1L4Jp31TcL+YEtAFuebC8GVbTCOqdVWhTzesA7T45NSNOYLgBkyafEx3LqRai45Dk2gXDhN02ilrOs0AXH6/e+fosnz9DDdYHnC5XL7rkv9lZp1vLwWd2k9bxsds32HKFX94HEKqDdEgHgyHn69+s+/wRHg8HN0LKNCuOQLMzvOl8P1yotWTll3XRlMb5kU4MvuZC60qevAlRe0RfbOkoLvy5om66X5iUZkPBLX4+GChLk8Xar8W7eBG8uPOhNrZGBgADfccAMuu+wy3HTTTRW3PXToUNnXKll/msKZEeDZY3Syem7pja9ZMTwNFzxi32Hj5cKATDYv+rfYIjBYoxWnZZEfP+K7oLl0+5zGJo7nprUiJVaXBbo4s6uVmD6WIZNnVwcJFG6WGRabwIKHb3iGASREXaFg53QmYtGKMJuvXPuoKwXs3Cr/z+4UrvvieeS6TMRq75reqhaesUlg70E6X87fQsd8YoosYv5YE01UxOXCgqm46E3km3hOnJF/lytSF4/SNcD1s+Ix6YY0TRKrriczlyyTAtwrLY5OnpHj5b5v+aISPC1HoHikbZPrmcuNcPKCZVKWZiWLrRI8i5fx8XG8/OUvRyKRwI9+9CNYoc3uWpQzI+WzEBrZpK2ZPvzZihj6BRY34gul3PN14nlyIl3R1x43Af6dygW4RiN0oxsYKk1r50akfBOs9btuPosCu3k/hkFClIsm5grkVnNdsm4MjsoVpa7TBO+I9hqGAVxxQW3uQo7haTXBMzQqr89jp0iAhMErbiZfKHUvMutX0XWdL5BLV9dISLJFphmW6dX9srbR7sfps9u1U/hihm/RRRvYe4gWD5WSPXRNCmK2oo9N0nXXH2IhamGU4KmSXC6HV73qVTh9+jR++9vfoq+vvX7o6RvPxjXSZWA7MtC0UTTTwrPQ1X1Hxsnd43qyTo6mlU5AbePjr2DhAeQ5cWakcuPDaI2Cp6+LHoA8//wZPv/1CImdBx6d6X5xXRJDjONQZd2OBN2QUwnZZywRo3it8UnZq4zdbkDr/U7+YoNBq06tXLy9KZ2ma8I0gDwa0xg3rJUKu+U9j7KSLKtyDz5FOIPi2o5YMjW/R1gMPdBza1fUbkltUZTgqQLbtvEnf/IneOyxx/DrX/8a69evn/1NrQZPHom4dFE0wxLhzdFl4DiUQeG3RnEPLy6CV27f/j4/RRGAy7E9c70RZnPAE89U3oYn1naAdWk568iafjqGXHyNiXLhRZ1cHLW6K4pFajIYMUmk+I+XppF4GffFmvR20Q23I0m/wdgkiZZ0RtYYmczQo5qO1Eyrxd6VuJgNqoZcj7HUMBZe7PA4gJmiNVegdi4Ri67rXIFcc65LlgMWN66oEJ3L07UfjZAlsCMp9xGsqr5+FbVuUVSG75+xCFnk4tH6ehC2IUrwVMG73/1u/PjHP8Y//uM/IpPJYPfu3dOvbd++HZ2dC5RiWwvTKehNPqnn2rF5cDTQXTyEMIuU7QAPPyV8zxbdKBnuWdWRohYLqbiIZfIAeKKS8iz4u/uuWkZWnoLPWqCLBoatvsJ0HCoWxpSb+FMJYIfoOM0raX+wY73sO1za3HG61olDwc0cT8KWx1XLpSjrSMrgcl7Zuy5ZcqYyZN2xRPsT15Vd4yOWbHo7METbxVtsxcrXJ/eC42rlvZ3Ats0UU8PHqWDTv0VbWjUGR0lAdLfIvWi6LlbAwvPMUVmorhayOXpwQb0wJtJ0TIbH5HHRdbpOOX7M81pP7M43rEE7U/U1N21jlOCpgp///OcAgI985CMzXtu1axeuvvrqeR5RHfirKjeTuQoetiYk47KLuK6RJcFxaCIOq/eQydLKDwCcvBwDZ6NNpOlx4vTM93YkKO2crRXB7+A45OtmJjPklokIYTWVodXmVBa49LzS7+64lHEzmaYJnOMoNNH0D6I6M6fJex5NXLEY9bGKx+ovQMcuHNuR7QKOnZTHCShfRdVPI+spBQMgHV8APQuhVILcMrONyZ9+3F+h2aIfFkatJkyDNbFYKPQFygIYBhAP+c3WzENfsFooVzXa33+rIymCpy1fmxKR3ce/TyQis8wm03T+JOP03s4kCVtu1us4JKgGRyuPra+b7iFr+lvvPJgPvAUODVhAlOCpgiNHjiz0EOaOzW0Zmi14xL/13kj4Rt/TGd55txx+0/kF58g+QLZD2S4F0V9neHxmR+fJDFUNjUfJLcIBsauXk9jgfljMVKbU4sNkc/KGzAyOSFdcoRjecDGUcSnODJHaHY+JFX6RJoBEXIouy5R9kFhETEyFB5GzsAKqs241Cs8jlxZAGXURi44Xj+XEGbJqNLMB5bSYbd5H1AWfv2yBnW7c2KbWCA6GP/wcCWxDowUB/7Z/8Lza70XlRC0LeNsBXJ9l19ABaFIwMcNj9OhItF72ZCPh+kmGLty+osZWMyrstwlK8CwFPK99XFr1WqL4fZ3J0iq+piHTpFcuK+13pYGajp44M7PjueNQAbUgiRitDCcztJ+OBAmcIyfphvL7p4CrnifHz661jgQ1FR2fpPdxXAIfJr+bzjBIdI1Piv42Llk//K4goHK6qB9dpB6bBt3g160AfvsYueXm86bnuDKbjQWaP95k3UoSPEFB2kjmen42Cz5/szkAXZVbkrQDbC11vZlW1XK1hOr+LJ81ia/tneeWihkWWtkc8Mh++juTm5vg8Ty6vqMNKGvRCDyPLNFTotFrvlC57tJC9/5aAJTgaXdct7LLIZ0tzSJquoVnjhNKvTf6aosocvl0Zk0/Bb/mCjJ4r7+Xnhsek1YTzprp65apt35yeWm9OT0sXQycFdTbTSnrYYW+GO5NVbRJIPV20sSRy5PLDsINFovQIyfq/EQj9Dr3/YlaZAVyRCAoW1EskYlxctBXj2YeBHCuQMJuYkp+ZtjvxGOpu1t4NePhPxZI8LBrUdPofGNrG58nzx4nd2a7C56Vy+i8Mw0pqlngBhuRzpWgGxCYabnkQpZWiiy3JweBp4/SYsd2SqtLc7yaofsskBr9dpao2O4GapnFo1Q7aiFLUmRyVN4gDNOgGMZUnNrC5IutF8c2DyjB085kcsDDewF404Vqoel0cmsgN1awvsK8WXiq2LYo3C/+0uXTN/qQU9MTq8V0jiw5fHPRdZmuXGt2mGnSTTgepZvAwBDVQTF0OQZ/1d/lPeH7Wd1Pv8eJM1TgcTJN+2DLkSOCKbmxIWemcDbKVKY00DqMZJzGNDRKx42zmvimnM2VxucECd4QNa35Anj/4ZnZU5Eytx0+N7lXUzOsMAtp4SkUgQefKG1nwm1O/K7HJ33ZgO1atC8RA3acPT+fNW3h8QmQSpW6/TWO/IvBYNZXGOW2yebJatqRoPgiTpzoFAJrPqh07dsOMDoOTE7Je2yrWTnngTa9mhQAyArhN/97AODMDBTkxnjLepp/krtVTiiFIhUn8zxgu6g6bTvSbRM2EY9Nyg69QRcUU2vdjzPDM9tAACIORtxA2P+/WjQlLBbpe9qOrKpsWbRy5Sq3wX0+d4YesxEV1hvToJgHtuAFuxkznJodJBmX/Yw46ymTo5uw44rqz6nmC2B/zFJUVPZdVaYBq38srtskMbaAMTxTmdLr1XYqn6+GUXudo6VImBWskmVseQ+ltesG0NNB14fniSKNjihrYcseWpz1xxlfibhosSFaa5wcJNc4IEskMKeHgRW985MZ5l8wJUQxz2iEFr2T4tzzn29lC7MuXpTgaWd4Iu5IUj8kvjALRQAiuykRL3/xuy5w9BS5a1JxGeAbjdBNgG/OXM7eFZ2CIxGgUKBJ3vOoJgpbk3hMs1Vc9gfU+jOgmLAx+4NZ49HSQoR8sdfqDvGvirZtJJEQFe4ix6H9PnOMXj81BAxUiDFJxIANq2W6+mRaup34dY5Z4cmfXRqpJAmQcr9VRjR2dF353qJwj/Akblm0wuS+S60A32AvOY9EGFcK5gKOMdFdnVOIGadJgmchLTx8HnR3ANs3lwZsHx+Q6drLeigOrbtDpVBXA5eF4MWWaVb+faMRWXKhEaxbKa9rbsdSKMpFT9Gen9+Rrfm6Bly6o/Q1FnT+htEqhkfR8ri+FOZRvkF2lwZ/lutQzKbzQpEmmrFJct8ANAEx2Xx5y0G1zJZpU8l94+9OXPKeQANQ16MV1roVJEaCK+hqYHGyaW1pmXT/zeDYAN0suB4Nj1EDNWfkxqSZHBXJ89/cjg9QXaEVfdRos14qtspoUTxPngcswMJcXJpGE/yafjlxNStwea5ZhHOBj4Vl0sMfy8IB8uesp9pDitrYsEa6eleWsSA2C02TiRH+PnKjE3R/KdrzU6m4WMFVpWmLplryXFCCpx3gQnxjk+FpzdUo9YEh4MCR0ud4Rc1dc6MWWRoKBSpupms0QWSyogEn6OItFOkz8wXaR0cSgEd/j4yTYPJbeMYnRaCsMAtPpmf6wtn06ri+ZpGBCzTjew+vVPIFaYEB5CqPVzTRiIwH8bcy4M/gybdSsCGXyQfoZrrlrFJrhOcBv35YjssveBa6HUa95AvknptM0/fp7y2NsbFdEmCVAlD91jYWPHz+spUql6ffbGS8tCCd41LM08QU3cgNXdZgMk06N+sRLQuZlu4XPEFY4C3BVOGGsG5l6xXRs0wpeOaDaQuPOofKoQRPq+O64enRgPAhR0rTsMvBtWD4fY5buormjB7HIXfWqo7SCcXzyILBosv1SOik4nRB2w7FnPDF5orV/VQGePzp8uOKRqgmC3/Wnr3kbw6LbeDnIhZVpAUoWHlgSLrScnn6vKlMbTeaSqufeJTcMCv7aAUenGjZHRPM3ADadyI7PlDaddt//jC6Djx/Z/nvxjdgv7uKf0PuCM7n1ckzJIqZU4Olnx8kFiE3WbWuAs+TwdA0qOre1ygcV5YRCBM808JYubAWDRxwXqkxZyPha6vVGuO2EErwtDquRz1i8kUSGN0dpemE1a5y+WLoSsmO3k8+S895nmwid0oEA8eiNJHxRO6PN6iWBx4tHWfEonnG35ZhWXfpdyhXodX/nKGXmpA3rCah87unaKzBejWV6EhSEGNnsvw2/LU7UuWPt6H7sq5Cxtxuqy7+fWJRSo9nkcul+bmtg20DRsDCyNWtuTijaUirWtDFpWkkfLYIV87De+n5SmIHEP2UpmhsvIou2iRMJ9O0X8ukMadFdWW/iG5EU8tqyBWAxw+UWjQjIRbZdhXGivKwsN13mB6cos9WYF2n+3EiVlow1DLpXskLKF0T5SZEvZ+0v/CpJoS8SwtOoP3uNfOIEjytDvcaimnkahoZl5V3Y1GqYFoNnOET1om5v5fcBZksXTTZXHiMja7LztTwgGyB3pOIyRoWuUK4NYBdTH4sc2ZJfLOS4KngHopFqdjYqGhM6Hoi6NMn2nRd3kC40Wc1gpEno0orp+kaMoFxt+tExoJg/arwmIgHHiWBsftx+u4RU/4+3LeK4Rt/mIvLT9jvapmUHWeLCtOTvvR9f/p2rfjjwZqJv8llNELiekVIxeB2dX0qyhOMQ/Rn5fG/2Sach+1aymAeUEemHajUTDMaAZ63dfY4Hr/lIZWQQbiuK+Nuoha9FrEo9dqD3K6rg6wz6RyQGSuNR+jqoAmvYEtPQTIObFxDq23ToEDqou0rmW+SdSfokijXZdn/HcqJB39zyXLUk+VbTQd4fi0o6tp1Iput8J1fKLpueA0Q7onUIeJ8wlxcfvy/6+Z1wMHjIvMt0AH7N4/MtNBwhmJHkgR5Nk/nsN9163dxNrO4oR+2lHV3UMuTcgK7XYWxojzB+4VlCjEiLJ2uqDyuawBEmruhywromg7EI7IyO7tkLZMs2x5K+5ANDFEfMX8Ci6IEJXhaHQ4o5mrKRZtWuOmstJqMT83ePJFv8N0dJI46EjIby3VImFRKzAqz2vB4ONPLj+1QbFFnkuISyt3IudUDW1vCqqYGv8N8p+pOp+dXmIzYsrP3EPC8qHSRtetEFmxmGcQNuDe7UvRd/TVIPNDve3oIsIuymjC7uIKEHaOw1appzDw/+P9hFswwKhWmayQFIbJSCenW4+7dfAzYegW0nzBWlCdYN4vdrkFcD4BYfBYDr2VCam9l87LQKp9TbMUGWqckRQuiBE87EJbO7HnUIXh4rLaguLB087UryEXG2VmWQZOV7ciJe3SCLip2E8WiNGmcGaF98gQ5mSERli8A9++h5wwduOz8mZlQ+QLw6AEScFzrh79LIXDlO45sPOl6wHMDwHiarAiOQ2KkS1Q1bbQgYgtPOkOTd9EGujtpZcaWhILvNxgdJ2sZxz4B7TeRzWrh8f29vIfqygCilQW7RvMUjAxQ01amXEac/xhxyYUwYWKZlavKmgaQTIjMrjiJjaio93PkJAVET2ZEDapJOQltXFOaVjxX/M1SIxad23v2CWuqKGiXzZWKx3YTxory8Dm642y6b3K4AN/rdF0WLvVAr2VFHR9NowXCVIZe5/idfF7G6gDy3uS34C/BlhHVogRPu+B5MjVc12VQJiDrL1TLquXyBmwYFKcx24Tc1x3+/MplpTEeew/JAGjGcWnVHWzL8NxpGY/BBemYgSF6sIk3mOY+HiLcuPdVMC5orvCEdNRnyeIVVhhHTs7ssF5N2fpWohaXlr9Uf8SiR7fIHNy0luqj2KKIY75Qvk4Kn9eeB4xMlP/8jpS0JG3dSIX6PK6Ea5PYLOc64msmmAYP0Pk2F8EzNEbnPte7GvcV14xYNHnxeZAvyFIH098rubC9mBT1kS/Q4pPb0fR0iOBicT+LRek+25WqXMahUuKEHxZEXGrDFnXZ8gX6t9G9yhYRSvC0OkUb+N2TpabQiEXigeNFikE7aAXWryqNiSgUxX5EP6epDImJXJ4u3mRc+pQ7U/IGnohRjRRO/45F6f/+if2y84EjJ8gK9Nxp2kciJrqEa3LC2bSWLtLxKXrOb4UqF2uRjNMxYF/3s6IWz2z9qOrBv3qKWDRhcyZQLEIWhIGhyiJovmpxVMuZYapf1NVBIsC2ZSmBfKE283ilSdrQKzdMDaJrgOMTt2HdrFcuA0bGSGj19wpxIwR7WMFKP/7vw2J/KkPn6Fx+o6INPPVs+Gsc7M/WvniMznnblg1EO5JLsrfRomBkvLQ+WrCBZ6MrGvuvN9MAIPafLFNwVjGNEjytDgdj+ikUS9N2M7NE+vvN//6LbypDJvZy6eb5QP+msJ5TTFjcRDwqL8KJKeAJkVXDq3iG0+Q7U2SdOT1Mk1EuT9+NO5yPT9LKPqxqsetScHfQFdYI/C6HeJRcH0GmMqWCx1/qHiCBkYiSa4e/u2XKdP2uFL3fcShtOSosJfGYNFE3si3C6WFaHYbFZjGJWPmMDy6qFo+Wt/7Vg1/gvuCicMtjRwK4/IL69u//Pp1JKlY3Mt4YwcOcs55cFLpG11syTr8lnx+xCAXsKxYH/ut83Upy/9sOXT/LulVMTQuhBE+ro2nARdvIbWUZdMPmYns8WY1OAI/up8kiXyDzvmmVVi5m/M0IJ9Olkyi3L+juIItNvkAWG8OgiXh8UrZX4JiVvi6ycOSEOdVxSIzxnNzfS+6JdIb2UyiWjocnA8YD7WMqS/5q7kOT6Cw1EQfh75UWsSO5vAxuLYqq0eNTtC/uQ6XrtE13R+XMhpIU6zLWjHUrhXDpoAlZ1+l7PHcGOHqSxvHs8fKf8dzp8q9xK4KcyJjj34nLAei6rHHEB94WxSA5CyQZlyn6uTwwWkXrEP6twgQWZ6BsXje7VaVemhH31JWka8gyKHYNkL/pXAQPL0oiVvnWEM4sbkJFe8L3h+U9ZLlTtCxK8LQDwd5Yy7rpceCI7BoetLDYZVw7/oBetoas6KPKxY2wHDzHVaHFvrg+DsMtHRyRmRI0ww6OyI7ofvzFBMMm2IhP8Dz0RO3jjli0X8+jsSdiNLZ4rNRqVC67JxYF1q8ufc4UdYZGx0mkxqPkjrFMEnY5ISbHJ0V/syh9blFkNOULZOEKZneks+Gd0+vBNMhilRM1lfJFGh+vUot2uEm+Wen2MdG4tVmxLIk48PwLS8/1iPhNC0Vyp0YsKegMvbzI9TN9PALVyf11nzguSjUEXVwsZENaRU0owdMOnBoStWxisgcRd+StFb97jN/PMTWNYLZizJpWOYvAX8dmy1k02UxlZGVfy6Ig1SDJBE3U/kq+nKppmXRT6kjSZON5MjNidIKER/B4hvUsA2pPZ7ZM4HnbyltKAACryr+/WCSLFU+chsjsyQkxlBfiMZMTXaN1aenRQK+b5sz6QMzGtZTZFuQ3j0orUdjPxWb8Rgue9auplsj6CsdkrgR/B/9v+tiBmdv3dtECwzLpXBmfovODu7wHW7AcPUluMnZh6Tpw8fbZA8EV7Uk1dboULYESPK1OoQg8fWT27VYtFxOcsAwURRFALrzGK9BDzwHmAD3HN+RGrqbn2uWaJ4W1K4DVItsqmN0VhmVSkLTjlDYMnY1CkY6J55EQS8RpH/kiueFyBWlxAerPgKhXUFrWTAtDPYXFXFfGTmka8Mg+ioeyyky+liEETxk3T7PqCwWz/uYDXQfOPotcxFxmwPNkHaGwjC5AnhPB54IZehxfxlZKJXgWF8rC0zYowdPqVNO/Kh6lQMlyOA7wX4/Q31MhrpC5ZBE4Dk2cmRzdyIMTg+tSTE++QK9nRJ2JqSxNlju2UMwLM5dVMFccBaq/+USs8DpHfp49Rt+hv7exdVrmE7bE8HFhC00594ppAsiXL3nQrhWky7GmP7ycwcQUBXhnRUq9P04rX5TWtJExSkvXNCq4mYgB/X3kzjx8ojQ4XJX+X1y4SvC0C+rKa3WiEWDbJlGFWATCpnNkPn3utAzq5caJHKhcEBlWplG6Ej1rpTTFc3lz3ldXij6vUJQFsrjY4KRIV0/G6bmxSVqxTmXCRRmvjEcnygfkOg5NFKGCp4VOzcU2uQOzV61m4Ri08LD7zN/IdTHTmaLHbOgaCZ7uDuoEz1gmCaaiTddOLAr0V2GxVLQPysLTNrTQrKIoS7BtBIdcnBJVf6cypZ3JK7GsR/abyubJtTHXGjHcz6Voi+qxImCa09CZ/l7ZhX1knGIhgp9t+2JwWgUu7z4wRH9HIyTMuBxALELCsbdrZt+nVmW2jCGOazlykoSzK6oGczAz044i8MQZ+k4s/htBOVEciwCX7mjMZyhaEyV42gYleKrk6aefxvve9z7cf//9SCaTeMMb3oDPfOYziMcXsNhT0LJimbJrObd/YCvN8VM0aR04TDdn06B/i7YMJOYJnP/Pae4A7a+rg+JaXI+sMr1dVIPFH/Q8mabaPoDMuAFoVbttkxyrJtLE8yJeYiJNkykXHWwlweNvGzGRBhAIaOZjNJkB1q4sHbvnSUsYQNYzx6U4nJV9ZGHhTu62Q/viisTJuLQu8PEtikwi0ySLXC2Cg3uv+YO7y1l4WAjkCzMtdFz9OhZprd+pGsYnZZFKxyk9J+eCuwitgIrqUIKnbVCCpwrGxsbw4he/GOvXr8cPfvADnDlzBh/60IcwPDyMb33rWws3sOnsAB244nyaBMtddNzgMx1SpNDzSosXcjqtaQCRJFldEnHqSxQXFZYzecAeAU4OSreaqQNZXzbQZecDv31MiKrARMCB0kOjFF8UDHZupRL7rs+i0ZEksRePCUuHaPlxXKTj5wuA6RPBw+PlK/DyxAvIukdBEesXF0BpJWtddFeORUh8xmPSLel55Eo5MyJElhMeZGuWmaDXr6LA5VxBtnzgStn+OKZ2u8n7j9/gKLBCxJzlCyITq87zbjqIu82Oh2LuKMHTNijBUwW33347RkdH8eijj2LZMsogMU0Tb3rTm/CJT3wC27ZtW6CR+S40vlFzT6pMTmZoBYv9hWHosl8XMLPXTzY/syqvv41DaBdgn4gJ3gv8lgXOIOrpkJWFa81E8jwSELm8yGwyRQq/QYJA12RxxIgl3FIi7frUIH3fuKi9Y5n0+Vz2n1sdrO6nVPkwRscpEHsyXVpbKOsTktwGQRcuPX+quP9YmiaQjJHFiF0l/ol6Or7GER2W7dIu5dXS21XewqPrZK1abPjPSc8rdbuOT1EAu+eVWmz8E5nrs4pOZkRvO01aJpWFZ+mh0tLbBiV4quCee+7BNddcMy12AOCGG27A2972Ntxzzz11Cx7P85BOp5FIJKCJm2qhUECxWIRpmohGhVth3yEUATipGCLJJHSduud6RYd0hOMAux+nSTybqzkmxwOgletZNQdyp84gxmPxAMdxkMvloOs64r5aPLkdm+FELETjMZgiWJm31TQNiYQUP7lcDo5tIxKNwhIiz7FtFAcGETs5OLcBh/TCEmUICVGgLp/Pw7ZtWJaFSIQsL140Am0qCxw4Ai8RgyZcUU4+DwOAs7IPxrmUDeZ5HjLpNLR8EXHTghYxgWweRQ0oREz52xeLwGQGGdeGVnQQjUWhJ+JANIJCNgdnfBKGriNiOzThZnKlBQkNA1i9HHZHAkXXhR6NINqZmp7MM4UCvEwGsVgMhhA+xWIRhUIBhmEgFpNNQTOZDDzPK9nWtm3k83nxe0qRl81m4bqu3NZ1YaezKGYy0HQdsd7uaaHF20aj0Vl/+1q2zeVycBwHkUhk+jxxXRfFbE6WFepIkKAU1k1vcATa6ER4fSvDADTAs50Z2r0En+AJPU88D5kMidNZr3sA6XS65m3j8TjdI1D+96xl21p++3rOk7Dfs5Ztq/ntaz1Pslm6jpJJ2dAz7Pd0XRdOoQgLKBHG9fz2jThP/L9nI86TsN+zKfeIKrat5refDbUcqYJ9+/bNEDXRaBSbN2/Gvn37yr5v06ZNZR/Hjx/HkSNHkEqlMDQ0NP2ez33uc0ilUnjPe95DT9gOcGYE1pkRxA6dhP7EM1Qc7aEnoPmtNvkCuZqKNnKFAh555gDSpk4xNst74IltT4wMy7YEwhIxfZnqZP0Yymfxs4d+i8ePHaYYkp5OYN1KfO+//hMP7n1yel8AYHsuhsfHMDQxLoOhBbGDJ+R/NA333XcfUqkUrrzySl/zTwPveOc7kerswN133z29+e7du5FKpXDhhRfKfeQKmPw/v0HhPx/C1H8+SE1Vdz8O7TePln7WxjXA2hV48OAB/Oyh3yJdFHErnSnkTR3jU1PIFQoz4k/+8dv/hn3Dp0u6FpdMbsLN9qEPfQipVAqf/vSnp1/KJOQNxR2TVaEfeuC3AIB7f/0recxsG6mODiSX9WLcs8my1NuF/+cL/4xUKoUPfehDtKFlAb1d6Fq1EonVK3AqMzVdQuALX7oNiVX9ePtH/posT9s3A5ech/VvfDXW/+n/hUMrOoCrdgKb1uL2734biZXL8Wd/+ReinYYJmCa2bNmCVCqFJ56QlanvuusupFIp3HDDDSXH5sILL0QqlcLu3bunn7v77ruRSqXw8pe/nJ4Q58WVV16JVCqF++67j+rP3L8H5p59iO8/itjew8DeQ9P7uOaaa5BKpfCTn/xk+rn7778fqVQKl156ackYXvWqVyGVSuE73/nO9HN79uxBKpXC9u3bS7Z9/etfj1QqhW9+85vTz+3btw83f/KT9J+Vy4CLtgOX7sCf/88v4PTIMDTXK1/M03GAoNiJRoCIBdfQMTAyjGw+R1lagptuugmpVAo333zz9HOZTAapVAqpVGp6QgOAm2++GalUCjfddFPJx/K2Fe8Rgv7+fqRSKRw7Jl2lX/7yl5FKpfAXf/EXJdtu2LABqVSq5P71zW9+E6lUCq9//etLtt2+fTtSqRT27Nkz/dx3vvMdpFIpvOpVryrZ9tJLL0UqlcL9998//dxPfvITpFIpXHPNNSXbvvCFL0QqlcLPf/7z6edK7hE+Xv7ylyOVSs1+jwAtRlOpFO66667p55544gmkUils2bKlZNs3v/nNSKVSuOOOO6afO3jwIFKpFNasKU1AeMc73oFUKoUvfOEL08+dOnUK3/73f6f/+ARP2D1ifHx8+ve0fdmPn/jEJ5BKpfCJT3xi+jnbtqe3HR+XpT4+/elPl94jBN3d3UilUjh16tT0c1/4wheQSqXwjne8o2TbNWvWIJVK4eDBg9PP3XHHHUilUnjzm99csm3D7xGCknuE4Oc//zlSqRRe+MIXlmxbyz1iNpTgqYLR0VF0d3fPeL6npwcjIyPN/XANwNaN+MqP/l88uPdJFCxjOqA079BFk87ngN5OcsEYOgxdR9SykDc5kDgzvUL41m92kSvDouaUt9/z/+HKd70Ne+Ie8IKLgSsvxM8Hj+HlH3kf/vrf7gCetxW44Bxg01p86t+/gSve9Vb8Cmng+TuBKy/ET8ZOYtmrr8WrP/P31PNL1LQpOjaeOnwIaZcvbA8J6Hjd1dfg9S94MWU8DY4CjoOv/9WHcNff3oILU73AvkPA3kMwgh44UcF2eWcXejo60ROJTVcaLjmJoxZw1ipg8zr8009/iJd/5H345oFHaLzP24pj/R3ofuWLsPJ11wNXPW9axDxy7DBuuv02/OTgXqqM/MKLcWrjClz89jdjYEQ0Ta2Q0VPs7sCuR35P/8nJSTNukUDJFMpUOm4w4+k0jp0egGPoTY8p0KHh//m/34UvvPVdwO7HgF8/DOx+HF9914fwqRvfjpV6ZDq2yfWL83Qd7rcGEY+KFanP/eC4Li56+5vxw4NPAReeA1y2A8fW9mL5q6/Fjre9Adi5lSolX7wdH//htxG99vn43G9/CVx+PnDlhRg+dx1WvfZlSL38DxvbSLVG3vSSl2Lyp79C70hII9+lQtHGn1zxAtz2/g/j3I5eimE7NYhleRcvu+z52LZu/dyzUgNYXEJDxfC0PJrnzRbcobAsC7feeuuM1ddVV12FlStX4gc/+EHN+9y0aRM8z8OTTz5Zn8nS8+A+/jR0jh2YA9lzzkKkv68x5uozI8C+Q3A6Esidux6xwXEYR0+Gfm4lvEQMrnAjGPEYZdeIjC+7MwmsXUHmTU2D47rwjp2EOZ6mVfcV1Em7KnP1g48DuQKc7g7kzl47w1ydzWYRf/xZ6IUiTXxdqXBz9eET0ERguJeIQTvvbMC24T59FHo6C/vsdTDXULPKRWGuHh4HngyUHSiHacK+7DwUJqeQeOIgWZlecBGA+Xdp2U8fQeT0CFXy3ryu4rbVujX8v+es2zoOMtksoGlIxGLQRIxQI1xazu+ehMHJBy+8GNC0pefS2neI7kGzkUoAF56DnG3P2aXlPvkMzNFJqtYtilcql1ZrurRUDE8V9PT0YHR0dMbzY2NjcwpY1jSt5IICgEgkMn3S+wluB02D7q+HApCLJhaV7QM8T9bF8Zvql3VT1tUpyrCK225J8KppmtMnlp+SE8ulgGhT12FaIivoxBnaJwDDcWnMLiit2XFE1+4EiRLHoYmvTwTOcjuMsUlgMg0tk8P0iPyxNYYB89wNJQ1VDYCyxYCS4Gz/xcjoul56LLngcMhvMWNbUWQvGo2W3EAAQBuXwlPL5MjdBmlCNX3HN+x3B2r47Wvc1rKs6Zu5n7AbRdXbDvmuh3Ur6ZwyTdHstEhF+Lg56pp+mJYFs1O4e7jViaGHlnUwDCP0e9SybbnfPsK/gy/WpqrzRBD625f5PWdsWyhC+92TSPK1aTvTJSQi0BBZtWxGA9pafnvDHzBdtIGIVfb3nOt5UtU9YpZtm/Lb53yW1O4OOgejEToetiMD/acywGQGsZ7OGfut5bfXdR26PrO6ey3nSdjvuSjuEajtt2/EeTIbSvBUwbZt22bE6uTzeRw8eBBve9vb5n9ArksXrj+zB6Dnpiq4C3SdOkX7M3OOnZK9pPIFytJKCVFiGiSUJqZEFWeHtivaszcu5dc7khRLIia4qsy+mRxNqJZFLr1cnoTc8t7ylX15t4UiCS/TIHeV41D8TiJOn82tLSxDZrEBVCvn2CnZIZzFov+7PH1UpnjzZBWxKB4p2K0+yFx7jLUaXLhw/arSYosJIR5WhTQk9Z93tg0Yc2hpUi/NanpaDXwN+eFJGKAij6uW11+SwfHt++G9tMCIx2ji54zFziRdT5NpKlFhmZQ9yNe77dC1ZBiiqnuWtonHZP+9XF7eI/h65izPhc5S4+tsx9nh7kXPA/bspYzK4G9RLypLq21QgqcKrr/+etxyyy0YHh5GX18fAArGyufzuP7665s/gGyOUsInM2QBCYqNeJQCMMcnRedv0V6C68ckE3RRJuOlk07Ct7I9fAJzJpUA8qL/kuvzlGpabQXqEjGKwwljeIxuutEIxesUbVrVDY3Jbfz1bWqh0jHQtZkd1Hmy8tcwuuAcoFAQdYc84OQQ/S7uIvMcc1ZfLZWKNY2sQLZNx9o06Jjyqi5foMfalc3rlr6Q9XL8E+y2TVTXigOlOT2e+3V5HrlmhsaERUxYRCMWnffdnSRk/AsIf2wK3yNyBdm0tBxco0vXS9Px/SI9+P8wNI2+VzXNfpvFbAUguSwFsqUCcS6oOjxtgxI8VfCOd7wDt912G1796lfj7/7u76YLD77pTW9qfg2eXB546MnK28RjNHnUGjC5rAdYNUkF6bhuDUCT0NgkXcgRi/bfTxlVsB0SWNEI3VSyvswUXQeOnACOnsK0r6iRjE8BT5Yp4sck47LNBVthbEdOAJYpLT+GQQ9dE7WMTFmF2PNo1arrsur0kZO03c5z5Q21UKTjlclRMHjQRM49yA4ep4knJlbalkn77e1a+FVxPdTbS8vQARtUFLEcA4PNFzwLccxZ8PR2zWwXk0qQdZbP02OnZnZd93NsQFZE5+uR9799szzHMzk679hlXCjSNdGVIqvnVEZe635BExQ3/v/HojOty4CoKj7e2oIHAAwx7TXawqMET8ujBE8VdHd347777sN73/tevPa1r0UikcAb3vAGfPazn23+h8eiZPHg1Z0lqinn8rLYWb0mcEMHztlQ/nWOBapEPLDCZwtSMwwa/ptsV4pECIuUVIJSja0yp7Tr0mq6nlYIoxPA40/T36uXz2wmWamDut8CEuwkz+g6rdpNA4hEg8j4pQAAIpVJREFU6Pc2dJqg/LEHGkR2nYiVsR3alosZ9naS6J1uQ2HTpMdjcFzp+svmaT/1Vhae7h1V4/Fc3kM94DqTdN7aDlk6LJPOmYPHS1t5NJqFbARbqU+cqPGE8Sm67ljs9PdSSxcN9LvmhcAeHpMV0v0WRk2jeCo+B3q7KECb4SKfweuaK3HzvaRYpOslEZPNiD1Pnm8AXY9cmPH4AD0anAFVM2xJrSTEubp4owSP6pbeNijBUyXnnHNOSb2IeSOXlxNfOZIzgy4bQj0XMN9ompH8xzeoZd3AeWfX9l5dr1yEwb8y9DzpQsjmpwOxAVQWN2Es7yFhOpUhkWaZtH+OjcoX6bOnKylngArGjxn4Y7ZODZK1ikXndL8snSbZYGuJiEWp1fVM/vVaeDavAzatDT+3bJsEjy+ouSJTGWm5yOTIuhePyhYrsYicrGMiUJ7dOwsheCo1bGWhwS1KmHUrw6uOOw7F4BSKstho0Z7p5gpS7nsbBpDwjcsM/B02Zr+Y7xBjbJZY5Srwhk7fna1VjlvaU64aQcvXh3JpLTmU4Gl1LFOuDPmCYhcMC4BoDXEUzaZcq4IwhkZpopoOJBWWq64O2YbBD2dgjE1Sg1IOSLYsipuJRWlCrcXilclS/AS3nTANOeEG2bapdsETsYDzNoe/5nn0fTmOwxFB5/w9TQOAcFtEhAUkk6PxJYQbcyorVt8ucGZUWLICk45T5vsUikIM1HH+8P5q+b2ZchODYcjswqIvqJktGbkCCZdEjKxEzxyt/bOZhXRphYmHzhQwMCxdqJpGAs7fpsQPByC3ChyHZc8ieIZGKakgIiya7ErWNDoGqTid07k8/d7jk7QYsEVcomnSdeJfUBnimG1c61u4VBAf5iyCx3bIwuUPyvafs55XGqCtBE/boARPq6Pr0j3EF5bjv9gNukm0CtWu+NNZ4KmD4a+dGqKVbkeyNJaIC9bZzswAYoCCmTsStfWAGpmQAoMn2jBMg1xGjUQTWTSAnNiW1Rj/4N/+nA1SQPG5YpnS5ZGI0fnieZTFky+UFzwsMoo2vS8oIqcFTwOFA09+hSIJ0bEJCtplS045EjH6DoWidAGWm8yiFrkNu1PhrzcaV8R+ZbJUuwiQ4sDPymWiIKjZnjFdfH5kclSfqVAkAbN5XakQOHaqvr5vjH/xZxp0b7RtEkknzpQ2VC4Hi/RTQ/Q+vu55oROMX9KFGOtIkmvxzIhcIGma3F7pnZZHCZ5WR9Mo84c7YxdtmtRMU9zoI/WtspuFfyyVYoD8TTW5Fk8uT0LIcelff18o/4SXSlCBr4hF78nmqWpzvlC7SZ0nxmU95GrhoE7LpP0l4yKo2wifqFoJv4Dyw8HofiIWfb9cAYgVZexTrkA37mOnaELw78NxAIiJppJ7Zi6w4HnmaGlNFY5zygaCZXeeSxbBIFy6gQPPueFnuRivZjEyPtNNFWa10bTw36ld8AtiFnaTGUqzL2mmK36/LiEgOEg7L1y8nkf3gngEiMdpu2RcxpvlC9L6BdDvfOg5Ejv5wPlSjs4UiRjXC184BXE9WngFi7x6XqmlqZ1/vyVCi9/BFQBmZv60MsEu6NNBzOLmYgs3FE9mhg5sWS9vFvkisO8g3QjZZ9/TSRPrc6dJDK3ooxVx8HOPnqw9EJG3j0VkxgvDN/FgYPZiIGoBk6DKtAD9Jq5X3jLin0z8q+xGWngAis9KZ0vFzo6zKTbFENl3JwcpG9DQw+NbABHk7xtbvYH9c8UfN3XuBppsE02KuVtILJNcvuksHWsuDfHsMaC/j8pVmKa83nacPXMB4Xl0vKJW+YVSULDqOtXnOnGm9JypdF52JoErd9JiKZOjfViGLJsQseTiEqDvxFZG1yOLere4J2saXQ8eyrsfFS2DEjyKxuK/0Ty8l24C/ho5QRyXOr0booif3/LDZALPhVkVLPHcbDEEMz6/SZaKVieVLP1dij4Rw3E0nUngwnNJfOYKdIw9iEa1abrx12pdLBbJjcgVbyfTtO9CgfYd/B1ikdJyC5YJnLWSPjsWbS3rZhh8Pq5aNlOkLzb8qfa5PC1QwiwjZhlrKQea1wqLIL6Ww7LQgpgGieVyghmQIjlizbLoXIQLokWKEjyKxuKfgLL5UheEptHqNpefGUTrOEDWZ13o7aQJzXZo20xWTMpauAuDb6C1psXyirPVJ85Gs24FHeOIRd+ds726UjMni2ik1FyfjNcevM3sO1y5EF6wqGbYxKVpC9qksyb4fGx1d2ijWbuCrumJNP1eqThguyR4gzWI5kokaPVRwTSKcJbYVahoOv6bzeZ1NJGOTtBEum4lTZzZPAVyjk3I7bh0/cCQqNi6caYIqZQNwZaBel1aS83Co+sUQ8F0h4jIZsDWuu4O+j1TCXLzcOrzI/tnjrOdYcEz37FDC000UrnGVyPxZ/fx/xWKEJbYVahoOv4JatVyEjCnhymoeHBmA1as6S8tjFapSmslMzWvoNNZ4MARigXp7pA9xxyXLBOaRpOQZZI4W6qCZ6FgAXDOhvDYqPO30Dmj63TetNNq/bnT5O7j+A7PI8sksPQEz3yiacDGNeSiNXRgZd9Cj0jRoqirUNFY/BPU0GhpV23/KixiUYxIuZ5ZtZKM06oyX6AJc2Bo9vf4UavC5uM4MoW3nADo7aLHxBQJnmwBODMsshLjlQNaF5J8gYomAiR8gixU0PRSYd1KeigUFVCCR9FY/EGv+w/L53dsKa1j0+hJyzSAy3ZQaf6hMRJaHA9imlROfjozzCjNRopFW6uI22KlWEN2F9cGsm2K+/Gj6ySsLzhXVvhdyB5ZQGns2HS7D41q/vR0tlempUKxSFGCR9FYNA3YsJp6/TDxGNAzS8n7RqDrcnI5ex0JHn8ht6ItWy9w+whuSaAsPM2haJOlJp2VvcS4sm4lIha5t4bGKJOraMvUeNcFXAB79pI1yLap5gvXcNFFto9lUezYymWib5eo1qvrjXcxsWs0HgUu3dHYfSsUioagBI+i8Zy1qnGuqnoJK+Tmn+S45kawEaiisew/RGnofrqqPObs3mK4gvLoBMVpATMbsjoO4EBaXEbGgcMnZKE55pLzGls3ZamWN1Ao2ggleBQKRfPICqtMdweJl2S8fvcOZ3KtXEZp6YMjZNWxLNqvaQg3pkZWIdehatH+fm3M6ERjBc9SLW+gULQRSvC0C54ni7XlCnRzN3QRn6JusooWxRVCYNPa0jT4uWKZwOr+mc+zVY9je9aulK5LyyQBdOwUBRhHrMbVhFEWHoWi5VGCp9VxHODBJ8oX1NM0Ms8vxnL1ivZnLl3VG4VhSLHV00GCBwBODzVO8KjyBgpFy6MET6uj6zOL6XEjR9shy8/4lBI8itakGV3V50J3JxW6PHicYos8j8Y4MkZdsF1PWoPiUdkGwTQoEDoWpUWG45L7LF8gS9HpYdq/cmkpFC2LEjytjqYBF2+XHbwBmXV04AjVm8nnZ76vUKRHItb+1WoV7Ynr+qrfttA5uKJX1sz59cPh2+QLst1GLaggeIWiZVGCpx0oF1zJjfaeO0MrS2686Xq0WvU8EjvRCKCBzPfrV8/LkBWKkn5prSS6LYuqgJ8eKg1mjlrAmhV0vRVtWjC4rvw7nRUijreP0CLEtunvvu7KlcIVCsWCogRPO8PF2RwHOPTczNd1nW7QLISOnKRqpK00+SgWLyx4NK31zrlz1lOtJnYXOw7Vi1IoFIsWJXjamb5u6hk1PkUug+W9IubHpte6O0jspLPA3kP0nkJRCiWFoplw5lIrubP86DoQ4bGp1g8KxWJHCZ52xjSA886u3EU8EadH7AQ10cwXZOpuK/YkUrQXz52m4n4ayK2aSgDZfGnjTBXIq1AoWgAleBYD1QiXqEWC59EDNAG5LpCKU5DlprWt53JQtD6jEzL4lxkcnbmdStVWKBQtgBI8S4XOFLm+AOlqmMzQo7sDWKaCLRU1MDIOPPEM/R21qAig61FmUyxCqdqZHAnrVcsXdqwKhUIBJXiWDhtWU0l/26bJyDKB3z1Fr+WLCzs2RevhusDYJInjaGRmg9WTg/LvzWep7CSFQtHyKMEzC47j4POf/zz+4z/+A3v37oVt2zj//PPxyU9+Ei95yUsWenjVw53E/axaDpwaBIpK8CgCHBsAjp4sfS4aoQDkjiQwPEbPbVhNgfMKhULR4qjAjVnIZrP49Kc/jZ07d+Ib3/gG/vf//t9Ys2YNrr32WvzkJz9Z6OHNDS5kWK5thWLpkvYV3eMsq3yB3FRcVVjXqW6NCn5XKBRtgOZ5njf7ZksXx3EwMTGBnh5psvc8D5dccgk6Ozuxa9euuva7adMmAMChQ4caMs66OHEGePYY/d3fSwXVTJ3ifSIWTXAeqFpzPErPqcltafDIPmAiDWzfTBacQpGa1ubyFKcTjQBdqcY2BFUoFIomolxas2AYRonYAQBN07Bz507813/91wKNqkFEfbVHzozIv08NVX5PxAKg0b+uS7Edtk0Pjgfasl7FdbQ6vNaxHarXFI3Qw7apdhMgRS6/1pUCVvQt3JgVCoWiTpTgqQPXdfHAAw9g27ZtFbdjK04Yx48fx7p16xo9tNro6QLW9NPKnRslFm0KVs2L5yyLVvQFIWTyxeqCnM+MKMHTygyPAfsOAdBm9rzyt4SIqoJ8CoVicaAETx3cdtttOHDgAG6//faFHsrcMHTg7LOq29Z2aOWfK1CQs+fR37pOf1smPUYnyFXmurPvU7FwDI6WChvG/5xpCGueQqFQtD9LUvCMj4/j1KlTs263ceNGRKOlbRh+9atf4SMf+Qj+5m/+Bi984Qsrvr9SfE4l609LYhr0mK0tBfcmUqFhrQ3/Tv29FHjckSA3lu1QQUp+XRWkVCgUi4QlKXjuvvtuvPWtb511u0ceeQQ7d+6c/v/jjz+OV7/61XjNa16Dz372s00cYRuji6BmZeFpbWyRmbesG+gUgcephHzdXJK3BoVCsYhZksu3G2+8EZ7nzfrwi52DBw/ipS99KS666CL8r//1v6CpbKVwNHFKucrC09KwBUf1uVIoFEuEJSl4amVgYADXXXcdVq5ciR/+8IeIRCILPaTWRVl42gO28FjKkqNQKJYG6m43C9lsFi972ctw5swZ/Pf//t+xd+/ektevuOKKBRpZi8IxHyqGZ24Ui3Qsq7HAeB5l0Wka/Z0vAMmEFJ2WSc97ngwyLwoLj2rsqVAolghK8MzC6dOn8dhjjwEAXvOa18x4XdVtDLCQFh7HAbJ5Sq23HZroO5MLG3ibywN7D9HYDJ0y21wPiEeAzg4AHrX80HUSH6MTVMk4m6f3Gwa9T9OoBk7EouBiy6TtcwVgMl25WnbUAmyXxmCZpduqWB2FQrFEUHe7WdiwYYMSNbWwUDE8RRt46AkZm8LoOgkGLqCnadTN2zLp784k0NVBRfWawZkREiRBprL0AEobcQZxHNnd3l8cshb8dZP8YqcjqSw8CoViyaAEj6KxLJSFJ5uTYicRo4mcrT2uWzrR+wXICZDwuXQHFVqsF8cBhsZEh3GXWnTEosDQKL2+ahnQ203HxzKBiSnqS+V6ZNUpFsmak0pQqnhPJ/0/X6Dx2w4wPkkWnZRwVzkujT2VALo7AA30PaMR2p6LCI5Pyu0KRRm3E42oViEKhWLJoASPorHoC2ThYYGViJF4AShWJZsHCgUSAHkR5+I4JCSKNllNPI8EyFwEz9FTwPGB8q8v6wF6u+T/q+1BZcbl38Fu92FwzA+LGl2nz2aaZclSKBSKFkcJHkVjYQtPNW7Aok1WiEbE2Dji8/z70jQSQIlY+feZBrmUTpwhtxe30NA0EiVTaRJLPV3kCisH954CgLNWyUBigERGNWJFoVAoFE1DCR5FY/ELHs8r7zLJF4CHnqQYmgvPnfvnsoWnVvGUFMX2JtPA40+X307XgSsvKB/kyy6z8zaXWlQUCoVC0RIowaNoLH7BwZ3UwzgzQq+PTVYWRtXCgseoUfCs6CPxNTJO+7AsAB5lV+WLZAGyHXotkwc6y1wybM1RvacUCoWiJVGCR9FY/MJl/2GZHVUQXdZzeUqTnszI7fIF2aOraANHTgDQqKcTNyW1TMADCZCwOJR6LTyGDmxcQw8/7JKyTODR/TTe8UnAdegzsnkSQpz5xYLHUoJHoVAoWhEleBSNhQWA51HWUhiFYun/H90PdHdS0PDgaGk8TNj+L9pW2vcJkF2+G1VzR9OksIpEAGSAQ8/N/r6IuqQUCoWiFVF3Z0Vj0TSyloxPUQdu1yOrjS4ERGeKUrALReDwSWpxkC9SsT0/0QiQjNN2mZy04HgexdsEBc+0S6sJadZBN5Vp0NgsS8Yqua5MJVcoFApFy6EEj6LxrFsJrKtiuxV9lCHFYiWbJzGUiAOb1s6M69l/mIRRWFXhel1a1dCRAE6Jv89ZD6xa3vjPUCgUCkVTUYJHsXAYBomjamFLS9AlBjTepeVn5TLK5vJcslApFAqFou1QgkfRPnAxPb+Fx3EpEJq7fzdD8HALCoVCoVC0LUrwKNoHtvBwdeRsngKc/UUOa01LVygUCsWSQAkeRfvgD1QeHA3fptqWDQqFQqFYUijBo2gfknHg8vOpy/jkFGVJdaVEM02RLaW6fysUCoUiBCV4FO1FLEqPZd2lzzcjHV2hUCgUiwYV8KBQKBQKhWLRowSPQqFQKBSKRY/mef4UF8V8EY/HYds21q2rpkKfQqFQKBSKMNatW4df/epXs26nYngWiGg0WvW2x48fBwAljpqIOsbNRx3j5qOOcfNRx7j5NOsYKwtPG7Bp0yYAwKFDhxZ4JIsXdYybjzrGzUcd4+ajjnHzadYxVjE8CoVCoVAoFj1K8CgUCoVCoVj0KMGjUCgUCoVi0aMEj0KhUCgUikWPEjwKhUKhUCgWPUrwKBQKhUKhWPSotHSFQqFQKBSLHmXhUSgUCoVCsehRgkehUCgUCsWiRwkehUKhUCgUix4leBQKhUKhUCx6lOBRKBQKhUKx6FGCZ4F5+umn8bKXvQzJZBL9/f14//vfj2w2W9V777zzTmzduhWxWAw7duzA9773vSaPtj2p5xhPTEzgU5/6FC6//HJ0d3dj+fLleNnLXoY9e/bM06jbi7mcx8zdd98NTdOwY8eOJo2yvZnLMR4ZGcG73vUurFq1CrFYDOeccw5uv/32Jo+4/aj3GKfTaXz0ox/F5s2bkUgksGXLFnzqU59CPp+fh1G3D88++yze+c53YufOnTBNs6ZrvSHznadYMEZHR701a9Z4z3/+872f/vSn3p133un19fV5b3rTm2Z97/e+9z0PgPfRj37Uu++++7z3ve99nqZp3s9//vN5GHn7UO8xfuKJJ7yVK1d6H//4x72f/exn3o9//GPvmmuu8aLRqPfwww/P0+jbg7mcx0wmk/E2bNjgrVixwjvvvPOaONr2ZC7HeHJy0tuxY4d36aWXet/5zne8Xbt2eXfccYf35S9/eR5G3j7M5Ri/+c1v9jo6OrwvfvGL3n333ed95jOf8SzL8t773vfOw8jbhx/+8Ife2rVrvRtuuME7//zzq77WGzXfKcGzgHzmM5/xEomENzg4OP3cXXfd5QHw9u7dW/G9W7du9V73uteVPHfdddd5l19+eVPG2q7Ue4ynpqa8dDpd8lw2m/VWrVrl3XjjjU0bbzsyl/OY+bu/+zvvhS98ofeWt7xFCZ4Q5nKMP/axj3mbN2/2MplMs4fZ1tR7jIvFoheLxby///u/L3n+r/7qr7z+/v6mjbcdcRxn+u9arvVGzXfKpbWA3HPPPbjmmmuwbNmy6eduuOEGRKNR3HPPPWXfd/jwYezfvx9veMMbSp5/4xvfiIceeghDQ0NNG3O7Ue8xTiaTSCQSJc/FYjFs27YNJ0+ebNp425F6jzFz8OBBfP7zn8cXv/jFZg6zrZnLMf7617+Ov/iLv0A8Hm/2MNuaeo+x53mwbRtdXV0lz3d3d8NTdX1L0PXaJUcj5zsleBaQffv2Ydu2bSXPRaNRbN68Gfv27av4PgAz3rt9+3Z4nof9+/c3frBtSr3HOIx0Oo1HHnlkxv6WOnM9xu9///vx53/+57jwwgubNcS2p95jfPjwYZw+fRo9PT145StfiWg0ir6+Prz73e+uOcZqsVPvMbYsC29961tx22234cEHH8TU1BR27dqFr33ta3jPe97T7GEveho535kNHZmiJkZHR9Hd3T3j+Z6eHoyMjFR8H4AZ7+3p6QGAiu9datR7jMP427/9W2QyGXUTCzCXY/zjH/8YDzzwAJ5++ukmjW5xUO8xHhgYAAB8+MMfxute9zrcc8892Lt3Lz72sY+hUCjga1/7WrOG3HbM5Tz+yle+gne+85244oorpp9773vfi7//+79v9DCXHI2c75TgWWA0TZvxnOd5oc/P9l42n1bz3qXEXI4x8+///u/4l3/5F3z5y1/G2Wef3cjhLQrqOca5XA4f+MAHcPPNN5e4ERTh1HOMXdcFQKvjr3/96wCAl7zkJSgWi/jwhz+MW265BStXrmzOgNuQeu8VH/3oR/GTn/wEd9xxB84991w8/PDD+OQnP4menh7cfPPNzRrukqIR851yaS0gPT090+rVz9jY2LR6Lfc+ADPeOzY2VvK6ov5j7Of//J//g7e+9a348Ic/jHe9612NHmLbU+8x/pd/+Rfouo43vOENGBsbw9jYGAqFAlzXnf5bQdR7jHt7ewEAL37xi0uef/GLXwzXdWt26y5m6j3GTz75JP7pn/4Jt99+O/7yL/8SL3zhC/HBD34Qt9xyCz796U/jzJkzzRz2oqeR850SPAvItm3bZtxw8vk8Dh48WDFOhF8Lvnfv3r3QNA1bt25t/GDblHqPMfPQQw/hta99LV73utfhs5/9bLOG2dbUe4z379+PZ599FsuXL0dPTw96enrw7W9/G/v27UNPT8+0RUJR/zHevHkzIpHIjOd5dVxPEOlipd5jvHfvXgDAzp07S57fuXMnbNvG0aNHGz7WpUQj5zt1ti8g119/Pe69914MDw9PP3f33Xcjn8/j+uuvL/u+jRs3YuvWrfjOd75T8vy3v/1tXHbZZco94KPeYwzQBXb99dfjqquuwje+8Q3lKixDvcf4ox/9KHbt2lXyeOlLX4oNGzZg165deNWrXjUfw28L6j3GkUgE1157Le69996S5++9916Ypont27c3bcztRr3HeP369QCAhx9+uOT53//+9wCADRs2NH6wS4iGznc1JbErGgoXurrqqqu8n/3sZ96//du/ecuWLZtR6Optb3ubZxhGyXPf/e53PU3TvI9//OPerl27vA984AOq8GAI9R7j06dPe+vWrfNWrlzp/fKXv/R++9vfTj/27Nkz31+jpZnLeRxE1eEJZy7H+MEHH/Qsy/Le/OY3ez//+c+9f/7nf/YSiYT3gQ98YD6/QstT7zG2bdu77LLLvP7+fu8rX/mKd99993mf/exnvWQy6f3pn/7pfH+NliadTnvf+973vO9973ve1Vdf7a1bt276/2fOnPE8r7nznRI8C8yBAwe86667zkskEt6yZcu89773vTMKhL3lLW/xwrTpN7/5Te+cc87xIpGIt337du+73/3ufA27rajnGO/atcsDEPpYv379PH+D1mcu53FwGyV4wpnLMf7FL37hXXzxxV4kEvFWrVrl3XTTTV6hUJivobcN9R7j06dPe29/+9u9DRs2eLFYzNuyZYv30Y9+1JucnJzP4bc8hw8fLntf3bVrl+d5zZ3vNM9TlZEUCoVCoVAsblQMj0KhUCgUikWPEjwKhUKhUCgWPUrwKBQKhUKhWPQowaNQKBQKhWLRowSPQqFQKBSKRY8SPAqFQqFQKBY9SvAoFAqFQqFY9CjBo1AoFAqFYtGjBI9CoWg5NE2r6vGf//mfuPHGG1uyX9H999+PaDRaU/PI0dFRdHd344c//GHzBqZQLFFUpWWFQtFy7N69u+T/t9xyC3bt2oX77ruv5Pnt27djcHAQExMTeN7znjefQ6yI53m45JJLcOWVV+JLX/pSTe+9+eab8a1vfQtPPfVUaKdzhUJRH0rwKBSKlufGG2/E97//fUxNTS30UKripz/9Ka6//nrs378f5557bk3vPX36NNauXYs777wTb3zjG5s0QoVi6aFcWgqFoq0Jc2lpmob3vOc9+MY3voFzzz0X8Xgcl1xyCXbv3g3P8/C5z30OGzduRCqVwotf/GI8++yzM/b7y1/+Ei95yUvQ2dmJRCKBq666Cvfee29VY/rKV76CSy+9dIbYue+++3D11Vejr68P8XgcZ511Fm644QZkMpnpbVasWIFrr70WX/3qV2s/GAqFoixK8CgUikXJT37yE/zP//k/8ZnPfAbf/va3MTk5iVe84hX467/+a/zmN7/Bl770Jdxxxx3Yu3cvbrjhBviN3d/61rdw3XXXobOzE3feeSe++93vore3Fy996UtnFT2FQgG//OUv8aIXvajk+SNHjuAVr3gFIpEIvv71r+NnP/sZPvOZzyCZTKJQKJRse/XVV+M3v/kNxsbGGnY8FIqljrnQA1AoFIpmkM/n8Ytf/ALJZBIAWX1e85rXYNeuXdizZw80TQMADA4O4gMf+ACefPJJnH/++chkMnj/+9+PV77ylbj77run93f99dfjoosuwsc//nE8+OCDZT/30UcfRTabxUUXXVTy/MMPP4xcLofPfe5zuPDCC6efD3NbXXTRRXBdF7t378bLXvayOR0HhUJBKAuPQqFYlLzoRS+aFjsAsG3bNgDAy1/+8mmx43+es6keeOABjIyM4C1veQts255+uK6Ll73sZfjd736HdDpd9nNPnjwJAOjv7y95fufOnYhEInj729+OO++8E4cOHSq7D37viRMnavnKCoWiAkrwKBSKRUlvb2/J/znjqdzzuVwOAAUNA8Af//Efw7KsksdnP/tZeJ6HkZGRsp+bzWYBALFYrOT5zZs345e//CX6+/vx7ne/G5s3b8bmzZvxhS98YcY++L28L4VCMXeUS0uhUCh8LFu2DABw22234YorrgjdZsWKFbO+P0wUveAFL8ALXvACOI6D3//+97jtttvwgQ98ACtWrMDrX//66e34vbwvhUIxd5TgUSgUCh9XXXUVuru7sXfvXrznPe+p+f3sIjt48GDZbQzDwOWXX46tW7firrvuwp49e0oED7u7tm/fXvPnKxSKcJTgUSgUCh+pVAq33XYb3vKWt2BkZAR//Md/jP7+fgwODuKxxx7D4OAgvvKVr5R9/9q1a7Fp0ybs3r0b73vf+6af/+pXv4r77rsPr3jFK3DWWWchl8vh61//OgDgmmuuKdnH7t270dfXh/PPP785X1KhWIIowaNQKBQB/uzP/gxnnXUW/vEf/xHveMc7MDk5if7+fuzcuRM33njjrO9/05vehC996UvI5/OIRqMAKGj5F7/4BT75yU9iYGAAqVQKO3bswI9+9CNcd9110+/1PA8/+tGP8MY3vrEkuFqhUMwNVWlZoVAoGszJkyexceNG/Nu//Rv+9E//tKb33nvvvbjuuuvw1FNPYevWrU0aoUKx9FCCR6FQKJrATTfdhJ/+9Kd49NFHoevVJ8S+6EUvwtlnn42vfe1rTRydQrH0UC4thUKhaAJ/+7d/i0QigRMnTmDdunVVvWd0dBR/+Id/iHe9611NHp1CsfRQFh6FQqFQKBSLHlV4UKFQKBQKxaJHCR6FQqFQKBSLHiV4FAqFQqFQLHqU4FEoFAqFQrHoUYJHoVAoFArFokcJHoVCoVAoFIseJXgUCoVCoVAsepTgUSgUCoVCsej5/wHx0l/hKZeSWwAAAABJRU5ErkJggg==\n",
          "text/plain": "<Figure size 600x700 with 4 Axes>"
         },
         "metadata": {},
         "output_type": "display_data"
        }
       ]
      }
     },
     "9d3f2598507a4020989b75a9d68a0bde": {
      "model_module": "@jupyter-widgets/controls",
      "model_module_version": "1.5.0",
      "model_name": "SliderStyleModel",
      "state": {
       "description_width": ""
      }
     },
     "9e3eb27387e14cf8aa569d832f6abfe9": {
      "model_module": "@jupyter-widgets/controls",
      "model_module_version": "1.5.0",
      "model_name": "VBoxModel",
      "state": {
       "children": [
        "IPY_MODEL_b89f82f0d26943c4b0f6bc57cead9fdd",
        "IPY_MODEL_73f5b72ae7824e75b28c68fd4caeb1df",
        "IPY_MODEL_3b0e708bcc714ed6a6671df4e4efc34d"
       ],
       "layout": "IPY_MODEL_439025d509cb4c7698d58b1e33801699"
      }
     },
     "9eda7f00c1af448695632682e80d5116": {
      "model_module": "@jupyter-widgets/controls",
      "model_module_version": "1.5.0",
      "model_name": "VBoxModel",
      "state": {
       "children": [
        "IPY_MODEL_06f71a8aa2c243b79d5e04cee337a2d3",
        "IPY_MODEL_8aab10e572214baa81530b6bd7b5eceb",
        "IPY_MODEL_f8c6647c1396417d86c1bb4b4b0c1a6c",
        "IPY_MODEL_b60efb1a68924a27abda6a03f5e370ca"
       ],
       "layout": "IPY_MODEL_70e579cb15254862874335fe2c17d57b"
      }
     },
     "9ee8bd5725ab4d17a81a7ef65ee6bbbb": {
      "model_module": "@jupyter-widgets/controls",
      "model_module_version": "1.5.0",
      "model_name": "SliderStyleModel",
      "state": {
       "description_width": ""
      }
     },
     "9fd9f13c45e541e1afb6e88b8201ece6": {
      "model_module": "@jupyter-widgets/controls",
      "model_module_version": "1.5.0",
      "model_name": "FloatSliderModel",
      "state": {
       "description": "$B$",
       "layout": "IPY_MODEL_bd5d399cba5341edbb743991f6ca733c",
       "max": 25,
       "style": "IPY_MODEL_581b453fdb2d4550871552ca5a5a9b23",
       "value": 10
      }
     },
     "a075bbba6c7a437f9b67a8586025b838": {
      "model_module": "@jupyter-widgets/base",
      "model_module_version": "1.2.0",
      "model_name": "LayoutModel",
      "state": {}
     },
     "a0fc569264484d3f9c8e7ba103407e75": {
      "model_module": "@jupyter-widgets/controls",
      "model_module_version": "1.5.0",
      "model_name": "IntSliderModel",
      "state": {
       "description": "$r_L+r_R$ (Hz)",
       "layout": "IPY_MODEL_4194f46056cc4a31b6d66210c7b0ba69",
       "max": 50,
       "min": 5,
       "step": 5,
       "style": "IPY_MODEL_91df29b5d9ea4e1eb89ca601c2ca2546",
       "value": 40
      }
     },
     "a1db49f8303c4892b856641f33771e7c": {
      "model_module": "@jupyter-widgets/controls",
      "model_module_version": "1.5.0",
      "model_name": "SliderStyleModel",
      "state": {
       "description_width": ""
      }
     },
     "a1f4d3898ff24222b2e3a5d1fcf0770f": {
      "model_module": "@jupyter-widgets/controls",
      "model_module_version": "1.5.0",
      "model_name": "FloatSliderModel",
      "state": {
       "description": "$\\sigma^2_a$",
       "layout": "IPY_MODEL_e5f446e979024fd3b80f8d27f86fde20",
       "max": 10,
       "min": 0.001,
       "step": 0.25,
       "style": "IPY_MODEL_9aef56cbee7f49d4ba8d2c705cd85d00",
       "value": 0.05
      }
     },
     "a37a4649c1854a1ebf71a5193b5c2dc4": {
      "model_module": "@jupyter-widgets/base",
      "model_module_version": "1.2.0",
      "model_name": "LayoutModel",
      "state": {}
     },
     "a39a1568fe7448f9a088cc233f464e22": {
      "model_module": "@jupyter-widgets/controls",
      "model_module_version": "1.5.0",
      "model_name": "SliderStyleModel",
      "state": {
       "description_width": ""
      }
     },
     "a3e6b0ab016e42e6a0e03a402b51b9be": {
      "model_module": "@jupyter-widgets/base",
      "model_module_version": "1.2.0",
      "model_name": "LayoutModel",
      "state": {}
     },
     "a3f0fedc7810469e8658a3e07fe38856": {
      "model_module": "@jupyter-widgets/controls",
      "model_module_version": "1.5.0",
      "model_name": "SliderStyleModel",
      "state": {
       "description_width": ""
      }
     },
     "a3fb0f1df3c14369b02034d2f802a866": {
      "model_module": "@jupyter-widgets/base",
      "model_module_version": "1.2.0",
      "model_name": "LayoutModel",
      "state": {}
     },
     "a4b29bc7cf4f4a17a9fcffd34cfc9d51": {
      "model_module": "@jupyter-widgets/controls",
      "model_module_version": "1.5.0",
      "model_name": "FloatSliderModel",
      "state": {
       "description": "Bias",
       "layout": "IPY_MODEL_0b81f03b50714f949b12a1f8049877c7",
       "max": 5,
       "min": -5,
       "step": 0.05,
       "style": "IPY_MODEL_6819f581105e41bc91932424942f8865"
      }
     },
     "a56797b7700444a6bb19b7b48823bd79": {
      "model_module": "@jupyter-widgets/base",
      "model_module_version": "1.2.0",
      "model_name": "LayoutModel",
      "state": {}
     },
     "a5eb950104824c62b981dba9bf3ec1c9": {
      "model_module": "@jupyter-widgets/base",
      "model_module_version": "1.2.0",
      "model_name": "LayoutModel",
      "state": {}
     },
     "a64e5137c4c84ca6a39bd7b809865751": {
      "model_module": "@jupyter-widgets/controls",
      "model_module_version": "1.5.0",
      "model_name": "SliderStyleModel",
      "state": {
       "description_width": ""
      }
     },
     "a65b4e05b01240dcb42632d4c3562bac": {
      "model_module": "@jupyter-widgets/controls",
      "model_module_version": "1.5.0",
      "model_name": "VBoxModel",
      "state": {
       "children": [
        "IPY_MODEL_379fee22112047639c5fcfbc6e80c04f",
        "IPY_MODEL_9753c25f2fb84129a8bdd47c0c094ba8",
        "IPY_MODEL_1135fb9b1d55493a9782d3120be0859e"
       ],
       "layout": "IPY_MODEL_d8e443f625914f1bb7e8a55bd4d12293"
      }
     },
     "a665efc7f8e7405ba201860a546781fe": {
      "model_module": "@jupyter-widgets/controls",
      "model_module_version": "1.5.0",
      "model_name": "SliderStyleModel",
      "state": {
       "description_width": ""
      }
     },
     "a67632d6b2a7497b81edeaa1b8f13a59": {
      "model_module": "@jupyter-widgets/base",
      "model_module_version": "1.2.0",
      "model_name": "LayoutModel",
      "state": {}
     },
     "a84bf6cebc7e48f69f41ea08a249d6aa": {
      "model_module": "@jupyter-widgets/base",
      "model_module_version": "1.2.0",
      "model_name": "LayoutModel",
      "state": {}
     },
     "a880411128cd4357838d79f2cece797d": {
      "model_module": "@jupyter-widgets/controls",
      "model_module_version": "1.5.0",
      "model_name": "FloatSliderModel",
      "state": {
       "description": "$\\lambda$",
       "layout": "IPY_MODEL_22eabba512684214a6e2ab8f9a082a6f",
       "max": 5,
       "min": -5,
       "step": 0.25,
       "style": "IPY_MODEL_899611a1b6bb45a49e38deadc39f582a"
      }
     },
     "a8db26634e87420a97c321ca80cb7a9d": {
      "model_module": "@jupyter-widgets/output",
      "model_module_version": "1.0.0",
      "model_name": "OutputModel",
      "state": {
       "layout": "IPY_MODEL_d41dd61eff2849768850dc7d000b2a47",
       "outputs": [
        {
         "name": "stdout",
         "output_type": "stream",
         "text": "\nChoice parameters\n\n"
        }
       ]
      }
     },
     "a8fb89c082204d4e8dc171de57456a8c": {
      "model_module": "@jupyter-widgets/controls",
      "model_module_version": "1.5.0",
      "model_name": "SliderStyleModel",
      "state": {
       "description_width": ""
      }
     },
     "a9245ea880c345e5a84632edb40f662e": {
      "model_module": "@jupyter-widgets/controls",
      "model_module_version": "1.5.0",
      "model_name": "VBoxModel",
      "state": {
       "children": [
        "IPY_MODEL_a4b29bc7cf4f4a17a9fcffd34cfc9d51",
        "IPY_MODEL_d33f75840104430ca61c917d4f6166a6"
       ],
       "layout": "IPY_MODEL_e94f88a7f70a4064a69952cdee3f29ca"
      }
     },
     "a9c19faff525493f901151863f5b5e34": {
      "model_module": "@jupyter-widgets/base",
      "model_module_version": "1.2.0",
      "model_name": "LayoutModel",
      "state": {}
     },
     "a9dc4c3d2c4c44f581706358094bbda8": {
      "model_module": "@jupyter-widgets/base",
      "model_module_version": "1.2.0",
      "model_name": "LayoutModel",
      "state": {}
     },
     "a9fc7068cd774738919a6f2936c3101f": {
      "model_module": "@jupyter-widgets/controls",
      "model_module_version": "1.5.0",
      "model_name": "FloatSliderModel",
      "state": {
       "description": "$\\sigma^2_i$",
       "layout": "IPY_MODEL_38c2226fc7994d8184dc67d8a2253e27",
       "max": 5,
       "min": 0.001,
       "step": 0.25,
       "style": "IPY_MODEL_9068683985fe4e7bb2ce7d7449f3db15",
       "value": 0.5
      }
     },
     "aa7804d285594ee4b0fb44fbaa1324bd": {
      "model_module": "@jupyter-widgets/controls",
      "model_module_version": "1.5.0",
      "model_name": "SliderStyleModel",
      "state": {
       "description_width": ""
      }
     },
     "aaab4456c9ef4b60877ca293507c86c2": {
      "model_module": "@jupyter-widgets/output",
      "model_module_version": "1.0.0",
      "model_name": "OutputModel",
      "state": {
       "layout": "IPY_MODEL_e9c62c54ae4c44aabc4df7719ae1c5ce",
       "outputs": [
        {
         "data": {
          "image/png": "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\n",
          "text/plain": "<Figure size 600x700 with 4 Axes>"
         },
         "metadata": {},
         "output_type": "display_data"
        }
       ]
      }
     },
     "ab415cba73bc4240a54214b9746d7e9a": {
      "model_module": "@jupyter-widgets/base",
      "model_module_version": "1.2.0",
      "model_name": "LayoutModel",
      "state": {}
     },
     "abca704aa82d494fabecab6b037505a0": {
      "model_module": "@jupyter-widgets/controls",
      "model_module_version": "1.5.0",
      "model_name": "SliderStyleModel",
      "state": {
       "description_width": ""
      }
     },
     "ac4f1beb4b6340ec9f4a16f3ff47be67": {
      "model_module": "@jupyter-widgets/base",
      "model_module_version": "1.2.0",
      "model_name": "LayoutModel",
      "state": {}
     },
     "ac55b719af4a4e46938c10166d2f14e5": {
      "model_module": "@jupyter-widgets/base",
      "model_module_version": "1.2.0",
      "model_name": "LayoutModel",
      "state": {}
     },
     "ac5f68f75f2146e7ac72457370673495": {
      "model_module": "@jupyter-widgets/base",
      "model_module_version": "1.2.0",
      "model_name": "LayoutModel",
      "state": {}
     },
     "acabc2f154fb43e2b1e0c6e0a655589a": {
      "model_module": "@jupyter-widgets/controls",
      "model_module_version": "1.5.0",
      "model_name": "SliderStyleModel",
      "state": {
       "description_width": ""
      }
     },
     "acc1366bc34948798cd89172e82c2091": {
      "model_module": "@jupyter-widgets/controls",
      "model_module_version": "1.5.0",
      "model_name": "SliderStyleModel",
      "state": {
       "description_width": ""
      }
     },
     "acc90ba4a33f43bc84d3c059e566ff7b": {
      "model_module": "@jupyter-widgets/controls",
      "model_module_version": "1.5.0",
      "model_name": "FloatSliderModel",
      "state": {
       "description": "$B$",
       "layout": "IPY_MODEL_29b18d2f23cf4f8088604452082a2f02",
       "max": 25,
       "style": "IPY_MODEL_31704460e2b84090af8874b9956be207",
       "value": 10
      }
     },
     "acf5fdb23423483db043f8e41f85c226": {
      "model_module": "@jupyter-widgets/base",
      "model_module_version": "1.2.0",
      "model_name": "LayoutModel",
      "state": {}
     },
     "ad8bcbcf69d6473bbd93b0414d5a2d7e": {
      "model_module": "@jupyter-widgets/output",
      "model_module_version": "1.0.0",
      "model_name": "OutputModel",
      "state": {
       "layout": "IPY_MODEL_2922cf09b6a74a3e91e1d7f8026a2b73",
       "outputs": [
        {
         "data": {
          "image/png": "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\n",
          "text/plain": "<Figure size 600x700 with 4 Axes>"
         },
         "metadata": {},
         "output_type": "display_data"
        }
       ]
      }
     },
     "ad8c7a61c55444b4b892fcf8eb207cba": {
      "model_module": "@jupyter-widgets/controls",
      "model_module_version": "1.5.0",
      "model_name": "FloatSliderModel",
      "state": {
       "description": "Bias",
       "layout": "IPY_MODEL_c8d24087f2954a03949b99b6404b6b42",
       "max": 5,
       "min": -5,
       "step": 0.05,
       "style": "IPY_MODEL_fefa93a959584f4db971cc0a0fc919c1"
      }
     },
     "adc4f428691f4b2eadf5120e7c8dbb2f": {
      "model_module": "@jupyter-widgets/controls",
      "model_module_version": "1.5.0",
      "model_name": "FloatSliderModel",
      "state": {
       "description": "Bias",
       "layout": "IPY_MODEL_5f6ef597c2b54228b4cdb96d3e1d7159",
       "max": 5,
       "min": -5,
       "step": 0.05,
       "style": "IPY_MODEL_7e2804095f5a49cfbdd6eece4b25a4b6"
      }
     },
     "aded28eb550d436287ab090ee49d1a5b": {
      "model_module": "@jupyter-widgets/base",
      "model_module_version": "1.2.0",
      "model_name": "LayoutModel",
      "state": {}
     },
     "adf55c8c560449b0ae001341ba6afffe": {
      "model_module": "@jupyter-widgets/controls",
      "model_module_version": "1.5.0",
      "model_name": "SliderStyleModel",
      "state": {
       "description_width": ""
      }
     },
     "adf5a78b011248ad96f768fca49c9ab6": {
      "model_module": "@jupyter-widgets/controls",
      "model_module_version": "1.5.0",
      "model_name": "SliderStyleModel",
      "state": {
       "description_width": ""
      }
     },
     "ae2703563433425a9cd2ab636647d947": {
      "model_module": "@jupyter-widgets/controls",
      "model_module_version": "1.5.0",
      "model_name": "SliderStyleModel",
      "state": {
       "description_width": ""
      }
     },
     "aecbda6521414b9bb26e3b222201ab09": {
      "model_module": "@jupyter-widgets/controls",
      "model_module_version": "1.5.0",
      "model_name": "VBoxModel",
      "state": {
       "children": [
        "IPY_MODEL_40908e674ee74952815e2cb4aff5a0fe",
        "IPY_MODEL_879d9511770d4601aebf5c245125d13a",
        "IPY_MODEL_f1ff3012a4364262aaeeeced1b9edc00",
        "IPY_MODEL_0f1b55c5eee24b7d91b8dac64991589d",
        "IPY_MODEL_170cd6575c904da2b900b8dfe5983e02"
       ],
       "layout": "IPY_MODEL_f958b07b96cd4ac49c287fcb8c9f73cb"
      }
     },
     "af2d8399b0c44a319b33b2dfb0c90655": {
      "model_module": "@jupyter-widgets/base",
      "model_module_version": "1.2.0",
      "model_name": "LayoutModel",
      "state": {}
     },
     "af59f4231f504c089de80051a303a584": {
      "model_module": "@jupyter-widgets/controls",
      "model_module_version": "1.5.0",
      "model_name": "IntSliderModel",
      "state": {
       "description": "N samples",
       "layout": "IPY_MODEL_469743ad5040462cb7cbeb21a56b93d5",
       "max": 50,
       "min": 1,
       "style": "IPY_MODEL_2af92ed76ca646e388d50fec9ff579fb",
       "value": 10
      }
     },
     "af9e313eba5d435f9b37cfdb43cdb434": {
      "model_module": "@jupyter-widgets/controls",
      "model_module_version": "1.5.0",
      "model_name": "SliderStyleModel",
      "state": {
       "description_width": ""
      }
     },
     "afe3f43aaf704dcfbdc4c133a228488e": {
      "model_module": "@jupyter-widgets/base",
      "model_module_version": "1.2.0",
      "model_name": "LayoutModel",
      "state": {}
     },
     "b0132306d3e5492aa54d731f7b5681c7": {
      "model_module": "@jupyter-widgets/output",
      "model_module_version": "1.0.0",
      "model_name": "OutputModel",
      "state": {
       "layout": "IPY_MODEL_7a8fbcd45f2149dea8f6c6717d7a6baa",
       "outputs": [
        {
         "name": "stdout",
         "output_type": "stream",
         "text": "\n\nAccumulation parameters \n\n"
        }
       ]
      }
     },
     "b0e6c6e73d1a4e7c95ab55a56ff37f59": {
      "model_module": "@jupyter-widgets/controls",
      "model_module_version": "1.5.0",
      "model_name": "FloatSliderModel",
      "state": {
       "description": "$\\sigma^2_a$",
       "layout": "IPY_MODEL_ba207eeb4a2645e68d62b035a26bd53e",
       "max": 10,
       "min": 0.001,
       "step": 0.25,
       "style": "IPY_MODEL_61df5df092304b65921a670255375fc7",
       "value": 0.05
      }
     },
     "b157fb7629c34459b8a632cabcd5e451": {
      "model_module": "@jupyter-widgets/output",
      "model_module_version": "1.0.0",
      "model_name": "OutputModel",
      "state": {
       "layout": "IPY_MODEL_0c06bdba26574719bf85739d3329af42",
       "outputs": [
        {
         "name": "stdout",
         "output_type": "stream",
         "text": "\nChoice parameters\n\n"
        }
       ]
      }
     },
     "b15905c0dfbc4d5a9cbfb12229e5ec5a": {
      "model_module": "@jupyter-widgets/base",
      "model_module_version": "1.2.0",
      "model_name": "LayoutModel",
      "state": {}
     },
     "b1b87d500fba441e89bd6a4429a73528": {
      "model_module": "@jupyter-widgets/controls",
      "model_module_version": "1.5.0",
      "model_name": "FloatSliderModel",
      "state": {
       "description": "$\\phi$",
       "layout": "IPY_MODEL_63566e291b7a43ceb7bcbcfe737aafb8",
       "max": 1,
       "min": 0.001,
       "step": 0.05,
       "style": "IPY_MODEL_7137131d9c3e45b5a6dcad5f785230e2",
       "value": 0.1
      }
     },
     "b2293bc88806422f8a108bd324686532": {
      "model_module": "@jupyter-widgets/output",
      "model_module_version": "1.0.0",
      "model_name": "OutputModel",
      "state": {
       "layout": "IPY_MODEL_fd69c10b5b8f468997857ca4f6b62ea9",
       "outputs": [
        {
         "name": "stdout",
         "output_type": "stream",
         "text": "\n\nAccumulation parameters \n\n"
        }
       ]
      }
     },
     "b27ea0e5265645b1a3a4cb7a772d1dad": {
      "model_module": "@jupyter-widgets/controls",
      "model_module_version": "1.5.0",
      "model_name": "FloatSliderModel",
      "state": {
       "description": "$\\sigma^2_s$",
       "layout": "IPY_MODEL_f453185e6d854d69b1f5b5d1c121199d",
       "max": 50,
       "min": 0.001,
       "step": 0.25,
       "style": "IPY_MODEL_7a43704699db4524ac88b5489886dad7",
       "value": 1
      }
     },
     "b28892baca2e475cbef6f8eff62e87ac": {
      "model_module": "@jupyter-widgets/controls",
      "model_module_version": "1.5.0",
      "model_name": "SliderStyleModel",
      "state": {
       "description_width": ""
      }
     },
     "b29f5f4f9646481d844d12c73a823fc4": {
      "model_module": "@jupyter-widgets/base",
      "model_module_version": "1.2.0",
      "model_name": "LayoutModel",
      "state": {}
     },
     "b347520397ee498c8f45ba30c3ed59b7": {
      "model_module": "@jupyter-widgets/controls",
      "model_module_version": "1.5.0",
      "model_name": "FloatSliderModel",
      "state": {
       "description": "$\\sigma^2_i$",
       "layout": "IPY_MODEL_b64302bdba354b618450ec76140deea6",
       "max": 5,
       "min": 0.001,
       "step": 0.25,
       "style": "IPY_MODEL_9b4762b5426f4b66b2e8106a95b7a492",
       "value": 0.5
      }
     },
     "b4202e67bac44548b706070e3cc98ff7": {
      "model_module": "@jupyter-widgets/base",
      "model_module_version": "1.2.0",
      "model_name": "LayoutModel",
      "state": {}
     },
     "b43ac16c3049419dbe36bd1cc1601a50": {
      "model_module": "@jupyter-widgets/base",
      "model_module_version": "1.2.0",
      "model_name": "LayoutModel",
      "state": {}
     },
     "b4727c5be6a54f349d4c356fedc0d525": {
      "model_module": "@jupyter-widgets/controls",
      "model_module_version": "1.5.0",
      "model_name": "SliderStyleModel",
      "state": {
       "description_width": ""
      }
     },
     "b4adc3d3b6dc4dadb11fdc839e88adb3": {
      "model_module": "@jupyter-widgets/base",
      "model_module_version": "1.2.0",
      "model_name": "LayoutModel",
      "state": {}
     },
     "b4bd517371da4153a67a571b358f90aa": {
      "model_module": "@jupyter-widgets/output",
      "model_module_version": "1.0.0",
      "model_name": "OutputModel",
      "state": {
       "layout": "IPY_MODEL_f1d328c081fb4c619bac9033950da905"
      }
     },
     "b4cdf78794714f4881290bcc63f18362": {
      "model_module": "@jupyter-widgets/controls",
      "model_module_version": "1.5.0",
      "model_name": "VBoxModel",
      "state": {
       "children": [
        "IPY_MODEL_b157fb7629c34459b8a632cabcd5e451",
        "IPY_MODEL_adc4f428691f4b2eadf5120e7c8dbb2f",
        "IPY_MODEL_123ea64072dd4844bc923d75c8ae5e37"
       ],
       "layout": "IPY_MODEL_5dd3607e803540e28537427d1f0454dc"
      }
     },
     "b4e13b68cc674c99b261ccc64ce99d0b": {
      "model_module": "@jupyter-widgets/base",
      "model_module_version": "1.2.0",
      "model_name": "LayoutModel",
      "state": {}
     },
     "b509c4d1274d43468acbb9c46af38e1c": {
      "model_module": "@jupyter-widgets/base",
      "model_module_version": "1.2.0",
      "model_name": "LayoutModel",
      "state": {}
     },
     "b5e462c401f34db0ac8ac9f161638b8f": {
      "model_module": "@jupyter-widgets/controls",
      "model_module_version": "1.5.0",
      "model_name": "SliderStyleModel",
      "state": {
       "description_width": ""
      }
     },
     "b60efb1a68924a27abda6a03f5e370ca": {
      "model_module": "@jupyter-widgets/controls",
      "model_module_version": "1.5.0",
      "model_name": "VBoxModel",
      "state": {
       "children": [
        "IPY_MODEL_f44f05a53b7d4397816661114738c5c0",
        "IPY_MODEL_5f3fbd49b63f402f84827082612fd7dd",
        "IPY_MODEL_c4e6cd2930b246f38c5421c73794ff2c"
       ],
       "layout": "IPY_MODEL_d1ec104a9dbf4360ab44c3c89abece3e"
      }
     },
     "b6196436d1714331b374105fa2afa9be": {
      "model_module": "@jupyter-widgets/controls",
      "model_module_version": "1.5.0",
      "model_name": "SliderStyleModel",
      "state": {
       "description_width": ""
      }
     },
     "b64302bdba354b618450ec76140deea6": {
      "model_module": "@jupyter-widgets/base",
      "model_module_version": "1.2.0",
      "model_name": "LayoutModel",
      "state": {}
     },
     "b6704ae0203b4fd5b630cb6d6ab55886": {
      "model_module": "@jupyter-widgets/controls",
      "model_module_version": "1.5.0",
      "model_name": "VBoxModel",
      "state": {
       "children": [
        "IPY_MODEL_69dae0d615f34c1a89d912a4176a92de",
        "IPY_MODEL_b79c341e2e6a4ecd9c90a47ee9841c1a",
        "IPY_MODEL_e6b69b22d2a34411b6dab3e93f38d7be"
       ],
       "layout": "IPY_MODEL_af2d8399b0c44a319b33b2dfb0c90655"
      }
     },
     "b75ab14f943448299e264e6bea8dcad4": {
      "model_module": "@jupyter-widgets/controls",
      "model_module_version": "1.5.0",
      "model_name": "VBoxModel",
      "state": {
       "children": [
        "IPY_MODEL_44c86a82a56c4024bf1dace74a6b6478",
        "IPY_MODEL_8d6b70fa8fc14ce5af7ff988502c0abc",
        "IPY_MODEL_b27ea0e5265645b1a3a4cb7a772d1dad",
        "IPY_MODEL_43c1d552d98649e3a3f05cc71c694499",
        "IPY_MODEL_2d8789ea4e16465996cb8c3e9e1230c6",
        "IPY_MODEL_f9439c680ed84812953b903950204c35",
        "IPY_MODEL_95f14f5510384cd2ae3f9c10e5eb5431"
       ],
       "layout": "IPY_MODEL_acf5fdb23423483db043f8e41f85c226"
      }
     },
     "b78ac510f7544d3181b9676fa99fada5": {
      "model_module": "@jupyter-widgets/controls",
      "model_module_version": "1.5.0",
      "model_name": "FloatSliderModel",
      "state": {
       "description": "$\\sigma^2_s$",
       "layout": "IPY_MODEL_3e0a62cd907f4821bca248874838259b",
       "max": 50,
       "min": 0.001,
       "step": 0.25,
       "style": "IPY_MODEL_de1f96fd43534a6995b924913f41e1d3",
       "value": 1
      }
     },
     "b79c341e2e6a4ecd9c90a47ee9841c1a": {
      "model_module": "@jupyter-widgets/controls",
      "model_module_version": "1.5.0",
      "model_name": "FloatSliderModel",
      "state": {
       "description": "Bias",
       "layout": "IPY_MODEL_ab415cba73bc4240a54214b9746d7e9a",
       "max": 5,
       "min": -5,
       "step": 0.05,
       "style": "IPY_MODEL_796dcefe8d69476c8fd57ee092ba6b3d"
      }
     },
     "b7ed58294f54403da092323baca10ea7": {
      "model_module": "@jupyter-widgets/controls",
      "model_module_version": "1.5.0",
      "model_name": "SliderStyleModel",
      "state": {
       "description_width": ""
      }
     },
     "b840081776e64a6f8e0056c8354d2e0d": {
      "model_module": "@jupyter-widgets/controls",
      "model_module_version": "1.5.0",
      "model_name": "VBoxModel",
      "state": {
       "children": [
        "IPY_MODEL_9b383e51922244ef828339d2618eaddb",
        "IPY_MODEL_f4fbe0732b1c4641a3b34ea3b6578e11",
        "IPY_MODEL_26adccec49774eafb005aac56eb57c68",
        "IPY_MODEL_6c271cda1a164dc391caf01faa2afd0f",
        "IPY_MODEL_2f9b5cfbc1f944a9b68f1f7a6fa2c021"
       ],
       "layout": "IPY_MODEL_5464b41c163540de84a1fdbb11a1b4b5"
      }
     },
     "b873b22d37d84419b9f66483dfeddc22": {
      "model_module": "@jupyter-widgets/base",
      "model_module_version": "1.2.0",
      "model_name": "LayoutModel",
      "state": {}
     },
     "b888b6db68c04fce8b4440294a724406": {
      "model_module": "@jupyter-widgets/controls",
      "model_module_version": "1.5.0",
      "model_name": "VBoxModel",
      "state": {
       "children": [
        "IPY_MODEL_12c9add9cd084e038256866e6d22cee0",
        "IPY_MODEL_c2789504fbe24bf6bbd23b6a2919dba2",
        "IPY_MODEL_49414f2543f04a4ebabd9ebec6de2804"
       ],
       "layout": "IPY_MODEL_4adb3e27e6b545c09cd5719f6a1713a3"
      }
     },
     "b89f82f0d26943c4b0f6bc57cead9fdd": {
      "model_module": "@jupyter-widgets/output",
      "model_module_version": "1.0.0",
      "model_name": "OutputModel",
      "state": {
       "layout": "IPY_MODEL_191049fb829c4b74b73cc56e88001369",
       "outputs": [
        {
         "name": "stdout",
         "output_type": "stream",
         "text": "\nAdaptation parameters\n\n"
        }
       ]
      }
     },
     "b9056727ae5044f7b9ebf8668efc9704": {
      "model_module": "@jupyter-widgets/controls",
      "model_module_version": "1.5.0",
      "model_name": "SliderStyleModel",
      "state": {
       "description_width": ""
      }
     },
     "b9772092be454878b7b6a3a459275c17": {
      "model_module": "@jupyter-widgets/base",
      "model_module_version": "1.2.0",
      "model_name": "LayoutModel",
      "state": {}
     },
     "b9c2680f07f04f4d9239144d624d2f95": {
      "model_module": "@jupyter-widgets/controls",
      "model_module_version": "1.5.0",
      "model_name": "SliderStyleModel",
      "state": {
       "description_width": ""
      }
     },
     "b9dae5247ca2443db0b4236f1539cca6": {
      "model_module": "@jupyter-widgets/controls",
      "model_module_version": "1.5.0",
      "model_name": "SliderStyleModel",
      "state": {
       "description_width": ""
      }
     },
     "ba0cfc18cd154de69ef384e349557a5b": {
      "model_module": "@jupyter-widgets/controls",
      "model_module_version": "1.5.0",
      "model_name": "VBoxModel",
      "state": {
       "children": [
        "IPY_MODEL_b2293bc88806422f8a108bd324686532",
        "IPY_MODEL_a880411128cd4357838d79f2cece797d",
        "IPY_MODEL_307883ff79b043e08cd093b79f1d8919",
        "IPY_MODEL_ff819c83e75b4829a351ccb75bbba025",
        "IPY_MODEL_16173f19884b4ca49c9ca9ac70ddc5af",
        "IPY_MODEL_acc90ba4a33f43bc84d3c059e566ff7b",
        "IPY_MODEL_cab57980f15a44c1ba392571f0c494d5"
       ],
       "layout": "IPY_MODEL_bf6ca752f5324fbabdf38b99c58a1205"
      }
     },
     "ba207eeb4a2645e68d62b035a26bd53e": {
      "model_module": "@jupyter-widgets/base",
      "model_module_version": "1.2.0",
      "model_name": "LayoutModel",
      "state": {}
     },
     "bac61f513f7a494f94dd94545a15f8d8": {
      "model_module": "@jupyter-widgets/base",
      "model_module_version": "1.2.0",
      "model_name": "LayoutModel",
      "state": {}
     },
     "bb3cc6cec77242c8b0c02fcf215715bd": {
      "model_module": "@jupyter-widgets/base",
      "model_module_version": "1.2.0",
      "model_name": "LayoutModel",
      "state": {}
     },
     "bc50b0370613482d93aad12ecf6b369a": {
      "model_module": "@jupyter-widgets/controls",
      "model_module_version": "1.5.0",
      "model_name": "VBoxModel",
      "state": {
       "children": [
        "IPY_MODEL_5c2e41141d7b43f8b1e521746893de15",
        "IPY_MODEL_77a3311dd6374b67930548d482b33b1d",
        "IPY_MODEL_161e4bc56b6d4498b913b6438d425d5b",
        "IPY_MODEL_f14e9fc3f4424f7abd9133187ba64aab",
        "IPY_MODEL_17b44c5cd1524978a004ddcb80f65468",
        "IPY_MODEL_e21a0ab6a2014ebfb85b1096eb16eb61",
        "IPY_MODEL_af59f4231f504c089de80051a303a584"
       ],
       "layout": "IPY_MODEL_b4adc3d3b6dc4dadb11fdc839e88adb3"
      }
     },
     "bcbffcd90f9d4d7eafb5f2474362663f": {
      "model_module": "@jupyter-widgets/base",
      "model_module_version": "1.2.0",
      "model_name": "LayoutModel",
      "state": {}
     },
     "bce74abc2c3740a0997f9fcc9a686a1a": {
      "model_module": "@jupyter-widgets/controls",
      "model_module_version": "1.5.0",
      "model_name": "VBoxModel",
      "state": {
       "children": [
        "IPY_MODEL_bfa8ec5598654e339a707abdaa10164f",
        "IPY_MODEL_7046c29daacb40b5a7c930ce553e8cc9",
        "IPY_MODEL_20e024ecb6a04b34a88b6ae9a938d628"
       ],
       "layout": "IPY_MODEL_463f548779a34f419c31cfca7eda6e62"
      }
     },
     "bd01fed59def404297baea2b172a6204": {
      "model_module": "@jupyter-widgets/base",
      "model_module_version": "1.2.0",
      "model_name": "LayoutModel",
      "state": {}
     },
     "bd314010d35e4cfbac2a12a92d020608": {
      "model_module": "@jupyter-widgets/base",
      "model_module_version": "1.2.0",
      "model_name": "LayoutModel",
      "state": {}
     },
     "bd5d399cba5341edbb743991f6ca733c": {
      "model_module": "@jupyter-widgets/base",
      "model_module_version": "1.2.0",
      "model_name": "LayoutModel",
      "state": {}
     },
     "bd8632bdd0db4f1783cc41ae83e7f709": {
      "model_module": "@jupyter-widgets/controls",
      "model_module_version": "1.5.0",
      "model_name": "FloatSliderModel",
      "state": {
       "description": "$B$",
       "layout": "IPY_MODEL_2c9c2fcdfaa44c22b2adba57f044badc",
       "max": 25,
       "style": "IPY_MODEL_488ea7bc52ae425db0d5fa70cc49de44",
       "value": 10
      }
     },
     "bdd25f0999c34544b924415a1dde87eb": {
      "model_module": "@jupyter-widgets/base",
      "model_module_version": "1.2.0",
      "model_name": "LayoutModel",
      "state": {}
     },
     "bef556ce12df449bbbdb3694b563577f": {
      "model_module": "@jupyter-widgets/base",
      "model_module_version": "1.2.0",
      "model_name": "LayoutModel",
      "state": {}
     },
     "bf0babe606d94e6c9048e0a57f7a4bc1": {
      "model_module": "@jupyter-widgets/output",
      "model_module_version": "1.0.0",
      "model_name": "OutputModel",
      "state": {
       "layout": "IPY_MODEL_6f632a4ae2f546029e1c134de2479df7",
       "outputs": [
        {
         "data": {
          "image/png": "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\n",
          "text/plain": "<Figure size 600x700 with 4 Axes>"
         },
         "metadata": {},
         "output_type": "display_data"
        }
       ]
      }
     },
     "bf6ca752f5324fbabdf38b99c58a1205": {
      "model_module": "@jupyter-widgets/base",
      "model_module_version": "1.2.0",
      "model_name": "LayoutModel",
      "state": {}
     },
     "bfa8ec5598654e339a707abdaa10164f": {
      "model_module": "@jupyter-widgets/output",
      "model_module_version": "1.0.0",
      "model_name": "OutputModel",
      "state": {
       "layout": "IPY_MODEL_77dc860113384e37af2b6b3b442f7341",
       "outputs": [
        {
         "name": "stdout",
         "output_type": "stream",
         "text": "\nChoice parameters\n\n"
        }
       ]
      }
     },
     "c001bc974e044af98f4f0790703482bf": {
      "model_module": "@jupyter-widgets/base",
      "model_module_version": "1.2.0",
      "model_name": "LayoutModel",
      "state": {}
     },
     "c02cfd9502b64b4e8eda5bde32bd44c7": {
      "model_module": "@jupyter-widgets/base",
      "model_module_version": "1.2.0",
      "model_name": "LayoutModel",
      "state": {}
     },
     "c083ccf56b194b129ab78291624a75f2": {
      "model_module": "@jupyter-widgets/base",
      "model_module_version": "1.2.0",
      "model_name": "LayoutModel",
      "state": {}
     },
     "c0a13185ca2c4a09adf6982e262f2654": {
      "model_module": "@jupyter-widgets/controls",
      "model_module_version": "1.5.0",
      "model_name": "SliderStyleModel",
      "state": {
       "description_width": ""
      }
     },
     "c14885b2a7884fbd9549f904d75a84ce": {
      "model_module": "@jupyter-widgets/output",
      "model_module_version": "1.0.0",
      "model_name": "OutputModel",
      "state": {
       "layout": "IPY_MODEL_540d31952a8d453c853478af7d73cd21",
       "outputs": [
        {
         "name": "stdout",
         "output_type": "stream",
         "text": "Click train parameters\n\n"
        }
       ]
      }
     },
     "c16d9bec02f2485396294376e11a06b5": {
      "model_module": "@jupyter-widgets/controls",
      "model_module_version": "1.5.0",
      "model_name": "FloatSliderModel",
      "state": {
       "description": "$B$",
       "layout": "IPY_MODEL_fdb3059770a44cfcaab6f399ef461d80",
       "max": 25,
       "style": "IPY_MODEL_acabc2f154fb43e2b1e0c6e0a655589a",
       "value": 10
      }
     },
     "c1d179f696824a818b537a62fb333c0d": {
      "model_module": "@jupyter-widgets/base",
      "model_module_version": "1.2.0",
      "model_name": "LayoutModel",
      "state": {}
     },
     "c2013a30af24443389a2733f6ba51afd": {
      "model_module": "@jupyter-widgets/controls",
      "model_module_version": "1.5.0",
      "model_name": "SliderStyleModel",
      "state": {
       "description_width": ""
      }
     },
     "c2789504fbe24bf6bbd23b6a2919dba2": {
      "model_module": "@jupyter-widgets/controls",
      "model_module_version": "1.5.0",
      "model_name": "FloatSliderModel",
      "state": {
       "description": "$\\phi$",
       "layout": "IPY_MODEL_82bb0c128e074645bf9d9a266bf65384",
       "max": 1,
       "min": 0.001,
       "step": 0.05,
       "style": "IPY_MODEL_abca704aa82d494fabecab6b037505a0",
       "value": 0.1
      }
     },
     "c333bdbf389744369bfea895583ee2c2": {
      "model_module": "@jupyter-widgets/controls",
      "model_module_version": "1.5.0",
      "model_name": "FloatSliderModel",
      "state": {
       "description": "$\\tau_{\\phi}$",
       "layout": "IPY_MODEL_66bdfe0a8cb24d4e88e33ba73603b8f0",
       "max": 1,
       "min": 0.001,
       "step": 0.05,
       "style": "IPY_MODEL_52801ebc284843d896e0283feff99f98",
       "value": 0.15
      }
     },
     "c399bfbec8774504b4f5628aaed15618": {
      "model_module": "@jupyter-widgets/base",
      "model_module_version": "1.2.0",
      "model_name": "LayoutModel",
      "state": {}
     },
     "c3dd2912d8d145bb9bb6ae8ffaf4133c": {
      "model_module": "@jupyter-widgets/base",
      "model_module_version": "1.2.0",
      "model_name": "LayoutModel",
      "state": {}
     },
     "c4e6cd2930b246f38c5421c73794ff2c": {
      "model_module": "@jupyter-widgets/controls",
      "model_module_version": "1.5.0",
      "model_name": "FloatSliderModel",
      "state": {
       "description": "Lapse",
       "layout": "IPY_MODEL_69978edbc34940c48c02bbe4efbb4858",
       "max": 1,
       "step": 0.01,
       "style": "IPY_MODEL_3772e255b9b247098a4193156f8fa305",
       "value": 0.05
      }
     },
     "c4eb353537a840918fc9cddd4fef05eb": {
      "model_module": "@jupyter-widgets/controls",
      "model_module_version": "1.5.0",
      "model_name": "FloatSliderModel",
      "state": {
       "description": "$\\tau_{\\phi}$",
       "layout": "IPY_MODEL_6da580a833154b61a956a7740bb2f30e",
       "max": 1,
       "min": 0.001,
       "step": 0.05,
       "style": "IPY_MODEL_e8c93786751c4fe5b4d4553760203b56",
       "value": 0.15
      }
     },
     "c59feb47041c46d690421813766f9145": {
      "model_module": "@jupyter-widgets/controls",
      "model_module_version": "1.5.0",
      "model_name": "IntSliderModel",
      "state": {
       "description": "N samples",
       "layout": "IPY_MODEL_b509c4d1274d43468acbb9c46af38e1c",
       "max": 50,
       "min": 1,
       "style": "IPY_MODEL_f917a4ed1e40480caddafb9c920b1c2e",
       "value": 10
      }
     },
     "c753772850e749c88f862bd1c9280a16": {
      "model_module": "@jupyter-widgets/controls",
      "model_module_version": "1.5.0",
      "model_name": "VBoxModel",
      "state": {
       "children": [
        "IPY_MODEL_37a3a7abe65e491383ee608a4af38106",
        "IPY_MODEL_324fb990c00f4505a77155879ad41e30",
        "IPY_MODEL_83d7b5dd2b064241bc3a5a7337f17179",
        "IPY_MODEL_7dddee440bbe4790bc95560d687e7167"
       ],
       "layout": "IPY_MODEL_8ab9a377358e4898aad1204cb18f3a0b"
      }
     },
     "c756d9d3b62249b19ecfb530e3c32c3d": {
      "model_module": "@jupyter-widgets/base",
      "model_module_version": "1.2.0",
      "model_name": "LayoutModel",
      "state": {}
     },
     "c774105aa9bc4ef7bac30b348475e869": {
      "model_module": "@jupyter-widgets/base",
      "model_module_version": "1.2.0",
      "model_name": "LayoutModel",
      "state": {}
     },
     "c7a3c631870440e7885fded0020f95f5": {
      "model_module": "@jupyter-widgets/base",
      "model_module_version": "1.2.0",
      "model_name": "LayoutModel",
      "state": {}
     },
     "c7ea883094544b949d8b373e6eb6ea60": {
      "model_module": "@jupyter-widgets/base",
      "model_module_version": "1.2.0",
      "model_name": "LayoutModel",
      "state": {}
     },
     "c80d0555fd2144f3b30452f6920a72a9": {
      "model_module": "@jupyter-widgets/base",
      "model_module_version": "1.2.0",
      "model_name": "LayoutModel",
      "state": {}
     },
     "c8a03fb95c0747d1854d9b87aaa5264a": {
      "model_module": "@jupyter-widgets/base",
      "model_module_version": "1.2.0",
      "model_name": "LayoutModel",
      "state": {}
     },
     "c8d24087f2954a03949b99b6404b6b42": {
      "model_module": "@jupyter-widgets/base",
      "model_module_version": "1.2.0",
      "model_name": "LayoutModel",
      "state": {}
     },
     "c92dd927e9be4a068dfb42f5beb9d33c": {
      "model_module": "@jupyter-widgets/base",
      "model_module_version": "1.2.0",
      "model_name": "LayoutModel",
      "state": {}
     },
     "c97ca8b6ae2d4f9a912fa4e4dcefece4": {
      "model_module": "@jupyter-widgets/base",
      "model_module_version": "1.2.0",
      "model_name": "LayoutModel",
      "state": {}
     },
     "c9da8dfc43f746028ee484a5c64b98bc": {
      "model_module": "@jupyter-widgets/output",
      "model_module_version": "1.0.0",
      "model_name": "OutputModel",
      "state": {
       "layout": "IPY_MODEL_ca5dd254ab6647ff9414b5e8a8a97224",
       "outputs": [
        {
         "name": "stdout",
         "output_type": "stream",
         "text": "\nAdaptation parameters\n\n"
        }
       ]
      }
     },
     "ca5dd254ab6647ff9414b5e8a8a97224": {
      "model_module": "@jupyter-widgets/base",
      "model_module_version": "1.2.0",
      "model_name": "LayoutModel",
      "state": {}
     },
     "cab57980f15a44c1ba392571f0c494d5": {
      "model_module": "@jupyter-widgets/controls",
      "model_module_version": "1.5.0",
      "model_name": "IntSliderModel",
      "state": {
       "description": "N samples",
       "layout": "IPY_MODEL_0da6a514937047938b490b1f8070a758",
       "max": 50,
       "min": 1,
       "style": "IPY_MODEL_5ee8c19837c94d5791c8742595f43186",
       "value": 10
      }
     },
     "cc834800fbb74c9abd56e6a810c5ca64": {
      "model_module": "@jupyter-widgets/controls",
      "model_module_version": "1.5.0",
      "model_name": "FloatSliderModel",
      "state": {
       "description": "T (s)",
       "layout": "IPY_MODEL_aded28eb550d436287ab090ee49d1a5b",
       "max": 5,
       "min": 0.25,
       "step": 0.25,
       "style": "IPY_MODEL_a3f0fedc7810469e8658a3e07fe38856",
       "value": 1
      }
     },
     "cc8edf4cc48947b5b6373e78ad1c4b8a": {
      "model_module": "@jupyter-widgets/controls",
      "model_module_version": "1.5.0",
      "model_name": "IntSliderModel",
      "state": {
       "description": "N samples",
       "layout": "IPY_MODEL_95bbbda9977f46d597fe3a31d6622a4e",
       "max": 50,
       "min": 1,
       "style": "IPY_MODEL_4a90667d9d8e45b4806391a791a00a7f",
       "value": 10
      }
     },
     "ccad7a7df318493a80aa69db48f26f5b": {
      "model_module": "@jupyter-widgets/base",
      "model_module_version": "1.2.0",
      "model_name": "LayoutModel",
      "state": {}
     },
     "cd063588c0e14143979b8edf0053fafe": {
      "model_module": "@jupyter-widgets/controls",
      "model_module_version": "1.5.0",
      "model_name": "FloatSliderModel",
      "state": {
       "description": "$\\tau_{\\phi}$",
       "layout": "IPY_MODEL_63e8d907b93a42f388cd78012b7fe3a7",
       "max": 1,
       "min": 0.001,
       "step": 0.05,
       "style": "IPY_MODEL_0cf62ea507254337a0739a1fd5debbb6",
       "value": 0.15
      }
     },
     "cdde052695944deab3fb8b0fcf2bd96c": {
      "model_module": "@jupyter-widgets/controls",
      "model_module_version": "1.5.0",
      "model_name": "SliderStyleModel",
      "state": {
       "description_width": ""
      }
     },
     "ce322aa9ce3c4d51bd70e5e5ebf0c716": {
      "model_module": "@jupyter-widgets/controls",
      "model_module_version": "1.5.0",
      "model_name": "FloatSliderModel",
      "state": {
       "description": "T (s)",
       "layout": "IPY_MODEL_0bd001b616534156a34daacc800d7b1f",
       "max": 5,
       "min": 0.25,
       "step": 0.25,
       "style": "IPY_MODEL_fd3f11ee484941ad9d0a8721fb3b6c56",
       "value": 1
      }
     },
     "ce9ca8898ab9468fb99cf77d620c4cd6": {
      "model_module": "@jupyter-widgets/base",
      "model_module_version": "1.2.0",
      "model_name": "LayoutModel",
      "state": {}
     },
     "d06215fb1c244c6aaecfcf06bb91ab23": {
      "model_module": "@jupyter-widgets/controls",
      "model_module_version": "1.5.0",
      "model_name": "FloatSliderModel",
      "state": {
       "description": "$\\gamma = \\log \\frac{r_1}{r_2}$",
       "layout": "IPY_MODEL_1a7081861e3547a6b1188b773456af3c",
       "max": 5,
       "min": -5,
       "step": 0.25,
       "style": "IPY_MODEL_b4727c5be6a54f349d4c356fedc0d525",
       "value": 1.5
      }
     },
     "d080076a88e14d6c9c1ec84bf8f3e589": {
      "model_module": "@jupyter-widgets/controls",
      "model_module_version": "1.5.0",
      "model_name": "VBoxModel",
      "state": {
       "children": [
        "IPY_MODEL_dab536324b9a4b2f805218c9af1e979b",
        "IPY_MODEL_36467bfc836c4538bae47fc4eec319a4",
        "IPY_MODEL_f2c098fb3d8446c084efd3fc35144254"
       ],
       "layout": "IPY_MODEL_05ccd84574ef4e4d9fc69cdff847f733"
      }
     },
     "d08c120d37cf44ee91146d7364e1af85": {
      "model_module": "@jupyter-widgets/controls",
      "model_module_version": "1.5.0",
      "model_name": "FloatSliderModel",
      "state": {
       "description": "$\\phi$",
       "layout": "IPY_MODEL_4bb3c2038f1044169eb008bfa8d486db",
       "max": 1,
       "min": 0.001,
       "step": 0.05,
       "style": "IPY_MODEL_8ad8eac7273f457eaa93ac6e7cadb4c3",
       "value": 0.1
      }
     },
     "d09af4406b194c6a9902317456bbb628": {
      "model_module": "@jupyter-widgets/controls",
      "model_module_version": "1.5.0",
      "model_name": "FloatSliderModel",
      "state": {
       "description": "Bias",
       "layout": "IPY_MODEL_e2853c1811bb42a4b9af48144b425932",
       "max": 5,
       "min": -5,
       "step": 0.05,
       "style": "IPY_MODEL_421ee5db320647d88d7b2c197acc00c9"
      }
     },
     "d13c8f485da0406898ee315f4755cd9f": {
      "model_module": "@jupyter-widgets/controls",
      "model_module_version": "1.5.0",
      "model_name": "FloatSliderModel",
      "state": {
       "description": "$B$",
       "layout": "IPY_MODEL_f73d298b60f2427c84c5bac9c09ddbad",
       "max": 25,
       "style": "IPY_MODEL_9b0a0249f48a48a3b00969c0c23cda36",
       "value": 10
      }
     },
     "d19a6eea9cfe44379be6a2f0eb4a4e34": {
      "model_module": "@jupyter-widgets/output",
      "model_module_version": "1.0.0",
      "model_name": "OutputModel",
      "state": {
       "layout": "IPY_MODEL_72e6d297522a4cf8aa91f89e15dfdeef",
       "outputs": [
        {
         "name": "stdout",
         "output_type": "stream",
         "text": "Click train parameters\n\n"
        }
       ]
      }
     },
     "d1ec104a9dbf4360ab44c3c89abece3e": {
      "model_module": "@jupyter-widgets/base",
      "model_module_version": "1.2.0",
      "model_name": "LayoutModel",
      "state": {}
     },
     "d206614ab2324c7dadfb9507f2951789": {
      "model_module": "@jupyter-widgets/base",
      "model_module_version": "1.2.0",
      "model_name": "LayoutModel",
      "state": {}
     },
     "d285fac8f0b84b30bbca4393bc08a0e8": {
      "model_module": "@jupyter-widgets/controls",
      "model_module_version": "1.5.0",
      "model_name": "FloatSliderModel",
      "state": {
       "description": "$\\gamma = \\log \\frac{r_1}{r_2}$",
       "layout": "IPY_MODEL_afe3f43aaf704dcfbdc4c133a228488e",
       "max": 5,
       "min": -5,
       "step": 0.25,
       "style": "IPY_MODEL_ef6e1fa34e1444d1ad1ed188562974bc",
       "value": 1.5
      }
     },
     "d2a4498cfd684e098c25c7b3694999f1": {
      "model_module": "@jupyter-widgets/controls",
      "model_module_version": "1.5.0",
      "model_name": "SliderStyleModel",
      "state": {
       "description_width": ""
      }
     },
     "d31439541cc7400388b118a145aaa6ca": {
      "model_module": "@jupyter-widgets/controls",
      "model_module_version": "1.5.0",
      "model_name": "VBoxModel",
      "state": {
       "children": [
        "IPY_MODEL_e2852a1f13cb4286bd61174e518e20de",
        "IPY_MODEL_7070d68eb4df419ea047f197a0e9cc18",
        "IPY_MODEL_1db0b9da00e04d9b9c0c6e689f615c18",
        "IPY_MODEL_7ace1b216cfa424fa1e19b7ed3e6db70",
        "IPY_MODEL_174d0ba0f6164dd7a4e4ce3de80e8e88"
       ],
       "layout": "IPY_MODEL_577960b07fe047b6aebab6407f3de715"
      }
     },
     "d33f75840104430ca61c917d4f6166a6": {
      "model_module": "@jupyter-widgets/controls",
      "model_module_version": "1.5.0",
      "model_name": "FloatSliderModel",
      "state": {
       "description": "Lapse",
       "layout": "IPY_MODEL_e704350213d64a109092fdb70c273b13",
       "max": 1,
       "step": 0.01,
       "style": "IPY_MODEL_b9dae5247ca2443db0b4236f1539cca6",
       "value": 0.05
      }
     },
     "d364b5c518124fe4be6a24fc16036ad0": {
      "model_module": "@jupyter-widgets/base",
      "model_module_version": "1.2.0",
      "model_name": "LayoutModel",
      "state": {}
     },
     "d3c82655337d4332aac2686bf1d677f3": {
      "model_module": "@jupyter-widgets/controls",
      "model_module_version": "1.5.0",
      "model_name": "VBoxModel",
      "state": {
       "children": [
        "IPY_MODEL_c9da8dfc43f746028ee484a5c64b98bc",
        "IPY_MODEL_d70c40ac5e4541dea1cdba5bb08a8dd2",
        "IPY_MODEL_41828ede789d4e39bf261533126c0fcd"
       ],
       "layout": "IPY_MODEL_678174847e7c428183adef1c81c2fe8e"
      }
     },
     "d41dd61eff2849768850dc7d000b2a47": {
      "model_module": "@jupyter-widgets/base",
      "model_module_version": "1.2.0",
      "model_name": "LayoutModel",
      "state": {}
     },
     "d491547a1adc4196b152268c2d94044f": {
      "model_module": "@jupyter-widgets/controls",
      "model_module_version": "1.5.0",
      "model_name": "VBoxModel",
      "state": {
       "children": [
        "IPY_MODEL_33a0b7854e8f4c188bbcc9ffa63ac533",
        "IPY_MODEL_873aa5d406444b7b8ff63800a703aa13",
        "IPY_MODEL_463766964c2d4af597ba30c362127333",
        "IPY_MODEL_3d3a06d12cd645e59d1d9ba504aee77d",
        "IPY_MODEL_cc834800fbb74c9abd56e6a810c5ca64"
       ],
       "layout": "IPY_MODEL_96a15deebbb24b2aaaae8faf00af1cac"
      }
     },
     "d4db673b74cf4ed78aa615d98eb9c854": {
      "model_module": "@jupyter-widgets/output",
      "model_module_version": "1.0.0",
      "model_name": "OutputModel",
      "state": {
       "layout": "IPY_MODEL_5bcbddfb50eb4bd0a45eb8b4d207baa9",
       "outputs": [
        {
         "name": "stdout",
         "output_type": "stream",
         "text": "Click train parameters\n\n"
        }
       ]
      }
     },
     "d53ff50f53a245808294b08220b95ef3": {
      "model_module": "@jupyter-widgets/controls",
      "model_module_version": "1.5.0",
      "model_name": "SliderStyleModel",
      "state": {
       "description_width": ""
      }
     },
     "d63d2a72395443bc8639934edfd9d19d": {
      "model_module": "@jupyter-widgets/base",
      "model_module_version": "1.2.0",
      "model_name": "LayoutModel",
      "state": {}
     },
     "d685a0a61e86475894f42707a7ae7940": {
      "model_module": "@jupyter-widgets/controls",
      "model_module_version": "1.5.0",
      "model_name": "FloatSliderModel",
      "state": {
       "description": "$\\sigma^2_s$",
       "layout": "IPY_MODEL_840d9320006b4e65979160b4342cbf11",
       "max": 50,
       "min": 0.001,
       "step": 0.25,
       "style": "IPY_MODEL_1557b110719c448d8fff74cc7da60340",
       "value": 1
      }
     },
     "d6c40d4c91e84fe59d7d2941931267a2": {
      "model_module": "@jupyter-widgets/controls",
      "model_module_version": "1.5.0",
      "model_name": "VBoxModel",
      "state": {
       "children": [
        "IPY_MODEL_0df056ff2e274c028337b56d521f1234",
        "IPY_MODEL_5aae5c84f5474f83be8cb97cbae53982",
        "IPY_MODEL_db8496a35e0e4c07a72fd032de2dca1b"
       ],
       "layout": "IPY_MODEL_13d1d167e2664f418ce4c67c4d0bccd9"
      }
     },
     "d705e138ac574a808a316192ae44ae40": {
      "model_module": "@jupyter-widgets/controls",
      "model_module_version": "1.5.0",
      "model_name": "IntSliderModel",
      "state": {
       "description": "Seed",
       "layout": "IPY_MODEL_5794c1d51b9b42268d3f0f6e85c2db72",
       "max": 10,
       "style": "IPY_MODEL_04e692cb06f34af791f30c6cbe895b5e",
       "value": 1
      }
     },
     "d70c40ac5e4541dea1cdba5bb08a8dd2": {
      "model_module": "@jupyter-widgets/controls",
      "model_module_version": "1.5.0",
      "model_name": "FloatSliderModel",
      "state": {
       "description": "$\\phi$",
       "layout": "IPY_MODEL_30afc6344951475bbb8d6a6c29867fff",
       "max": 1,
       "min": 0.001,
       "step": 0.05,
       "style": "IPY_MODEL_600d5353109d46708d1494a8bb864ac4",
       "value": 0.1
      }
     },
     "d7795ad8f8434f8589f1e60215bd89e0": {
      "model_module": "@jupyter-widgets/output",
      "model_module_version": "1.0.0",
      "model_name": "OutputModel",
      "state": {
       "layout": "IPY_MODEL_85ecca8f1c5a4569ac08cd7fc2f47dbd"
      }
     },
     "d849728a1fa0472ead26de71cb1020ab": {
      "model_module": "@jupyter-widgets/controls",
      "model_module_version": "1.5.0",
      "model_name": "SliderStyleModel",
      "state": {
       "description_width": ""
      }
     },
     "d84b16758e3b4bf4a09776ca55660f0f": {
      "model_module": "@jupyter-widgets/controls",
      "model_module_version": "1.5.0",
      "model_name": "SliderStyleModel",
      "state": {
       "description_width": ""
      }
     },
     "d8807144c18b4d029c0f49c332b7faa6": {
      "model_module": "@jupyter-widgets/base",
      "model_module_version": "1.2.0",
      "model_name": "LayoutModel",
      "state": {}
     },
     "d8b331a4379445f8939466c48ebae2e2": {
      "model_module": "@jupyter-widgets/controls",
      "model_module_version": "1.5.0",
      "model_name": "SliderStyleModel",
      "state": {
       "description_width": ""
      }
     },
     "d8e443f625914f1bb7e8a55bd4d12293": {
      "model_module": "@jupyter-widgets/base",
      "model_module_version": "1.2.0",
      "model_name": "LayoutModel",
      "state": {}
     },
     "da6a63b98ecf451c93464c2b3d910ecc": {
      "model_module": "@jupyter-widgets/base",
      "model_module_version": "1.2.0",
      "model_name": "LayoutModel",
      "state": {}
     },
     "daa74b0ccf0b4d3798b76da6c3b0d873": {
      "model_module": "@jupyter-widgets/controls",
      "model_module_version": "1.5.0",
      "model_name": "SliderStyleModel",
      "state": {
       "description_width": ""
      }
     },
     "dab536324b9a4b2f805218c9af1e979b": {
      "model_module": "@jupyter-widgets/output",
      "model_module_version": "1.0.0",
      "model_name": "OutputModel",
      "state": {
       "layout": "IPY_MODEL_56db754c2e2643368342c1f1e4c791cf",
       "outputs": [
        {
         "name": "stdout",
         "output_type": "stream",
         "text": "\nChoice parameters\n\n"
        }
       ]
      }
     },
     "db435d515a4349eaa200cdecacfc151c": {
      "model_module": "@jupyter-widgets/base",
      "model_module_version": "1.2.0",
      "model_name": "LayoutModel",
      "state": {}
     },
     "db8496a35e0e4c07a72fd032de2dca1b": {
      "model_module": "@jupyter-widgets/controls",
      "model_module_version": "1.5.0",
      "model_name": "FloatSliderModel",
      "state": {
       "description": "$\\tau_{\\phi}$",
       "layout": "IPY_MODEL_7bc198551f124abea1c701b8e3218045",
       "max": 1,
       "min": 0.001,
       "step": 0.05,
       "style": "IPY_MODEL_11cffda0ad0742b3be0b65a7b7931fc3",
       "value": 0.15
      }
     },
     "dcf7b2af5c334ebf878a39d86781bb8f": {
      "model_module": "@jupyter-widgets/base",
      "model_module_version": "1.2.0",
      "model_name": "LayoutModel",
      "state": {}
     },
     "dd8d907768754477ac5d442c87cbae72": {
      "model_module": "@jupyter-widgets/controls",
      "model_module_version": "1.5.0",
      "model_name": "FloatSliderModel",
      "state": {
       "description": "$\\tau_{\\phi}$",
       "layout": "IPY_MODEL_701813b4285143c49dd6c5f30a94b7ab",
       "max": 1,
       "min": 0.001,
       "step": 0.05,
       "style": "IPY_MODEL_a665efc7f8e7405ba201860a546781fe",
       "value": 0.15
      }
     },
     "de1d1a8a0650459a9bbad910b521d94b": {
      "model_module": "@jupyter-widgets/controls",
      "model_module_version": "1.5.0",
      "model_name": "FloatSliderModel",
      "state": {
       "description": "$\\gamma = \\log \\frac{r_1}{r_2}$",
       "layout": "IPY_MODEL_d63d2a72395443bc8639934edfd9d19d",
       "max": 5,
       "min": -5,
       "step": 0.25,
       "style": "IPY_MODEL_26b833d1ed8a4e79a7f6d372cc4f446d",
       "value": 1.5
      }
     },
     "de1f96fd43534a6995b924913f41e1d3": {
      "model_module": "@jupyter-widgets/controls",
      "model_module_version": "1.5.0",
      "model_name": "SliderStyleModel",
      "state": {
       "description_width": ""
      }
     },
     "de2d7d1b41b94427bcf89e6bfc44cd63": {
      "model_module": "@jupyter-widgets/controls",
      "model_module_version": "1.5.0",
      "model_name": "SliderStyleModel",
      "state": {
       "description_width": ""
      }
     },
     "de5b224d6f074f20803d08a7239534d0": {
      "model_module": "@jupyter-widgets/base",
      "model_module_version": "1.2.0",
      "model_name": "LayoutModel",
      "state": {}
     },
     "de6b1ee06dce447f9847c0eb8c5ad283": {
      "model_module": "@jupyter-widgets/controls",
      "model_module_version": "1.5.0",
      "model_name": "IntSliderModel",
      "state": {
       "description": "$r_L+r_R$ (Hz)",
       "layout": "IPY_MODEL_de849ea2d0f249d18d0a806fc8596591",
       "max": 50,
       "min": 5,
       "step": 5,
       "style": "IPY_MODEL_7be8bcef57be47e0ad589e0711086461",
       "value": 40
      }
     },
     "de849ea2d0f249d18d0a806fc8596591": {
      "model_module": "@jupyter-widgets/base",
      "model_module_version": "1.2.0",
      "model_name": "LayoutModel",
      "state": {}
     },
     "de8b5213c5184fb197848325d4fc634b": {
      "model_module": "@jupyter-widgets/controls",
      "model_module_version": "1.5.0",
      "model_name": "SliderStyleModel",
      "state": {
       "description_width": ""
      }
     },
     "dec4c11620f84dd9a4c740f91d7a744a": {
      "model_module": "@jupyter-widgets/controls",
      "model_module_version": "1.5.0",
      "model_name": "SliderStyleModel",
      "state": {
       "description_width": ""
      }
     },
     "dee3073e2fd74570a27be02b9d0fdc11": {
      "model_module": "@jupyter-widgets/controls",
      "model_module_version": "1.5.0",
      "model_name": "SliderStyleModel",
      "state": {
       "description_width": ""
      }
     },
     "df324a6842484297a17f6fb27f9c5409": {
      "model_module": "@jupyter-widgets/base",
      "model_module_version": "1.2.0",
      "model_name": "LayoutModel",
      "state": {}
     },
     "df6bed873c144dd4b587c60c60bb965b": {
      "model_module": "@jupyter-widgets/base",
      "model_module_version": "1.2.0",
      "model_name": "LayoutModel",
      "state": {}
     },
     "dff8c302fdf3428eb0af931cb0da6e2b": {
      "model_module": "@jupyter-widgets/output",
      "model_module_version": "1.0.0",
      "model_name": "OutputModel",
      "state": {
       "layout": "IPY_MODEL_65f50d24d4eb40f994f2bc9d239121f8",
       "outputs": [
        {
         "name": "stdout",
         "output_type": "stream",
         "text": "Click train parameters\n\n"
        }
       ]
      }
     },
     "e02c223a13d94d54b026340279c0aeeb": {
      "model_module": "@jupyter-widgets/controls",
      "model_module_version": "1.5.0",
      "model_name": "SliderStyleModel",
      "state": {
       "description_width": ""
      }
     },
     "e0b4390f816c4093a0b01fa1a4da91b9": {
      "model_module": "@jupyter-widgets/base",
      "model_module_version": "1.2.0",
      "model_name": "LayoutModel",
      "state": {}
     },
     "e114a301571a4ed99ab79969514b97ec": {
      "model_module": "@jupyter-widgets/controls",
      "model_module_version": "1.5.0",
      "model_name": "FloatSliderModel",
      "state": {
       "description": "$\\sigma^2_a$",
       "layout": "IPY_MODEL_fa731a40da6d4486be1365c5ae21ab2c",
       "max": 10,
       "min": 0.001,
       "step": 0.25,
       "style": "IPY_MODEL_12be8418dae54b2d8fa69c1aad1031e9",
       "value": 0.05
      }
     },
     "e21a0ab6a2014ebfb85b1096eb16eb61": {
      "model_module": "@jupyter-widgets/controls",
      "model_module_version": "1.5.0",
      "model_name": "FloatSliderModel",
      "state": {
       "description": "$B$",
       "layout": "IPY_MODEL_43c10df8b597438299ab8ed40fd6c8e7",
       "max": 25,
       "style": "IPY_MODEL_525cecd5bab04e5a876631beb66acace",
       "value": 10
      }
     },
     "e222c738d84c4635bf6d348afdb025ef": {
      "model_module": "@jupyter-widgets/base",
      "model_module_version": "1.2.0",
      "model_name": "LayoutModel",
      "state": {}
     },
     "e22724f7582141a3935eb7a2573ea732": {
      "model_module": "@jupyter-widgets/base",
      "model_module_version": "1.2.0",
      "model_name": "LayoutModel",
      "state": {}
     },
     "e2357afc1d4143199836168ef2ccc5e1": {
      "model_module": "@jupyter-widgets/base",
      "model_module_version": "1.2.0",
      "model_name": "LayoutModel",
      "state": {}
     },
     "e2852a1f13cb4286bd61174e518e20de": {
      "model_module": "@jupyter-widgets/output",
      "model_module_version": "1.0.0",
      "model_name": "OutputModel",
      "state": {
       "layout": "IPY_MODEL_46d5c2cac6574e90b1397fdb32587e9b",
       "outputs": [
        {
         "name": "stdout",
         "output_type": "stream",
         "text": "Click train parameters\n\n"
        }
       ]
      }
     },
     "e2853c1811bb42a4b9af48144b425932": {
      "model_module": "@jupyter-widgets/base",
      "model_module_version": "1.2.0",
      "model_name": "LayoutModel",
      "state": {}
     },
     "e2bab0f2b1f6436d88767df32b5d1085": {
      "model_module": "@jupyter-widgets/controls",
      "model_module_version": "1.5.0",
      "model_name": "FloatSliderModel",
      "state": {
       "description": "$\\phi$",
       "layout": "IPY_MODEL_75b90e0709c542acb1c3c686b7aa70bf",
       "max": 1,
       "min": 0.001,
       "step": 0.05,
       "style": "IPY_MODEL_68c097899e3d47cc96aa60573540fcc2",
       "value": 0.1
      }
     },
     "e34ca5cec013414897cff5d622f16aa7": {
      "model_module": "@jupyter-widgets/controls",
      "model_module_version": "1.5.0",
      "model_name": "FloatSliderModel",
      "state": {
       "description": "$\\sigma^2_i$",
       "layout": "IPY_MODEL_1bdc5d40276745f684a24222f1e3af4a",
       "max": 5,
       "min": 0.001,
       "step": 0.25,
       "style": "IPY_MODEL_079e1635f47149f3be1bf371758fa6b3",
       "value": 0.5
      }
     },
     "e3ac7091ad864e919f08c0f05fe91073": {
      "model_module": "@jupyter-widgets/controls",
      "model_module_version": "1.5.0",
      "model_name": "FloatSliderModel",
      "state": {
       "description": "$\\lambda$",
       "layout": "IPY_MODEL_a3fb0f1df3c14369b02034d2f802a866",
       "max": 5,
       "min": -5,
       "step": 0.25,
       "style": "IPY_MODEL_4691efff034e463ab8e6c67b3dcf87f3"
      }
     },
     "e557fc33ec33483292c485f137dee31f": {
      "model_module": "@jupyter-widgets/base",
      "model_module_version": "1.2.0",
      "model_name": "LayoutModel",
      "state": {}
     },
     "e5f446e979024fd3b80f8d27f86fde20": {
      "model_module": "@jupyter-widgets/base",
      "model_module_version": "1.2.0",
      "model_name": "LayoutModel",
      "state": {}
     },
     "e6023d8ff4a04eae818ccfab1ab8bd1f": {
      "model_module": "@jupyter-widgets/base",
      "model_module_version": "1.2.0",
      "model_name": "LayoutModel",
      "state": {}
     },
     "e63d601087844872be20fe12f2276053": {
      "model_module": "@jupyter-widgets/controls",
      "model_module_version": "1.5.0",
      "model_name": "FloatSliderModel",
      "state": {
       "description": "$\\sigma^2_a$",
       "layout": "IPY_MODEL_4c84070179ed4fa5a18edadd03ecf14d",
       "max": 10,
       "min": 0.001,
       "step": 0.25,
       "style": "IPY_MODEL_91e6db7d48864c18b65ca1511ab28fa7",
       "value": 0.05
      }
     },
     "e66e53d4395148c793369c5e6a887cbd": {
      "model_module": "@jupyter-widgets/controls",
      "model_module_version": "1.5.0",
      "model_name": "FloatSliderModel",
      "state": {
       "description": "T (s)",
       "layout": "IPY_MODEL_854b708b1a6047728e43f7170f76d9a3",
       "max": 5,
       "min": 0.25,
       "step": 0.25,
       "style": "IPY_MODEL_0b972c601b8c493c871af1d73cd5aca4",
       "value": 1
      }
     },
     "e698a701c83a49fea7353c3bf890a73a": {
      "model_module": "@jupyter-widgets/controls",
      "model_module_version": "1.5.0",
      "model_name": "FloatSliderModel",
      "state": {
       "description": "Lapse",
       "layout": "IPY_MODEL_e22724f7582141a3935eb7a2573ea732",
       "max": 1,
       "step": 0.01,
       "style": "IPY_MODEL_61fe75c8b4834d43bace7d77e3e75766",
       "value": 0.05
      }
     },
     "e6b69b22d2a34411b6dab3e93f38d7be": {
      "model_module": "@jupyter-widgets/controls",
      "model_module_version": "1.5.0",
      "model_name": "FloatSliderModel",
      "state": {
       "description": "Lapse",
       "layout": "IPY_MODEL_13bd52893889472ea8954be3eabbed10",
       "max": 1,
       "step": 0.01,
       "style": "IPY_MODEL_2920d4faed7a4ce1b4a739b90b2a2300",
       "value": 0.05
      }
     },
     "e704350213d64a109092fdb70c273b13": {
      "model_module": "@jupyter-widgets/base",
      "model_module_version": "1.2.0",
      "model_name": "LayoutModel",
      "state": {}
     },
     "e709d578f3934756aad04d2005efcb6b": {
      "model_module": "@jupyter-widgets/base",
      "model_module_version": "1.2.0",
      "model_name": "LayoutModel",
      "state": {}
     },
     "e82d0b58f2c9461da29446fb70f043a9": {
      "model_module": "@jupyter-widgets/base",
      "model_module_version": "1.2.0",
      "model_name": "LayoutModel",
      "state": {}
     },
     "e8b1193334b2472aae160687ba6b526d": {
      "model_module": "@jupyter-widgets/base",
      "model_module_version": "1.2.0",
      "model_name": "LayoutModel",
      "state": {}
     },
     "e8c3a2fdc45a4fd3b3f395a95417eb07": {
      "model_module": "@jupyter-widgets/controls",
      "model_module_version": "1.5.0",
      "model_name": "FloatSliderModel",
      "state": {
       "description": "Lapse",
       "layout": "IPY_MODEL_d8807144c18b4d029c0f49c332b7faa6",
       "max": 1,
       "step": 0.01,
       "style": "IPY_MODEL_63e9db8ea22341dd92bfccacc12d42d8",
       "value": 0.05
      }
     },
     "e8c93786751c4fe5b4d4553760203b56": {
      "model_module": "@jupyter-widgets/controls",
      "model_module_version": "1.5.0",
      "model_name": "SliderStyleModel",
      "state": {
       "description_width": ""
      }
     },
     "e8da68e4d0724102b599b0fb0b0c53b8": {
      "model_module": "@jupyter-widgets/controls",
      "model_module_version": "1.5.0",
      "model_name": "SliderStyleModel",
      "state": {
       "description_width": ""
      }
     },
     "e94f88a7f70a4064a69952cdee3f29ca": {
      "model_module": "@jupyter-widgets/base",
      "model_module_version": "1.2.0",
      "model_name": "LayoutModel",
      "state": {}
     },
     "e9c62c54ae4c44aabc4df7719ae1c5ce": {
      "model_module": "@jupyter-widgets/base",
      "model_module_version": "1.2.0",
      "model_name": "LayoutModel",
      "state": {}
     },
     "eaed879089024c0db60c5874b3b0e88f": {
      "model_module": "@jupyter-widgets/controls",
      "model_module_version": "1.5.0",
      "model_name": "SliderStyleModel",
      "state": {
       "description_width": ""
      }
     },
     "ec140a7d5249449f8c86e8dd675adf94": {
      "model_module": "@jupyter-widgets/base",
      "model_module_version": "1.2.0",
      "model_name": "LayoutModel",
      "state": {}
     },
     "ec268a49fda4418ca0070927455c4071": {
      "model_module": "@jupyter-widgets/controls",
      "model_module_version": "1.5.0",
      "model_name": "SliderStyleModel",
      "state": {
       "description_width": ""
      }
     },
     "ecff05d57ed64720b0458a67d2aee498": {
      "model_module": "@jupyter-widgets/controls",
      "model_module_version": "1.5.0",
      "model_name": "IntSliderModel",
      "state": {
       "description": "$r_L+r_R$ (Hz)",
       "layout": "IPY_MODEL_5833b67ceb504a48969eac7d97ede21f",
       "max": 50,
       "min": 5,
       "step": 5,
       "style": "IPY_MODEL_e8da68e4d0724102b599b0fb0b0c53b8",
       "value": 40
      }
     },
     "ed4b10ed3d094633bce299c156c8ecb7": {
      "model_module": "@jupyter-widgets/controls",
      "model_module_version": "1.5.0",
      "model_name": "VBoxModel",
      "state": {
       "children": [
        "IPY_MODEL_80662381411a4681b244aecf0c03da99",
        "IPY_MODEL_400e4143d3a849a0aa6fce362fdf4183",
        "IPY_MODEL_efaab96e8f504bd6a1b31ac33e9fd60b",
        "IPY_MODEL_3f845adb668f4237b10ead613c0e01bc",
        "IPY_MODEL_eff468cdc32347048ae9cf32b5b8160a",
        "IPY_MODEL_8204c9dd77364d63b4cab6897b354f9e",
        "IPY_MODEL_70d53b8584e44606a517ead4cc8951de"
       ],
       "layout": "IPY_MODEL_7a24f7b068c5483cbda9bec18bd18c83"
      }
     },
     "edd4156f52ee47b5ac58c0ae9b1d6056": {
      "model_module": "@jupyter-widgets/base",
      "model_module_version": "1.2.0",
      "model_name": "LayoutModel",
      "state": {}
     },
     "edf954c320f74e47b871108dee35546f": {
      "model_module": "@jupyter-widgets/base",
      "model_module_version": "1.2.0",
      "model_name": "LayoutModel",
      "state": {}
     },
     "ee2e826cd6d94bf79a234617e72e506b": {
      "model_module": "@jupyter-widgets/controls",
      "model_module_version": "1.5.0",
      "model_name": "SliderStyleModel",
      "state": {
       "description_width": ""
      }
     },
     "eea529e8005c4b06b8556ae69c2c06a7": {
      "model_module": "@jupyter-widgets/output",
      "model_module_version": "1.0.0",
      "model_name": "OutputModel",
      "state": {
       "layout": "IPY_MODEL_1054e4cbe32643f78922d4dae1729620",
       "outputs": [
        {
         "name": "stdout",
         "output_type": "stream",
         "text": "\n\nAccumulation parameters \n\n"
        }
       ]
      }
     },
     "ef6e1fa34e1444d1ad1ed188562974bc": {
      "model_module": "@jupyter-widgets/controls",
      "model_module_version": "1.5.0",
      "model_name": "SliderStyleModel",
      "state": {
       "description_width": ""
      }
     },
     "ef7761fc2e8c4849aede7acc9b841fa3": {
      "model_module": "@jupyter-widgets/output",
      "model_module_version": "1.0.0",
      "model_name": "OutputModel",
      "state": {
       "layout": "IPY_MODEL_1ee8a38b01be4673bd3a04a73eb6ba6b",
       "outputs": [
        {
         "name": "stdout",
         "output_type": "stream",
         "text": "\nAdaptation parameters\n\n"
        }
       ]
      }
     },
     "efaab96e8f504bd6a1b31ac33e9fd60b": {
      "model_module": "@jupyter-widgets/controls",
      "model_module_version": "1.5.0",
      "model_name": "FloatSliderModel",
      "state": {
       "description": "$\\sigma^2_s$",
       "layout": "IPY_MODEL_02f653b32d01483ebe9964ded9707116",
       "max": 50,
       "min": 0.001,
       "step": 0.25,
       "style": "IPY_MODEL_fe0fab1f3c234ea4880e718d5ba3a82a",
       "value": 5.251
      }
     },
     "eff468cdc32347048ae9cf32b5b8160a": {
      "model_module": "@jupyter-widgets/controls",
      "model_module_version": "1.5.0",
      "model_name": "FloatSliderModel",
      "state": {
       "description": "$\\sigma^2_i$",
       "layout": "IPY_MODEL_1af8d512d23d4b8bbac37df69747cf9d",
       "max": 5,
       "min": 0.001,
       "step": 0.25,
       "style": "IPY_MODEL_090fcab978a44f57b80a803dc26ece59",
       "value": 0.5
      }
     },
     "f0505dbcba5942d08d3ab84407455416": {
      "model_module": "@jupyter-widgets/base",
      "model_module_version": "1.2.0",
      "model_name": "LayoutModel",
      "state": {}
     },
     "f0d78db0bb234b909cbebc7df94f150d": {
      "model_module": "@jupyter-widgets/output",
      "model_module_version": "1.0.0",
      "model_name": "OutputModel",
      "state": {
       "layout": "IPY_MODEL_58041e56d7df44adb69e37ff70b1bcc2",
       "outputs": [
        {
         "name": "stdout",
         "output_type": "stream",
         "text": "Choice parameters\n"
        }
       ]
      }
     },
     "f11720f909244632850426e5a493dfcb": {
      "model_module": "@jupyter-widgets/controls",
      "model_module_version": "1.5.0",
      "model_name": "IntSliderModel",
      "state": {
       "description": "N samples",
       "layout": "IPY_MODEL_528099740ed748079d4cc2cc74227232",
       "max": 50,
       "min": 1,
       "style": "IPY_MODEL_7ba70bd4311849cd9d3b22bd85002d0a",
       "value": 10
      }
     },
     "f14e9fc3f4424f7abd9133187ba64aab": {
      "model_module": "@jupyter-widgets/controls",
      "model_module_version": "1.5.0",
      "model_name": "FloatSliderModel",
      "state": {
       "description": "$\\sigma^2_a$",
       "layout": "IPY_MODEL_8bb667e7f4fc477aaaf6769d40d0e159",
       "max": 10,
       "min": 0.001,
       "step": 0.25,
       "style": "IPY_MODEL_0caf5f6586ab4c6c84a92084db828703",
       "value": 0.05
      }
     },
     "f156024ca51b477c9186c0ecfc6aaefe": {
      "model_module": "@jupyter-widgets/controls",
      "model_module_version": "1.5.0",
      "model_name": "SliderStyleModel",
      "state": {
       "description_width": ""
      }
     },
     "f1bbf9da769e4776ac3724369c11ecb0": {
      "model_module": "@jupyter-widgets/base",
      "model_module_version": "1.2.0",
      "model_name": "LayoutModel",
      "state": {}
     },
     "f1bc07bb279041b8a3383a4ac6861587": {
      "model_module": "@jupyter-widgets/controls",
      "model_module_version": "1.5.0",
      "model_name": "SliderStyleModel",
      "state": {
       "description_width": ""
      }
     },
     "f1d328c081fb4c619bac9033950da905": {
      "model_module": "@jupyter-widgets/base",
      "model_module_version": "1.2.0",
      "model_name": "LayoutModel",
      "state": {}
     },
     "f1ff3012a4364262aaeeeced1b9edc00": {
      "model_module": "@jupyter-widgets/controls",
      "model_module_version": "1.5.0",
      "model_name": "IntSliderModel",
      "state": {
       "description": "$r_L+r_R$ (Hz)",
       "layout": "IPY_MODEL_586f5feeb7814c52ba78326f2ef3f192",
       "max": 50,
       "min": 5,
       "step": 5,
       "style": "IPY_MODEL_af9e313eba5d435f9b37cfdb43cdb434",
       "value": 40
      }
     },
     "f224bf46ceb34613a505b0d9320c6d53": {
      "model_module": "@jupyter-widgets/base",
      "model_module_version": "1.2.0",
      "model_name": "LayoutModel",
      "state": {}
     },
     "f2c098fb3d8446c084efd3fc35144254": {
      "model_module": "@jupyter-widgets/controls",
      "model_module_version": "1.5.0",
      "model_name": "FloatSliderModel",
      "state": {
       "description": "Lapse",
       "layout": "IPY_MODEL_7a7e68055898427d9622ba62e6443dc0",
       "max": 1,
       "step": 0.01,
       "style": "IPY_MODEL_03220f450d014cbdb6b185daf1db8fa5",
       "value": 0.05
      }
     },
     "f38920f7fc004f999679dc1cb5d94a73": {
      "model_module": "@jupyter-widgets/controls",
      "model_module_version": "1.5.0",
      "model_name": "SliderStyleModel",
      "state": {
       "description_width": ""
      }
     },
     "f3c59c238fcf4ace9d4478ab1fa67ffa": {
      "model_module": "@jupyter-widgets/controls",
      "model_module_version": "1.5.0",
      "model_name": "FloatSliderModel",
      "state": {
       "description": "$\\tau_{\\phi}$",
       "layout": "IPY_MODEL_83cc60cd312646c698018d5b9ea93649",
       "max": 1,
       "min": 0.001,
       "step": 0.05,
       "style": "IPY_MODEL_2a87ab95191344c5820cf5625f4988f0",
       "value": 0.15
      }
     },
     "f44f05a53b7d4397816661114738c5c0": {
      "model_module": "@jupyter-widgets/output",
      "model_module_version": "1.0.0",
      "model_name": "OutputModel",
      "state": {
       "layout": "IPY_MODEL_4c0a9154db614f16aec7ceb9ff3a6dfc",
       "outputs": [
        {
         "name": "stdout",
         "output_type": "stream",
         "text": "\nChoice parameters\n\n"
        }
       ]
      }
     },
     "f453185e6d854d69b1f5b5d1c121199d": {
      "model_module": "@jupyter-widgets/base",
      "model_module_version": "1.2.0",
      "model_name": "LayoutModel",
      "state": {}
     },
     "f4b4e1cd29304e83a1515cebd23448ba": {
      "model_module": "@jupyter-widgets/controls",
      "model_module_version": "1.5.0",
      "model_name": "SliderStyleModel",
      "state": {
       "description_width": ""
      }
     },
     "f4fbe0732b1c4641a3b34ea3b6578e11": {
      "model_module": "@jupyter-widgets/controls",
      "model_module_version": "1.5.0",
      "model_name": "IntSliderModel",
      "state": {
       "description": "Seed",
       "layout": "IPY_MODEL_67a71fac3ea74742a4ae9075f5f68c87",
       "max": 10,
       "style": "IPY_MODEL_f5c2e65c0842429584d2ac249f768ab8",
       "value": 1
      }
     },
     "f5c2e65c0842429584d2ac249f768ab8": {
      "model_module": "@jupyter-widgets/controls",
      "model_module_version": "1.5.0",
      "model_name": "SliderStyleModel",
      "state": {
       "description_width": ""
      }
     },
     "f73d298b60f2427c84c5bac9c09ddbad": {
      "model_module": "@jupyter-widgets/base",
      "model_module_version": "1.2.0",
      "model_name": "LayoutModel",
      "state": {}
     },
     "f7be11dc6e4e4e9dbd12dad0e4efed98": {
      "model_module": "@jupyter-widgets/base",
      "model_module_version": "1.2.0",
      "model_name": "LayoutModel",
      "state": {}
     },
     "f861d407858c420f889c0f341339d66d": {
      "model_module": "@jupyter-widgets/controls",
      "model_module_version": "1.5.0",
      "model_name": "SliderStyleModel",
      "state": {
       "description_width": ""
      }
     },
     "f8c6647c1396417d86c1bb4b4b0c1a6c": {
      "model_module": "@jupyter-widgets/controls",
      "model_module_version": "1.5.0",
      "model_name": "VBoxModel",
      "state": {
       "children": [
        "IPY_MODEL_37546d6754a84412a6730a375d767eb3",
        "IPY_MODEL_44a977c7e22a4c1cb8f9bd4754d182eb",
        "IPY_MODEL_93ce9fe9c433467e90dcb97f00a729ac",
        "IPY_MODEL_f9e15099807d45c7a7bf45213ec86fe3",
        "IPY_MODEL_86d601c6efb54914a268ba93a82e6e06",
        "IPY_MODEL_9fd9f13c45e541e1afb6e88b8201ece6",
        "IPY_MODEL_03c1d4995cb24b04967803a7a345e024"
       ],
       "layout": "IPY_MODEL_f0505dbcba5942d08d3ab84407455416"
      }
     },
     "f917a4ed1e40480caddafb9c920b1c2e": {
      "model_module": "@jupyter-widgets/controls",
      "model_module_version": "1.5.0",
      "model_name": "SliderStyleModel",
      "state": {
       "description_width": ""
      }
     },
     "f9326d94faf14d7292c5effa694ce77b": {
      "model_module": "@jupyter-widgets/controls",
      "model_module_version": "1.5.0",
      "model_name": "SliderStyleModel",
      "state": {
       "description_width": ""
      }
     },
     "f9439c680ed84812953b903950204c35": {
      "model_module": "@jupyter-widgets/controls",
      "model_module_version": "1.5.0",
      "model_name": "FloatSliderModel",
      "state": {
       "description": "$B$",
       "layout": "IPY_MODEL_4f08cea7b3cb403a8a87adbf25af74de",
       "max": 25,
       "style": "IPY_MODEL_dec4c11620f84dd9a4c740f91d7a744a",
       "value": 10
      }
     },
     "f958b07b96cd4ac49c287fcb8c9f73cb": {
      "model_module": "@jupyter-widgets/base",
      "model_module_version": "1.2.0",
      "model_name": "LayoutModel",
      "state": {}
     },
     "f9999c937cf74de5b40660215a84a462": {
      "model_module": "@jupyter-widgets/controls",
      "model_module_version": "1.5.0",
      "model_name": "FloatSliderModel",
      "state": {
       "description": "Lapse",
       "layout": "IPY_MODEL_bd01fed59def404297baea2b172a6204",
       "max": 1,
       "step": 0.01,
       "style": "IPY_MODEL_f38920f7fc004f999679dc1cb5d94a73",
       "value": 0.05
      }
     },
     "f9e15099807d45c7a7bf45213ec86fe3": {
      "model_module": "@jupyter-widgets/controls",
      "model_module_version": "1.5.0",
      "model_name": "FloatSliderModel",
      "state": {
       "description": "$\\sigma^2_a$",
       "layout": "IPY_MODEL_4efccfa5577a47548acc7db9f90c9706",
       "max": 10,
       "min": 0.001,
       "step": 0.25,
       "style": "IPY_MODEL_d2a4498cfd684e098c25c7b3694999f1",
       "value": 0.05
      }
     },
     "fa39f4b7cd8f43689a2458826a9b9946": {
      "model_module": "@jupyter-widgets/output",
      "model_module_version": "1.0.0",
      "model_name": "OutputModel",
      "state": {
       "layout": "IPY_MODEL_e82d0b58f2c9461da29446fb70f043a9",
       "outputs": [
        {
         "data": {
          "image/png": "iVBORw0KGgoAAAANSUhEUgAAAjwAAAKrCAYAAAD1bFdhAAAAOXRFWHRTb2Z0d2FyZQBNYXRwbG90bGliIHZlcnNpb24zLjYuMiwgaHR0cHM6Ly9tYXRwbG90bGliLm9yZy8o6BhiAAAACXBIWXMAAA9hAAAPYQGoP6dpAAEAAElEQVR4nOzdd1gU59oH4N+y7C4svQoWEFERRey9YhcsscUWo9FEU/SclJOcVDXGaJJj8iXxJCYn0dh719gSxRJ7xShiQVARFKR3trzfH+OMu2wFdllYnvu6uBJnp7wzOzvzzPOWETHGGAghhBBC7JiDrQtACCGEEGJtFPAQQgghxO5RwEMIIYQQu0cBDyGEEELsHgU8hBBCCLF7FPAQQgghxO5RwEMIIYQQu0cBDyGEEELsHgU8hBBCCLF7FPAQQgghxO5RwEPqpKtXr+Kll15CSEgInJyc4Orqivbt2+Orr75CVlYWAGDlypUQiURITk4WltM3zRzz58+HSCTCkydPLLgX2hYsWICWLVtCrVZbbRuVNW3aNIhEIoN/Z86cMbr8lStXEBMTg6CgIDg7O8Pb2xvdunXD2rVrdeYtKCjAm2++ifr168PJyQlt27bFxo0bzSon//1euHBB7+fDhg1D48aNzVqXPajIcT9y5AimT5+OFi1awMXFBQ0aNMDIkSNx8eJFo9uo6LlR077f5cuXo0GDBigsLKzQcqT6Odq6AIRUt19++QWvv/46wsLC8O6776Jly5ZQKBS4cOECfvrpJ5w+fRo7duzQu2xMTAxOnz6NwMDAai61campqfjqq6+wcuVKODjUvOeYTz75BK+++qrO9OHDh0Mmk6FTp05Gl8/JyUGjRo0wceJE4eaybt06TJkyBcnJyfj444+FeUePHo3z58/jiy++QPPmzbF+/XpMnDgRarUakyZNsvi+2bOKHPdly5YhMzMT//znP9GyZUtkZGTg66+/RteuXXHw4EH069dP7zYqem7UtO936tSp+PLLL/HVV1/h008/rfbtkwpghNQhp06dYmKxmA0ZMoSVlJTofF5aWsp27drFGGPst99+YwBYUlJSlbc7b948BoBlZGRUeV36vPfee6xBgwZMpVKZNb++fa9uR48eZQDYxx9/XOl1dOnShTVq1Ej49++//84AsPXr12vNN3DgQFa/fn2mVCqNro//zs+fP6/385iYGBYcHFzp8lZWTfi+NJU/7owx9vjxY5358vPzWb169Vj//v0rtH5D50ZN/X6XLFnCPDw8WGFhYYWXJdWn5j0KEmJFixYtgkgkwv/+9z/IZDKdz6VSKUaMGGFweX1VWgkJCZg4cSLq1asHmUyGoKAgvPjiiygtLTValoSEBDRp0gRdunRBeno6MjIyMHPmTDRq1AgymQx+fn7o0aMH/vzzT6PrKSsrw/LlyzFp0iS92Z1BgwahV69e+P3339GtWzc4OzvjjTfeMLrO6rB8+XKIRCJMnz690uvw9fWFo+OzRPWOHTvg6uqKcePGac330ksvITU1FWfPnq30tgwxVh1T0apPoOZ+X5rKH3cA8Pf315nP1dUVLVu2xIMHDyq0fkPnRnV/v+Z+t5MnT0ZeXp7ZVWvENqhKi9QZKpUKR44cQYcOHdCoUSOLrDMuLg49e/aEr68vFixYgGbNmiEtLQ27d+9GWVmZ3qAKAI4dO4ZRo0ahd+/eWL9+PeRyOYYMGYJLly7h888/R/PmzZGTk4NLly4hMzPTaBnOnj2LzMxMREVF6f388uXLkEqlePvtt/H+++8jJCQEXl5eZu8jYwwqlcqsecvfBA3Jzc3F1q1b0b9/f4SEhJhdFrVaDbVajezsbGzZsgUHDx7Ef//7X+Hza9euITw8XKcckZGRwufdu3c3uR2VSgWlUqkznTGmM+306dNa/y4uLsaUKVOgUqng7e1t1n5pqur3pVlWS31vpo67Ibm5ubh06ZLB6ixDyxg6N6r7+zX3uw0ICECLFi3w+++/VymAJ1Zm2wQTIdXn0aNHDACbMGGCWfPrq9IqP61fv37M09OTpaenG12XZpXWmjVrmFQqZf/4xz+0qqBcXV3Zm2++WeH9+vLLLxkA9ujRI53PkpOTGQDWtGlTlpeXp/XZ7du3mVgsZsXFxUbXHxsbywCY9Wdu9d+yZcsYALZhwwaz95MxxmbNmiVsSyqVsh9//FHr82bNmrHBgwfrLJeamsoAsEWLFhldP//9GvszVuWhVCrZyJEjmaurK7t48WKF9o0x499XUlISA8BcXFyYs7MzCw8PZ4cPHza4Lkt+b6aOuyGTJ09mjo6O7MKFC2bNz5jxc8OW36+p73by5MmsXr165u0ksQnK8BBSSUVFRTh27BhmzJgBPz8/s5b5/PPPsXTpUvznP//BW2+9pfVZ586dsXLlSvj4+GDAgAHo0KEDJBKJyXWmpqZCJBLB19dX5zO+h8wXX3wBNzc3rc+uXr2KsLAwODk5GV1/hw4dcP78eZPlAID69eubNd/y5cvh4+ODUaNGmTU/78MPP8TLL7+M9PR07NmzB7Nnz0ZhYSH+9a9/CfOIRCKDyxv7TNPq1asRHh6uM/2tt94yWj0ze/Zs/P7779izZw/at29v1rY0Gfu+4uLi0LJlS1y/fh2MMcybNw+vvPIKEhMT9a7Lkt+bOce9vE8++QTr1q3D0qVL0aFDB7PKAZg+N2z1/Zr6bv39/ZGeng6lUml2ppNUL/pWSJ3h6+sLuVyOpKQki6wvOzsbKpUKDRs2NHuZtWvXokGDBpgwYYLOZ5s2bcLChQvx66+/4pNPPoGrqytGjRqFr776CgEBAQbXWVxcDIlEArFYrPPZpUuXIJPJEB0drfNZXFwc2rRpY7LMrq6uaNu2rcn5APOqtK5evYoLFy7gn//8p8EqP0OCgoIQFBQEAMI+ffDBB5g6dSr8/Pzg4+OjtwqQH2rA3Cqm8PBwdOzYUWe6h4eHwRviwoUL8dNPP2H58uUYMmSIWdspz9T3xX8PIpEIPXv2xHfffWdwXZb83kwd9/I+/fRTLFy4EJ9//jlmz55tVhkA0+eGrb5fc75bJycnMMZQUlICV1dXs8pBqhc1WiZ1hlgsRv/+/XHx4kWkpKRUeX3e3t4Qi8UVWteBAwcgkUjQq1cv3Lt3T+szX19ffPvtt0hOTsa9e/ewePFibN++HdOmTTO6Tl9fX5SVlekdB+TixYuIjIyEs7OzzmdxcXFC2wdjjh07BolEYtafOY10ly9fDgB4+eWXTc5rSufOnaFUKnH37l0AQOvWrXHjxg2d9hl///03ACAiIqLK29Rn5cqV+OSTTzB//vwqteEw9X3xAUxqaioWL16M0aNHG1yXpb83TeWPu6ZPP/0U8+fPx/z58/Hhhx9WaL2mzg1bfL/mfrdZWVmQyWQU7NRktq5TI6Q6aXZLLy0t1fm8rKyM7d69mzFmfhseLy8vk93NNdvwpKamspYtW7JGjRqxW7duGV3uueeeY35+fkbnWb16NQPA4uLidD7z9/dnr732mt7lQkJC2L59+4yumzHG8vLy2Pnz583603dMNZWUlDBvb2/WuXNnk9s1x5QpU5iDg4PQhmrfvn0MANu4caPWfEOGDLFat+X9+/czR0dHNn369MrvyFPGvq/Q0FDm4uLCXFxcGAD2yiuvGO2ubsnvrbzyx523YMGCSg81YM65Ud3fb0W+24EDB7J27dqZnI/YDlVpkTqlW7duWLZsGV5//XV06NABr732Glq1agWFQoHLly/jf//7HyIiIjB8+HCz1vfNN9+gZ8+e6NKlC95//300bdoUjx8/xu7du/Hzzz/rtMMAgMDAQBw7dgyDBw9G79698ccff6BRo0aIiorCpEmT0KJFC7i5ueH8+fM4cOCA0ad4AOjbty8A4MyZM1oZm5SUFKSnp+tN3efl5SE5OdmsKi03Nze966iMnTt3Iisry2h259ixY+jfvz/mzp2LuXPnAgBmzpwJd3d3dO7cGfXq1cOTJ0+wZcsWbNq0Ce+++65QrTJ06FAMHDgQr732GvLy8tC0aVNs2LABBw4cwNq1a/VW+1VFUlISxo0bhyZNmuCll17SGRW4Xbt2QtWMSCRCnz59cPToUb3rMvZ9FRQU4O7du0hPT4e3tze+/vprrFu3zmiVoCW+N3OPOwB8/fXXmDt3LoYMGYKYmBidY9G1a1cA+r9fwLxzozq/34p8t2q1GufOncOMGTMstn1iBbaOuAixhStXrrCpU6eyoKAgJpVKmYuLC2vXrh2bO3eu8NRqToaHMcbi4+PZuHHjmI+PD5NKpSwoKIhNmzZN6+lb38CDOTk5rEePHszb25udOXOGvfrqqywyMpK5u7szZ2dnFhYWxubNm2fWYGa9evVi0dHRWtN27txpMPNz4sQJ5uPjY+7hspiBAwcyFxcXnR5ImvjeRfPmzROmrVixgvXq1Yv5+voyR0dH5unpyfr06cPWrFmjs3x+fj77xz/+wQICAphUKmWRkZFm9waraAbAVE8o/jzJz8832UPQ2Pd18uRJFhAQIPy7tLSUeXh4VKonWEVU5Lj36dPH6LHg6ft+GTPv3GCs+r5fc79bxhg7fPgwA2D174NUjYgxPQNLEEJqlW3btmH8+PG4d+8eGjRoYHL+H3/8EZs3b8aBAweEaQ4ODpBKpdYsZp21b98+DBs2DHFxcWjdunWFl1+2bBl27NiBQ4cOCdNGjRqFdu3aaWVJiG1MmTIFd+/excmTJ21dFGIENVomxA6MHj0anTp1wuLFi82aPy4uDseOHYOzs7PwN2bMGCuXsu6KjY3FhAkTKhXsANz3Vb5B7sCBA7F3715LFI9UQWJiIjZt2oQvv/zS1kUhJlCGhxA7ce3aNezevRvvv/9+jXyBKCH2KDY2Frdv38bMmTNtXRRiAgU8hBBCCLF79BhICCGEELtHAQ8hhBBC7B4FPIQQQgixexTwEEIIIcTuUcBDCCGEELtHAQ8hhBBC7B4FPIQQQgixexTwEEIIIcTuUcBDCCGEELtHAU85v/zyC9q3bw93d3e4uroiMjIShw8ftnWxCCGEEFIFjrYuQE2yceNGvPHGG1i8eDE6deoEtVqN+Ph4ODrSYSKEEEJqM7qTazh8+DC8vb0xZswYNG7cGADQt29fm5aJEEIIIVVHVVoaZs6cifz8fISGhqJDhw5YtGgRioqKbF0sQgghhFQRvS39KYVCgRdeeAG+vr6YNWsWjh07ho8//hgtWrTAyZMnqVqLEEIIqcXoLv7Ue++9hydPnmDTpk0AgMjISLi7u2PatGn466+/bFq1VaYqw6ITiwAAH/b6EFKxVO80ay1f2bL+q/u/sOTUEp1tlKnKMD92PtZfW48gjyDsm7wPrlJXo2Wq7GfmltXQcmWqMnx27DOcuH8CvYJ64ZM+n+jMZ2g91jrGVVXVcplzTPRtB0CVj7e52za23yq1CgAgdhCbXS5z1lt+eXN+C/r26d89/21w3oqWobqY+7u35jWn/PdqzjlZ1TLY+rhXtByWmq8ix7wmoSotAKmpqfj+++/x7rvvak3v2LEjAODJkycAgP3798PT0xNt27ZFaGgoJkyYgLKysmovLyGEEEIqhgIeALt37wZjDFFRUVrT09PTAQBBQUEAgMuXL2PKlCm4cuUK4uPjcf78eezZs6fay0sIIYSQiqGAB0BSUhLc3d0hk8m0pu/fvx8BAQFCpufy5cto2bIlAEAmk6Fhw4aQSmt2Co8QQgghFPAAANzd3ZGbm4tHjx4J05KTk7Fs2TK8+uqrcHDgDtPly5cRHh4OADh69ChcXV0RHR1tkzITQgghxHwU8AAYOXIkxGIxJk6ciN9//x3Lly9Hz5490aZNG3z00UcAgLy8PNy9exdz5sxB48aNMXbsWCxduhRisdjGpSeEEEKIKRTwAIiIiMCGDRuQlpaGUaNG4dNPP8XkyZNx6NAhoTv6lStX0KRJE/z9999ITExEnz598M0339i45IQQQggxB3VLf2rcuHEYN26cwc8vX76MTp06AQDEYjHefPNNTJw4EUuXLoVIJKquYhJCCCGkEijDYybNgAcAevToAZVKhYsXL9qwVIQQQggxB2V4zLRy5Uqtfzs4OCAtLc02hSGEEEJIhVCGhxBCCCF2jwIeQgghhNg9CngIIYQQYvco4CGEEEKI3RMxxpitC0GMU5WpcGLRCQBArw97QSylwQ5rGnv6jmy1L/Z0DG2Bjl/NQd9FzUQZHkIIIYTYPQp4CCGEEGL3KOAhhBBCiN2jgIcQQgghdo8CHkIIIYTYPQp4CCGEEGL3KOAhhBBCiN2jgIcQQgghdo8CHkIIIYTYPQp4CCGEEGL3KODR45dffkH79u3h7u4OV1dXREZG4vDhw7YuFiGEEEIqydHWBahpNm7ciDfeeAOLFy9Gp06doFarER8fD0dHOlSEEEJIbUV38XIOHz4Mb29vjBkzBo0bNwYA9O3b16ZlIoQQQkjVUJVWOTNnzkR+fj5CQ0PRoUMHLFq0CEVFRbYuFiGEEEKqQMQYY7YuRE2hUCjwwgsvwNfXF7NmzcKxY8fw8ccfo0WLFjh58iRVaxFCCCG1FN3BNbz33nt48uQJNm3aBACIjIyEu7s7pk2bhr/++ouqtgghhJBaiqq0nkpNTcX333+Pd999V2t6x44dAQBPnjwBAOzZswe9evWq9vIRQgghpPIo4Hlq9+7dYIwhKipKa3p6ejoAICgoCABw5coVtG3btrqLRwghhJAqoIDnqaSkJLi7u0Mmk2lN379/PwICAoRMz+XLlyngIYQQQmoZCniecnd3R25uLh49eiRMS05OxrJly/Dqq6/CwYE7VFeuXEG7du1sVUxCCCGEVAL10nrq2rVraNu2LXr16oV//etfePToEebNm4fGjRvj6NGjcHR0RG5uLvz8/JCfn6+TCSKEEEJIzUUZnqciIiKwYcMGpKWlYdSoUfj0008xefJkHDp0SOiOfuXKFbRo0YKCHUIIIaSWoQxPBXz77be4dOkSVq9ebeuiEEIIIaQCKMNTAVeuXMHu3bvRuHFj4e/SpUu2LhYhhBBCTKAMDyGEEELsHmV4CCGEEGL3KOAhhBBCiN2jgIcQQgghdo8CHkIIIYTYPQp4CCGEEGL3KOAhhBBCiN2jgIcQQgghdo8CHkIIIYTYPQp4CCGEEGL3KOAhhBBCiN2jgIcQQgghdo8CHkIIIYTYPQp4CCGEEGL3KOAhhBBCiN2jgIcQQgghdo8CHkIIIYTYPQp4CCGEEGL3KOAhhBBCiN2jgIcQQgghdo8CHkIIIYTYPQp4CCGEEGL3KOAhhBBCiN2jgIcQQgghdo8CHkIIIYTYPQp4CCGEEGL3KOAhhBBCiN2jgIcQQgghdo8CHkLqkO+//x4ikQgREREVWm7lypUQiURITk62TsGeWrRoEXbu3Fnp5YuKijB//nwcPXpU57Pq2gdCSM1EAQ8hdciKFSsAANevX8fZs2dtXBpdlgh4Pv30U70BT0xMDE6fPo3AwMDKF5AQUmtRwENIHXHhwgXExcUhJiYGALB8+XIbl6h6+fn5oWvXrpDJZLYuSoUoFAoolUpbF4OQWo8CHkLqCD7A+eKLL9C9e3ds3LgRRUVFOvOdOXMGPXr0gJOTE+rXr48PPvgACoVCZ75NmzZh0KBBCAwMhLOzM8LDw/H++++jsLBQa75p06bB1dUV169fR//+/eHi4gI/Pz/Mnj1ba/sikQiFhYVYtWoVRCIRRCIR+vbtCwDIyMjA66+/jpYtW8LV1RX+/v7o168fTpw4ISyfnJwMPz8/AMCnn34qrGPatGkADFdprVixAm3atIGTkxO8vb0xatQo3LhxQ+8+3LlzB9HR0XB1dUWjRo3wzjvvoLS01OSxb9y4MYYNG4YdO3YgMjISTk5OaNKkCb7//nut+Y4ePQqRSIQ1a9bgnXfeQYMGDSCTyXDnzh2zywoAZ8+exfDhw+Hj4wMnJyeEhobizTff1Jrn9u3bmDRpEvz9/SGTyRAeHo4ffvhBax61Wo2FCxciLCwMzs7O8PT0RGRkJL777jthnoyMDMycORONGjWCTCaDn58fevTogT///NPkcSGkWjFCiN0rKipiHh4erFOnTowxxn799VcGgK1cuVJrvuvXrzO5XM5atmzJNmzYwHbt2sUGDx7MgoKCGACWlJQkzPvZZ5+x//u//2O///47O3r0KPvpp59YSEgIi4qK0lrn1KlTmVQqZUFBQezzzz9nhw4dYvPnz2eOjo5s2LBhwnynT59mzs7OLDo6mp0+fZqdPn2aXb9+nTHGWEJCAnvttdfYxo0b2dGjR9nevXvZjBkzmIODA4uNjWWMMVZSUsIOHDjAALAZM2YI67hz5w5jjLHffvtNZx8WLVrEALCJEyey33//na1evZo1adKEeXh4sFu3bunsQ3h4OFuyZAn7888/2dy5c5lIJGKffvqpyeMfHBzMGjRowIKCgtiKFSvYvn372OTJkxkA9p///EeYLzY2lgFgDRo0YGPHjmW7d+9me/fuZZmZmWaX9cCBA0wikbDIyEi2cuVKduTIEbZixQo2YcIEre/Zw8ODtW7dmq1evZodOnSIvfPOO8zBwYHNnz9fmG/x4sVMLBazefPmscOHD7MDBw6wb7/9VmuewYMHMz8/P/a///2PHT16lO3cuZPNnTuXbdy40eRxIaQ6UcBDSB2wevVqBoD99NNPjDHG8vPzmaurK+vVq5fWfOPHj2fOzs7s0aNHwjSlUslatGihEyxoUqvVTKFQsGPHjjEALC4uTvhs6tSpDAD77rvvtJb5/PPPGQD2119/CdNcXFzY1KlTTe6PUqlkCoWC9e/fn40aNUqYnpGRwQCwefPm6SxTPuDJzs4WAixN9+/fZzKZjE2aNElnHzZv3qw1b3R0NAsLCzNZ3uDgYCYSidiVK1e0pg8cOJC5u7uzwsJCxtizgKd3795a81WkrKGhoSw0NJQVFxcbLM/gwYNZw4YNWW5urtb02bNnMycnJ5aVlcUYY2zYsGGsbdu2RvfN1dWVvfnmm0bnIaQmoCotQuqA5cuXw9nZGRMmTAAAuLq6Yty4cThx4gRu374tzBcbG4v+/fujXr16wjSxWIzx48frrPPu3buYNGkSAgICIBaLIZFI0KdPHwDQW80yefJkrX9PmjRJ2KY5fvrpJ7Rv3x5OTk5wdHSERCLB4cOH9W7LHKdPn0ZxcbFQ5cVr1KgR+vXrh8OHD2tNF4lEGD58uNa0yMhI3Lt3z6zttWrVCm3atNGaNmnSJOTl5eHSpUta08eMGVOpst66dQuJiYmYMWMGnJyc9JajpKQEhw8fxqhRoyCXy6FUKoW/6OholJSU4MyZMwCAzp07Iy4uDq+//joOHjyIvLw8nfV17twZK1euxMKFC3HmzBm91Z+E1AQU8BBi5+7cuYPjx48jJiYGjDHk5OQgJycHY8eOBfCs5xYAZGZmIiAgQGcd5acVFBSgV69eOHv2LBYuXIijR4/i/Pnz2L59OwCguLhYa35HR0f4+PjoXWdmZqbJffjmm2/w2muvoUuXLti2bRvOnDmD8+fPY8iQITrbMhe/XX29turXr69TLrlcrhNEyGQylJSUmLU9Y8e1/LbKl8ncsmZkZAAAGjZsaLAcmZmZUCqVWLp0KSQSidZfdHQ0AODJkycAgA8++ABLlizBmTNnMHToUPj4+KB///64cOGCsL5NmzZh6tSp+PXXX9GtWzd4e3vjxRdfxKNHj4wfEEKqmaOtC0AIsa4VK1aAMYatW7di69atOp+vWrUKCxcuhFgsho+Pj94bVflpR44cQWpqKo4ePSpkdQAgJydHbxmUSiUyMzO1gh5+neUDIX3Wrl2Lvn37YtmyZVrT8/PzTS5rCL/dtLQ0nc9SU1Ph6+tb6XXrY+y4lj8GIpFI69/mlpVvtJ2SkmKwHF5eXhCLxZgyZQreeOMNvfOEhIQA4ALVt99+G2+//TZycnLw559/4sMPP8TgwYPx4MEDyOVy+Pr64ttvv8W3336L+/fvY/fu3Xj//feRnp6OAwcOGCwHIdWNMjyE2DGVSoVVq1YhNDQUsbGxOn/vvPMO0tLSsH//fgBAVFQUDh8+jMePH2utY9OmTVrr5W/I5bt4//zzzwbLsm7dOq1/r1+/HgCEnlj8+vRlbEQikc62rl69itOnT2tN4+cxJ+vTrVs3ODs7Y+3atVrTU1JScOTIEfTv39/kOiri+vXriIuL05q2fv16uLm5oX379hYpa/PmzREaGooVK1YY7D0ml8sRFRWFy5cvIzIyEh07dtT50xeEenp6YuzYsXjjjTeQlZWldwDHoKAgzJ49GwMHDtSppiPE1ijDQ4gd279/P1JTU/Hll19qBRa8iIgI/Pe//8Xy5csxbNgwfPzxx9i9ezf69euHuXPnQi6X44cfftDpat69e3d4eXnh1Vdfxbx58yCRSLBu3TqdGzpPKpXi66+/RkFBATp16oRTp05h4cKFGDp0KHr27CnM17p1axw9ehR79uxBYGAg3NzcEBYWhmHDhuGzzz7DvHnz0KdPH9y8eRMLFixASEiI1hg1bm5uCA4Oxq5du9C/f394e3vD19cXjRs31imTp6cnPvnkE3z44Yd48cUXMXHiRGRmZuLTTz+Fk5MT5s2bV7mDbkD9+vUxYsQIzJ8/H4GBgVi7di3++OMPfPnll5DL5UaXrUhZf/jhBwwfPhxdu3bFW2+9haCgINy/fx8HDx4Ugs7vvvsOPXv2RK9evfDaa6+hcePGyM/Px507d7Bnzx4cOXIEADB8+HBERESgY8eO8PPzw7179/Dtt98iODgYzZo1Q25uLqKiojBp0iS0aNECbm5uOH/+PA4cOIDRo0db9PgRUmW2bjVNCLGe5557jkmlUpaenm5wngkTJjBHR0ehZ9bJkydZ165dmUwmYwEBAezdd99l//vf/3R6aZ06dYp169aNyeVy5ufnx15++WV26dIlBoD99ttvwnxTp05lLi4u7OrVq6xv377M2dmZeXt7s9dee40VFBRoleXKlSusR48eTC6XMwCsT58+jDHGSktL2b/+9S/WoEED5uTkxNq3b8927tzJpk6dyoKDg7XW8eeff7J27doxmUzGAAi9vvR1S2eM66IfGRnJpFIp8/DwYCNHjhS6w5ffh/LmzZvHzLmMBgcHs5iYGLZ161bWqlUrJpVKWePGjdk333yjNR/fS2vLli1612NOWRnjuvgPHTqUeXh4MJlMxkJDQ9lbb72lNU9SUhKbPn06a9CgAZNIJMzPz491796dLVy4UJjn66+/Zt27d2e+vr7C0AIzZsxgycnJjDFuKIBXX32VRUZGMnd3d+bs7MzCwsLYvHnzhJ5nhNQUIsYYs2G8RQixc9OmTcPWrVtRUFBg66LYTOPGjREREYG9e/fauiiE1FnUhocQQgghdo8CHkIIIYTYParSIoQQQojdowwPIYQQQuweBTyEEEIIsXsU8BBCCCHE7tHAg7XAjRs3sHnzZjRq1AjTp0+3dXEIIYSQWocyPIQQQgixexTw1AL8e4uoQx2xBMYYzp49i4sXL9q6KIQQUm2oSouQOkSpVGLbtm1ISEgAALRp0waOjnQZIITYP7rS1QKU4SGWUFZWho0bNyIpKUmYplKpKOAhhNQJdKUjpA4oLi7GunXr8PDhQ4jFYqhUKgCAWq22cckIIaR6UBueWoAyPKQq8vPzsXLlSjx8+BDOzs6YNm2a8BmdU4SQuoIyPITYsezsbKxZswbZ2dlwdXXFlClT4OfnJ3xOAQ8hpK6ggKcWoAwPqYwnT55g1apVKCgogJeXF6ZMmQIvLy8A3DnFGKMqLUJInUFVWrUAH/AQYi7NYMff3x8vvfSSEOwAFEQTy0pJScGWLVvw+PFjWxeFEIMow1OL0M2JmEMz2KlXrx5efPFFyOVyrXkcHBygVqspw0Oq7P79+1i3bh3Kysrg4eGBQYMG2bpIdRZjjB6QjaAMTy1AT+PEXOYEOwCdU8QyHjx4IAQ7ADfOE7GN48eP4z//+Y/WsBNEGwU8hNgJc4Md4FnAQxkeUlkpKSlYu3YtysrK4ODA3UoogLaNY8eOITY2FsXFxUhMTLR1cWosCnhqAXoaJ6ZkZ2dj9erVZgU7AOgGRark0aNHQrATHByMbt26AaAA2hbOnDmDo0ePCv/mf9tEFx0ZQmq5/Px8rFmzBvn5+fDz8zMZ7AAURJPKy8zMxJo1a1BaWopGjRph0qRJkMlkACjgqW6XL1/GwYMHtabRb9owCnhqAbo5EUOKi4uxdu1aZGdnw9PTE1OmTDEZ7ADPngLpBkUqIjc3F2vWrEFRURECAgIwadIkSKVSyhjaQHx8PPbs2QMA6NatG2XZzEABDyG1VFlZGdatW4f09HS4urrixRdfhJubm1nLUhBNKqqwsBBr165Fbm4ufHx88MILL8DJyQkAnU/V7c6dO9i2bRsYY2jXrh0GDhxIDzFmoICnFqCLCSlPqVRi48aNwusiNAcVNAc1WiYVUVpainXr1uHJkydwd3fHlClT4OLiInxON9vqk5KSgs2bN0OtVqNly5YYNmwYRCIR/abNYDcBz61btzBkyBC4uLjA398f//znP1FcXGx0mby8PMyfPx9dunSBp6cn/Pz8MGTIEFy6dElnXv6E0vwLCAiw1u7UWowxPHjwAAqFwtZFsVuMMezevRtJSUmQSqWYPHky/P39K7QOqoIg5lKpVNi8eTPS0tIgl8sxZcoUeHh4aM1jy4AnPT0da9euxe3bt6t929UtKysLGzZsgEKhQNOmTTF69Gjh2NNv2jS7GHgwJycH/fr1Q3BwMLZt24b09HS8/fbbyMzMxNq1aw0ud//+ffz888+YPn06FixYAIVCge+++w7du3fHqVOn0L59e63558yZg0mTJgn/lkqlVtsnTbUlw8MYw759+3DhwgV07doVgwcPtnWR7NKRI0fw999/w8HBAc8//zwaNGhQ4XXUlnOK2BZjDHv37sXdu3chkUgwefJk+Pr66sxnq/MpLy8Pa9euRX5+PiQSCZo1a1at2we4fVYoFFa/H/BVikVFRahfvz7GjRsHsVgsfE5ZNtPsIuD5+eefkZ2djStXrgg/RkdHR0yePBkfffQRwsPD9S4XEhKCxMRErUaeAwYMQJMmTbB06VL89ttvWvMHBQWha9eu1tsRA2rLyJmnT5/GhQsXAHCNG4nlXbx4EX/99RcAYNiwYQgNDa3UeujiSMxx/PhxXLlyBSKRCOPGjUP9+vX1zmeL86m0tBTr169Hfn4+AC4TVd0UCgXWrFmDR48eYfbs2XB3d7fadjZs2CB0Tpg4caJOgGUvVVqJiYm4du0aYmJi4Oho2RClWqu0srOzMWbMGOzdu9fgPHv37sWYMWOQmZlp9nr37duHAQMGaD15jBkzBjKZDPv27TO4nIuLi06PFicnJ4SHhyM1NdXs7VeXmvw0Hh8fjz/++EP4d23/0dVEt2/fxu+//w4A6NOnD9q1a1fpdVGGh5gSFxcnjO8SHR1tNHtS3QGPSqXSeXdXdV9z1Go1tm/fLlThP3nyxKrbefjwIZycnDB58mS4urrqzGcPVVrp6enYsmULrly5gtOnT1t8/dUa8Pz666+Ii4vDkCFDDM4zZMgQ/P333/jhhx/MXu+NGzd0sjgymQyhoaG4ceNGhcpYWFiIy5cv680KffHFF5BIJPD09MT48eNx//59o+tq0qSJ0T9z1fSbU0pKCrZv3w4A8PT0BEABj6WlpaVhy5YtYIyhTZs26NOnT5XWZy9Pg8Q6kpKSsHv3bgBA9+7d0bFjR6PzV+c1iq86T0xMhEQiEbLu1X0uHz58GAkJCcK/rbX9Q4cOISEhAWKxGBMnTtRbpQjU/qxtQUEB1q9fj9LSUgQFBQnd7C2pWgOejRs34pVXXjGapnJ0dMQrr7wi/NjMwaf5yvPy8kJWVlaFyvjxxx+jqKgIs2fP1pr+4osvYtmyZTh8+DAWLVqE48ePo2fPnsjOzq7Q+u1NXl4eNm7cCJVKhebNmws34tr6o6uJCgoKsHHjRigUCjRp0gTDhw+vcjWnPTwNEuvIzMwUegG1atUKAwYMMLlMdd5sz507h0uXLkEkEmHMmDFo2LBhtW2bFxcXh1OnTmlNs0aV2sWLF3H27FkAwKhRoxAUFGRw3toc8CiVSmzevBm5ubnw9vbG+PHjLV6dBVRzG55bt26ZfFIAgPbt2+Ozzz6r0Lr13QAq+ubY9evX49tvv8UPP/yApk2ban22atUq4f979+6Nnj17on379vjll1/w3nvv6V3f3bt3zd62MTU1w6NQKLBx40YUFhbC398fY8aMwc2bNwHYpj7dHvEXgry8PPj4+Og0VKysmnpO1VbXr1/HsWPHMGzYMKM3pZqupKQEGzduRElJCRo2bIjnnnvOrGtodd1sExMThZGFBw4ciLCwMCGLX13XnJSUFGHAv169eiE5ORkPHjyw+L7fu3dPaJIRFRWFVq1aGZ2/tv6m+YzdgwcPIJPJMHHiRLMGT62Mas3wKJVKSCQSk/NJJJIKdWv28vLSm2nJyckxe2ySP/74Ay+99BLeffddvP766ybnj4yMRFhYGC5evGh2Oe0J3zWa76rKN6Ljb8a18SmjpmGM4ffff9e6EPADvVVVbX4arGkePnyIHTt2ICMjQwj4ayO+rQg/1k5FnrKr42abmZmJrVu3gjGGtm3bClVZ1XnNycvLw6ZNm6BSqdCiRQtERUVZ5beUk5OjlWXr1auXyWVq62/63LlzuHz5MkQiEcaOHWuwys4SqjXgCQwMRHx8vMn5rl+/XqExbsLDw3Xa6pSWliIxMdFgDy1N586dw+jRozFu3Dh8+eWXZm+3uiLpmhi5nzx5EteuXYODgwPGjRsnVCnW1h9dTXTu3Dmhh8zYsWPh4+NjsXXXxHOqNsrPzxdugEDtPu9jY2Nx+/ZtODo6Yvz48Xobxhpi7d99+cxTTEyMcA5X1zWHz2gXFBTA398fo0aNgkgkEgIuS2WYysrKsHHjRuH1HSNHjqxRWTZLunv3rpCxGzBggE7NiqVVa8DTp08f/Pjjj0azNwqFAsuWLUNUVJTZ642Ojsbhw4e1enbt2LEDpaWliI6ONrrsjRs3EB0djR49euC3334zuwrsypUruHXrFjp16mR2Oe3FzZs3cfjwYQDA0KFD0bhxY+Gz2vajy8jIMCsIr26aF4KBAwda/EJQVxstl5SU4OHDhxZZF1/dyHeLBmpvVe61a9eE4Q5GjBhhsPu5IdZsE2Yq81Qd15zyGe0JEyYI3cItuX3GGHbu3InHjx/DxcUFEyZMMKtWRLMcteUhJjs7W8jYRUZGWqWRcnnVGvC89dZbSEhIwKhRo/R2+05NTcVzzz2Hmzdv4q233jJ7vbNmzYKnpydGjhyJgwcPYs2aNZgzZw4mT56sleGZMWOG1g8lPT0dgwcPhkQiwbvvvouLFy/izJkzOHPmDC5fvizMt2TJErz++uvYtGkTYmNjsXTpUgwZMgSNGjXCyy+/XMmjYb6a9DSemZkp9Mjq2LGjTpus2hTwZGVlYfny5diyZQvS09NtXRxBTk6OVo8sa4z9VNsujpZQUlKCJUuW4Ndff0VaWlqV13fgwAGkpKTAyckJkZGRAGpnwPPo0SPs2rULANcjq3Xr1hVehzUD6GPHjhnNPFXHNefs2bNaGW3NphKW3P7Jkydx48YNODg4YPz48TojWhtTmx5i+CxWcXExGjRoYJGOGOao1kbLkZGR+OGHH/D6668jJCQEHTp0QEhICACuG+TFixehVquxbNmyCv3oPD09ceTIEcyZMwejR48W2pSUr55SqVRaF6T4+Hg8ePAAAHR6IgQHByM5ORkAEBYWhm3btmHjxo3Iz8+Hn58fYmJisHDhQr29wyytpgw8qFAosHnzZpSVlSEoKEjv8AL8j7+mX/j5fSktLQXADUdQEyiVSmzZsgUlJSVo0KCB8J4cS6tJQXR1YIxh165dwnmZk5ODwMDASq8vLi5OaL83ZswYPHr0CIDtbjYqlQr79++Hh4eHWe09eCUlJdi8eTOUSiWaNm2K/v37V2r71go6bt++jePHjwMAhg8frjfzZO2A5/79+8IYY4MGDdLKaGtuv6rXvOTkZBw5cgQAV2vRqFGjCi1fWx42+baJ/EuPrdUjS59qH2n5lVdeQUREBBYtWoTY2FicOXMGACCXyzFkyBB88MEHlXqibd68uVAFYMjKlSuxcuVK4d99+/Y164I/fPhwDB8+vMJlsjRb3pw0T1IXFxeMHTtWb2+h2tJoef/+/VqDltWUAO3gwYNITU2Fs7Mzxo0bZ7ULQW25OFrKmTNntMZMqcr3nZ6erjUAZNOmTZGRkVHl9VbFH3/8gYsXL0IkEqFnz55mBcl8EJidnQ0PDw+t9zJVlDUyhrm5udixYwcALpvMZ9EMbdsax76wsBBbt26FWq1GREQEOnfurDOPJa55+fn5QvVOmzZtdF5rZA5zf9PFxcXIysqq1CtpLOHSpUu4evWq0DbRzc2t2rZtk1dLdOvWDXv27IFarRZGp/T19a30j83eWeJpvKSkBI6OjpW+gV6+fBlxcXHC2BeGTtLacCO9fPmy0CvAyckJxcXFUCqVti4W/v77b+HVHKNHj65QOrui6lKG58GDB/jzzz+1plX25lhaWorNmzdDoVAgNDQUvXv3BmDbzGZ8fLwwVgtjDGq12qyhC/ggUCwWY9y4cXB2dq50GSxdncKPpFxcXIz69esbfS+ftR6y1Go1tm3bhvz8fPj6+hqsdqnqNU+tVmPr1q3C8B6aDbIrwpzfdHFxMZYsWQK1Wo1XX30V9erVMzivSqVCSkoKGjZsaJGhMABuANX9+/cDAPr374/g4GCLrNdcNo0wHBwc4O/vD39/fwp2rCgjIwPfffcdfv3110ot/+jRI63xIPhqSH1qesCjuS99+/YV3jJu6wxPRkaGMLZH7969rd5bwdgNijGGv/76S8i+1maFhYXYsmWL8ITevHlzAJX7vvkXaWZmZsLNzQ2jRo0SzndbZTazsrJ0Bmk1Z9/u378vBIGDBg2q8tO+pX/3Bw8eFF6lYCrTaa1rTmxsLJKSkiCRSPD8888bfDloVbd/+PBh3L9/H1KpFM8//7zZjZQrWg7GmJBoALhqXUMYY1ixYgVWrlyJK1euVKo85fHVp/wgtd27d7fIeiuCooxaoCpP4wqFAqtXr0ZJSQkeP35c4XVonqTNmjVDz549jc5fkwMezfYKzZo1Q69evUx2KWWM4ciRI9izZ4/VsiFlZWVC1iAkJKTKr40wh7EqiAsXLuDw4cM4ePAgysrKrF4Wa1Gr1dixYwfy8/Ph4+ODYcOGVakL8fnz57Uarrq4uAifWbprsjn49l6lpaXCaMP8dGPKV9NYoqepJTOG165dw/nz5wFwowubaidZ0WuOQqEw+XLj27dva/Va8/PzM7n9ynz3CQkJwojNI0eOrNLQE6aOw8WLF7WGbzFW3jNnzggdiyzxXkm+91lOTg48PT3NHtDS0ijgsXOHDh1CQUGB8O+K/Cj5J1q+jp8fd8IYW1z4zcG3QSq/L6bKe/HiRZw4cQKXLl0y+kRUFfv378eTJ0/g5uaGMWPGVEu209AN6tGjR1pt4QwNIVFSUiI0+K6p/vrrLyQmJsLR0RHPP/88ZDKZkCmo6PmZlpamNUxA+QaltjjvDx48iEePHkEul2PcuHHCd2qsDIwxnSDQEjceSz3oZGdna41izGfkLLVthUKB5cuX47vvvjP4e87Pz8fOnTsBAJ06dUJERITFtq8pNzdX6B3XpUsXtGzZskLLV6Qcjx8/xoEDB7SmGQqM09LStKqAK5tx0nT27FncvHnTItWnVUEBTy1Q2aenmzdvCm1CeBVpqxIXF4fr16/DwcEBY8eONeskrakZnqtXr+LatWtCQzl+X4zdADMyMrRu/tbIdly7dk0YXHDMmDFaWQNr0lelVVZWhq1bt2odC33nS25uLv773//ixx9/NPo9FxcXY9u2bWanxBljiIuL02pMXlkPHjwQ3vQ9bNgwoeqSD0wq8jsoKyvDtm3boFar0aJFC3Tp0kVnnuo+7zV/26NGjYK7u7twLhvbtzNnzugEgZZgif1XqVTYtm2b0Au0b9++Ft/2oUOHhEy35rhtPD4TUVRUhHr16mHQoEEm11mZ6ky1Wo2dO3eipKQE9evXx8CBA81e1hBD9wnN33WzZs2Et97rO080z3WeofPJ3PvRo0ePtKpPKzrGkyVRwGOn8vPzhbr9rl27Cj8Gc1/ZkZmZqdXWRTNlbow1L/wKhULo/lvekydPcOTIERQXF+t8lpWVZXBfDN0AlUoltm3bpjXd2I3k6tWrOqN9m5KTk4O9e/cC4J5mq7MBn74qrf379wvtU/ibZ/nzha8mKiwsRF5eHkpKSvSun28vcO3aNZw8edKsMp08eRI7d+4UnvArq7S0FNu3bwdjDK1bt0abNm2EzypT/XDw4EHhuBhquFqdGR7N33a3bt2E9l6myvDo0SNhwNBBgwYJQaAlWKJK69ixY3j48CFkMlmFeoyZ+52WfwDU93s+ffo07t69C0dHR4wZM8asTh6Gtl9aWmrwenvy5EkkJydDIpFg9OjRFmkUbOjaq5lBHjlypJCx0Xe8Dhw4IJzr/ECA+uaLj4/HV199hbi4OKNlUigU2L59O1QqFcLCwmw+UC8FPLVARS8mmk8pAQEB6N+/v1lPfzyVSoXt27dDoVAgODgYPXr0MLusFQl4KnJzUKlUWLlyJX7++Wdh7CReSUkJ1q1bhxMnTuDq1as6y23fvl14aizfBsnQTeKPP/7A48ePIZfLhYHODF28rl+/jh07dmDbtm1m7xMfOPDtL6qj3Y6m8hme69evC5mm0aNHC+/sKn++nDx5Evfu3RP+beiYXLlyRQgAzcmMpaamIjY2FgC0qmD1KSoq0vt0ztu/fz9ycnLg4eGhM9J6Rau0bty4gUuXLgHgMimGXmpo6Dy6dOkS1q9fb7L6LzEx0az3cPFdyfnfdr9+/YTPjP3GFQqFcH42b97crJc4V0RVH3Tu3buHEydOAOCGAalID0VzMiz5+flC9RGv/LmblpYmBIRDhgwx2m5Hk759z83Nxffff49ly5bplCslJUU416Ojoy32yhh95fj777+FDOvo0aPh4uJi8CHv+vXrwoC7fNZQ33w5OTnYvXs3SkpKTL4g+9ChQ8jIyICrq2u1DS5oDAU8tUBFT5IzZ84ITymjR4/W6o6uefJmZGTg/PnzOoFUbGwsUlNT4eTkpNUTxRzmXviOHDmCxYsXa908jTl69KjQeK78zY6/wQHQyfAcPXpU6O2h76lR343q1q1bOHfuHADgueeeEwIefTeSvLw8IUujUqnMrvb666+/hJ4ZVRn/pLI0Mzz5+fnCuDI9e/ZE48aN9Z4vDx8+FKqJePoCnqysLKHrqaF5NJWVlWH79u3COWPsGBYVFeH//u//sGzZMr2B0bVr14ThEzQDN15FMjF5eXlCtql79+5m9U7UXO/9+/exZ88e3L59G4mJiQaXvX//PtauXSuMPGuMZpUU/9s2Z9/++OMPPHnyBK6urhgxYoTFbzzm/O4ZY7hy5QpSUlK0phcXFwujt7dt29bkW8ENbdvQ9vkHwOLiYgQEBKBJkyYAtM/L8tWWFRkHp3zAxRjDtm3bUFRUhOzsbK3zWTP72KpVK63sY1WVfzDOzc0Vfte9e/cWBkzU99vOzc0VrmM9e/ZESEiI3vk0H9QA479VzYzac889V23V9cZQwFOLlA9MGGM6J5xmg7PBgwcLTynlT97CwkL8+OOP2Ldvn1aUnpSUJFRBVPRJC9D+8fNjgpS/4SUmJuLEiRNQqVS4ffu2yXXeu3dP6DEBaP/Irl27ppXV0fwsOTlZWM7QvpS/SRQWFmo1JGzWrJnB6h3+aVuzWsecgEezfUl0dLTWMPXVRTPDs3v3bhQXFyMwMFDINJU/XzSDkpYtWwrjMJU/JprZQf6tx6YCnkOHDiEzM1Po9mtofr4RvVKphEql0ml0Wr6KMCgoSGcd5rbh0bxJBgYGamVS9Cl/0ysrKxMGzeP/rU9paanWfMYCHs0qKc3fNs9QhufWrVtCrydr3Xg0b7YqlQobN27EypUrtQKQY8eOYdeuXdi6daswjf9O8/Ly4O3tjaFDh1Z426YCnvLVVHy7Jc3jpFmVU9FMRPlg9+zZs1pZaM3vfv/+/ULHCUuPoq4ZdPLXptLSUjRo0EArg1z+POHfVcaP7s63ndJ3Pp08eRL379/Xu2+aCgoKtJpUhIaGWmgvq4YCnlpA34+CMYYtW7bgq6++EjIeSqVSuCmFhYWhQ4cOwvyaJy/fY4nHd9EsKSkReie0a9euUr0GNC8+SqUSq1evxtdffy28uqG4uFgntazp/v37Wlmn0tJSoUz8ceB/ZJqZCf4izn+muVzbtm0N7otmwMMfl6KiIvj7+wuvG+HrvMvfSM6ePStcSPnjW/4CcOXKFa1XGvA3QsYYIiIiDI4ea238sbx8+TLu3LkDR0dHjBo1Sjge5S92f/75J7KysuDu7o5hw4YZDE6OHz+u1Q6DXwd/I0pPT9e6qd+6dUt4RQM/mjl/jpZXvp2UZjWRuVWE5mZ4Tp8+LYzBYk4bi/LrPXTokFZAZujGcODAAa35DFV98b9tvi2E5m/bUBkA7sbD/96seePRvNn+9ddfuHnzJu7du4fs7GwAXFb22LFjAKDVJfzq1auIj4+Hg4MDRo8ebXCsG3O2zW9fU/kg0dfXV/g98+furVu3hKoc/tVEldk+P5Auvz0e/53Gx8cbzT5WlWY5zp8/j6SkJOF3rXmMygf9Z8+eFbLNY8aMET4vf9179OiR8KDWokULAPofTjSrXevVq1fp15VYAwU8tYjmTeDChQu4ceOGMBomwFVFGUpba97Arl+/rnXj4E/agwcPCk9a+t6TZQ7NH9bx48dx7949lJaWCi/nPHjwoNbbpTVvBFlZWVi7di327dsnNE7+448/hLEb+OCgrKxMeDIsKSlBYGCg8DoSfl8OHTqE3NxceHp6Gn1q1PzxX7t2TXhx33PPPSccM30ZnszMTK0GoOUDLoCrq9+9ezeuXLkiPBX9+eefyM7Ohru7e6VHVLUE/nviX4nQv39/rYyB5j7fvXtXyBCMHDkSzs7OOjcNgGuHw7fDGDZsmJDhAbjjm5CQgGXLlglP+MXFxUKVUdeuXbW6IJe/kObl5WlVkwHax1rzom2sGlZfG57S0lKcPXsWeXl5wjHh32nE3yRN0Qw2EhMThSCOzyrqC3hu3bql04PNUGAUGxtrsi1E+SBVM4C39o2HP94KhUJ49xXAHVu+R5ImtVqN/Px8oat0nz59Kj34oeZ3nZeXJxxDlUqFXbt26TwAap7bmudgt27ddN6TVZHtK5VK7Ny5E0qlEqGhoUIbmLKyMhQWFgoPZz169NCbfawqvhxFRUXCu78GDhyo00ZI8zzJyMjQuo5pZps1j5NKpcLOnTuFKj++DZi+81XzIcrcht/VhQKeWqB83Wx2drZwQgPcReXBgwc4ffo0AO5mU/4phT/pcnJyhB5Lmsvfvn1buPiOHDmyUk9agPbFR7N3TnFxMW7evCk84fBPCPzTD2MMu3fvFm50+fn5uHv3rnDjGDFihFCNUlZWhqtXr+LWrVsQi8V47rnnhKelsrIy3LlzR2hoampf+OOSm5srHJfevXtrvViy/JOOWq3Grl27oFQq0aRJE3Ts2FEnAFAqldi1a5fwnRUVFSEpKUkIHEaMGGHxJ7yK0LxhhoSE6HS15vensLBQSE137NhRaP9gbH9btWqFiIgIrQudZhsBPsg6cOAACgoK4OPjg379+mmN96F5IeWDWz49z5eBP3cyMzOFAGXQoEHw9vY2uN/6siC7d+/GgQMHcPz4ceG7ValUaNq0qdltOfjzvrS0VDhenTt3RlhYmDD95s2bWLNmDXJzc1FcXCwcj65duwrnm74MT0pKitZv21CVVPl9u3btGhISEnQCeGvQvEZpZllKSkpw5swZpKSkaGXJSktLsWfPHqFbtqkBTY3RvOb88MMPWLt2LQDgxIkTePToEZydnbWqjzTPXc1zMCoqqlLb5/frxo0bQnZzxIgRQtVZWVkZ9u3bJ2SOrdVBQbMnLn9t0tcrSjOQ2blzp8FzXTMwOn78OB4/fgxnZ2fExMRoHcOysjLhFVG5ubnCUB5RUVFmN/yuLhTw1DJ8d1/NJ2C+BwJjDJGRkcJFVhN/8v7xxx9CuwT+RXg5OTlaT9pVefrQvPhoZqSysrKEC3y3bt2E1Dp/gT9//rxWA2a+JwDA3WhDQkKEwCUzM1N42udfD8F/ptnQtHPnziaf2PiLVUJCgpAtKn/xLZ/h4evopVKpkEnjt8/fqPlsGy83N1fYnw4dOti8Tpu/OMpkMowcOVInY8Dv87Fjx4RMmeZYIfwFj9/f48ePIz09HXK5XMioiUQiYb49e/YI1ZpFRUW4efOm8ALB5557DhKJRGt+zfM7Li4Ot2/fhlgsxsiRI4VAkc8eaAafpgKU8un8+Ph4xMfHA+DOudOnTws3rYq05eDXW1JSImRJBwwYIJwXGRkZ2L59O+7evYvr168LmU4+2NO8OQJcO6+7d+8KNyVjv22e5g2qoKBA+I307t0bAQEBZu1HZWn+7l1cXISsWEpKitYbwPnjdPbsWeE7fe6556rUaL/8sqmpqUhLSxOyjUOHDhU6HgDPzl1952BVts+fU9HR0XB3dxe++ytXrgjVdtYMPDWPg6HfNfDsPLl27RpSU1MNnuv8fNnZ2cKxjImJgaurq7BvJSUlWLlyJX744Qc8fvwYu3fvRllZGRo1alSpl4Bbm90EPLdu3cKQIUPg4uICf39//POf/zTZ44G3atUqtGjRAk5OToiIiMCWLVt05lEoFPjggw8QGBgIuVyOqKgonS7Q1qL59HTp0iWhbpbPkpw9exaZmZlwdXU1WBXFn7zFxcXCD4/PAl25ckXr4lsVmj86uVwujBFy/PhxFBQUwNfXF1FRUVoX+KysLKGhNT89NjZW50bL/8ju3LkjPO3z72PhP0tNTRVuOOak8DWfOvmLb/n2Gvyx++uvv5CWlqaVTeCrLPjtP378WOuJnE8RHz9+XOgqbYlBxqoqNDQUcrkcI0eO1NuYm99nvidU+UwZf3O4ceMGUlNThcbhMTExWhkIfr4HDx5ojQSsOY6M5rhImoGUSqVCXl6eUO3Rt29f+Pn5aQWX+oJPYzSfxv/66y+ttmyPHz8WugsPHjxYqJIwh+Y5o3kD5ct68+ZNIZi5evWqMH4JPy4KP19+fj4eP36MlStXYt26ddi3b5/J33b5MpSUlOD3338XeiVVJXtiLs2b+LBhw4Tz/tixY0IGoV27dkKwyld78d+pJfEDGKrVaoSHh+uMlMyXlX8g6d69u9njjOmjec0LDw9H69atATy7JvD3iZ49e2plji1N8xzkgy59yj/ADR06VO+8mu0S+cwt34OO/50WFRUhLS0NANcgm2/TOHLkyBr5fsyaU7lWBTk5OejXrx+Cg4Oxbds2pKen4+2330ZmZqaQ3jRk69atmDZtGt5//30MGjQIO3fuxPjx4+Hh4aE1yuZbb70lNMBt3LgxvvrqK/Tv3x9///231Z+eeCqVCocOHQIA9OvXDyqVCgkJCcKJO3z4cIOjIWtekPisCN87izEGkUikNShVZfFvIC8pKUFMTAzu37+PO3fuQKFQCNtwdHQUApuSkhKhKqtx48bw8/PD+fPnhZ5PmjdazRsu/7TP/6jKl9vcajnNi0RUVJTewdj4bZSUlOB///sfAC5g0Mwm8NvngyEAaN26Ndzc3HDq1Ckhk6WZ6ralVq1aoWXLlgYDBM3zRV+mTDMzlpCQoLVOTZrfS48ePXDmzBkolUoUFRUJwa8mvjpk06ZNyMnJEbKEmsEtf/zOnTsnnCeawae5+LYL/PnKB3fNmjVD27ZtK7QuzYt7t27dhFdP6Puu+ZGk9c3H/755fDWzsd82j28nx1fNOjg4YOTIkRZ707Uxzs7OGDp0KMRiMVq0aCFkzdRqtVYGQSaTobCwEIwxre+0quRyOYqKioR/Z2ZmwtnZGdHR0TrnuOY56efnZ/aIzobw1xm5XK7VLk/z+lOvXj307t27StsxxdvbG23btoW7u7sQdOmjeT6EhYUZ7DiheQ1wcXHRGtNK37WVz9D369fPYmMLWZpdBDw///wzsrOzceXKFSGV6ujoiMmTJ+Ojjz5CeHi4wWU/+eQTjBs3DosXLwbA3fQSEhIwd+5cIeB5+PAhfvrpJ3z//fd45ZVXAHBVPyEhIfj222/xxRdfWHX/NLsQl5WVoWHDhujSpYvQTgUA2rRpY/S9M/wJ2qBBA2EgQc02JF27dtV5P1BljRs3DsXFxWjZsqXQXgPQfpLiL/D804FEIsGIESO0Ru7s1KmT1o1W80dWvn5Y87OKVMvxN8lGjRoJI4uWV75Hj1Qq1UkBl+8i7erqiqFDhwptkADtNjA1gbFsCH9T4Ktmyis/Bo5cLtcZ5A949r34+fmhT58+iIuLQ35+vpAFKZ/e5wMYvncPoBvc8t8HXwZzqrJ45dv3iEQijBgxAps3bwbAnZeV6S7s7u6OevXqwcnJSSuI0zwvGzZsKHQwKN9mRPNmXZ6p3zYvMDBQaHgNVE9Vlia+ihzQDvSGDBkiZBD46ZaoytI0ceJEFBYW4o8//hB6rUZHR2tVZfH4c9vQOVhRLVq0QLdu3RAREaGV3eS/ez6jbu3Ak3+gNIW/7pdv21Se5rlbvl1o+YdP/jfZqFEjva9eqSlqXs6pEvbt24cBAwZo9abgx1so30BXU1JSEhISEjBx4kSt6ZMmTcK5c+eElOehQ4egUqkwYcIEYR5+vAbNlHh10Lz48zdrNzc3k+nuzp07o1WrVlovp+TTzvqetKuiSZMmQuqTv9CVf5LiGyDzBgwYAC8vL2F+Ly8vnRstn30JDg7WCU58fHwgkUhQr169ClXLNW/eHFOmTMELL7xg8OJbflTawYMH62QTyg8gNmzYMDg7Owv7Wb4NTE3Xrl07NGvWDOPGjdOb9SvfGDImJkZvd96QkBA4OzsLNxb+++3evbveXjl8Na2m8tUe5QPzigyk17hxY6G7PMBlnZo1ayZ895o354oQi8WYNWsWpk6dqnUD5csdFBQkVLHqazPCV/3y+DK4ublh8ODBZpVBszeiRCKplqosQ/g3nDdr1kzrt8Ffc/r162dW7zdzNWzYEGFhYcLvLTw83OAAhk2aNIGPjw+GDBlikfc6yWQyve+I4q9XUVFR1Rp4mtK8eXN07doVkyZN0hsQ8jw9PdGtWzcMGjRI53cplUrh6+sLd3d3rbG7ampVFk/EqvLykxrC398f06dP18m0tGrVCt26dcOvv/6qd7l9+/YhJiYGN27c0PpCz58/j86dO+PEiRPo2bMn3nvvPaxevVrnPU7/+c9/8NFHH6GkpETvl2zsaT4tLc3s+ly1Wi2MXeHs7KyVmSktLYVEIqn0SaZUKiEWi63aPdpQGYuKioTP+B8eYwylpaWQSqV690mtVhvcV75qzlry8/MhFosNjtOhUqlQWFgIiUSiVf1Q1e+opuJHaS6/v8aoVCoolUqj1XqFhYVCA1CxWKz3olxUVISysjLI5fJK9SgsKioCY0xrOAHGmFWqGzXP2aKiIjg6OuotM1/Vx1f5FhUVwdnZuUIZiJKSEpSVlWm9QsAWGGNQKBRCY3TN6SqVymoNd5VKJcrKyuDs7Gzz1xgAxq9X9oIxhqKiIkilUou8Wb0yGjVqJIzzZIxdVGllZ2cLTxSavLy8kJWVZXQ5ADrL8k8h/LLG1q9QKFBQUFCpp0JzOTg4GByNt6oX6OoYI8FQGeVyuU7wwLcBMsTYxcPaF7jyWanyxGKx3vOgJrTZsQaRSFTh814sFpu8EZszErC+c6ciyi9b2WEYzFG+Ib8hmhkwwPT5po+Tk5NNhzvgafZcLD/dmtcczUFAawJ7D3YA7jutCa+NMEfNOTOqyNBoxObcBMvPwye9NKcbWr+hzwCYfLEaIYQQQqqHXYSfXl5eWo0ceTk5OUbfU8R/Vn5ZvgEq/7mx9UskkloT3RJCCCF1lV0EPOHh4VqvSgC4dhOJiYlGe2jxn5VfNj4+Xms04PDwcKSnp+tUj8XHxyMsLKxOpC0JIYSQ2swu7tTR0dE4fPiw0B0RgPAiQX1dZXkhISFo0aIFNm3apDV9w4YN6Ny5s9CLYNCgQXBwcBC6rgJcl9g9e/YgJibGwntDCCGEEEuzizY8s2bNwtKlSzFy5Eh88sknwsCDkydP1srwzJgxA6tWrdJ66/WCBQswfvx4hIaGYuDAgdi1axcOHTokjO4KcGPXvPrqq/j3v/8NR0dHBAcHY8mSJQCAN998s9r2kxBCCCGVYxcBj6enJ44cOYI5c+Zg9OjRkMvlmDhxIr788kut+VQqlc4gcuPGjUNRUREWLVqEJUuWoGnTpti0aZPWKMsA8M0338DV1RUff/wxcnNz0aVLFxw+fLhGja9ACCGEEP3sYhweQgghhBBj7KINDyGEEEKIMRTwEEIIIcTuUcBDCCGEELtHAQ8hhBBC7B4FPIQQQgixexTwEEIIIcTuUcBDCCGEELtHAQ8hhBBC7B4FPIQQQgixexTwEEIIIcTuUcBDCCGEELtHAQ8hhBBC7B4FPIQQQgixexTwEEIIIcTuUcBDCCGEELtHAQ8hhBBC7B4FPIQQQgixexTwEEIIIcTuUcBDCCGEELtHAQ8hhBBC7B4FPISQSvv+++8hEokQERFRoeVWrlwJkUiE5ORk6xTsqUWLFmHnzp0WX29ycjJEIhFWrlxplXVV9vhMmzYNrq6uVS4TIfaIAh5CSKWtWLECAHD9+nWcPXvWxqXRZa2Ax9piYmJw+vRpBAYG2roohNgNCngIIZVy4cIFxMXFISYmBgCwfPlyG5fIfvj5+aFr166QyWS2LgohdoMCHkJIpfABzhdffIHu3btj48aNKCoq0pnvzJkz6NGjB5ycnFC/fn188MEHUCgUOvNt2rQJgwYNQmBgIJydnREeHo73338fhYWFWvPx1TbXr19H//794eLiAj8/P8yePVtr+yKRCIWFhVi1ahVEIhFEIhH69u0rfP7o0SPMmjULDRs2hFQqRUhICD799FMolUqt7aWmpuL555+Hm5sbPDw8MH78eDx69Mjs4/Tw4UPMnDkTjRo1glQqRf369TF27Fg8fvzY4DKGqrQOHDiA/v37w8PDA3K5HOHh4Vi8eLHR7Z88eRK+vr4YNmyYcCyPHDmCvn37wsfHB87OzggKCsKYMWP0fn+E2AtHWxeAEFL7FBcXY8OGDejUqRMiIiIwffp0vPzyy9iyZQumTp0qzBcfH4/+/fujcePGWLlyJeRyOX788UesX79eZ523b99GdHQ03nzzTbi4uCAhIQFffvklzp07hyNHjmjNq1AoEB0djVmzZuH999/HqVOnsHDhQty7dw979uwBAJw+fRr9+vVDVFQUPvnkEwCAu7s7AC7Y6dy5MxwcHDB37lyEhobi9OnTWLhwIZKTk/Hbb78J+zlgwACkpqZi8eLFaN68OX7//XeMHz/erOP08OFDdOrUCQqFAh9++CEiIyORmZmJgwcPIjs7G/Xq1TP7mC9fvhyvvPIK+vTpg59++gn+/v64desWrl27ZnCZzZs348UXX8T06dOxdOlSiMViJCcnIyYmBr169cKKFSvg6emJhw8f4sCBAygrK4NcLje7TITUKowQQipo9erVDAD76aefGGOM5efnM1dXV9arVy+t+caPH8+cnZ3Zo0ePhGlKpZK1aNGCAWBJSUl6169Wq5lCoWDHjh1jAFhcXJzw2dSpUxkA9t1332kt8/nnnzMA7K+//hKmubi4sKlTp+qsf9asWczV1ZXdu3dPa/qSJUsYAHb9+nXGGGPLli1jANiuXbu05nvllVcYAPbbb7/pP0BPTZ8+nUkkEhYfH29wnqSkJJ11/fbbb1rHJz8/n7m7u7OePXsytVptcF1Tp05lLi4ujDHGvvjiCyYWi9mXX36pNc/WrVsZAHblyhWjZSfE3lCVFiGkwpYvXw5nZ2dMmDABAODq6opx48bhxIkTuH37tjBfbGws+vfvr5XJEIvFejMkd+/exaRJkxAQEACxWAyJRII+ffoAAG7cuKEz/+TJk7X+PWnSJGGbpuzduxdRUVGoX78+lEql8Dd06FAAwLFjx4R1ubm5YcSIEXq3Zcr+/fsRFRWF8PBws+Y35NSpU8jLy8Prr78OkUhkdF7GGGbNmoV58+Zh/fr1eO+997Q+b9u2LaRSKWbOnIlVq1bh7t27VSobIbUFBTyEkAq5c+cOjh8/jpiYGDDGkJOTg5ycHIwdOxbAs55bAJCZmYmAgACddZSfVlBQgF69euHs2bNYuHAhjh49ivPnz2P79u0AuKolTY6OjvDx8dG7zszMTJP78PjxY+zZswcSiUTrr1WrVgCAJ0+eCOvSV+2kb5/0ycjIQMOGDc2a19R6AJi1rrKyMmzatAmtWrUSAjhNoaGh+PPPP+Hv74833ngDoaGhCA0NxXfffVflchJSk1EbHkJIhaxYsQKMMWzduhVbt27V+XzVqlVYuHAhxGIxfHx89DbwLT/tyJEjSE1NxdGjR4WsDgDk5OToLYNSqURmZqZW0MOvs3wgpI+vry8iIyPx+eef6/28fv36wrrOnTtnsvyG+Pn5ISUlxax5Ta0HgFnrkslkiI2NxeDBgzFgwAAcOHAAXl5eWvP06tULvXr1gkqlwoULF7B06VK8+eabqFevnpC1I8TeUIaHEGI2lUqFVatWITQ0FLGxsTp/77zzDtLS0rB//34AQFRUFA4fPqzVI0mlUmHTpk1a6+Wracp3w/75558NlmXdunVa/+YbQmv2xJLJZDrZIQAYNmwYrl27htDQUHTs2FHnjw94oqKikJ+fj927d+vdlilDhw5FbGwsbt68adb8hnTv3h0eHh746aefwBgzOX+7du1w7NgxpKSkoG/fvkhPT9c7n1gsRpcuXfDDDz8AAC5dulSlchJSk1GGhxBitv379yM1NRVffvmlVmDBi4iIwH//+18sX74cw4YNw8cff4zdu3ejX79+mDt3LuRyOX744Qedrubdu3eHl5cXXn31VcybNw8SiQTr1q1DXFyc3nJIpVJ8/fXXKCgoQKdOnYReWkOHDkXPnj2F+Vq3bo2jR49iz549CAwMhJubG8LCwrBgwQL88ccf6N69O/7xj38gLCwMJSUlSE5Oxr59+/DTTz+hYcOGePHFF/F///d/ePHFF/H555+jWbNm2LdvHw4ePGjW8VqwYAH279+P3r1748MPP0Tr1q2Rk5ODAwcO4O2330aLFi3MWo+rqyu+/vprvPzyyxgwYABeeeUV1KtXD3fu3EFcXBz++9//6iwTHh6OEydOYMCAAejduzf+/PNPNGzYED/99BOOHDmCmJgYBAUFoaSkRKiGHDBggFnlIaRWsm2baUJIbfLcc88xqVTK0tPTDc4zYcIE5ujoKPTMOnnyJOvatSuTyWQsICCAvfvuu+x///ufTi+tU6dOsW7dujG5XM78/PzYyy+/zC5duqTTg4nviXT16lXWt29f5uzszLy9vdlrr73GCgoKtMpy5coV1qNHDyaXyxkA1qdPH+GzjIwM9o9//IOFhIQwiUTCvL29WYcOHdhHH32ktZ6UlBQ2ZswY5urqytzc3NiYMWPYqVOnzOqlxRhjDx48YNOnT2cBAQFMIpGw+vXrs+eff549fvyYMWZeLy3evn37WJ8+fZiLiwuTy+WsZcuWWr2wNHtpaZa/RYsWrHHjxiwxMZGdPn2ajRo1igUHBzOZTMZ8fHxYnz592O7du03uCyG1mYgxM/KjhBBSQ0ybNg1bt25FQUGBrYtCCKlFqA0PIYQQQuweBTyEEEIIsXtUpUUIIYQQu0cZHkIIIYTYPQp4CCGEEGL3KOAhhBBCiN2jgIcQQgghdo8CHkIIIYTYPXq1BCF1TFp+GuIz4pFelA5/uT9a+rVEoFugrYtFCCFWRd3SCalD0vLT8Put35FZnAk3qRuKFEXwcvZCdLNoCnoIIXaNqrQIqUPiM+KRWZyJ2KRY7L65G028miCnJAfxGfG2LhohhFgVBTyE1CHpRelwk7ppTXOXuSO9KN1GJSKEkOpBAQ8hdYi/3B/5Zfla0/JK8+Av97dRiQghpHpQwENIHdLSryU8nDyQW5qLIkURbmfdhqeTJ1r5t7J10QghxKoo4CGkDgl0C8SQ0CHwdvaGRCxBm3ptENM8BgGuAbYuGiGEWBV1Syekjgl0C0RD94YAgKiQKMgcZTYuESGEWB8FPIQQQqqExnYitQEFPIQQQiqt/NhOD3MfIjknmcZ2IjUOBTyEEEIqTXNsJwCY2WEmknKSEJ8RTwFPNaEMm3ko4CGEEFJpNLaTbVGGzXzUS4sQQkil0dhOtkWjp5uPAh5CCCGVRmM72RZl2MxHAQ8hhJBKo7GdbIsybOajNjyEEEKqhMZ2sp2Wfi1xO+s2cktzIXGQ4HbWbfjKfSnDpgdleAghhJBaijJs5qMMDyGEEFKLUYbNPBTwEIui8SAIIdWJrjnEXBTwEIuh8SAIIdXJ1tccCrZqF7tpw3Pr1i0MGTIELi4u8Pf3xz//+U8UFxcbXSYvLw/z589Hly5d4OnpCT8/PwwZMgSXLl3SmVckEun8BQRQHakmGg+CEFKdbHnN4YOtC6kXkF2Ujctpl7Hv9j6k5adZfdukcuwiw5OTk4N+/fohODgY27ZtQ3p6Ot5++21kZmZi7dq1Bpe7f/8+fv75Z0yfPh0LFiyAQqHAd999h+7du+PUqVNo37691vxz5szBpEmThH9LpVKr7VNtRONBEEKqky2vOfRKjdrHLgKen3/+GdnZ2bhy5Qp8fX0BAI6Ojpg8eTI++ugjhIeH610uJCQEiYmJkMvlwrQBAwagSZMmWLp0KX777Tet+YOCgtC1a1fr7Ugt5y/3x/2c+1rT8krz0MSriY1KRAixZ7a85tADXu1jF1Va+/btw4ABA4RgBwDGjBkDmUyGffv2GVzOxcVFK9gBACcnJ4SHhyM1NdVq5bVXNOIqIaQ62fKaQwP+1T52EfDcuHFDJ4sjk8kQGhqKGzduVGhdhYWFuHz5st6s0BdffAGJRAJPT0+MHz8e9+/f17OGZ5o0aWL0z97QeBCkLkrLT8Phu4ex4doGHL57mNpwVCNbXnPoAa/2sYsqrezsbHh6eupM9/LyQlZWVoXW9fHHH6OoqAizZ8/Wmv7iiy9i2LBhqFevHq5du4bPPvsMPXv2RFxcHLy8vKpSfLtC40GQusTWvYSI7a45fLC15+YelChL0KZeG7QNbEsPeDWYXQQ8ANeLqjzGmN7phqxfvx7ffvstfvjhBzRt2lTrs1WrVgn/37t3b/Ts2RPt27fHL7/8gvfee0/v+u7evWv2tgkhtQ81XK3b6AGvdrGLKi0vLy9kZ2frTM/JyTE7+/LHH3/gpZdewrvvvovXX3/d5PyRkZEICwvDxYsXK1xeQoh9oIarhNQedpHhCQ8P12mrU1paisTEREyfPt3k8ufOncPo0aMxbtw4fPnll2ZvlzFW4bKSmoMGDatbrPF9U89EQmoPq2V4FAoFRo4caa3Va4mOjsbhw4eRmZkpTNuxYwdKS0sRHR1tdNkbN24gOjoaPXr0wG+//WZ2FdiVK1dw69YtdOrUqUplJ7ZBg4bVLdb6vqnhKiG1h9UyPGq1Gnv37rXW6rXMmjULS5cuxciRI/HJJ58IAw9OnjxZq7fVjBkzsGrVKiiVSgBAeno6Bg8eDIlEgnfffVerekomk6Fdu3YAgCVLluDu3bvo06cP/P39ce3aNXz++edo1KgRXn755WrZR2JZ1PaibrHW911TGq5StpIQ06oU8JSVldWI0YY9PT1x5MgRzJkzB6NHj4ZcLsfEiRN1qqdUKhVUKpXw7/j4eDx48AAAN+CgpuDgYCQnJwMAwsLCsG3bNmzcuBH5+fnw8/NDTEwMFi5cqLd3GKn5qO1F3WLN79vWDVeppxgxV10PjKsU8Li4uKBFixZo06YNIiMj0aZNG7Rp08Ym75hq3rw5Dh48aHSelStXYuXKlcK/+/bta1Y7nOHDh2P48OFVLSKpQajtRd1iz983ZSuJOSoSGNtrYFSlgCchIQFXr15FXFwcTp8+jZ9//hnJycnw8fFBRESEpcpIqsheT96qaOnXErezbiO3NBcSBwluZ92Gr9yX2l7YKXv+vilbScxhbmBszxnDKgU8oaGhCA0NxahRo4Rp+fn5uHr1Kq5evYrmzZtXuYCkauz55K0Kc9teULBoH2pKWxtrsOfsFbEccwNje84YWrzRspubG3r06IEePXpYetWkEuz55K0qU20vKFi0L7Zua2Mt9py9srS6/ABjbmBszxlDuxiHhxhmzyevtVGwqJ+5N426fHOpTvacvbKkuv4AY25gbM8ZQwp47Jw9n7w8a91YKVjUZe5No67fXKqbvWavLKmuP8CYGxibExjV1ocZqwU806dPR8+ePTF16lSIxWJrbYaYYC/pbkM/MGveWM0NFmvrj78yzL1p1PWbC1C3zovagB5gzAuMTQVGtflhxmoBD2MMGzZswDfffINr165ZazPEhJqY7q7ojcDYD8yaN1Zzn3Rq64+/Msy9aVjr5lJbggjqAlzz1IVst6UYC4xq88OM1QKe3377DQC0BvojtqHv5LXVRbYyAYKxH5i1B5QzFSzW5h9/ZZh707DGzaU2BZd1uQtwWn4aErMT9WZjbRnY2Uu229Zqc6bM6m14qDrLOqpy8aiui6y+C19lAgRjPzBrP7WZSgHX5h9/ZZh707DGzaU2BZd1tQtwkaII++/sR15pnta1pUNgB1xIvWDTwK4mZrtro9qcKavSy0NjY2PRtGlTeHl54eWXX4ZCoQDAvVhz4cKF6Nq1q0UKSbRV9UWImhfZ3Td3o4lXE+SU5CA+I95iZeQvfOXLeDPzpsEbQVp+Gg7fPYwN1zbg8N3Dwv74y/2RX5avtUxeaZ4QRNny5Y3GymZof2oz/qbh7ewNiViCNvXaIKZ5jM5NQ998Het3xPX065U+HrUpuDR2XmiqTftkjqziLGQVZ+lcW/64+4fVrznm4B9gmno3RVRIFAU7lWDra25VVCnDM2fOHEyePBk9e/bE4sWLMWfOHJw7dw5JSUmIiorC1KlTLVVOoqGqT4XVcZHlL3wn7p3QKqOaqaFmaq1580rz4CHzMJh1MpYtCHANsOlTm6Gy+cp97a6qgmdujyDN+Vr4tsCfd/+s0vGw1pOlNapa6moX4BJlid5rS9zjOLT0bakz3ZLXnCJFEWKTYpFdmk1toayoNmfKqhTwJCcn49NPPwUAtGrVCg0bNsR//vMf/OMf/4BEIrFIAYmuqgYs1XGRNXThU6gVcBA56NwIRCKRwSCuf5P+Rn9gtuySa+jHfz39ul1VVVRVwpOEKh8Pa1STWat6t/x50ci9ESRiCWKTY7VuxvbWrsTJ0UlvZivYI1jvdEtdc4oURbiXew8X0y7Cy8nLrh4waiL+mlukKAIAnfO6pqpSlZaDw7PF69evDxcXF7zzzjsU7FiZuelyQ6ojJWnowhfmE6a3SkTJlEaDuJqcitZXNnurqqgqSxwPc6vTKsKa1bv8eVHfrT5yS3NxN/uuThW0Nar+bMnb2RseMt1ry6DQQVa95mQVZ6FEUYJj947ZtMqsLtEMMivTtMIWqpThKSgoQOvWrdG2bVu0bdsWIpEI2dnZ8PLyslT5iB5VfSqsjpSk5oWvfBm9nLx0MjI1ObVfpChCVnEWNl3fhAZuDcx6iqnJ+2MJFT0mfJsmTZU5HpbI5mlWfVx7fA2uEletz6urepfPblm66s+W5BI5BoUOwv47+3WuLR4yD6tdc0qUJZCKpVrT6vIDRnXQDDId4FArsthVCniSkpIQFxcnvC29Xr168PX1RUBAAFq3bo2IiAgsWbLEUmUlT1kiYLF2NZCxC1+pslRn/pqa2k/LT8O93HsoUZQgpzgH6QXpZt2Aaur+WEJljkkL3xZIzk02eTzS8tNw4t4JxKXHAQxoE9AGvYJ6WewCWr7q40nhEyQUJ6BUVQqZmPsNVFf1rubNmA8gl11chqyiLNzJugOZWFYrbiLlBbgG6L22WPOa4+TohPzSfMghF6bZ0wNGTVQbg8wqVWkFBwdjxIgR+OSTT7B161bcvn0beXl52Lp1K5577jkUFhZaqpwm3bp1C0OGDIGLiwv8/f3xz3/+E8XFxWYtu2rVKrRo0QJOTk6IiIjAli1bdOZRKBT44IMPEBgYCLlcjqioKFy9etXSu2G2mlzFw+MvfPrKWKQoQkpeCjZd34TDdw8DgMWrKywh4UkCShQlSC1Ixd7be81OlVuj+qWmqMwxMed4pOWnYd3Vddh0fROup1/HjYwb2Hp9Kzb8vUErO1T+3KlICr181UfnBp0hggiPCh5Ve/UuXwXNB5AZhRl4lP8ImUWZyCjMQKmKezCo6TeRmsDb2RsyRxlySnJqXc+h2srJ0QllqjKtaRVpWmELZmd4UlJSIJPJ4OfnJ0wrLS1FXl6e1jQXFxd069YN3bp1s2xJjcjJyUG/fv0QHByMbdu2IT09HW+//TYyMzOxdu1ao8tu3boV06ZNw/vvv49BgwZh586dGD9+PDw8PDBo0CBhvrfeegurV6/G119/jcaNG+Orr75C//798ffffyMgoPbfxKpTWn4abmfdRnZxNg7fPQwnsROa+zbHmPAxNe59QOlF6ZV+irHX9xtV9piYOh7xGfFIyEzA34//RmZJJoLcgxBZLxK3Mm8JGY7KZtx45Z9KvZy90CGwAxKzE4VArDqrdwHtAFLFVGjp1xJKtVIIkihTYZpcIkcj90bILslGmaqsVvUcqq28nb2RV5qHnJIcOImdakUW2+yAZ8aMGejatavQK2vevHn4z3/+g9LSUri6umLMmDGYM2cO2rVrZ7XCGvLzzz8jOzsbV65cga+vLwDA0dERkydPxkcffYTw8HCDy37yyScYN24cFi9eDACIiopCQkIC5s6dKwQ8Dx8+xE8//YTvv/8er7zyCgCga9euCAkJwbfffosvvvjCqvt3O/E2zlw+g7TMNAT6BKJru64ICg6y6jat6dSDU3ic/xhZpVk4+/AsujTogrMpZxHoWvNS9v5yf71PMXX5BmStY5JelA61Wg1Hh2eXJbmjHAqmEIKp8tmlVzu8WqEqH31VHw4ODqjvVh8N3RtWe/Uuv998EOYqdYVcIkeZqgwFZQW14iZSU8glcsilcohFYrt6wKipamOQaXaV1uXLl4Wszb59+/DZZ5+hQ4cOeOuttzBs2DDs3r0b3bp1w/Lly61WWEP27duHAQMGCMEOAIwZMwYymQz79u0zuFxSUhISEhIwceJEremTJk3CuXPn8OTJEwDAoUOHoFKpMGHCBGEeNzc3DB8+HL///ruF90bb7cTbWLN3Dc7dPoe84jycu30Oa/auwZ3EO1bdrjXFpceBgaFUWYqMogzUc6kHBsa126hhWvi2gMxRhjJVmdFUOQODWq2GslQJxpiNSmsZjDEoS5UG98XcY1JRfnI/iJgICrVCmFakLIKjyFFIk1cl4wbor/rwcPKAt7N3lcpuirHqXc0AUuYoQ7uAdpA5yuDs6FyhqlB7OgdrO1O/IXshl8jRwL1BjW5aocnsDE9eXh48PDwAAGvWrMHYsWOxefNm4XOFQoGPPvoIs2bNQpMmTRAVFWX50hpw48YNTJ8+XWuaTCZDaGgobty4YXQ5ADoZoJYtW4IxhoSEBPTs2RM3btxAvXr14O3trTPfunXroFartbro85o0Mf7Ee/fuXaOfA8CZy2eQXZSNlg25QbsaoAHiU+JxLu4c4Gxy8RpJxESAnmuAiImqvzAmBLoFopF7I9zLvQeJg+EqD6ZmeHDyAQ7uO4gR34+Ao8zqb22xGlWZCvv/sR8AMPT7oTr7Yu4xqagwjzAojyuR55KHMnkZckpyUFBWgDYBbYRgqqrZJX1PpeF+4bicdrlKZa+K8gFkZnEm/F38EeQRVKFMhT2dg7Wdqd8QsQ0RMzP8rF+/PlasWIEhQ4bA398fa9asweDBg3Xme+GFF5CRkYGDBw9avLCGSCQSfPbZZ3j//fe1pvfs2RP+/v7Yvn273uXWrVuHF154AWlpaVrtcO7cuYNmzZph165dGDFiBF555RWcOHECCQkJWsv/+uuveOWVV5Cbmwt3d3ed9ZsKeAYPHoyHDx8anefOvTtQqpRwkjoJ00rKSiB2EKPImRv0qbV/aziIDCfr1EyNv9P/1ppX3zRL0FxvK79WuJ5xXWcbKXkpXNWEktuPei71oGZqBLoG4knxE71lMlbeyu6LOcupmRp/P/4bWcVZ8Hb2Rut6uvPx8xRnFSNYEYyA1gEQOYisdoyrylS5mJoh/W8uY+Lf2h8iB5Hu8iaOib7tADC53QfXHuCu5C5KJCVwcnRCM+9m8JX7Cjf9IkURLqddRkFZAVykLghwDYBULEU9l3omAwOhPPwVT2ReuUwxdDzN+S3w811Ju4LMkky4SFzQxKsJUvNTIXYQm10eQ+dgdTFnX61+zSn3vZpzTla1DIbWZ+o3ZGnm7pel5qvIMa8ODRo0wLJly0zOZ3bY2blzZyxfvhwPHz5EZmamVvWRpokTJ2Ly5Mnml9RCRCLdE4oxpne6qWX5GFBzuqH1G/oMMC+DY8qarVx1Fp/hAYD4lHh0btYZzz/3PABAKpYa3U/GmPBUzM+rb5olaK5X4iARqic0t5Gal4rVcatx48kNMMYgd5SjuV9zTIyYKFQtlC+TsfJWdl/MWY4xruqtTFUGqVgKmaNM7/mSfjcdB/5xAKyEocfsHghoEwDXAFerHOOqMrXfylKl0adTc46Jvu0AMLndff/YBwUUiPoqCnK5XGfdjDEk5yTj78d/I6ckB/Xd6yPCP8K8Kp+n5dH83ZpTLnPXW355c34L/Hyax1Mqlhqc11gZ9J2DboFuJpe1BHP21drXnPLfqznnZFXLYGh9pn5Dlmbufllqvooc85rE7G/h/fffR9++fbF9+3aEh4fjzTffxK5du3SqefLy8lBWVmZgLdbh5eWF7Oxsnek5OTlGGyzzAyRmZ2ejXr16Wstpfm5s/RKJBC4uLlUpvlFd23XF7Ye3EZ8SDw9nD+QW58JL7oXu7bubneoWiUQ68+qbZgnl1ytz0N1Gfff6mNp2qtb7i/j3Ypm7XnM/q0hZDc3jJHGCk8TJ4DwFjwrw4I8HUGQp4CBxwOO4x8h/mI9m0c2q7YZTEVX97s05Joa2Y/J4QwQppHB3coejRPfyJBKJEOIVghCvkEqV29D2q3o89C1vzm+Bn6/88TQ0ryG2PgfN2dfquuZYal5brM/a5bDUfDVlvyvK7ICna9euSEhIQGxsLEaOHInvv/8erVq1wuzZszF48GAEBAQgPj4eH374YbX31AoPD9dpq1NaWorExESdtj3llwO4tjwtWrQQpsfHx0MkEgnTwsPDkZ6ejqysLK0ALz4+HmFhYXrb71hKs9BmmDJsitBLK6xhGLq3747QJqFW22Z14EeYtQcZ8RkoyS2BzIO7AHg380ZOUg4y4jNqZMBD7A+dg4SYVqE8W+PGjfHSSy8BAObPnw+ZTIbPPvsMc+fOFeZxcnLCmjVrLFtKE6Kjo/HZZ58hMzMTPj4+AIAdO3agtLQU0dHRBpcLCQlBixYtsGnTJowaNUqYvmHDBnTu3Fmoths0aBAcHBywefNmvPrqqwC412rs2bMHL7/8shX3jNMstBmahTaz+nZI5RSlF0Hqpt1zSOYuQ1F6kY1KROoaOgcJMa1KFYsffPABXn75ZRw4cADJycnw9PTEqFGj0LBhQ0uVzyyzZs3C0qVLMXLkSHzyySfCwIOTJ0/WqtKaMWMGVq1aBaVSKUxbsGABxo8fj9DQUAwcOBC7du3CoUOHcODAAWGeBg0a4NVXX8W///1vODo6Ijg4WHhlxptvvllt+0lqJrm/HLkPc9FhZgcAgIOjA0rzSuHVhN4pR6oHnYOEmFblllR+fn6YMmWKJcpSaZ6enjhy5AjmzJmD0aNHQy6XY+LEifjyyy+15lOpVFCpVFrTxo0bh6KiIixatAhLlixB06ZNsWnTJq1RlgHgm2++gaurKz7++GPk5uaiS5cuOHz4MI2yTODX0g85yTnIScqBzF2G0rxSOHk6wb9VzR1indgXOgcJMc3sbumEEMPy0/KREZ+BovQiyP3l8G/lD9cAV9ML1kDV3cPE1tu1F/Z0DtZ2dC7XTPQtEGIBboFu1DiU2BSdg4QYVzNGQiOEEELsRH5aPvJS8pB1JwtJsUnIT8u3dZEIKOAhhBBCLCY/LR+JBxJRnFUMlUKFx3GPcXvfbQp6aoAqBTwLFizAZ599hpKSEkuVhxBSR9FTMbEHmmMiSeQSeDfzRklOCTLiM2xdtDqvSm145s+fD5FIhDfeeANOTsZHXSWEEEM0n4prw2jVhBhCYyLVXFUKeE6fPg2A6xZOCCGVRSMFE3tBYyLVXFUKeLp06WKpchBCagi+aklZokRSbFK1vISSnoqJvaAxkWou6pZOCBHYqmqJnoqJvXALdEOz6GbCmEheTbxoTKQaggIeQojAVlVL9FRM7AmNiVQzmd1Lq6CgAIsWLcKlS5esWR5CiA3ZqmqJfyoOaBsAmasMAW0D0DymOT0VE0IsxuwMzw8//IDPP/8cY8aMsWZ5CCE2ZMuqJXoqJoRYk9kZnu3bt2P69OkICwszOM+RI0cQFRWFuLg4ixSOEFK9/Fr6wdnLGTlJOSjOLEbW7SyqWiKE2AWzA574+HgMHjzY6Dz9+vVDUVER1q9fX+WCEUKqH1UtEULsldlVWiqVCm5uptPN48ePx8aNG6tUKEKI7VDVEiHEHpmd4QkMDERiYqLJ+Vq3bo379+9XqVCEEEIIIZZkdsDTp08frFq1yuR8YrEYOTk5VSkTIYQQQohFmR3wvPrqq/jrr7+wcOFCo/PFx8fDz8+vygWriH379qFdu3ZwcnJC06ZN8eOPP5pc5tatW5gzZw5atmwJFxcXBAcHY8aMGXj06JHWfEePHoVIJNL5mzBhgrV2hxBCCCEWZnYbns6dO+O9997D3Llzce3aNSxcuBBNmzbVmicjIwP/+c9/EBUVZfGCGnL69GmMHDkSL774Ir755hucPHkSc+bMgVQqxcsvv2xwuUOHDuHYsWOYOXMm2rZti5SUFMyfPx/dunXD33//DVdX7Uaav/32G1q0aCH829fX12r7RAghhBDLEjHGWEUWmD9/Pj7//HMwxtCrVy+0bdsWgYGBuHfvHjZv3ozCwkJcuHABLVu2tFaZtQwdOhRZWVk4e/asMG3mzJnYu3cvUlJS4OCgP4n15MkT+Pj4QCQSCdOuXr2KNm3aYOXKlZg6dSoALsMTFRWF8+fPo2PHjtbdGUIIIYRYRYVfLTF//nwMHz4cCxcuxP79+3Hs2DHhsyZNmmDz5s3VFuyUlpbiyJEj+OKLL7SmT548Gb/88gsuX76MDh066F1WX4amdevWEIvFSE1NtUp5CSGEEGIblXqXVocOHbBjxw4UFRXh+vXryMnJQUBAAFq3bm3p8hmVmJiIsrIyhIeHa03nA64bN24YDHj0OX36NFQqlc76ACA6OhqZmZkIDAzExIkTsWDBAjg7OxtdX5MmTYx+fvfuXbPLRgghhJDKq9LLQ+VyOTp16mSpslRYdnY2AMDT01NrupcXNwx+VlaW2etSKBR48803ERYWhmHDhgnTPTw88N5776F3795wdnbGkSNHsGTJEty4cQN79+6t+k4QQgghxOpq3NvSc3NzkZaWZnK+kJAQ4f812+FoMjRdn9mzZ+PatWs4fvw4HB2fHZZ27dqhXbt2wr/79euHwMBAzJ49G+fOnUPnzp0NrpMyOIQQQkjNUOMCnh07duCll14yOd/ly5eFTA6f6eHx/+Y/N+XTTz/F8uXLsX37drMaJj///POYPXs2Ll68aDTgIYQQQkjNYPY4PNVl2rRpYIyZ/Gvbti1CQ0MhlUpx48YNrXXEx8cDgN62OOX9+OOPmD9/Pn788UeMGDHCKvtECCGEENuqcQFPRchkMvTr1w+bN2/Wmr5hwwYEBgZqVUXps3HjRsyZMwcLFizAzJkzzd4u/64wW7ZfIoQQQoj5alyVVkXNnTsXvXv3xiuvvILJkyfj5MmT+OWXX/Dzzz9rjcHTtGlTBAcH4/DhwwCAY8eO4cUXX0SvXr0wcOBAnDlzRpjXz88PoaGhAIAXXngBTZs2Rfv27eHk5IQjR47g//7v/zBy5Egal4cQQgipJWp9wNOtWzfs2rULH374IVavXo2GDRvi+++/1xllWalUQqVSCf+OjY2FQqHAsWPH0K1bN615p06dipUrVwIAWrVqhXXr1uHrr79GaWkpQkJC8OGHH+KDDz6w+r4RQgghxDIqPNIyIYQQQkhtU6vb8BBCCCGEmIMCHkIIIYTYPQp4CCGEEGL3KOAhhBBCiN2jgIcQQgghdo8CHkIIIYTYPQp4CCGEEGL3KOAhhBBCiN2jgIcQQgghdo8CHkIIIYTYPQp4CCGEEGL3KOAhhBBCiN2jgIcQQgghdo8CHkIIIYTYPQp4CCGEEGL3KOAhhBBCiN2jgIcQQgghdo8CHkIIIYTYPQp4CCGEEGL3KOAhhBBCiN2jgIcQQgghdo8CHkIIIYTYPQp4CCGEEGL3KOAhhBBCiN2jgIcQQgghdo8CHkIIIYTYPQp4CCGEEGL3KOAhhBBCiN2jgIcQQgghdo8CHkIIIYTYPQp4CCGEEGL3KOAhhBBCiN2jgIcQQgghdo8CHkIIIYTYPQp4CCGEEGL3KOAhhBBCiN2jgIcQQgghdo8CHkIIIYTYPQp4CCGEEGL3KOAhhBBCiN2jgIcQQgghdo8CHkIIIYTYPQp4CCGEEGL3KOAhhBBCiN2jgIcQQgghdo8CHkIIIYTYPQp4CKnlvv/+e4hEIkRERNi6KDbRt29f9O3bt1LL/vjjj1i5cqXO9OTkZIhEIr2fEUJqJwp4CKnlVqxYAQC4fv06zp49a+PS1C6GAp7AwECcPn0aMTEx1V8oQohVUMBDSC124cIFxMXFCTfm5cuX27hE9kEmk6Fr167w8/OzdVEqhDGG4uJiWxeDkBqJAh5CajE+wPniiy/QvXt3bNy4EUVFRTrzPXz4EDNnzkSjRo0glUpRv359jB07Fo8fPxbmycnJwTvvvIMmTZpAJpPB398f0dHRSEhIAAAcPXoUIpEIR48e1Vq3vuqfadOmwdXVFQkJCRg8eDBcXFwQGBiIL774AgBw5swZ9OzZEy4uLmjevDlWrVqltc758+dDJBLp7MfKlSshEomQnJxs9Lh8+umn6NKlC7y9veHu7o727dtj+fLlYIwJ8zRu3BjXr1/HsWPHIBKJIBKJ0LhxY4P7BAB//fUX+vfvDzc3N8jlcnTv3h2///673jLGxsbitddeg6+vL3x8fDB69GikpqYaLbfmsbt+/Tr69+8PFxcX+Pn5Yfbs2TrfrUgkwuzZs/HTTz8hPDwcMplMOJbmlBUw79zIy8vDv/71L4SEhEAqlaJBgwZ48803UVhYqLWuLVu2oEuXLvDw8IBcLkeTJk0wffp04XO1Wo2FCxciLCwMzs7O8PT0RGRkJL777juTx4WQqnK0dQEIIZVTXFyMDRs2oFOnToiIiMD06dPx8ssvY8uWLZg6daow38OHD9GpUycoFAp8+OGHiIyMRGZmJg4ePIjs7GzUq1cP+fn56NmzJ5KTk/Hvf/8bXbp0QUFBAY4fP460tDS0aNGiwuVTKBQYPXo0Xn31Vbz77rtYv349PvjgA+Tl5WHbtm3497//jYYNG2Lp0qWYNm0aIiIi0KFDB4scm+TkZMyaNQtBQUEAuABrzpw5ePjwIebOnQsA2LFjB8aOHQsPDw/8+OOPALjMjiHHjh3DwIEDERkZieXLl0Mmk+HHH3/E8OHDsWHDBowfP15r/pdffhkxMTFYv349Hjx4gHfffRcvvPACjhw5YrL8CoUC0dHRmDVrFt5//32cOnUKCxcuxL1797Bnzx6teXfu3IkTJ05g7ty5CAgIgL+/v9llNefcKCoqQp8+fZCSkiLMc/36dcydOxd///03/vzzT4hEIpw+fRrjx4/H+PHjMX/+fDg5OeHevXta+/vVV19h/vz5+Pjjj9G7d28oFAokJCQgJyfH9JdKSFUxQkittHr1agaA/fTTT4wxxvLz85mrqyvr1auX1nzTp09nEomExcfHG1zXggULGAD2xx9/GJwnNjaWAWCxsbFa05OSkhgA9ttvvwnTpk6dygCwbdu2CdMUCgXz8/NjANilS5eE6ZmZmUwsFrO3335bmDZv3jym7/L022+/MQAsKSlJmNanTx/Wp08fg+VWqVRMoVCwBQsWMB8fH6ZWq4XPWrVqpXdZffvUtWtX5u/vz/Lz84VpSqWSRUREsIYNGwrr5cv4+uuva63zq6++YgBYWlqawbIy9uzYfffdd1rTP//8cwaA/fXXX8I0AMzDw4NlZWVpzWtuWc05NxYvXswcHBzY+fPntaZv3bqVAWD79u1jjDG2ZMkSBoDl5OQYXNewYcNY27Ztje4/IdZCVVqE1FLLly+Hs7MzJkyYAABwdXXFuHHjcOLECdy+fVuYb//+/YiKikJ4eLjBde3fvx/NmzfHgAEDLFY+kUiE6Oho4d+Ojo5o2rQpAgMD0a5dO2G6t7c3/P39ce/ePYtt+8iRIxgwYAA8PDwgFoshkUgwd+5cZGZmIj09vcLrKywsxNmzZzF27Fi4uroK08ViMaZMmYKUlBTcvHlTa5kRI0Zo/TsyMhIAzN7PyZMna/170qRJAIDY2Fit6f369YOXl1elymrOubF3715ERESgbdu2UCqVwt/gwYO1qjg7deoEAHj++eexefNmPHz4UGddnTt3RlxcHF5//XUcPHgQeXl5Zh0LQiyBAh5CaqE7d+7g+PHjiImJAWMMOTk5yMnJwdixYwE867kFABkZGWjYsKHR9ZkzT0XJ5XI4OTlpTZNKpfD29taZVyqVoqSkxCLbPXfuHAYNGgQA+OWXX3Dy5EmcP38eH330EQBUqlFvdnY2GGMIDAzU+ax+/foAgMzMTK3pPj4+Wv/mq8vM2b6jo6PO8gEBAXq3U75MFSmrOd/748ePcfXqVUgkEq0/Nzc3MMbw5MkTAEDv3r2xc+dOKJVKvPjii2jYsCEiIiKwYcMGYV0ffPABlixZgjNnzmDo0KHw8fFB//79ceHCBZPHhJCqojY8hNRCK1asAGMMW7duxdatW3U+X7VqFRYuXAixWAw/Pz+kpKQYXZ858/DBS2lpqdZ0/oZnSZrb0mxXY862Nm7cCIlEgr1792oFXDt37qx0eby8vODg4IC0tDSdz/iGyL6+vpVef3lKpRKZmZlaQc+jR48A6AZS5Rt3V6Ss5nzvvr6+cHZ21gqiy3/OGzlyJEaOHInS0lKcOXMGixcvxqRJk9C4cWN069YNjo6OePvtt/H2228jJycHf/75Jz788EMMHjwYDx48gFwuN1oWQqqCMjyE1DIqlQqrVq1CaGgoYmNjdf7eeecdpKWlYf/+/QCAoUOHIjY2VqfKRdPQoUNx69Ytow1q+R5MV69e1Zq+e/fuqu+Umdsq32BXH5FIBEdHR4jFYmFacXEx1qxZozOvTCYzK+Pi4uKCLl26YPv27Vrzq9VqrF27Fg0bNkTz5s1Nrqci1q1bp/Xv9evXA4DJQRYrUlZzzo1hw4YhMTERPj4+6Nixo84f/11pkslk6NOnD7788ksAwOXLl3Xm8fT0xNixY/HGG28gKyvLZM87QqqKMjyE1DL79+9HamoqvvzyS703v4iICPz3v//F8uXLMWzYMCxYsAD79+9H79698eGHH6J169bIycnBgQMH8Pbbb6NFixZ48803sWnTJowcORLvv/8+OnfujOLiYhw7dgzDhg1DVFQUAgICMGDAACxevBheXl4IDg7G4cOHsX37dovvY3R0NLy9vTFjxgwsWLAAjo6OWLlyJR48eGBy2ZiYGHzzzTeYNGkSZs6ciczMTCxZskRvD6zWrVtj48aN2LRpE5o0aQInJye0bt1a73oXL16MgQMHIioqCv/6178glUrx448/4tq1a9iwYYPebvSVJZVK8fXXX6OgoACdOnUSemkNHToUPXv2NLm8uWU199zYtm0bevfujbfeeguRkZFQq9W4f/8+Dh06hHfeeQddunTB3LlzkZKSgv79+6Nhw4bIycnBd999B4lEgj59+gAAhg8fjoiICHTs2BF+fn64d+8evv32WwQHB6NZs2YWO36E6GXTJtOEkAp77rnnmFQqZenp6QbnmTBhAnN0dGSPHj1ijDH24MEDNn36dBYQEMAkEgmrX78+e/7559njx4+FZbKzs9k///lPFhQUxCQSCfP392cxMTEsISFBmCctLY2NHTuWeXt7Mw8PD/bCCy+wCxcu6O2l5eLiolOuPn36sFatWulMDw4OZjExMVrTzp07x7p3785cXFxYgwYN2Lx589ivv/5qVi+tFStWsLCwMCaTyViTJk3Y4sWL2fLly3WWTU5OZoMGDWJubm4MAAsODmaM6e+lxRhjJ06cYP369WMuLi7M2dmZde3ale3Zs0drHr6XVvleTYZ6uZXHH7urV6+yvn37MmdnZ+bt7c1ee+01VlBQoDUvAPbGG2/oXY85ZWXMvHOjoKCAffzxxywsLIxJpVLm4eHBWrduzd566y3hHNu7dy8bOnQoa9CgAZNKpczf359FR0ezEydOCOv5+uuvWffu3Zmvry+TSqUsKCiIzZgxgyUnJxs9JoRYgogxjZG4CCGE2NS0adOwdetWFBQU2LoohNgVasNDCCGEELtHAQ8hhBBC7B5VaRFCCCHE7lGGhxBCCCF2jwIeQgghhNg9CnhspE+fPsLYFIQQQgixLhp40EYePHiApKQkiw5WRgghhNQ15jZFpoDHhho0aGCVYfkJIYQQoo0CHhuSSqVo3769rYtBCCGE2D1qw0MIIYQQu0cBDyGEEELsHgU8hBBCCLF7FPAQQgghxO5RwEMIIYQQu0cBDyGEEELsHgU8hBBCCLF7FPAQQgghxO5RwEMIIYQQu0cBDyGEEELsHgU8hBBCCLF7FPAQQgghxO7Ry0MJIYRUnUIJlCkAqQRQqwGZ1NYlIkQLBTyEEFLTqFTA4yxA7AB4ugEiEaBSAxIxIBZz/65J1Grg/DUu6OE1CgBCGmiXVa3m/l3Tyk/qBAp4CCGkpnnwGLiXqv8zsRjwcgO83AEvD8BJCjAGlJRx/+9gg5YKpWXawQ4APHjElclNDhSVAHkF3H99PYFWTau/jKTOo4CHEEJqmqJiw5+pVMCTHO6vPFc50KGltUplGB/syKRAx1ZAQhKQmQNkZHF/mjJzuQCtslme0jJueQDIyQdKSoGsXKBRIODnVeldIPaPAh5CCKlpSsu4/7ZsAvh4PgsOVCqgqBTIzgWy84C8wmc3fwAoKOKqjao7y8MHPBJHwFEMNA3i/l+l4qY7yQB3F+DGXUDNuCDFScZlfMoUXHUdGAARt285+dwxcHPh9qWgiJuHMW7/9Hn4mAIeYhQFPIQQYmvFJUByKnczd3TkAhmAy5hoBi+OjoC7Ixc8BNfnAgo1A8CAU3HcPCpV9Qc8yqeBjeTpLcVJCoQ11p3P2QkoLAbibgJK9bOAyJCcfOOfO8m4/5aUArkFwP00wMMV8HCrUPFJ3UABDyGE2FpqBpCepTudv6EbIhYD4qf/7+DABUxKFSCRWLyIBqnVXLYJ4AIyY/y9gaSHQKmC+7dIBDjLuP0oLeMCIE93rp2PTMoFgsWlXAAjdeTmk0kBMC7jI5Ny2z9xiVtf0kPumHVpba29JbUYBTyEEGJrSo0Gvx6uXFWOuyvXxdtcjmKgTM1lTkwpU3Dzi0Tc/ytVXLshR0fur+Bphkn9tBqpVME1QBY7cGVTq7ksVG6+dmNliYlbSlAgUN8PyC/ituvtbjw483I3sr9P/+vgwFWhpaY/qyIjRA8KeAghxNb4IKVpENDAv3LrcBQ/bQ+jfNZrSiR6Oj5OGZCdD+QXcsEN30aoMh5n6t+2izMQ6GtGOR2NBzKV0cCfywqduardpokQDRTwEEKIrfFtWRzFxuczRvx02bhbFV/WwYELWPhAyd31WXlE4KqOnGTcZwWF3LZc5Vw2ytmJy+zYemwdvt0SY1XrBUbsFgU8hBBia3yjX3EVAp7ywZJYDIBx1WJSCSB3BjxdAakUkDs926aT9NlggHx2pDYGCw4aZVapqxY8ErtEAQ8hhNiakOGpQu8qzRt+10jTr3bQ1z6oNgY6PM2eaWo1nrXmJoRDAQ8hhFSXrFyuYa1CyfVO8nLn2rRYIsPTKJDLbPh61c33WGlmqQyN1UO445Nf+Kwakw9yFUquR1yZguvmX1TMNVRvGsRlBO0ABTyEEFIdCoqAv28bn6cq1TAerkCbsMovbw/EDlzwSAGPYbn5z9p5OThwgXdp2bOgu7zHmdw70eyADV66QgghdYxKDWRkP/u3v7fuU7NIZLpbNzGOr9ZSUU8tg4pLn/2/Ws0NBMkHO1IJ4OrMvf+MZ2pwyFqEfl2EEGItZQrg+p1nIycDQOP63CjJAHczKVNwowQ7y0wP3EeM4wMeyvAYxh8bXy/uXCwp5apA+QEgefdSn43+bScow2OmnTt3okuXLnB3d0e9evUwevRo3Lx509bFIoTUZDl5z4IdiSP3XqwAjbFqxGKuW3eAL70OwRLEFPCYpH6a/RI/bcPj48kNMVC+/ZiQLbOfY0kBjxn+/PNPjB49GmFhYdi2bRv++9//4ubNmxgwYADy8vJsXTxCSE3FDyjo4wF0awNENK2bDYqrC99TLTcfSHnMjb6ckcW9k4sPgvhxeuoq/jg4mOiRxwdAdhTwUP7UDBs3bkRwcDBWrVoF0dMW7cHBwejSpQtOnjyJoUOH2riEhJAaSehuXgMG5qsL+KzEvTTdz8TiZ6NRO4qBTq2q951jNQUfwJh6wSyfLbOjNjyU4TGDQqGAm5ubEOwAgKenJwCA1eUnBUKIcUoLjKBMzKf5ygp3V+51Ex6uXHWi6ukrNRh7OmJ0sc2KaVN8lZa5AY8dVQ9ShscMM2bMQP/+/bF06VJMmTIFOTk5+Ne//oXw8HD079/f4HJNmjQx+NmDBw/QqFEjaxSXEFJTqCwwvg4xX3B9oEE97mYtKjfycm4+9z3cvsf1TLKjG3mFMDOrtKgNT93Uu3dv7NixAx999BG8vLwQEhKCxMREHDp0CDKZzNbFI4TUVMKAgnSprTb8W+A1iR0Abw8u28Nn2+pqwKM2t0qL2vDUSadOncILL7yA6dOnY8SIEcjNzcWiRYswdOhQnDx5Eu7u+t/8e/fuXYPrNJb9IYTYCUu8FJRYltB1vY42R1BVsEpLoQAepnPjRpUpuCBeBMDTvdaNwEwBjxn+8Y9/oF+/fvj222+FaT179kTDhg3x66+/4u2337Zd4QghNUN+IdcbSKnkno7FYq7qBKAqrZqkro/VY26Gh3/XmkoN3Lmvf56mQUADf8uVzcoo4DFDfHw8RowYoTXNz88P9evXR2Jioo1KRQixOYWC64FVpgAuJxju7qzvRZ3ENvi2K3U+4DHRhkcqASKacWNJFRRxAxSKxdz0vEIue3nnPrceuVOtGEeKAh4zBAcH4+LFi1rTHj16hIcPH6Jx48a2KRQhxHJS04HMXC47o1Zz4+cwNSCTAU5Srk0I/8JPmZR76s3Jf9YQVrPrbgN/Lu1fWMyl/gP9Ac+afzOoM+ywMW6FmJvhAbjxo3w8dKeXlAJn/+b+/9Y97r/twwE3F8uU0Uoo4DHDG2+8gTlz5mD27NkYOXIkcnJysGjRIri6uuKFF16wdfEIIVWhUAK3DaTsSxWAqbFFNYOd0EZAw3oWKxqxgrrQhocfXDG/iKtqFTtw+1tSyr3GBDAv4DHESca9liKvAMh6+gMpLKaAxx688cYbkEql+PHHH7Fy5Uq4urqic+fOWL16NQIDA21dPEJIRWXmcBd+JylQVMJNk0qAZkHcjUCl4jIADiJuvBY147I1So3pzjJuWH7+TdNOMsC9Zl/wCey3Sosx4Hoil3U09OZzTVUdB9PF+WnmU8UFVSWlxufnq3tNDcDJmNUG6aSAxwwikQgzZ87EzJkzbV0UQkhVqVTcjaF8exsPV+6FiuWZapPpKjcxA6lR7LXRck4+F8ibqyoZLrUaiL+r/RvKzgf8irm3sWflcO18+AEfJY7PMkGOYkDuDEjEQJmSa//GGJeFUqq4P5kUaNIQ8NPze6wCCngIIXUHY8CDR88u1F7u3AVWIn72BnNi3+y1SqtIY+TohvW4QNzNhWuXVqbgpjs4ADeTuX8rFJXflkKp+8CQVwBcuG56WaWKm9eYklIuc2phFPAQQuqOnPxn71ny9QRaNbVpcYgNaFZplZQBYFzDc8nT2yE/rIBmtYqlqlkYe9bDSeLIVaNKHLWzToUlXDBSXPp0m4yrPtL3RnNNpRpBTaiRUfx9PIG0jGfzV4bwyhRHri2PoW7rhohEXEaHgXvYEDlw+84HOQ4Oz74PC6KAhxBSd/DtdQAgiNrf1Un8gHqPM7k/nrOMC4D4zIXciQtIyhTPMiR+XoBUygVNDg5c7zu+LUt5RSVAcipQXMLNo1By3bvL9AQaEkeuDVhxKRdw6ePgwAU9Mim3DtHT5UoV3Lr5xvOmupvLng6RkPKYa8NWWMz9lSq4dTjLuP2SSbmApJ63bqDFl1EiBur7cf9fWMxVV6lUXAAjduDW4evJBTISRy5AUiq56fqOmVr9NONqnZftUsBDCKk7+DR+oF+N71FCrKT864AcRFz1VnG5RrdFJdoBMgCkPdFdn7OMe21FaCPtm3TKYyAji/v/gqJn0/m3tjP2LPhRKLk/gPtMJtXO/PCBkqmqIH79xkil3H/V6mddyjWVKZ715AK430z56l6FRoZHJDI9+KDmOFTGRh13cACk1nsNCwU8hJC6g7+pWCFdTmoJHw+gdTMu4PB04wKE0jIuQyGVPOu5x4+SLZNyN2KlEkjPAiACVEqut15eIRcoPUznqoo039bOn2suzlxAJHYAXOSAt7t2FZZSxW1PoeCCEXcX3ewGY1xvweIS7g8AJBKud5TcidsGP5aUk4n3O/p6AtleXPlEIm7/3V247JFIxPXyKi59lv1KTuXK6yjmAhxHMTcPUOtemUK/ekJI3cHfhKR06auzRCIuANEkk3J/PHdX7q+88r34SsuAM1e5/y9fVcVXMTUKAOr56C8Ln9EwNRK3SAS4ybk/LX7P/reohAt4TK1L4gi0DDX8OT9IZsN6wMV47v/vphhelybGnlavqbnAkS87wAV2ufncZ47iZ8GSmwvXtq6wmGusXFzKVbtZIQtLv3pCSO3Etwvgn5YZe9bosaSMu+GUKZ5WV5RwT+P5hdznEnrVg11ijPvuFQru+y4q5r5rmRTwcuNuxvlF3HwN/KveTkQm5dr1ZGQ/C6Z5fMPe6nqPGh9giS1UJSR3evbCULVaf682Bwduv28mcfMVlWoPxMk3Pq5Mjysfz0oX3RAKeAghtU9aBtf+QCoB/L25i2xWrnk9T/inZWJ/7twHUjPMmzfxAZfFUam4jIKPF3cuaVbTsKejExeWPO2pBe4m7vQ0IyQWPwuey3fz5hv28o2gGeOyGAVF3Jg0jHHBQHEJV13l6cqNT1NWBri5cp8xxmVECou5oIF/zUlxKTcfv22507P2PZYKeErKdNswlVdaBjx+wmWWNIlEXNk1e14BXPml0mdBFN+9nc+68a9uUSitMr4VBTyEkNqHb1RZpuAah5YnFnM3MQcHrvrKScbd3JxkXHuHWtb2gJgpJ//Z/3u4PnvvWWkpF1SIHbTfocUHCYXFXBBy+x4XDMtkXHCTV2g8OyGVPMvs3H/ENeZ1EHFBFN8IOt7MF0w/yQGQw/3/o0wjM+qhObulMkqaAzO2avqsbVGZghvgMOkhkJ3H/QHccWveGHB24o5daRl3rEvKALWKC3Q8XLWzamo195AicayW3yQFPISQ2odvL+Hmwl1oHRy4i6mXx7NuuVYanp7UQEolUKyRkejcmssWaFKpnlV/Ps7k/l/0NDjJyX/WSDe/iPvjiURc8CyVcvMqlFx1lVqt224nzUR2SSTigjC5E7fOkjIuCPfx5Nq3lJQ+eyu5+mnmQ/30tSVuLlwQwRjXXdxV/vT/nzaezs7jltP3ss/K4AMep6ddy3kSR24fkh5qz9+ssXZWxtmJ+6+xTI2Dg+73ZEUU8BBCah/+qTq4vuUu8KT2unLzWa8qkehZg1lNmpmPAF/tzwJ8gebB3HmVk88FNgxcRsjXSzf7wBgX9BSXAMkPudcqGNKx1dOBBiXPso761LTzmG+zo6+8jmKgRQgXpMmdud5pLs7VW75KoICHEFL78NUM1NuKAM+CHYDLRlQmu+fwdKA8Qz2qNIlEXKZD4go0DQKu3tLffkziyGVzamO2kc/wGBrIsJ6PeceqBqGrBSGkdsnO0xhPh3pb1XmabU26tTHdLdvS5M5A1zbc//O9xETg2q9YacTgasEfV5H1BgKsbhTwEEJqF370WuDZMPmk7tLsLm3rxugiUbW2SbEqY1VaVcXY05GmldxvWDMo5N+eLpVYPFikgIcQUjMVlzzrAcLAta0oKn7WMLVlaO19eiaWo5nhofPBckxVafHKFEBCEvf/rnKuurmklGvjJH06BpJKBUDEfaZUcb3m+IDKSQq4unD/LS7leoABQHgTbpgAC6KAhxBS8yiUwIXr+gc7A7gGqJ56RsIldY/mjdkWAY9azb1aQqXixuspK+OqtZxlXIPnhvWqv0yWYG6GJzPn2YMJ/1+eqXF8AO5Ylejp+m+F7C0FPISQmqeo5NkF19uDu5HJnbhh76USrpuurasvSM0gBDwVqHrhX9xprNqEr3bRt17+HVj8QIL6Xr3Av4Qz0Lf6Rls2l0r1bDwi/j1ZALe/RSXciORZTwcTNBVEajbW9vHkhongjys/cKOjI9euSSbj2jVJHbljIhJxx6+omBtWQCbhhpZwtU6PLwp4CCE1D98Ly8OVe9EjIYaoKtjWpLAYiLvJZRFlEu4mLRY/aztSXMIFM/x4O05SrqpGKn328k59GQmA65rt5sIF5MlPx6kpUwLONSjgySsErtzgqok1iUQAmO50U1masqfHIrg+0Li+8Xn18fbQfbeZlVDAQwipWQqLuVcEANovdCREn4pmeDR7+ZUqTL+KwlCVC8BlKzTfoVVYrN1FHuACgprUkDk1XTeoAZ69AqO8omLg7FXuTe/8aytUTwddlDo+e61ELehAQAEPIaRmuX7n2U2kJt0oSM1kbuNaHv+OKz9vbsA8voGt+GnVjvPTcXNE4P6dnsUFRiVPXxUhlXLrYGquioZ/C7irM/6/vTePk+Mq771/tfU+uzTarc2yJVm2hXfjQAzYBgwvEBwSlhAMeQOEHRIwSxJw7JcLIdwEDBdsbgDn4nDZXvMCMcvFVsDByAbLuxbb2i1ppNmX3mt5/3jOM6e6prqnu6d7pnvmfD+f/mjUXV19urqqzu88K7o7yY3FTWoBEktBAwa71FwPgEflFebLResfmx/TBEydrFTJOH1vFnqVRB8Ta/1rVQkehULROnAdE4ACPlf3L+x4FK1PrRYeFtO2TQ9NI7EzNEbuKtMU3cHd8Pf7LThTgb/5/1FLxrbsP0xBzRrIIuR6lI3EAgqgMfT3UiE/16XrIBohwc/xP8FYmnyB2jtMZWTMDMcWmQY9nMD3KNqlLqpEjMbpOOJ4gK4/fzNQ06CMqakMfaZpigaoYpvVy6kWUXdHhYPeGijBo1AoWge+2QPAuRtUYLJidnhCL9rAgSNATwfQX6ECMIsSf+NLP7Zd+n/TIPHBE7rtkAXEMslKc2ZkphsrWHW5nFUFkA1NTw/Lfl5+dJ2+Y8SieCLunu4n+P9qiEeBS3fIQGUuAzEyUSrGbAfYdxiIR2jbeEyKHUMHtqyv/bMXCCV4FApF62A78m9j8VR4VVSB69Lk7gkLSL4gLC2etFxwzEzRpviRdFZ0GQdtPzBEDw9ycu4KlC8o+sRIMk4Cp6uDgpe5H5Su0VgMXWYTlcMR2VqrlwMb1tBYs3kKjAbIcrOsR3y2TfuORqRo0jTq2n7iDAkjXZeWmUJRCrpCcWaz0mSc+oB5Hu3bNMhqUyjKXmDc98s0yHozMExxRRERH6dp0o01Pc4iBTc/fZT2ZdvApBCCfqtWm9U9UoJHoVC0Dix4zDYuya8Ih+NWRsZJEBSK9K9pkEWhmpot1cKF8ABKk7ZMwHalGAGA3k7g/HPm/ln+ejWWmFL9wfY9HcDynsr76EzRIwiLnKJNLrGs6KTemRQxNwELqOOQqNF1ElEZW6adx5Mk6gaGaFurgvXUEtlrV3TR/vIFGkO+IIsHDgw1pwpzE1GCpwb+9V//FV/84hdx4MABdHZ24oorrsCPfvSjhR6WQrF4YHeCcmW1N+OT5F7iCZGtMuUygYLoGk3s0QgJX13E2RRsEhW6Ti6Yrg4AHnBKTOIXnENxLZ5H75tMA5OZ8M/wNLIOeR7t2/VIVOi6FAlsSYpFy0/u/J2CAl1keaPoBN9RPRGrtDdYd4VtbQd48ImZLrlyVNOHjltlBJMHMjkSPE6ZOKcWRQmeKvnUpz6Ff/7nf8YnPvEJXH755RgZGcHPfvazhR6WQrG44MlJCZ72ZnBUWlKCRCNUdyViSYsIT6quR+ImFq3ewle0peDp7gAu2iZf47gUdvdELODoKXJBjY7To1o4jkfXaKLP5WX9HiBkvELxHD1JY8jlSQCZhhRYtk1WJ3abdYv4o1Sc/l+0KetLE9/NrDBlZ3NS7LDY4n/DmEtxP74+HYeEbXcHue5a3CqrBE8V7Nu3D7feeivuueceXHfdddPP/9Ef/dECjkqhWIScOEP/WurW1Nawa3JFH7Csm8SCaTQn/ZqtDJpGQiYRk9aYeIwefo6clH8n4yQ2XIcECLuDdJHx5EH0gQK5csKCipmgZUXXqCii44YHR5cgRFM6K6+BShhCNEUjZIHiooiMF/g3jDAXWrWwaHNcGTcViwiLW+ui7ipV8M1vfhObNm0qETsKxaKGA0CZrhRNHIOj9FpXilbp9frwPU9mllimCDJ1ZXbIGpWO3taw4OlMyUDYZsFBvZ4HPLyXJuJknM5Xz6PzK5Ug60jUkmPr6SQX2Gxw7NFkhuJiPI8mfHZ7HTxOE38xIHgsE3AKZP1Y1k2p2wCd45oIioYH6EI8cMbX+JQUWYBwJ2mlgsZx6BEMYma2b6LPN006DoUCMDZFwci6TtWgU4kqDm4ZdB248Fzqo3X0FD0XzExrQZTgqYLdu3fj/PPPxy233ILbbrsNY2NjuPLKK/GFL3wBO3fuLPu+TZs2lX3t+PHjWLduXRNGq1A0gOMDlVeaz52mwMmdWyubsUfG6SYO0GRh6IBhUvXW4ATBWOa8lZpXNIn5jMVyAjEyjksZRhMVUsGB6q2ImsiqikZIuAQ5doqEDQspFmCmCaAArFkR/r4wVvTJjKt8QVhwRKxNURQqdMXrti1jo4pF4NiAHO/yQJfxMEvXXOlI0mMqS8LHnkOs0jyhBE8VDAwMYM+ePXjqqafw1a9+FZFIBDfffDOuvfZaPPPMM+ju7l7oISoUjcW/WuvtouBPjoNIxmkVOpEGnjkGbDmrvOg5eLx89g2n/RZt+X5Dp548LR4LoAhhMiOsED7r3XwIHv9Ee+WFJBS4rgxAVpBcgQRCJi8FUqOqeLOVc3QCuH/PzIKFh58jgd/dQaLDcSi+aXiMjpPjyEBpDZRNViyScOPSDKkEXYeWKevmcK8v2wZSSZmyX23F6UbBv3G1wdILiBI8VeC6LqampvCDH/wA5513HgDg4osvxsaNG3HHHXfgIx/5SOj7Dh06VHaflaw/CsWCwzevrRtp1QnQDVjXSIw89SxluJwapIlj5TJRtdaX3eJPNV65TFhtRHNCTSOXgmnI+iuK9sVxgD17w59vNv6JlmvieCBLSEcCOGsViZ58EUjGgCeeIbHeKIuHP5A4rDpzJkeZY3Mhmyd3cjm4FhEAUk3zyLTgURaeRUFvby9WrFgxLXYAYNWqVdi6dSueeuqpBRyZQtEk+OblN/v7CwGuXy1vsoeeo0c5LJOqJpdDiZ32Z6pMpd9ymVqNxD/RHnouMPlXoFHWJ74uNqyhmjuGQVaYIyfJitPdQQJsKiMFYESk1huGTLPn8Rg6iajeLhJQ+QK5hgtFSss3DXo/NHJ3xaMk4IbF9zYWSPDMh7idI0rwVMG2bdtw9OjRGc97ngdd3awVi5HiLDEYqQSVpf/9U+Vrq3ANkZXLmjNGRSncxLIzNf9ZbpkytW7KxWmVw3XJ/eR5FPPFFZe5GnBEBB0nYvR/x5UTPUDbMj2dMjtK06TlkWmUhYfP/3i0NPOJhdDYJImXVAKAR+KkUMVxOT5A39M0ZXq56wJTgR5ciVjpNWjMgxvRD1u4xiZL3XAtiBI8VfDKV74Sd955J5588kns2LEDAHDixAns378fb33rWxd4dApFHRRtYGhU1BMp0OqRu0NHLDlxVKr7kYgBV1wgO0sbhiwux80MFfPHkRMUaJ6MA5ecN/v2jSTrExrP30lCuFCk4PbBEcpQSsTI5amBXEvJhIxBmUxTD6d0tvrihEE0jeJfAMog6u6QFhIuYJjJUTxNPEbjaQRcaTl4vqcSMmCfe08xEYuy11Jx6W7LF8hlbDvkDs4VZq8+7c92ZOZb7PKiKJMD/msPnX+dSfoe0YgoIGmRIEpn6e+eLrJSJUS9IS4UGYs0VbApwVMFf/RHf4SLLroIr33ta3HrrbciEongH/7hH7B8+XL85V/+5UIPT6GoneMD9JiNSuXngdIqsGH/V8wfY5P0bzpLxe7iMdlLSRPuj4kpmqBNUxTCE5aUok0uCe5bZYhu26ZJcTDdnSRUOFtJA207PkkTsz++xBLp35wynRcT+qy1aOaIrkm3Ck/Cul5qyeGeUY2kXKXltSuoPUMuT5YqXadg5O5OOqazLQjSWXKDFYp0PHVdHn9TFCpkUaQLMffssflfaPR0kmVrKkPnTjpbuZlpOkviNgxdlBTg5IUGd2BXgqcKDMPAT3/6U3zwgx/E29/+dhSLRfzhH/4hvv3tbyOZTC708BSK2vGb/pd1002GK7sWinTzjEYqW3gUrYU/hsJfXK+ufblSsHBjy1pYtxLYWz5poyq4sJ2mkbXE0Ek4mQbVlQnWffEg43m49YTrSeFmi3PbdsjKo+tk5WFBNDFFr3M3cg68Nwya1CMWHeOiTe4rx6X/cyf0YHYUu5vqtSRVI878bR84YHq+2z1EI8Dztkpr0/AY/Ra6JjPJMjlZbiIrrGy5ghTahkHbua48nusa/z3U3axK+vv7cddddy30MBSKxsCT4znrgVXLF3YsivpwXSCdoyrBnHoN0ASUStAE77gARO2WQpHqpnD6csSiSSoRo79NUxSrM2R9l1y+dMWeyZW6nGJRmpSnMjLWBqA6MBdFybLBE+HYJJ13/X3Ail5y92R8rR/YFZKIU5sCy6RJ0NDDrRY8vudO0778GVKVYsvqgSfhSix0PCfHzoRlis0HLEzrLWjounSOsFu8Yw6FEcugBI9CsRThWIf5DnBU1EYuT2LCn+00PkWr5Fxexo/4Wb2cUrGbhevShOS4JEo0DXjmKHBysDRglQvTlaOaMVbKpLKEQOtIylgZxhM9uXS9NIuLY8s44HkqLS0isQjFFWmiUWkiRs9lC3Ss8wVhiRBWi4hF4pItO50LbO1nwcXfx/Po3MnlKUjatqmRqevScU3ESFzwceRMMduRLtAzwxRkzcKTxaeu0743rSW3XaPG3+SCo0rwKBRLEVdMAi2cUbGkGRkHnj5a6noMg901EZOsPY5DNV/WrWxeLAdPrJroN6Vppf2sAJpsx6fodceR1icAWN5DlqFK5AoUH5TOAumMcB+5JFRMg6wIlrBQPRcSi3bZ+SRWOCA2rMwCYwfiftoVXrwUisDjT5OLrtnurTMjjRM884ASPArFUkRZeFoPz6NMq8lMaYBvKl4aeBuxaCUcj5Z2FX/8afm+XEGKWX8guecBw+MkRJJx2keYK8YTnbzzor/T6Dj9zRaBaITiMIIWJt7XiTNUZTuMQ8+R6OG2CZomrVUsTobKFNmbKpP+7icaKa2irGmVM5faXegwnBHlOPI8MHQ6FppOAjBiydR/fj1fpOc4Yy4m4pMKopHqquVkDWJhqGnUToPjndoIJXgUikbRThWDHWXhaTkm0rIfEsPp1bXy0BOl/+d031y+dJJi943j0qTG8T3BWB0/HN8Thq7RRHjUFzTdkaBJVNfJclW0K1cNZqIWdd9OxmlcPP58ARidpEyxQlFO2gCwcU1lN9pixjSAy3fIOJiOFKX/z6XBLxBuKTQNYP/htig26EcJHoWiEZw4Qymh8Rh1YI5FKm/P/vVsjm5I3R3VZUTZtlwJs989uN9sniaLStYbR1l4Wg5/N+zVy8mKU4vYqeT+ygVeY5Hjd/eEpRJrGtDXRWOJRki4cNNKjmHxPFrxnxykc++3j8n3X7StVIAUisDpYTqHbVsGOvO5bDskmlb0VS9c0lkKUjaN5sYutQOWNbNxaL1UconyfUNZeBSKJcjEFP2bzZE5fu0K+r/rUhaJJ7JkuDw8Nw1kOJDSdcVDZNYkRS0VO5CJA9AE0eWrqlu0yUrA++UgxC5R/TWbFwGLprLwtBp8ngDkQtiyvvZ9+AXPVTtpUnJdUa1YFJY0RF0av2vDEwKaG2wCdM6wK6waURycHHWdMq2CGTsRi+KLGkmw9o6i+fB9Q1l4FIoliD8V9PiAqN+hk3l5okxKq6FTCm5eVDoOi08Yn6r8mZWKubkuUHAruw/UJNEaPHdaWljq7eLt90DtOwTEhFjuSIp+Th79XxfFCLkvE1cfzgjLYMQCTo9I62MsQmI8IQKGc3k6r0cnyMJTCBQVvPQ8IBqdXUxXcpnUAluolLVy/jCVhUehWLr4gzcLxfBCbauX06QRsWgSSfmqrU5mgMkpWeyPLT0cK8GVbzmeAaDaIBNTNHE5Dq3cu0XMg+PQqp4nJ9eleAhTBDWmczQONUm0Bn7LHXenrxnfOTgyAaCMGGZ3VjNgEV+O0Qlyf2Vyst5K1CJx5rok9kyDzktNo4J/XSlRyydHgbSZHG3TmaJr7dQg7VuJ9/lDWXgUiiWM38ITi1CvGNshEeOBKpFGK8T1dCRqL7TVmSptVujHNOmRjIenjapag60FTxyb1tbfnoMtJhGL3EmO6CPFgnf6swJixzBIaHQkSHjl8iSe41ES19k8pYZn8rLtRMSkWBGOJbNM4MCR2fs4HTslW2Aw3HoCmFng79ip0lT3SijxPn/wsWZXe5u0lFGCR6FoBDyJnLeZmgIqFLXAgmQuMVWsBzavI8ET3Lcn4sLYutIjAqL1MpWMZ+xfvD9sjOzSmi0jiGOE1q0EVvbRxJnOksgyDRI+tiMtlMNjUugYBhCPkLssl6fvYYjeS0UbWLls9u+gaAx+cfnbx2hRtW1jy4tOJXgUikbgiUmlXdLSFa0Fx6EMjpLlpNaO137rR7Dhq/+cNCCD2GtF0wCjjDCqNuuP6z/1dUvXVyXLpz8FPh5tXjFFRW0YIrOUrXXDY+RGXd7aiz0leBSKRuCICUcJHkWtTEzJ4PSxSSr0191BtWz8KduAzPZjK4hhiDo0vhigWsVSI3CrFPy1ZlSxu0xRHSdOk0Ds6xaFCPXqLXi1oGlUI8rzqB7PmZHSsgotijqTFIpGMH3DVytQhQ/Po9UvQHFd7A4anaCWCFNZ2ZWcOXQ8vEdWtSyEW6Fal5ytyiE0jXQWeFZUtz56Sj4fsSgw3AMAkZ0XtaheWDW1vyrBHeEBKprpiMDzZFy6Obs7KEEjVyChy/3XPK9UiLkuXQ+ZLD3f3VHZ+lcHSvAoFI2g2hWuYmkxNgk8dZD+1nWqq5Qvloocvvkzrs9auHq5nKigUS0dz6OJIBohiwm7fA6foH8XQvA4VQgebjoKLI2MKsellhy2Q7+lK5qt9nY1xzWX8VlY/OdUoThTVBeKZFVsRB8sTpxwHAoynw1/1Wy2QDkOneL+62D7ZmC5EjwKRevRiKBTxeIj5+ty7rpUfoBZtZxS0JNx4IFH5c2+qwM4dwOtwqsV0K4rBc9CxLn4i12Ww9+1fCGDWz2PrA+2TTFFXKuIm43yNtwc1XZIoLFryLZlUcepjBCg0Zn1k46epJpcQUyTgq+5+WlE1D7SRd8rXaPMuFSCzg3uN+aJgPN0lsaUz4ueZkLocCmM/l5g2yYSNZ5H23seCWPXBZ45RtvNxYrop6eTApbHp2RbklyeOs9bJol+f/q6Py6Lm8JOHxtuhmvVX4+qAkrwKBSNwFUxPIoQOLYmYslWCd0puqnbDgUpHzkRsPA4NAnPlobtxw1YiKop6ue65N7IZGV383SWJv5ETNZpymRpYk0lpcs2k6NJeWSMJlYWcpUEP8cpNSOmpBaGx4Gnng1/TdOk0AnCoqdQpOMQtEhcukO6d4BSi0t3hxQDtg1MlulFFoahlwqb2eDq1pwqHnQLDY7OLFUwV/r76BEGt7uJiTYkIxN0/JIJKnfgQTax9YvOJqAEj0IxVzzfBKMEj8LPlKieXCjKWB7+txyTGdmPqkvUWkqKitxFm/ZlmTQ55AokWvwT725fLysu4teVoolE12kCHRmvfgKthVNDVKVZ12SBTVdYGditElngaccf4N3bScc0nZVCsZzQtB0AwlIRZh0ZnyoVPPx9/aUqHIeO+5SY6HWNXJxZUSqAXZSxiIzvclz5W3HMjGVSX7N8gf41DRp3PDp74UoWpY0UPJXwx/kApZlcs/UcbDBK8CgU1eC4wKP76WaUissbnqHT6oVRQcsKP+zGsUxaeVdqBRLG+FTl9iLVfL7tUBZNOXQRR9HTSed2oUgCgCfgZJzOcb9AikbI5cZNRT0ATx+hSddxSBewkPDT3dH4Xlq1whP9ij5g60b6m7PfiqI5r2VSqQldJ0Hh7yCfjNP3MnT6TQ8eJ3fS00coxkrXAMMste4xhkGWvmobo3IvNLaQxKNzdwfyoqzN2kI0AiV4FIpqSGdkr6tyXakTMWXhUZTCsQsRi6wJ5QSPJiwiZ60iN9F4mlwfXSmK9SiI5p+JGMWLTGXodUu4xjoSADQZNHr+FpqYbUdWWzZEWxG2CizvoYrK1cadub54i2CqOIt+XQMuPk+4y4r0vG2T+yKVmPcVfShhGZWaJgPBw7DM0vpF/i72/gapB47MfO9cqhDrorBiskK7jnr2CczdwvP0ETqvIhESypvWtvz9TwkehaIa/AGXZ6+jFS13MY+KmIdETBVGU0grx0RaWjh0XbZPAID1q2mS4PYfnLWkaZSZ9fQRcg+xdUfTShs2JmJkJSgUKcZmZKK0+Wx3B31mFLT/3q65fy+2BIXhz1L0uy9aEbbOag2anPt76T6QzpAVSBNBx4WiDMBtJRoheGyHzk+Avuv4JJ1jjTjPmogSPApFNXBJ/K4OYM2KhR1LK+N5dCPNF6j3UsQi68NiF4KeBzx2QLZtCGKZ8nnLBDasrry/1f0Uw8G9pTjLplr31nyvtNsphq3RNbN0HVgbuCdwEHjEbL1jMi145pClxfdDTSNBPZWZmfregijBo1BUQ5FjMZZA/ZBqcBwqNHZ8gGI5ohEZYBm88S3rocDNxUw2P1OMRCyaVHMFcuWwhaeaCTCVAC7aJifngmiwmcnK2Jh0lqw+nL6czQOnh2dOvvNBO9Whmg9xxoXzWhFuDzJXCw9A4l0JHoVikcErmrlWJl0sHBuQ8SK5Aj38GDrdDHMF6hhfjmrSp9sB22fVOW8z9YmKR4FDzwHPnabJlbeppVYTT8qxKD1m64O1aW1t424U7VRpvJ3G2gwaEbTM1kqunOx/roVRd+86mJqawtatW3HixAn87ne/wyWXXLLQQ1I0E8+TTfKWQoXYavAHbm/dSDdPS6RAp0TBsXwBePAJmTatacDAEDAwDCSigG4AQ6N0o+xIUHDuil6KA2gHS4EfXvEm4zIFGZCTqwZp4WnxjtJ10U51qNpprM0gLIaHs8EmRPFA26H/5/LAlvVAZyCrjM93v+B57jT9zcUDNU1UUtYo0N5x6D7grzpdtAFolJafFlaiSIReX7W84fFgSvDUwS233ALbbn01q2gQA0NS8KhGhgTfLM9aVb7uhyWCNTmI1zSp+myuQEGOftgdNDRK7p8dWxqbmdJspicAM/z546flc4tRNLeT1aSdxtoMWPCcGZFFFMfTpdWQ/TyyjwKzdZ0yDaHJqs7BoGyu9t0IujuU4Flo9u/fjy9/+cv4/Oc/j3e+850LPRzFXLFtEYcSpayZRIysFVzOHaBJGKALvlw10aUGZx8dO0VulrDsDEMUuXNcWv11JKTrK2KRIIpZtKIr2rSanMrQNs8cA3aeO3/fZ67wAigY4xXWQbqdhFy1tJPVpJ3G2gz8LtWxwMIjlRDXpklCiDOxuI7TwFDp9pYJ9HWREHKE1cZ1KebRcaTbLF+g+ym/rml0zeuiongiRiUSYsK6w/WPGowSPDXyvve9D+985ztx7rltdDNWlGdwlOJRgsSiMuCUV4QXbGmNOiKtgN9f/8QzwI6zpbmaRWM0IicXf/dmQDY0TJfZ//gkZT1tOYviYRpNWmRAWSaVGHAcEm18Q7Yd2oZr1uQLFDDseuSSMnVZuTgRA4bGaL9BC48/kFPXyN111qrGf5+FZtp11wZWk3YaazPo7aKmoRxwDI/qJHV3zDwmq5bTgs8RjV+Hx8k9G43IEgqWBZx/TuXPDIvVYzd3sGt6E1GCpwa+//3v47HHHsP3v/997NmzZ9btN23aVPa148ePY926dY0cnqIeCr6Jm60RQGnTR4BuBtVWR10KBMvvP1mmN1EYpgFsXAOkc0CxKBoyOnTM/dV8xyZpv+tWyhYJ2TwwOEKC69wNslNzrWN/dH9pbSWAfv+IRbE29WawBN1VttiPaQKXnSfdfIuNdrKatFNGWTOIWLRAqYZgVegtdX5mmKDh5+ZReCrBUyWZTAYf+tCH8N/+239DZ2fnQg9H0SjYb71mBbB5regwDDLhuo408caiS/cGGQZPcIkoNZWcypAFwxHBj9MrNwCb1lGqtOeRpYQ7QwfJF4Ddj9PfK/souDmbB54+Gj6Gx54Gnn9hbUHAnkfuNRY78aisEsxjZ3SdLDls1Skp/idaNkz3XtLouZODZPaPi6rb05WWzcUrdoD2EhHT4myJWniWMErwVMmtt96KFStW4MYbb6z6PYcOHSr7WiXrj2IeKQqXw9AoMDYBdHfS38H2EaYBXH7B4gk4nZgCnj1Gk7ztkAXL32XZdWll5y+b74ctPKv6Z9Z9YR+840i3D0B/V/LL+4/tpnUANBonB4rbDu27M0X1ZlzRVLEWy9vgKKWKM5fuILG2Z9/MbV0XKLjys6vBdQEXsmAgE5lnV2ihSCLN38+pmedutYHAhSK5/ybTMqbDNOh3jEVpnBGThOhEmoLZucRBKiG3YZdqRmT3pBLkqmFrgeeRO5r3z4HzUxn527SDOFM0FCV4quDo0aP4/Oc/j7vvvhsTE9QLZ2pqavrfqakppFJ1mNYVCw8H3+YLQN73f06tZNcW9yQyF0nA6fEB6srNnBmZ2WBS1ymGJpWYKXxY8IRlrfFEUmv6ta5Ly5DjkMuqHJzptf+wbEapa2Sd4waLnBqfL8gmmgePl+5H08LdV5pG+3Nd2mctJGL0mdx9GwBW9FR+TyM4PUwi1i90/MQidAx0XRwfgwRIMiFcFwl6fWiUhEZHkoRwxCKhMD4l+3mZJr3e0yE+b5aiip5H4nrfoZmBso1i81pasBwfoJ5lLIr4vAi6YWuph6RYFCjBUwWHDx9GoVDAK17xihmvvehFL8Lll1+O3bt3L8DIFCXYNk2EyXj1fmH/yn3DGrLy9HSSi8sQGQQPPEb7nmuzvVbC33cJEO4aE4BH35uDtbkZYtQKt/g00k3DLqOiTZadk4OU5ZSMU3acP0U1FSfBk8mFN2ys6vPEv3431gsuoonZNKT44rE5DonEXJ4m0aKoL5QvkhuLz6VMIDNL14DOeai6OzQmhd30Z+ty7NPFIR0ARYAbmecKwPDYzP0Nj4U/768ozVaaQkDwTEwB+4/QeWOa9Fv5A91X9JEAKxTpeMWjJBC5fYYrfoO+bhnjlcnS9v7v52/ZMThKQbUsqPj3C7ZQSMQos7Ce+C9FW6METxXs3LkTu3btKnnu0UcfxQc/+EF89atfxaWXXrpAI1NMU7SB3z1J/3alaJJ0PdFR2qL/Ry0ykw8M0ao0FpGTXXcHsH4VPfxoGq2Ebbu6yqQj47JDdL4o0zZb7ebqnwQiohs3u/f8FeJ50sgXgfyYzEZiorMInryYTDWNPlPTyCoQL1NfwxQT2L7D8rmhMcryMnSyRkQs2seaftqWJzz+vbnFBU+a8Zi02JkGMDFJAdMegAceLZ2Igw0y/cLZMES7gBDxkowBB8rEGrkeiaRmN9VkQd7XBWxcS64hLgDHncsdRwr5qSyNi11KkxkSgR1J6hmXyYqu7A4dc7b25PIU7D82IZtkAnSNcU2moTESq2Fp+f29VKyyHH5LTNjCxb/w0HUa9569NBZ+77ZNwLJueezZtRqLLN3sLIUSPNXQ3d2Nq6++OvS1iy++GBdddNH8DkgxE3/TxvGp2Zssct0XppJ5m1+rZOEZGQf2HgwXRcdOAZec11r1V/i7rOgj19HIhKyDMzohXSJnraRU6qJN2VGjkwA8aS2YrRDj/sPhLoyIRce1Iykqu9okQPwTpKbRCt91aHyOS5YDgNwul51PloEwKrWsOHoKSIsCaUGxUy9Fn9Vh51bpKnvsAD0X5mJqNHzu9ffNPNci1syu3d1zTL7wPDpfHJc+z38u+FO/V/aRUO3rpj5Os1kFZxMkwd+JzwH+LTWNxI6uAzrKx6EplhxK8CgWB5wNo2nUT6hoS3N7vkCrUWi0wkslRI0Yl9wmUxn6fzl0zsypIHhOD8vXYxGaTCyTnufVdSsJHhYEhnB59HWVvvbksyTijp6aWUPHz2xxECyMNI2CSkfGaf9sFfC7k5hYBLhkB23Hgba5PO0rm5NZW4ViecFTbtLM5YHjvu9z/hYSZMcHZgqCWmDrmKGX9rta0UfnwHz0GZrvCsKaVj5g3F+Je7bO8HPFNMgNPUrxldNVgRWKAErw1MnVV18NLxgEp1g4WGx0JGvrFp3JiZTqOVp4+PM7k3KFD1AQ9Mh46zXWmxY8IYHFvEIeGS/NegHIrdGZIotMZ2r2wGSuQHzxduFmdMmt6HmUXVN0SLRYJlnljg+QpScopLh5ZncHlbVPZ8uXwq/E2GSpcO3tku69WtuGcEo6u/yAmecRC7Zqs7zmQiulhs936vf5W+h31bXW+P6KlkQJHsXigCe/WjMvqimYVk134el6Pv2l1oXpTsLFme9ZSILf2/PI2pLJkjBJxEi4cQB4JkvP1Vrzxt9kEKDPmMpQ0PHKZaWViWNREjyzBYdXI0DLUQj8DifOAFO+FPJsHvBcmWFlmSTKbJs+1zQpm43Tm4P7C55H89lJuiUFzzyNxV8jSaEogxI8isWBE5hYq8Wrwg0wPcFWWKXzxB4UBDyhz8cKPwzPIzeQ49IkbZkUrMo8dxo4PeTL4PFhGsAVF8pYm1rxC0Q+Ds8cLY2vikVIUOj+on6zCZ4qtwtjIhDb9ewx+fdkGnjoidr36ScSuKWy4BkYot+iM0UxLc0QAix4WiHdupXEl0IhUIJHsTgoJzhmw60Q3MrUYuEJfj5PeGO+uiCFIsWSxGM0QWp6dZOU49B4/SnTXO0XoL9PDZI1IhYjgTM8NrP+SHCffteQYcj/2w6JpWqCPvMFilXxRF+ejkRp4DALynzAIsJCy4Ev26pKCw93sY9F6Tjy8ckVgMkpElm6KFrH58fweOV9a5qMawJkLBhnNrkefbfeLspkikYos2lgiGKdgn2//IUWTw/LmC5/XAv/jvy71ovTQu0dqllIKBTzjBI8isWBU+fqtpqVKO8z2F8r9PMDgofTticzlAJdjliEqvEu66YATMMA4FEvpkyWhMvQmK9BZ7TUUjMbmkYTNXc0nkzT36kEsG4FtYeIR2V20aMHaJtHD8iAZtMQGTailUI8ShN9ThT3Cworf8o6T+Qspi7eLgvaWSbtb3QcOCyypyo1FORjPDYJYA5F7BIxCnBlIdPTObOBouOUFkT0f5fQsQXOo55OSsHOFyhbz3GBoyeBE6fJXei4FI/keTPjv2qllawqqn2DogVpK8HzzDPP4Pbbb8e+ffuQzZbe7DVNw7333rtAI1MsCMPjJAZMg1wzQP0Wnko3Zp5ABoYp7qQrpA7LdKxKYLJZ3kPCYXC0NI7D36gUINGQK8x0uYSO2Q0XO5pGk2ZniibYaATo7aT/a1rpRPrAo0LwiKJ+we+bjAtR5MyswFyODiGa0lnRaVxYc/yZVH5hGLHIUsJYhhQ8RWeme4jxiwquD8MVhB2HhEwqQccpJ4QYV9s9OShF14Xnzp6ZVe588jwKeM8X6F8+RkGxoWmyNs3KZdTCgis/B0snTKRpvOUyzyrhecqlpVDMQtsInieffBJXXHEF1qxZg2effRYXXHABhoaGcOLECaxbtw6bN29e6CEqmo3jUgyI69KkMZGeuU3NmTZV3JiX95Cg8jxKiV6/WhRfExO6afgmm8AEaRjAlvX08Ncm8bc0KNokEEYnyGqRycnXTIOES08nWSOScSqal82RxcayaALn+JdqBd+0taLM9z5rlSjWZ9CxcUXPrXyRXDiDo3If61cBfT0knlhUZXJUt2cqQ3V8+DMrTcr+365QqCB4fN+xt0tW7M0X6bwoFumYcuxSvkjHyDKl2OnpLBU7Uxl6FG1ZOHIqQ++NWjITixuK2s5MF6emicKEZYhYwOXn02dMZcjqx26sZ0SqfTGQau+6M8VqGH7rWitYVapxFSsU80zbCJ6Pf/zjeOlLX4rvfOc7iEQi+Nd//VdcdNFF+I//+A+87W1vw6233rrQQ1Q0m9FxioHw09sJQEwIEYtEQS1Uc2PuSAIXnENF5DI56gdUjkpB00FRxf+PRoQ1JlALhwmOrUPEyFTzmeXwZrFsxaPA5nXl33+OQwItGQ+vmpyIkTD044/NCRM8/uNzZqR87JB/yAND4duEWcD8FrZYQFQ8dqB8YLm/VlAw5sk0qcrysh4692azGPF52ttV+nsPDJIAKogxjk2QuM7mpcWNu83HojKVP5mgYHp/0HkrWFWUhUfRgrSN4NmzZw/+x//4H9DFBeSKC+oVr3gF/uZv/gYf+9jH8Ktf/Wohh6hoNgXfhHXOeqBHrO7nQrXps10pCjQdGpMl6qMRGTRcKNI2jbrBz9fKuN7xGoa03FSL3yIS9rn+7zw0SgUkw/ALk75umvgtk4REPEbWoaJNwiQalcUmsznqlD6RJmsU4+/PtLxHiqFknMRuTrQsiMfoO7CLLB5rnPuIqw8fPUmuxGO+4oiuW9p9vWjP7MbOcLzRQjOboF5sOI5sX6FoWdpG8IyOjqK3txe6rsOyLIyOjk6/dskll+Af/uEfFnB0inmBa9msXAasWl55W14NR2fpnVNtNommkcUiaLVoV9iANJ8Tkj+Trtxvwu6zbJ46m69dQb+h40o3IjfnTIgeWbm8jKXJF0j4xKL02xqGFKT5os9VaJLbyjSldSQeBbaHuMab3QMLkO47dq0x551Nn8/PccbZVEZ+bxFDDtel49UKgmcpWXgm08Aj++k860iQpc80SWQnYkvjGLQJbSN41qxZg6EhMl+fffbZ+PWvf41rr70WAPD4448jlWqx5oxLmbRoOsgXfKNuwOySKBenMzpBFpjJKXIPADRZcmfk3k6aCP3j4cDaVpgk5hOvSsvWXElnZaBwNUG1hi63e+40BXF7nvw9/WRyMzuTAyRuggUB/cSjZEnZd4gmKD4HKrUXaTapJIBhEmupBAm1VJwy5DRtpuhaXsa6dnKQaglxOj53uDd06RqbSwuNapnvwoMLyWRaXk+TmdJzNRGjPnpL7f7SorSN4PmDP/gDPPDAA3jNa16DN73pTfjkJz+JU6dOIRKJ4Jvf/Cb+7M/+bKGHqGAef7o0oDceA7ZuoLiKQpFSr2NlMlFcFzg1RIIpGaOJQNNkp3MgXPBk8/S5QfIFigfhLBquCcOVdJlWyGxZCJo9IR04MtP9UinmyNBLu7UHA9PjUbJwsPjt66YAZF2ncyQeI9dV0ZbWIs7QskyZCs4FBv2TU7kO7rXAgdm1upZWLw8X5LVyfKC0fEK5xq2pBAmqjpSwLmmyLYNlkODynxvZHC0ohsfpGPZ2kpjiAHK2orF1jt2XS2GiZ3HXmaS4rMkMWaMn0iTIHae0orhiwWibX+ETn/gETp48CQC46aabMDAwgLvuuguapuFP/uRP8E//9E8LPEIFALrh+VfXtkMT3u+eks8dPC5vuuesL11ZnxoEnj1e+TPCJsyML0h12ya5kh0ZpwlgeFyuxByv9L3LuuurJNzWzHEFzq0ogMouH7bAdCQAaNLtUg4eT1dKpm2fs15mVek6iaiBIbLa7Th75j4qpXV7HnDMd36du0H2UqulB1vYfvcfpnpJXOsoHiURFY1Q/FelyV/T5i64Boak2DlvM4m+kQmKaSoU6SfPi79HxukxGywW/YuDkXESVppoxmsYIjsupH3GUmj3wBbJeCBQ/9cP+4pKts1UW8rYBLl8XU8G68citHh1HBLqBZuOQU+nrFeVydE92XZIxM+XZXEW2uZX2Lx583TquWEY+OIXv4gvfvGLCzwqxQz8galX7QQeejL8Rsg33Uf2A1dcIJ8fHJ25bTXkRRxGX1dpphbXQFm/WtRlyYs0X51u5oZee+2excB0DE+dgufEGRKuAE3snK2ViEkxq2mlNW9qOc7+GjW2Qw+O/ckKEbV6ljiuMMYmaewACd2Vy2rfRxjZfGm9oqJND7ZQdaZKO9I3A7+A4YDyYKyb7UiX81SGjkehQEHTrksP/zXs+oROZ5IWBoUi/T6FYni3+0SMzoWOhBQ8XCZgZILEbE9nY75zK1CulpdpiOD5OlqgtAKFIvBYiNXcD19LgIyXDCtCCoiyEK4stdCZBLo76f6hi2rzhk41uEydMhBrLTMyC20jeBRtAk9wukarmuU9FFdgmlTRlyevIVGIL18AnjpINwfbLnVh9HYFOlKL4nyDoyIzx6KbqGHIC69SHIauzyz9v9SpN2g57XMFZfPhEx9jmdWLndX9pf2tAMqsCqOcW7QSfuvj2pW1v78c/uawV15I52U6CzwjvosdIvobDU+8G9eU38Y0SHB0VYh5LNpywnKE+zAWLV2h8/XILpsTZ6RIvXQHWWqfPgocGyCLgD/WyjLpGLE1IFeg5/zWIBZeGsiCwLWq8gWyHEQjNFmaOlUj10AFQRfColQuQJvds/4yBu2Ev9RBV4esd5XO0oImaCHM+7bnLEZdp3M/my9d+HoenS/B4pt+zttceyboLCjBo2gswRYL/O+KXipmx6xfBex+nP4eCrHqrO4HtpxV+tzQKImj0Ql6hFHPJLiUqTd2iX/ndSup2F5GFEPkf/09s2pZzfd1lwqehHAJTUyVrpT7uktrEVULT+Q9nZUn/Vrhm3lnkoRBxKJJYnSSztv5aB7L322uroOSVbUFhK0RNI2uNb7eHFdOXiO+FiGuK8UOx1QVbXJLZnMU78LjtszwHnHl8FsXALJmnbO+hi/aIMq1HOF730I1Dp4rLNJTcWDnuTNfZxHakZTXfsSi35FdndP7cuh1TkrwQO6yTE4ulmzhGmNLkNV4F5gSPIrGMt1EkzuMl1n9BG/KPZ30GBolK08iRLj0dVMxvMk0meIdR8Y9cK+oRrkolgpzFTzx2MwiegD9NoWirF9TLVGrtG9VTxdwtiiA6Iq+U5ZZv7DlOTQ4OWVFSrtu0DEJyy7kgGT/jZyf4xpRwZs0txqZj1W+v5L3fOMXSU88I/9ev4qsql0pEq579tH16y8gyr93mOsbkBlnUSEkO5I0UY5PAfCkJcIfxzeflLXwiPOkXV1a/HuUiz+yTFrs5AskYD2P3FPstnKE68o06HpKxkVMp7AOx0Tj3b4u2o+u0zkyMi6C4xtfDkIJHkVjCVp4yqUi8woxlychc+4GuoDY2hOm7jWtNLC0UoNJRSmuK7NF/Mes3hie2Zq1GgYQr8O9oGkUWzM4Sn/7rUO6PvfgchZSmRzw28fo/xGLhJQfwyABbYi2IRyIyS6xjgSdv+lsqbsm2A5jetKbRwvPQlwT/kkxEaPjlIyTVdd/jp29jlzcnkfb9XWLidCeWSIiGpEr/krfaXSCMjTLCaZmUzaGZx7FbjNgC89scTTDY7JOVPA6YspZ5CuxrLv2yvmzoASPorEELTxOmdUPAKzpp8DX4TFqZskmb6C6YLXFIHa4waUrej5xLIgH2aPLcWk1lBfbdSSFb9yhm5LjlqZqQ2RQGQZNPFMZ6V+PWOR2Yeq18LiB37mRbN8smoE2o3KtmJz8qdv+iVLXaRvHCU/pZoL1VphgjNi0W2OWVX7RBk6eod/3rFX1BdIvZHVj/ux4lGJ4ytEpamIFsawyLowqjgNbiyvVXmoms1l4DhyhCX+6J5qoFKmLxAm+7hMi6J9jH5tdMiKXJ1exYch4StMk0R6NyLYts2WYsYWtt5MsssViaVkDjvvh+1V3J31Gvkjff3hcxooBdAyWdZdvLTMHlOBRNBY+aactPBXSn1cto8l4cFRmiAA0udcTn7HQhK2wXZdiDTI5urg7knQDyYq0zaGx+fXxF4r0mUy9GWqVhGwjaFbwaTAs5MJzZfzBquV0s/U8ukFzGQM+RhGLXnddEulF0Zk9HiWXloaZ8UpGlav8Y6eo0CJA7TDqyUBbyIadC1lZma1qtiMrbc/nMShXxNOfQOHP4CuHX2AfPC6D/WMR2nfEko2ELVM2UY5FpXAy9NndvY5DwfRnRmaPk2Im0tJNbRo0hpwIIOfMWtel7zA8Vnlf7LryPHJT9nTQucuW1I4kfYcmLKaU4FHUB08KE1NUk0EDXQAcuT8dw1PBEmAYwNaN5M6yHVoZeKhcnTlfkA0Ym43rkiDTdBk/UI7Tw8DTRygGZOe5ZKYHgIHhQJbR4Mz3ckom36i5Q3k6Q8IilSCLDZv401nRz0knP7dhkIiyDBHsCTqGtsiu6UjS/w2dblwTU8ARqmk1Z8HTbgUb/Tf4eJRiB4IdzjVNFOarILqrzfBi4XZ6mCapqQz9JutW0rEbHqObPYsdoDTjqxYW0qVVzq0zH/gtELsfp3iy87fM3+dPi73Ad1+3kq7pfEGWVOBJXdNIPBSLVPzR0El05/IkGrisAVC+b1o5tm8uX4kbIIsKx1Al46IZryZdkVxuIGLRGE4N0sOPZc50IY6FZFxxKxT/dRdsnxKEF2Tnnd3w6udK8Cx1sjlanUZEZDxHzcejNMnnizId3LblycspqWFYpqx/41Sw8DCaJhtAViKTlQUMoxa5D7i4m2nQo7er9lXm6WG6qTiuSHPXRQZCztd7yQAuP7+8eXdkXKxSbGpZwI1G/TeWrhRtZxgizdcElvfShFvLJFVN7BIH02oa1T45elKYsDOlKdL1To7TsVltVsPIf+OdD9HsPz7TomayfJd3oP4gV/5duWxDNl86CfPK39DpPE5n6bxk1wrXTeIq0VnRu8wS1dL9weQzAro5YHoBBLCmkUXspJiU64kXmQvlrNgRi0RPrRSKwPgkuUE94erWNFG2YyrclepnfKqy4PFbGy/eHn4P4AXtw3vp/+zq4jo7frFj6PKcXbuCEke4+KeuiyKlOdpHJkcLuaIjy40Ywj3vOHTMpjL03ZtwfSrBs5SZysgTul6ScfLJG7osQNeZkhdRI03d/oC4vGgGGcxoP3dDbZlaYxNUIbcc/jTZQyfo5j/dwFFkDHWlSuvQpLOUPu/HceimsGGNvJA5e6Fo0344MNYRRfZYZHINi0yWjjO3SUjEaR8sFHWdRM3IuDRBVyIamXuWVrv1SvJn8syH4OnppGvC0MlipOskrjmFu0OksU9MyUmk3iDXonjfwFBlQRUGX6/cCZ7jOhjLpOeLDlkEEnGRZSOEEddlcusUa3Nly3pg41rgN4+IaurO/InxRmfHRSxaCJXDbzHSNRHvpgOnzgAHn6NCkhXHKwTasp7yY9a00pgaf1yW41D7n3yBBN1zp6ny9urllEUbti+ObYtYMy2q84gSPEuZYES9aYhqmSDLTLEoS+MnoqTQ2d2ia1RnpNykkS+QoGJzbCNM3TzJdqVoJcEZMvmCnEAqFcALw79aOmuVFA9Riyp9xqPAnr0kboJmXSY4uSRidFPp6aAxnxkh8ZIbLk3HnS8sEQSZiJH5PBYhV8qJM8BjB+g7diTptVScblCTaeDoKaA7Rav2XF52LS/6uo63m0ur6BMTq/ub/3kRi5pHBglLcT8+QO7PemO6gr3hkglheRGBstk8/e06dH5yT7nge9lSCZBVqFCc6b6YTIe7WhYqUwqg7+xPcZ83wTPP7rygm4fvWRHx/GzB2+VccEHYYhi0ahtGabYsC/Q2aJ/R+iNsAb73ve/hrrvuwsMPP4yRkRFs3rwZf/VXf4V3vOMd0NttheuHb6zLeoBtGxu3Wt9/eObE3oiJkW8spklj9lfhPHyCAj9rrWjLN+g1/eUr1FoWACEOuaCcrklLDwe4ApR2u8Z3M+BYGcsky5M/oC+bDw8aNIQZOBmn78oBi7GIdGex+5GztKaLzpk0vq4OEjKcdh1cyU2kpeAdn6JYIx6n/7hUCkBkN2I7wa6XWGRBV5rQtJkTcjCzsWbEObBpbWVXynR/J0OeO0VbZsVxijj3P3JdWhj4s+Ym03Ji9Ty54q82CLYZaJrM/hkZJ4vaZIa+m2nQIsYqUxgPkO48QMTvicrO8Rgt+PIiYHd8kg41N6mdXtQt8FzAi8/xKeCpZ+k3TvhckbpO9xyOs5ztt+LFwWyhBnyvaHAbiGbQ+iNsAT7/+c9j/fr1+NznPocVK1Zg165deN/73odDhw7hc5/73EIPr36mlbnR2Is1KHbiUVptzpVKVoXpibrG1XE1tSb8VqzuDmpOGoQbBQYnK97/ymU0EW1aK19zXRJxGuRNmU3VzYaPJfez4WKOwRV6xKKMuWiEbviWCJCOWkDfPKTONpqFDK6djbnW7OH5azbLBsfMAVKw+s//iFWaXq/rM6tSJ+Ol/09ngcEFFjwACZp8Ubb0KAe7GF0XyIhYp7lapxocYFsz/qa5HPhbqbRC8PuyOz0WLQ1KtsqcT88NUCVxFlBK8CwOfvzjH2P5cpkm+qIXvQhTU1P40pe+hFtvvRXRaJu2M2ALTyPdEv4b3pUXzl40rBYqxQPxjbteC08lc6xf8JRL+eRV1KlBMvfyGG2fqAyi6wB/lfkO/uVxcSZSVwfV0XA9IJUkS0g8Wrn3WL5AEx2vrMOOoetKawKw8AJpOnW7BYUanwNcsj/MClEN5gJ8N38M0EKSiovMSiHqohF6LleQ7thsvrQVBgCEaUxuLOy4pSI0Ltz7sSiJgUiEBGFQBM430QiVWZhMy4wwvr+xZTgakU1/xyYpq42zs/whDtGIrN0Vdl07DsUL+WmBbuizoQRPFfjFDvO85z0PuVwOIyMjWLVqVci72oDpIoENnGz9N7zpQlsNwqnge+bVxegEmZyTiercLdWYY1cuk2mU5QKieUi5AsXs8Hatau7lDLuTZeKS+rrIZVhO8JwZBvYFgr0NUV+DV4iuSxli/smiK0Wd6xeqW/Z0NlELWnhYqKSzwO+fognksvNrX5A0Qzxzk0+OPWI3WCZL4pHrzCy04Nl8FtVT4gDxMFyXzntXFPSMCbdP1CJxrkGUeRDXrOeR1YgzWVvtWvYTVmYhyLFT8r6UL0hhwyUxuAihf59B/L3yNq6hY72QLuIqaeFfrrW5//770dvbi/7+8oGPmzaFuD4Ex48fx7p1IRHt8wkLiEbGYfhveI12G1S08PhO5UcP0L/RCN2kbJduZpyCz+ZaXgUBlY9BIgZccE7lsem+1MwDR2j1ZJlSWLRarItfhCzrock2X5TZXcPj9FjWEz724XH5t2HILLRMrny5AoBW1c8cpYl8IWhll1ZSZN2x9a1QJEFRTTsN/3VXzlrJ27BQyYtg5IyIReEO77pGopVdrJ4IeM7Pkv0D0DlwfIDen4xVthA2A9MIr+TsR9dLg279hFkpNI2EEb93sWDolN3G8T3dHbJuUL5A10osKr+7H47fikdLm0K3OErw1MHvf/97fOMb38AnP/lJGO1WhwSQ9Q/sZlh4fH83ehVdSfAk4yRwuBIor1L4Jp31TcL+YEtAFuebC8GVbTCOqdVWhTzesA7T45NSNOYLgBkyafEx3LqRai45Dk2gXDhN02ilrOs0AXH6/e+fosnz9DDdYHnC5XL7rkv9lZp1vLwWd2k9bxsds32HKFX94HEKqDdEgHgyHn69+s+/wRHg8HN0LKNCuOQLMzvOl8P1yotWTll3XRlMb5kU4MvuZC60qevAlRe0RfbOkoLvy5om66X5iUZkPBLX4+GChLk8Xar8W7eBG8uPOhNrZGBgADfccAMuu+wy3HTTTRW3PXToUNnXKll/msKZEeDZY3Syem7pja9ZMTwNFzxi32Hj5cKATDYv+rfYIjBYoxWnZZEfP+K7oLl0+5zGJo7nprUiJVaXBbo4s6uVmD6WIZNnVwcJFG6WGRabwIKHb3iGASREXaFg53QmYtGKMJuvXPuoKwXs3Cr/z+4UrvvieeS6TMRq75reqhaesUlg70E6X87fQsd8YoosYv5YE01UxOXCgqm46E3km3hOnJF/lytSF4/SNcD1s+Ix6YY0TRKrriczlyyTAtwrLY5OnpHj5b5v+aISPC1HoHikbZPrmcuNcPKCZVKWZiWLrRI8i5fx8XG8/OUvRyKRwI9+9CNYoc3uWpQzI+WzEBrZpK2ZPvzZihj6BRY34gul3PN14nlyIl3R1x43Af6dygW4RiN0oxsYKk1r50akfBOs9btuPosCu3k/hkFClIsm5grkVnNdsm4MjsoVpa7TBO+I9hqGAVxxQW3uQo7haTXBMzQqr89jp0iAhMErbiZfKHUvMutX0XWdL5BLV9dISLJFphmW6dX9srbR7sfps9u1U/hihm/RRRvYe4gWD5WSPXRNCmK2oo9N0nXXH2IhamGU4KmSXC6HV73qVTh9+jR++9vfoq+vvX7o6RvPxjXSZWA7MtC0UTTTwrPQ1X1Hxsnd43qyTo6mlU5AbePjr2DhAeQ5cWakcuPDaI2Cp6+LHoA8//wZPv/1CImdBx6d6X5xXRJDjONQZd2OBN2QUwnZZywRo3it8UnZq4zdbkDr/U7+YoNBq06tXLy9KZ2ma8I0gDwa0xg3rJUKu+U9j7KSLKtyDz5FOIPi2o5YMjW/R1gMPdBza1fUbkltUZTgqQLbtvEnf/IneOyxx/DrX/8a69evn/1NrQZPHom4dFE0wxLhzdFl4DiUQeG3RnEPLy6CV27f/j4/RRGAy7E9c70RZnPAE89U3oYn1naAdWk568iafjqGXHyNiXLhRZ1cHLW6K4pFajIYMUmk+I+XppF4GffFmvR20Q23I0m/wdgkiZZ0RtYYmczQo5qO1Eyrxd6VuJgNqoZcj7HUMBZe7PA4gJmiNVegdi4Ri67rXIFcc65LlgMWN66oEJ3L07UfjZAlsCMp9xGsqr5+FbVuUVSG75+xCFnk4tH6ehC2IUrwVMG73/1u/PjHP8Y//uM/IpPJYPfu3dOvbd++HZ2dC5RiWwvTKehNPqnn2rF5cDTQXTyEMIuU7QAPPyV8zxbdKBnuWdWRohYLqbiIZfIAeKKS8iz4u/uuWkZWnoLPWqCLBoatvsJ0HCoWxpSb+FMJYIfoOM0raX+wY73sO1za3HG61olDwc0cT8KWx1XLpSjrSMrgcl7Zuy5ZcqYyZN2xRPsT15Vd4yOWbHo7METbxVtsxcrXJ/eC42rlvZ3Ats0UU8PHqWDTv0VbWjUGR0lAdLfIvWi6LlbAwvPMUVmorhayOXpwQb0wJtJ0TIbH5HHRdbpOOX7M81pP7M43rEE7U/U1N21jlOCpgp///OcAgI985CMzXtu1axeuvvrqeR5RHfirKjeTuQoetiYk47KLuK6RJcFxaCIOq/eQydLKDwCcvBwDZ6NNpOlx4vTM93YkKO2crRXB7+A45OtmJjPklokIYTWVodXmVBa49LzS7+64lHEzmaYJnOMoNNH0D6I6M6fJex5NXLEY9bGKx+ovQMcuHNuR7QKOnZTHCShfRdVPI+spBQMgHV8APQuhVILcMrONyZ9+3F+h2aIfFkatJkyDNbFYKPQFygIYBhAP+c3WzENfsFooVzXa33+rIymCpy1fmxKR3ce/TyQis8wm03T+JOP03s4kCVtu1us4JKgGRyuPra+b7iFr+lvvPJgPvAUODVhAlOCpgiNHjiz0EOaOzW0Zmi14xL/13kj4Rt/TGd55txx+0/kF58g+QLZD2S4F0V9neHxmR+fJDFUNjUfJLcIBsauXk9jgfljMVKbU4sNkc/KGzAyOSFdcoRjecDGUcSnODJHaHY+JFX6RJoBEXIouy5R9kFhETEyFB5GzsAKqs241Cs8jlxZAGXURi44Xj+XEGbJqNLMB5bSYbd5H1AWfv2yBnW7c2KbWCA6GP/wcCWxDowUB/7Z/8Lza70XlRC0LeNsBXJ9l19ABaFIwMcNj9OhItF72ZCPh+kmGLty+osZWMyrstwlK8CwFPK99XFr1WqL4fZ3J0iq+piHTpFcuK+13pYGajp44M7PjueNQAbUgiRitDCcztJ+OBAmcIyfphvL7p4CrnifHz661jgQ1FR2fpPdxXAIfJr+bzjBIdI1Piv42Llk//K4goHK6qB9dpB6bBt3g160AfvsYueXm86bnuDKbjQWaP95k3UoSPEFB2kjmen42Cz5/szkAXZVbkrQDbC11vZlW1XK1hOr+LJ81ia/tneeWihkWWtkc8Mh++juTm5vg8Ty6vqMNKGvRCDyPLNFTotFrvlC57tJC9/5aAJTgaXdct7LLIZ0tzSJquoVnjhNKvTf6aosocvl0Zk0/Bb/mCjJ4r7+Xnhsek1YTzprp65apt35yeWm9OT0sXQycFdTbTSnrYYW+GO5NVbRJIPV20sSRy5PLDsINFovQIyfq/EQj9Dr3/YlaZAVyRCAoW1EskYlxctBXj2YeBHCuQMJuYkp+ZtjvxGOpu1t4NePhPxZI8LBrUdPofGNrG58nzx4nd2a7C56Vy+i8Mw0pqlngBhuRzpWgGxCYabnkQpZWiiy3JweBp4/SYsd2SqtLc7yaofsskBr9dpao2O4GapnFo1Q7aiFLUmRyVN4gDNOgGMZUnNrC5IutF8c2DyjB085kcsDDewF404Vqoel0cmsgN1awvsK8WXiq2LYo3C/+0uXTN/qQU9MTq8V0jiw5fHPRdZmuXGt2mGnSTTgepZvAwBDVQTF0OQZ/1d/lPeH7Wd1Pv8eJM1TgcTJN+2DLkSOCKbmxIWemcDbKVKY00DqMZJzGNDRKx42zmvimnM2VxucECd4QNa35Anj/4ZnZU5Eytx0+N7lXUzOsMAtp4SkUgQefKG1nwm1O/K7HJ33ZgO1atC8RA3acPT+fNW3h8QmQSpW6/TWO/IvBYNZXGOW2yebJatqRoPgiTpzoFAJrPqh07dsOMDoOTE7Je2yrWTnngTa9mhQAyArhN/97AODMDBTkxnjLepp/krtVTiiFIhUn8zxgu6g6bTvSbRM2EY9Nyg69QRcUU2vdjzPDM9tAACIORtxA2P+/WjQlLBbpe9qOrKpsWbRy5Sq3wX0+d4YesxEV1hvToJgHtuAFuxkznJodJBmX/Yw46ymTo5uw44rqz6nmC2B/zFJUVPZdVaYBq38srtskMbaAMTxTmdLr1XYqn6+GUXudo6VImBWskmVseQ+ltesG0NNB14fniSKNjihrYcseWpz1xxlfibhosSFaa5wcJNc4IEskMKeHgRW985MZ5l8wJUQxz2iEFr2T4tzzn29lC7MuXpTgaWd4Iu5IUj8kvjALRQAiuykRL3/xuy5w9BS5a1JxGeAbjdBNgG/OXM7eFZ2CIxGgUKBJ3vOoJgpbk3hMs1Vc9gfU+jOgmLAx+4NZ49HSQoR8sdfqDvGvirZtJJEQFe4ix6H9PnOMXj81BAxUiDFJxIANq2W6+mRaup34dY5Z4cmfXRqpJAmQcr9VRjR2dF353qJwj/Akblm0wuS+S60A32AvOY9EGFcK5gKOMdFdnVOIGadJgmchLTx8HnR3ANs3lwZsHx+Q6drLeigOrbtDpVBXA5eF4MWWaVb+faMRWXKhEaxbKa9rbsdSKMpFT9Gen9+Rrfm6Bly6o/Q1FnT+htEqhkfR8ri+FOZRvkF2lwZ/lutQzKbzQpEmmrFJct8ANAEx2Xx5y0G1zJZpU8l94+9OXPKeQANQ16MV1roVJEaCK+hqYHGyaW1pmXT/zeDYAN0suB4Nj1EDNWfkxqSZHBXJ89/cjg9QXaEVfdRos14qtspoUTxPngcswMJcXJpGE/yafjlxNStwea5ZhHOBj4Vl0sMfy8IB8uesp9pDitrYsEa6eleWsSA2C02TiRH+PnKjE3R/KdrzU6m4WMFVpWmLplryXFCCpx3gQnxjk+FpzdUo9YEh4MCR0ud4Rc1dc6MWWRoKBSpupms0QWSyogEn6OItFOkz8wXaR0cSgEd/j4yTYPJbeMYnRaCsMAtPpmf6wtn06ri+ZpGBCzTjew+vVPIFaYEB5CqPVzTRiIwH8bcy4M/gybdSsCGXyQfoZrrlrFJrhOcBv35YjssveBa6HUa95AvknptM0/fp7y2NsbFdEmCVAlD91jYWPHz+spUql6ffbGS8tCCd41LM08QU3cgNXdZgMk06N+sRLQuZlu4XPEFY4C3BVOGGsG5l6xXRs0wpeOaDaQuPOofKoQRPq+O64enRgPAhR0rTsMvBtWD4fY5buormjB7HIXfWqo7SCcXzyILBosv1SOik4nRB2w7FnPDF5orV/VQGePzp8uOKRqgmC3/Wnr3kbw6LbeDnIhZVpAUoWHlgSLrScnn6vKlMbTeaSqufeJTcMCv7aAUenGjZHRPM3ADadyI7PlDaddt//jC6Djx/Z/nvxjdgv7uKf0PuCM7n1ckzJIqZU4Olnx8kFiE3WbWuAs+TwdA0qOre1ygcV5YRCBM808JYubAWDRxwXqkxZyPha6vVGuO2EErwtDquRz1i8kUSGN0dpemE1a5y+WLoSsmO3k8+S895nmwid0oEA8eiNJHxRO6PN6iWBx4tHWfEonnG35ZhWXfpdyhXodX/nKGXmpA3rCah87unaKzBejWV6EhSEGNnsvw2/LU7UuWPt6H7sq5Cxtxuqy7+fWJRSo9nkcul+bmtg20DRsDCyNWtuTijaUirWtDFpWkkfLYIV87De+n5SmIHEP2UpmhsvIou2iRMJ9O0X8ukMadFdWW/iG5EU8tqyBWAxw+UWjQjIRbZdhXGivKwsN13mB6cos9WYF2n+3EiVlow1DLpXskLKF0T5SZEvZ+0v/CpJoS8SwtOoP3uNfOIEjytDvcaimnkahoZl5V3Y1GqYFoNnOET1om5v5fcBZksXTTZXHiMja7LztTwgGyB3pOIyRoWuUK4NYBdTH4sc2ZJfLOS4KngHopFqdjYqGhM6Hoi6NMn2nRd3kC40Wc1gpEno0orp+kaMoFxt+tExoJg/arwmIgHHiWBsftx+u4RU/4+3LeK4Rt/mIvLT9jvapmUHWeLCtOTvvR9f/p2rfjjwZqJv8llNELiekVIxeB2dX0qyhOMQ/Rn5fG/2Sach+1aymAeUEemHajUTDMaAZ63dfY4Hr/lIZWQQbiuK+Nuoha9FrEo9dqD3K6rg6wz6RyQGSuNR+jqoAmvYEtPQTIObFxDq23ToEDqou0rmW+SdSfokijXZdn/HcqJB39zyXLUk+VbTQd4fi0o6tp1Iput8J1fKLpueA0Q7onUIeJ8wlxcfvy/6+Z1wMHjIvMt0AH7N4/MtNBwhmJHkgR5Nk/nsN9163dxNrO4oR+2lHV3UMuTcgK7XYWxojzB+4VlCjEiLJ2uqDyuawBEmruhywromg7EI7IyO7tkLZMs2x5K+5ANDFEfMX8Ci6IEJXhaHQ4o5mrKRZtWuOmstJqMT83ePJFv8N0dJI46EjIby3VImFRKzAqz2vB4ONPLj+1QbFFnkuISyt3IudUDW1vCqqYGv8N8p+pOp+dXmIzYsrP3EPC8qHSRtetEFmxmGcQNuDe7UvRd/TVIPNDve3oIsIuymjC7uIKEHaOw1appzDw/+P9hFswwKhWmayQFIbJSCenW4+7dfAzYegW0nzBWlCdYN4vdrkFcD4BYfBYDr2VCam9l87LQKp9TbMUGWqckRQuiBE87EJbO7HnUIXh4rLaguLB087UryEXG2VmWQZOV7ciJe3SCLip2E8WiNGmcGaF98gQ5mSERli8A9++h5wwduOz8mZlQ+QLw6AEScFzrh79LIXDlO45sPOl6wHMDwHiarAiOQ2KkS1Q1bbQgYgtPOkOTd9EGujtpZcaWhILvNxgdJ2sZxz4B7TeRzWrh8f29vIfqygCilQW7RvMUjAxQ01amXEac/xhxyYUwYWKZlavKmgaQTIjMrjiJjaio93PkJAVET2ZEDapJOQltXFOaVjxX/M1SIxad23v2CWuqKGiXzZWKx3YTxory8Dm642y6b3K4AN/rdF0WLvVAr2VFHR9NowXCVIZe5/idfF7G6gDy3uS34C/BlhHVogRPu+B5MjVc12VQJiDrL1TLquXyBmwYFKcx24Tc1x3+/MplpTEeew/JAGjGcWnVHWzL8NxpGY/BBemYgSF6sIk3mOY+HiLcuPdVMC5orvCEdNRnyeIVVhhHTs7ssF5N2fpWohaXlr9Uf8SiR7fIHNy0luqj2KKIY75Qvk4Kn9eeB4xMlP/8jpS0JG3dSIX6PK6Ea5PYLOc64msmmAYP0Pk2F8EzNEbnPte7GvcV14xYNHnxeZAvyFIH098rubC9mBT1kS/Q4pPb0fR0iOBicT+LRek+25WqXMahUuKEHxZEXGrDFnXZ8gX6t9G9yhYRSvC0OkUb+N2TpabQiEXigeNFikE7aAXWryqNiSgUxX5EP6epDImJXJ4u3mRc+pQ7U/IGnohRjRRO/45F6f/+if2y84EjJ8gK9Nxp2kciJrqEa3LC2bSWLtLxKXrOb4UqF2uRjNMxYF/3s6IWz2z9qOrBv3qKWDRhcyZQLEIWhIGhyiJovmpxVMuZYapf1NVBIsC2ZSmBfKE283ilSdrQKzdMDaJrgOMTt2HdrFcuA0bGSGj19wpxIwR7WMFKP/7vw2J/KkPn6Fx+o6INPPVs+Gsc7M/WvniMznnblg1EO5JLsrfRomBkvLQ+WrCBZ6MrGvuvN9MAIPafLFNwVjGNEjytDgdj+ikUS9N2M7NE+vvN//6LbypDJvZy6eb5QP+msJ5TTFjcRDwqL8KJKeAJkVXDq3iG0+Q7U2SdOT1Mk1EuT9+NO5yPT9LKPqxqsetScHfQFdYI/C6HeJRcH0GmMqWCx1/qHiCBkYiSa4e/u2XKdP2uFL3fcShtOSosJfGYNFE3si3C6WFaHYbFZjGJWPmMDy6qFo+Wt/7Vg1/gvuCicMtjRwK4/IL69u//Pp1JKlY3Mt4YwcOcs55cFLpG11syTr8lnx+xCAXsKxYH/ut83Upy/9sOXT/LulVMTQuhBE+ro2nARdvIbWUZdMPmYns8WY1OAI/up8kiXyDzvmmVVi5m/M0IJ9Olkyi3L+juIItNvkAWG8OgiXh8UrZX4JiVvi6ycOSEOdVxSIzxnNzfS+6JdIb2UyiWjocnA8YD7WMqS/5q7kOT6Cw1EQfh75UWsSO5vAxuLYqq0eNTtC/uQ6XrtE13R+XMhpIU6zLWjHUrhXDpoAlZ1+l7PHcGOHqSxvHs8fKf8dzp8q9xK4KcyJjj34nLAei6rHHEB94WxSA5CyQZlyn6uTwwWkXrEP6twgQWZ6BsXje7VaVemhH31JWka8gyKHYNkL/pXAQPL0oiVvnWEM4sbkJFe8L3h+U9ZLlTtCxK8LQDwd5Yy7rpceCI7BoetLDYZVw7/oBetoas6KPKxY2wHDzHVaHFvrg+DsMtHRyRmRI0ww6OyI7ofvzFBMMm2IhP8Dz0RO3jjli0X8+jsSdiNLZ4rNRqVC67JxYF1q8ufc4UdYZGx0mkxqPkjrFMEnY5ISbHJ0V/syh9blFkNOULZOEKZneks+Gd0+vBNMhilRM1lfJFGh+vUot2uEm+Wen2MdG4tVmxLIk48PwLS8/1iPhNC0Vyp0YsKegMvbzI9TN9PALVyf11nzguSjUEXVwsZENaRU0owdMOnBoStWxisgcRd+StFb97jN/PMTWNYLZizJpWOYvAX8dmy1k02UxlZGVfy6Ig1SDJBE3U/kq+nKppmXRT6kjSZON5MjNidIKER/B4hvUsA2pPZ7ZM4HnbyltKAACryr+/WCSLFU+chsjsyQkxlBfiMZMTXaN1aenRQK+b5sz6QMzGtZTZFuQ3j0orUdjPxWb8Rgue9auplsj6CsdkrgR/B/9v+tiBmdv3dtECwzLpXBmfovODu7wHW7AcPUluMnZh6Tpw8fbZA8EV7Uk1dboULYESPK1OoQg8fWT27VYtFxOcsAwURRFALrzGK9BDzwHmAD3HN+RGrqbn2uWaJ4W1K4DVItsqmN0VhmVSkLTjlDYMnY1CkY6J55EQS8RpH/kiueFyBWlxAerPgKhXUFrWTAtDPYXFXFfGTmka8Mg+ioeyyky+liEETxk3T7PqCwWz/uYDXQfOPotcxFxmwPNkHaGwjC5AnhPB54IZehxfxlZKJXgWF8rC0zYowdPqVNO/Kh6lQMlyOA7wX4/Q31MhrpC5ZBE4Dk2cmRzdyIMTg+tSTE++QK9nRJ2JqSxNlju2UMwLM5dVMFccBaq/+USs8DpHfp49Rt+hv7exdVrmE7bE8HFhC00594ppAsiXL3nQrhWky7GmP7ycwcQUBXhnRUq9P04rX5TWtJExSkvXNCq4mYgB/X3kzjx8ojQ4XJX+X1y4SvC0C+rKa3WiEWDbJlGFWATCpnNkPn3utAzq5caJHKhcEBlWplG6Ej1rpTTFc3lz3ldXij6vUJQFsrjY4KRIV0/G6bmxSVqxTmXCRRmvjEcnygfkOg5NFKGCp4VOzcU2uQOzV61m4Ri08LD7zN/IdTHTmaLHbOgaCZ7uDuoEz1gmCaaiTddOLAr0V2GxVLQPysLTNrTQrKIoS7BtBIdcnBJVf6cypZ3JK7GsR/abyubJtTHXGjHcz6Voi+qxImCa09CZ/l7ZhX1knGIhgp9t+2JwWgUu7z4wRH9HIyTMuBxALELCsbdrZt+nVmW2jCGOazlykoSzK6oGczAz044i8MQZ+k4s/htBOVEciwCX7mjMZyhaEyV42gYleKrk6aefxvve9z7cf//9SCaTeMMb3oDPfOYziMcXsNhT0LJimbJrObd/YCvN8VM0aR04TDdn06B/i7YMJOYJnP/Pae4A7a+rg+JaXI+sMr1dVIPFH/Q8mabaPoDMuAFoVbttkxyrJtLE8yJeYiJNkykXHWwlweNvGzGRBhAIaOZjNJkB1q4sHbvnSUsYQNYzx6U4nJV9ZGHhTu62Q/viisTJuLQu8PEtikwi0ySLXC2Cg3uv+YO7y1l4WAjkCzMtdFz9OhZprd+pGsYnZZFKxyk9J+eCuwitgIrqUIKnbVCCpwrGxsbw4he/GOvXr8cPfvADnDlzBh/60IcwPDyMb33rWws3sOnsAB244nyaBMtddNzgMx1SpNDzSosXcjqtaQCRJFldEnHqSxQXFZYzecAeAU4OSreaqQNZXzbQZecDv31MiKrARMCB0kOjFF8UDHZupRL7rs+i0ZEksRePCUuHaPlxXKTj5wuA6RPBw+PlK/DyxAvIukdBEesXF0BpJWtddFeORUh8xmPSLel55Eo5MyJElhMeZGuWmaDXr6LA5VxBtnzgStn+OKZ2u8n7j9/gKLBCxJzlCyITq87zbjqIu82Oh2LuKMHTNijBUwW33347RkdH8eijj2LZMsogMU0Tb3rTm/CJT3wC27ZtW6CR+S40vlFzT6pMTmZoBYv9hWHosl8XMLPXTzY/syqvv41DaBdgn4gJ3gv8lgXOIOrpkJWFa81E8jwSELm8yGwyRQq/QYJA12RxxIgl3FIi7frUIH3fuKi9Y5n0+Vz2n1sdrO6nVPkwRscpEHsyXVpbKOsTktwGQRcuPX+quP9YmiaQjJHFiF0l/ol6Or7GER2W7dIu5dXS21XewqPrZK1abPjPSc8rdbuOT1EAu+eVWmz8E5nrs4pOZkRvO01aJpWFZ+mh0tLbBiV4quCee+7BNddcMy12AOCGG27A2972Ntxzzz11Cx7P85BOp5FIJKCJm2qhUECxWIRpmohGhVth3yEUATipGCLJJHSduud6RYd0hOMAux+nSTybqzkmxwOgletZNQdyp84gxmPxAMdxkMvloOs64r5aPLkdm+FELETjMZgiWJm31TQNiYQUP7lcDo5tIxKNwhIiz7FtFAcGETs5OLcBh/TCEmUICVGgLp/Pw7ZtWJaFSIQsL140Am0qCxw4Ai8RgyZcUU4+DwOAs7IPxrmUDeZ5HjLpNLR8EXHTghYxgWweRQ0oREz52xeLwGQGGdeGVnQQjUWhJ+JANIJCNgdnfBKGriNiOzThZnKlBQkNA1i9HHZHAkXXhR6NINqZmp7MM4UCvEwGsVgMhhA+xWIRhUIBhmEgFpNNQTOZDDzPK9nWtm3k83nxe0qRl81m4bqu3NZ1YaezKGYy0HQdsd7uaaHF20aj0Vl/+1q2zeVycBwHkUhk+jxxXRfFbE6WFepIkKAU1k1vcATa6ER4fSvDADTAs50Z2r0En+AJPU88D5kMidNZr3sA6XS65m3j8TjdI1D+96xl21p++3rOk7Dfs5Ztq/ntaz1Pslm6jpJJ2dAz7Pd0XRdOoQgLKBHG9fz2jThP/L9nI86TsN+zKfeIKrat5refDbUcqYJ9+/bNEDXRaBSbN2/Gvn37yr5v06ZNZR/Hjx/HkSNHkEqlMDQ0NP2ez33uc0ilUnjPe95DT9gOcGYE1pkRxA6dhP7EM1Qc7aEnoPmtNvkCuZqKNnKFAh555gDSpk4xNst74IltT4wMy7YEwhIxfZnqZP0Yymfxs4d+i8ePHaYYkp5OYN1KfO+//hMP7n1yel8AYHsuhsfHMDQxLoOhBbGDJ+R/NA333XcfUqkUrrzySl/zTwPveOc7kerswN133z29+e7du5FKpXDhhRfKfeQKmPw/v0HhPx/C1H8+SE1Vdz8O7TePln7WxjXA2hV48OAB/Oyh3yJdFHErnSnkTR3jU1PIFQoz4k/+8dv/hn3Dp0u6FpdMbsLN9qEPfQipVAqf/vSnp1/KJOQNxR2TVaEfeuC3AIB7f/0recxsG6mODiSX9WLcs8my1NuF/+cL/4xUKoUPfehDtKFlAb1d6Fq1EonVK3AqMzVdQuALX7oNiVX9ePtH/posT9s3A5ech/VvfDXW/+n/hUMrOoCrdgKb1uL2734biZXL8Wd/+ReinYYJmCa2bNmCVCqFJ56QlanvuusupFIp3HDDDSXH5sILL0QqlcLu3bunn7v77ruRSqXw8pe/nJ4Q58WVV16JVCqF++67j+rP3L8H5p59iO8/itjew8DeQ9P7uOaaa5BKpfCTn/xk+rn7778fqVQKl156ackYXvWqVyGVSuE73/nO9HN79uxBKpXC9u3bS7Z9/etfj1QqhW9+85vTz+3btw83f/KT9J+Vy4CLtgOX7sCf/88v4PTIMDTXK1/M03GAoNiJRoCIBdfQMTAyjGw+R1lagptuugmpVAo333zz9HOZTAapVAqpVGp6QgOAm2++GalUCjfddFPJx/K2Fe8Rgv7+fqRSKRw7Jl2lX/7yl5FKpfAXf/EXJdtu2LABqVSq5P71zW9+E6lUCq9//etLtt2+fTtSqRT27Nkz/dx3vvMdpFIpvOpVryrZ9tJLL0UqlcL9998//dxPfvITpFIpXHPNNSXbvvCFL0QqlcLPf/7z6edK7hE+Xv7ylyOVSs1+jwAtRlOpFO66667p55544gmkUils2bKlZNs3v/nNSKVSuOOOO6afO3jwIFKpFNasKU1AeMc73oFUKoUvfOEL08+dOnUK3/73f6f/+ARP2D1ifHx8+ve0fdmPn/jEJ5BKpfCJT3xi+jnbtqe3HR+XpT4+/elPl94jBN3d3UilUjh16tT0c1/4wheQSqXwjne8o2TbNWvWIJVK4eDBg9PP3XHHHUilUnjzm99csm3D7xGCknuE4Oc//zlSqRRe+MIXlmxbyz1iNpTgqYLR0VF0d3fPeL6npwcjIyPN/XANwNaN+MqP/l88uPdJFCxjOqA079BFk87ngN5OcsEYOgxdR9SykDc5kDgzvUL41m92kSvDouaUt9/z/+HKd70Ne+Ie8IKLgSsvxM8Hj+HlH3kf/vrf7gCetxW44Bxg01p86t+/gSve9Vb8Cmng+TuBKy/ET8ZOYtmrr8WrP/P31PNL1LQpOjaeOnwIaZcvbA8J6Hjd1dfg9S94MWU8DY4CjoOv/9WHcNff3oILU73AvkPA3kMwgh44UcF2eWcXejo60ROJTVcaLjmJoxZw1ipg8zr8009/iJd/5H345oFHaLzP24pj/R3ofuWLsPJ11wNXPW9axDxy7DBuuv02/OTgXqqM/MKLcWrjClz89jdjYEQ0Ta2Q0VPs7sCuR35P/8nJSTNukUDJFMpUOm4w4+k0jp0egGPoTY8p0KHh//m/34UvvPVdwO7HgF8/DOx+HF9914fwqRvfjpV6ZDq2yfWL83Qd7rcGEY+KFanP/eC4Li56+5vxw4NPAReeA1y2A8fW9mL5q6/Fjre9Adi5lSolX7wdH//htxG99vn43G9/CVx+PnDlhRg+dx1WvfZlSL38DxvbSLVG3vSSl2Lyp79C70hII9+lQtHGn1zxAtz2/g/j3I5eimE7NYhleRcvu+z52LZu/dyzUgNYXEJDxfC0PJrnzRbcobAsC7feeuuM1ddVV12FlStX4gc/+EHN+9y0aRM8z8OTTz5Zn8nS8+A+/jR0jh2YA9lzzkKkv68x5uozI8C+Q3A6Esidux6xwXEYR0+Gfm4lvEQMrnAjGPEYZdeIjC+7MwmsXUHmTU2D47rwjp2EOZ6mVfcV1Em7KnP1g48DuQKc7g7kzl47w1ydzWYRf/xZ6IUiTXxdqXBz9eET0ERguJeIQTvvbMC24T59FHo6C/vsdTDXULPKRWGuHh4HngyUHSiHacK+7DwUJqeQeOIgWZlecBGA+Xdp2U8fQeT0CFXy3ryu4rbVujX8v+es2zoOMtksoGlIxGLQRIxQI1xazu+ehMHJBy+8GNC0pefS2neI7kGzkUoAF56DnG3P2aXlPvkMzNFJqtYtilcql1ZrurRUDE8V9PT0YHR0dMbzY2NjcwpY1jSt5IICgEgkMn3S+wluB02D7q+HApCLJhaV7QM8T9bF8Zvql3VT1tUpyrCK225J8KppmtMnlp+SE8ulgGhT12FaIivoxBnaJwDDcWnMLiit2XFE1+4EiRLHoYmvTwTOcjuMsUlgMg0tk8P0iPyxNYYB89wNJQ1VDYCyxYCS4Gz/xcjoul56LLngcMhvMWNbUWQvGo2W3EAAQBuXwlPL5MjdBmlCNX3HN+x3B2r47Wvc1rKs6Zu5n7AbRdXbDvmuh3Ur6ZwyTdHstEhF+Lg56pp+mJYFs1O4e7jViaGHlnUwDCP0e9SybbnfPsK/gy/WpqrzRBD625f5PWdsWyhC+92TSPK1aTvTJSQi0BBZtWxGA9pafnvDHzBdtIGIVfb3nOt5UtU9YpZtm/Lb53yW1O4OOgejEToetiMD/acywGQGsZ7OGfut5bfXdR26PrO6ey3nSdjvuSjuEajtt2/EeTIbSvBUwbZt22bE6uTzeRw8eBBve9vb5n9ArksXrj+zB6Dnpiq4C3SdOkX7M3OOnZK9pPIFytJKCVFiGiSUJqZEFWeHtivaszcu5dc7khRLIia4qsy+mRxNqJZFLr1cnoTc8t7ylX15t4UiCS/TIHeV41D8TiJOn82tLSxDZrEBVCvn2CnZIZzFov+7PH1UpnjzZBWxKB4p2K0+yFx7jLUaXLhw/arSYosJIR5WhTQk9Z93tg0Yc2hpUi/NanpaDXwN+eFJGKAij6uW11+SwfHt++G9tMCIx2ji54zFziRdT5NpKlFhmZQ9yNe77dC1ZBiiqnuWtonHZP+9XF7eI/h65izPhc5S4+tsx9nh7kXPA/bspYzK4G9RLypLq21QgqcKrr/+etxyyy0YHh5GX18fAArGyufzuP7665s/gGyOUsInM2QBCYqNeJQCMMcnRedv0V6C68ckE3RRJuOlk07Ct7I9fAJzJpUA8qL/kuvzlGpabQXqEjGKwwljeIxuutEIxesUbVrVDY3Jbfz1bWqh0jHQtZkd1Hmy8tcwuuAcoFAQdYc84OQQ/S7uIvMcc1ZfLZWKNY2sQLZNx9o06Jjyqi5foMfalc3rlr6Q9XL8E+y2TVTXigOlOT2e+3V5HrlmhsaERUxYRCMWnffdnSRk/AsIf2wK3yNyBdm0tBxco0vXS9Px/SI9+P8wNI2+VzXNfpvFbAUguSwFsqUCcS6oOjxtgxI8VfCOd7wDt912G1796lfj7/7u76YLD77pTW9qfg2eXB546MnK28RjNHnUGjC5rAdYNUkF6bhuDUCT0NgkXcgRi/bfTxlVsB0SWNEI3VSyvswUXQeOnACOnsK0r6iRjE8BT5Yp4sck47LNBVthbEdOAJYpLT+GQQ9dE7WMTFmF2PNo1arrsur0kZO03c5z5Q21UKTjlclRMHjQRM49yA4ep4knJlbalkn77e1a+FVxPdTbS8vQARtUFLEcA4PNFzwLccxZ8PR2zWwXk0qQdZbP02OnZnZd93NsQFZE5+uR9799szzHMzk679hlXCjSNdGVIqvnVEZe635BExQ3/v/HojOty4CoKj7e2oIHAAwx7TXawqMET8ujBE8VdHd347777sN73/tevPa1r0UikcAb3vAGfPazn23+h8eiZPHg1Z0lqinn8rLYWb0mcEMHztlQ/nWOBapEPLDCZwtSMwwa/ptsV4pECIuUVIJSja0yp7Tr0mq6nlYIoxPA40/T36uXz2wmWamDut8CEuwkz+g6rdpNA4hEg8j4pQAAIpVJREFU6Pc2dJqg/LEHGkR2nYiVsR3alosZ9naS6J1uQ2HTpMdjcFzp+svmaT/1Vhae7h1V4/Fc3kM94DqTdN7aDlk6LJPOmYPHS1t5NJqFbARbqU+cqPGE8Sm67ljs9PdSSxcN9LvmhcAeHpMV0v0WRk2jeCo+B3q7KECb4SKfweuaK3HzvaRYpOslEZPNiD1Pnm8AXY9cmPH4AD0anAFVM2xJrSTEubp4owSP6pbeNijBUyXnnHNOSb2IeSOXlxNfOZIzgy4bQj0XMN9ompH8xzeoZd3AeWfX9l5dr1yEwb8y9DzpQsjmpwOxAVQWN2Es7yFhOpUhkWaZtH+OjcoX6bOnKylngArGjxn4Y7ZODZK1ikXndL8snSbZYGuJiEWp1fVM/vVaeDavAzatDT+3bJsEjy+ouSJTGWm5yOTIuhePyhYrsYicrGMiUJ7dOwsheCo1bGWhwS1KmHUrw6uOOw7F4BSKstho0Z7p5gpS7nsbBpDwjcsM/B02Zr+Y7xBjbJZY5Srwhk7fna1VjlvaU64aQcvXh3JpLTmU4Gl1LFOuDPmCYhcMC4BoDXEUzaZcq4IwhkZpopoOJBWWq64O2YbBD2dgjE1Sg1IOSLYsipuJRWlCrcXilclS/AS3nTANOeEG2bapdsETsYDzNoe/5nn0fTmOwxFB5/w9TQOAcFtEhAUkk6PxJYQbcyorVt8ucGZUWLICk45T5vsUikIM1HH+8P5q+b2ZchODYcjswqIvqJktGbkCCZdEjKxEzxyt/bOZhXRphYmHzhQwMCxdqJpGAs7fpsQPByC3ChyHZc8ieIZGKakgIiya7ErWNDoGqTid07k8/d7jk7QYsEVcomnSdeJfUBnimG1c61u4VBAf5iyCx3bIwuUPyvafs55XGqCtBE/boARPq6Pr0j3EF5bjv9gNukm0CtWu+NNZ4KmD4a+dGqKVbkeyNJaIC9bZzswAYoCCmTsStfWAGpmQAoMn2jBMg1xGjUQTWTSAnNiW1Rj/4N/+nA1SQPG5YpnS5ZGI0fnieZTFky+UFzwsMoo2vS8oIqcFTwOFA09+hSIJ0bEJCtplS045EjH6DoWidAGWm8yiFrkNu1PhrzcaV8R+ZbJUuwiQ4sDPymWiIKjZnjFdfH5kclSfqVAkAbN5XakQOHaqvr5vjH/xZxp0b7RtEkknzpQ2VC4Hi/RTQ/Q+vu55oROMX9KFGOtIkmvxzIhcIGma3F7pnZZHCZ5WR9Mo84c7YxdtmtRMU9zoI/WtspuFfyyVYoD8TTW5Fk8uT0LIcelff18o/4SXSlCBr4hF78nmqWpzvlC7SZ0nxmU95GrhoE7LpP0l4yKo2wifqFoJv4Dyw8HofiIWfb9cAYgVZexTrkA37mOnaELw78NxAIiJppJ7Zi6w4HnmaGlNFY5zygaCZXeeSxbBIFy6gQPPueFnuRivZjEyPtNNFWa10bTw36ld8AtiFnaTGUqzL2mmK36/LiEgOEg7L1y8nkf3gngEiMdpu2RcxpvlC9L6BdDvfOg5Ejv5wPlSjs4UiRjXC184BXE9WngFi7x6XqmlqZ1/vyVCi9/BFQBmZv60MsEu6NNBzOLmYgs3FE9mhg5sWS9vFvkisO8g3QjZZ9/TSRPrc6dJDK3ooxVx8HOPnqw9EJG3j0VkxgvDN/FgYPZiIGoBk6DKtAD9Jq5X3jLin0z8q+xGWngAis9KZ0vFzo6zKTbFENl3JwcpG9DQw+NbABHk7xtbvYH9c8UfN3XuBppsE02KuVtILJNcvuksHWsuDfHsMaC/j8pVmKa83nacPXMB4Xl0vKJW+YVSULDqOtXnOnGm9JypdF52JoErd9JiKZOjfViGLJsQseTiEqDvxFZG1yOLere4J2saXQ8eyrsfFS2DEjyKxuK/0Ty8l24C/ho5QRyXOr0booif3/LDZALPhVkVLPHcbDEEMz6/SZaKVieVLP1dij4Rw3E0nUngwnNJfOYKdIw9iEa1abrx12pdLBbJjcgVbyfTtO9CgfYd/B1ikdJyC5YJnLWSPjsWbS3rZhh8Pq5aNlOkLzb8qfa5PC1QwiwjZhlrKQea1wqLIL6Ww7LQgpgGieVyghmQIjlizbLoXIQLokWKEjyKxuKfgLL5UheEptHqNpefGUTrOEDWZ13o7aQJzXZo20xWTMpauAuDb6C1psXyirPVJ85Gs24FHeOIRd+ds726UjMni2ik1FyfjNcevM3sO1y5EF6wqGbYxKVpC9qksyb4fGx1d2ijWbuCrumJNP1eqThguyR4gzWI5kokaPVRwTSKcJbYVahoOv6bzeZ1NJGOTtBEum4lTZzZPAVyjk3I7bh0/cCQqNi6caYIqZQNwZaBel1aS83Co+sUQ8F0h4jIZsDWuu4O+j1TCXLzcOrzI/tnjrOdYcEz37FDC000UrnGVyPxZ/fx/xWKEJbYVahoOv4JatVyEjCnhymoeHBmA1as6S8tjFapSmslMzWvoNNZ4MARigXp7pA9xxyXLBOaRpOQZZI4W6qCZ6FgAXDOhvDYqPO30Dmj63TetNNq/bnT5O7j+A7PI8sksPQEz3yiacDGNeSiNXRgZd9Cj0jRoqirUNFY/BPU0GhpV23/KixiUYxIuZ5ZtZKM06oyX6AJc2Bo9vf4UavC5uM4MoW3nADo7aLHxBQJnmwBODMsshLjlQNaF5J8gYomAiR8gixU0PRSYd1KeigUFVCCR9FY/EGv+w/L53dsKa1j0+hJyzSAy3ZQaf6hMRJaHA9imlROfjozzCjNRopFW6uI22KlWEN2F9cGsm2K+/Gj6ySsLzhXVvhdyB5ZQGns2HS7D41q/vR0tlempUKxSFGCR9FYNA3YsJp6/TDxGNAzS8n7RqDrcnI5ex0JHn8ht6ItWy9w+whuSaAsPM2haJOlJp2VvcS4sm4lIha5t4bGKJOraMvUeNcFXAB79pI1yLap5gvXcNFFto9lUezYymWib5eo1qvrjXcxsWs0HgUu3dHYfSsUioagBI+i8Zy1qnGuqnoJK+Tmn+S45kawEaiisew/RGnofrqqPObs3mK4gvLoBMVpATMbsjoO4EBaXEbGgcMnZKE55pLzGls3ZamWN1Ao2ggleBQKRfPICqtMdweJl2S8fvcOZ3KtXEZp6YMjZNWxLNqvaQg3pkZWIdehatH+fm3M6ERjBc9SLW+gULQRSvC0C54ni7XlCnRzN3QRn6JusooWxRVCYNPa0jT4uWKZwOr+mc+zVY9je9aulK5LyyQBdOwUBRhHrMbVhFEWHoWi5VGCp9VxHODBJ8oX1NM0Ms8vxnL1ivZnLl3VG4VhSLHV00GCBwBODzVO8KjyBgpFy6MET6uj6zOL6XEjR9shy8/4lBI8itakGV3V50J3JxW6PHicYos8j8Y4MkZdsF1PWoPiUdkGwTQoEDoWpUWG45L7LF8gS9HpYdq/cmkpFC2LEjytjqYBF2+XHbwBmXV04AjVm8nnZ76vUKRHItb+1WoV7Ynr+qrfttA5uKJX1sz59cPh2+QLst1GLaggeIWiZVGCpx0oF1zJjfaeO0MrS2686Xq0WvU8EjvRCKCBzPfrV8/LkBWKkn5prSS6LYuqgJ8eKg1mjlrAmhV0vRVtWjC4rvw7nRUijreP0CLEtunvvu7KlcIVCsWCogRPO8PF2RwHOPTczNd1nW7QLISOnKRqpK00+SgWLyx4NK31zrlz1lOtJnYXOw7Vi1IoFIsWJXjamb5u6hk1PkUug+W9IubHpte6O0jspLPA3kP0nkJRCiWFoplw5lIrubP86DoQ4bGp1g8KxWJHCZ52xjSA886u3EU8EadH7AQ10cwXZOpuK/YkUrQXz52m4n4ayK2aSgDZfGnjTBXIq1AoWgAleBYD1QiXqEWC59EDNAG5LpCKU5DlprWt53JQtD6jEzL4lxkcnbmdStVWKBQtgBI8S4XOFLm+AOlqmMzQo7sDWKaCLRU1MDIOPPEM/R21qAig61FmUyxCqdqZHAnrVcsXdqwKhUIBJXiWDhtWU0l/26bJyDKB3z1Fr+WLCzs2RevhusDYJInjaGRmg9WTg/LvzWep7CSFQtHyKMEzC47j4POf/zz+4z/+A3v37oVt2zj//PPxyU9+Ei95yUsWenjVw53E/axaDpwaBIpK8CgCHBsAjp4sfS4aoQDkjiQwPEbPbVhNgfMKhULR4qjAjVnIZrP49Kc/jZ07d+Ib3/gG/vf//t9Ys2YNrr32WvzkJz9Z6OHNDS5kWK5thWLpkvYV3eMsq3yB3FRcVVjXqW6NCn5XKBRtgOZ5njf7ZksXx3EwMTGBnh5psvc8D5dccgk6Ozuxa9euuva7adMmAMChQ4caMs66OHEGePYY/d3fSwXVTJ3ifSIWTXAeqFpzPErPqcltafDIPmAiDWzfTBacQpGa1ubyFKcTjQBdqcY2BFUoFIomolxas2AYRonYAQBN07Bz507813/91wKNqkFEfbVHzozIv08NVX5PxAKg0b+uS7Edtk0Pjgfasl7FdbQ6vNaxHarXFI3Qw7apdhMgRS6/1pUCVvQt3JgVCoWiTpTgqQPXdfHAAw9g27ZtFbdjK04Yx48fx7p16xo9tNro6QLW9NPKnRslFm0KVs2L5yyLVvQFIWTyxeqCnM+MKMHTygyPAfsOAdBm9rzyt4SIqoJ8CoVicaAETx3cdtttOHDgAG6//faFHsrcMHTg7LOq29Z2aOWfK1CQs+fR37pOf1smPUYnyFXmurPvU7FwDI6WChvG/5xpCGueQqFQtD9LUvCMj4/j1KlTs263ceNGRKOlbRh+9atf4SMf+Qj+5m/+Bi984Qsrvr9SfE4l609LYhr0mK0tBfcmUqFhrQ3/Tv29FHjckSA3lu1QQUp+XRWkVCgUi4QlKXjuvvtuvPWtb511u0ceeQQ7d+6c/v/jjz+OV7/61XjNa16Dz372s00cYRuji6BmZeFpbWyRmbesG+gUgcephHzdXJK3BoVCsYhZksu3G2+8EZ7nzfrwi52DBw/ipS99KS666CL8r//1v6CpbKVwNHFKucrC09KwBUf1uVIoFEuEJSl4amVgYADXXXcdVq5ciR/+8IeIRCILPaTWRVl42gO28FjKkqNQKJYG6m43C9lsFi972ctw5swZ/Pf//t+xd+/ektevuOKKBRpZi8IxHyqGZ24Ui3Qsq7HAeB5l0Wka/Z0vAMmEFJ2WSc97ngwyLwoLj2rsqVAolghK8MzC6dOn8dhjjwEAXvOa18x4XdVtDLCQFh7HAbJ5Sq23HZroO5MLG3ibywN7D9HYDJ0y21wPiEeAzg4AHrX80HUSH6MTVMk4m6f3Gwa9T9OoBk7EouBiy6TtcwVgMl25WnbUAmyXxmCZpduqWB2FQrFEUHe7WdiwYYMSNbWwUDE8RRt46AkZm8LoOgkGLqCnadTN2zLp784k0NVBRfWawZkREiRBprL0AEobcQZxHNnd3l8cshb8dZP8YqcjqSw8CoViyaAEj6KxLJSFJ5uTYicRo4mcrT2uWzrR+wXICZDwuXQHFVqsF8cBhsZEh3GXWnTEosDQKL2+ahnQ203HxzKBiSnqS+V6ZNUpFsmak0pQqnhPJ/0/X6Dx2w4wPkkWnZRwVzkujT2VALo7AA30PaMR2p6LCI5Pyu0KRRm3E42oViEKhWLJoASPorHoC2ThYYGViJF4AShWJZsHCgUSAHkR5+I4JCSKNllNPI8EyFwEz9FTwPGB8q8v6wF6u+T/q+1BZcbl38Fu92FwzA+LGl2nz2aaZclSKBSKFkcJHkVjYQtPNW7Aok1WiEbE2Dji8/z70jQSQIlY+feZBrmUTpwhtxe30NA0EiVTaRJLPV3kCisH954CgLNWyUBigERGNWJFoVAoFE1DCR5FY/ELHs8r7zLJF4CHnqQYmgvPnfvnsoWnVvGUFMX2JtPA40+X307XgSsvKB/kyy6z8zaXWlQUCoVC0RIowaNoLH7BwZ3UwzgzQq+PTVYWRtXCgseoUfCs6CPxNTJO+7AsAB5lV+WLZAGyHXotkwc6y1wybM1RvacUCoWiJVGCR9FY/MJl/2GZHVUQXdZzeUqTnszI7fIF2aOraANHTgDQqKcTNyW1TMADCZCwOJR6LTyGDmxcQw8/7JKyTODR/TTe8UnAdegzsnkSQpz5xYLHUoJHoVAoWhEleBSNhQWA51HWUhiFYun/H90PdHdS0PDgaGk8TNj+L9pW2vcJkF2+G1VzR9OksIpEAGSAQ8/N/r6IuqQUCoWiFVF3Z0Vj0TSyloxPUQdu1yOrjS4ERGeKUrALReDwSWpxkC9SsT0/0QiQjNN2mZy04HgexdsEBc+0S6sJadZBN5Vp0NgsS8Yqua5MJVcoFApFy6EEj6LxrFsJrKtiuxV9lCHFYiWbJzGUiAOb1s6M69l/mIRRWFXhel1a1dCRAE6Jv89ZD6xa3vjPUCgUCkVTUYJHsXAYBomjamFLS9AlBjTepeVn5TLK5vJcslApFAqFou1QgkfRPnAxPb+Fx3EpEJq7fzdD8HALCoVCoVC0LUrwKNoHtvBwdeRsngKc/UUOa01LVygUCsWSQAkeRfvgD1QeHA3fptqWDQqFQqFYUijBo2gfknHg8vOpy/jkFGVJdaVEM02RLaW6fysUCoUiBCV4FO1FLEqPZd2lzzcjHV2hUCgUiwYV8KBQKBQKhWLRowSPQqFQKBSKRY/mef4UF8V8EY/HYds21q2rpkKfQqFQKBSKMNatW4df/epXs26nYngWiGg0WvW2x48fBwAljpqIOsbNRx3j5qOOcfNRx7j5NOsYKwtPG7Bp0yYAwKFDhxZ4JIsXdYybjzrGzUcd4+ajjnHzadYxVjE8CoVCoVAoFj1K8CgUCoVCoVj0KMGjUCgUCoVi0aMEj0KhUCgUikWPEjwKhUKhUCgWPUrwKBQKhUKhWPSotHSFQqFQKBSLHmXhUSgUCoVCsehRgkehUCgUCsWiRwkehUKhUCgUix4leBQKhUKhUCx6lOBRKBQKhUKx6FGCZ4F5+umn8bKXvQzJZBL9/f14//vfj2w2W9V777zzTmzduhWxWAw7duzA9773vSaPtj2p5xhPTEzgU5/6FC6//HJ0d3dj+fLleNnLXoY9e/bM06jbi7mcx8zdd98NTdOwY8eOJo2yvZnLMR4ZGcG73vUurFq1CrFYDOeccw5uv/32Jo+4/aj3GKfTaXz0ox/F5s2bkUgksGXLFnzqU59CPp+fh1G3D88++yze+c53YufOnTBNs6ZrvSHznadYMEZHR701a9Z4z3/+872f/vSn3p133un19fV5b3rTm2Z97/e+9z0PgPfRj37Uu++++7z3ve99nqZp3s9//vN5GHn7UO8xfuKJJ7yVK1d6H//4x72f/exn3o9//GPvmmuu8aLRqPfwww/P0+jbg7mcx0wmk/E2bNjgrVixwjvvvPOaONr2ZC7HeHJy0tuxY4d36aWXet/5zne8Xbt2eXfccYf35S9/eR5G3j7M5Ri/+c1v9jo6OrwvfvGL3n333ed95jOf8SzL8t773vfOw8jbhx/+8Ife2rVrvRtuuME7//zzq77WGzXfKcGzgHzmM5/xEomENzg4OP3cXXfd5QHw9u7dW/G9W7du9V73uteVPHfdddd5l19+eVPG2q7Ue4ynpqa8dDpd8lw2m/VWrVrl3XjjjU0bbzsyl/OY+bu/+zvvhS98ofeWt7xFCZ4Q5nKMP/axj3mbN2/2MplMs4fZ1tR7jIvFoheLxby///u/L3n+r/7qr7z+/v6mjbcdcRxn+u9arvVGzXfKpbWA3HPPPbjmmmuwbNmy6eduuOEGRKNR3HPPPWXfd/jwYezfvx9veMMbSp5/4xvfiIceeghDQ0NNG3O7Ue8xTiaTSCQSJc/FYjFs27YNJ0+ebNp425F6jzFz8OBBfP7zn8cXv/jFZg6zrZnLMf7617+Ov/iLv0A8Hm/2MNuaeo+x53mwbRtdXV0lz3d3d8NTdX1L0PXaJUcj5zsleBaQffv2Ydu2bSXPRaNRbN68Gfv27av4PgAz3rt9+3Z4nof9+/c3frBtSr3HOIx0Oo1HHnlkxv6WOnM9xu9///vx53/+57jwwgubNcS2p95jfPjwYZw+fRo9PT145StfiWg0ir6+Prz73e+uOcZqsVPvMbYsC29961tx22234cEHH8TU1BR27dqFr33ta3jPe97T7GEveho535kNHZmiJkZHR9Hd3T3j+Z6eHoyMjFR8H4AZ7+3p6QGAiu9datR7jMP427/9W2QyGXUTCzCXY/zjH/8YDzzwAJ5++ukmjW5xUO8xHhgYAAB8+MMfxute9zrcc8892Lt3Lz72sY+hUCjga1/7WrOG3HbM5Tz+yle+gne+85244oorpp9773vfi7//+79v9DCXHI2c75TgWWA0TZvxnOd5oc/P9l42n1bz3qXEXI4x8+///u/4l3/5F3z5y1/G2Wef3cjhLQrqOca5XA4f+MAHcPPNN5e4ERTh1HOMXdcFQKvjr3/96wCAl7zkJSgWi/jwhz+MW265BStXrmzOgNuQeu8VH/3oR/GTn/wEd9xxB84991w8/PDD+OQnP4menh7cfPPNzRrukqIR851yaS0gPT090+rVz9jY2LR6Lfc+ADPeOzY2VvK6ov5j7Of//J//g7e+9a348Ic/jHe9612NHmLbU+8x/pd/+Rfouo43vOENGBsbw9jYGAqFAlzXnf5bQdR7jHt7ewEAL37xi0uef/GLXwzXdWt26y5m6j3GTz75JP7pn/4Jt99+O/7yL/8SL3zhC/HBD34Qt9xyCz796U/jzJkzzRz2oqeR850SPAvItm3bZtxw8vk8Dh48WDFOhF8Lvnfv3r3QNA1bt25t/GDblHqPMfPQQw/hta99LV73utfhs5/9bLOG2dbUe4z379+PZ599FsuXL0dPTw96enrw7W9/G/v27UNPT8+0RUJR/zHevHkzIpHIjOd5dVxPEOlipd5jvHfvXgDAzp07S57fuXMnbNvG0aNHGz7WpUQj5zt1ti8g119/Pe69914MDw9PP3f33Xcjn8/j+uuvL/u+jRs3YuvWrfjOd75T8vy3v/1tXHbZZco94KPeYwzQBXb99dfjqquuwje+8Q3lKixDvcf4ox/9KHbt2lXyeOlLX4oNGzZg165deNWrXjUfw28L6j3GkUgE1157Le69996S5++9916Ypont27c3bcztRr3HeP369QCAhx9+uOT53//+9wCADRs2NH6wS4iGznc1JbErGgoXurrqqqu8n/3sZ96//du/ecuWLZtR6Optb3ubZxhGyXPf/e53PU3TvI9//OPerl27vA984AOq8GAI9R7j06dPe+vWrfNWrlzp/fKXv/R++9vfTj/27Nkz31+jpZnLeRxE1eEJZy7H+MEHH/Qsy/Le/OY3ez//+c+9f/7nf/YSiYT3gQ98YD6/QstT7zG2bdu77LLLvP7+fu8rX/mKd99993mf/exnvWQy6f3pn/7pfH+NliadTnvf+973vO9973ve1Vdf7a1bt276/2fOnPE8r7nznRI8C8yBAwe86667zkskEt6yZcu89773vTMKhL3lLW/xwrTpN7/5Te+cc87xIpGIt337du+73/3ufA27rajnGO/atcsDEPpYv379PH+D1mcu53FwGyV4wpnLMf7FL37hXXzxxV4kEvFWrVrl3XTTTV6hUJivobcN9R7j06dPe29/+9u9DRs2eLFYzNuyZYv30Y9+1JucnJzP4bc8hw8fLntf3bVrl+d5zZ3vNM9TlZEUCoVCoVAsblQMj0KhUCgUikWPEjwKhUKhUCgWPUrwKBQKhUKhWPQowaNQKBQKhWLRowSPQqFQKBSKRY8SPAqFQqFQKBY9SvAoFAqFQqFY9CjBo1AoFAqFYtGjBI9CoWg5NE2r6vGf//mfuPHGG1uyX9H999+PaDRaU/PI0dFRdHd344c//GHzBqZQLFFUpWWFQtFy7N69u+T/t9xyC3bt2oX77ruv5Pnt27djcHAQExMTeN7znjefQ6yI53m45JJLcOWVV+JLX/pSTe+9+eab8a1vfQtPPfVUaKdzhUJRH0rwKBSKlufGG2/E97//fUxNTS30UKripz/9Ka6//nrs378f5557bk3vPX36NNauXYs777wTb3zjG5s0QoVi6aFcWgqFoq0Jc2lpmob3vOc9+MY3voFzzz0X8Xgcl1xyCXbv3g3P8/C5z30OGzduRCqVwotf/GI8++yzM/b7y1/+Ei95yUvQ2dmJRCKBq666Cvfee29VY/rKV76CSy+9dIbYue+++3D11Vejr68P8XgcZ511Fm644QZkMpnpbVasWIFrr70WX/3qV2s/GAqFoixK8CgUikXJT37yE/zP//k/8ZnPfAbf/va3MTk5iVe84hX467/+a/zmN7/Bl770Jdxxxx3Yu3cvbrjhBviN3d/61rdw3XXXobOzE3feeSe++93vore3Fy996UtnFT2FQgG//OUv8aIXvajk+SNHjuAVr3gFIpEIvv71r+NnP/sZPvOZzyCZTKJQKJRse/XVV+M3v/kNxsbGGnY8FIqljrnQA1AoFIpmkM/n8Ytf/ALJZBIAWX1e85rXYNeuXdizZw80TQMADA4O4gMf+ACefPJJnH/++chkMnj/+9+PV77ylbj77run93f99dfjoosuwsc//nE8+OCDZT/30UcfRTabxUUXXVTy/MMPP4xcLofPfe5zuPDCC6efD3NbXXTRRXBdF7t378bLXvayOR0HhUJBKAuPQqFYlLzoRS+aFjsAsG3bNgDAy1/+8mmx43+es6keeOABjIyM4C1veQts255+uK6Ll73sZfjd736HdDpd9nNPnjwJAOjv7y95fufOnYhEInj729+OO++8E4cOHSq7D37viRMnavnKCoWiAkrwKBSKRUlvb2/J/znjqdzzuVwOAAUNA8Af//Efw7KsksdnP/tZeJ6HkZGRsp+bzWYBALFYrOT5zZs345e//CX6+/vx7ne/G5s3b8bmzZvxhS98YcY++L28L4VCMXeUS0uhUCh8LFu2DABw22234YorrgjdZsWKFbO+P0wUveAFL8ALXvACOI6D3//+97jtttvwgQ98ACtWrMDrX//66e34vbwvhUIxd5TgUSgUCh9XXXUVuru7sXfvXrznPe+p+f3sIjt48GDZbQzDwOWXX46tW7firrvuwp49e0oED7u7tm/fXvPnKxSKcJTgUSgUCh+pVAq33XYb3vKWt2BkZAR//Md/jP7+fgwODuKxxx7D4OAgvvKVr5R9/9q1a7Fp0ybs3r0b73vf+6af/+pXv4r77rsPr3jFK3DWWWchl8vh61//OgDgmmuuKdnH7t270dfXh/PPP785X1KhWIIowaNQKBQB/uzP/gxnnXUW/vEf/xHveMc7MDk5if7+fuzcuRM33njjrO9/05vehC996UvI5/OIRqMAKGj5F7/4BT75yU9iYGAAqVQKO3bswI9+9CNcd9110+/1PA8/+tGP8MY3vrEkuFqhUMwNVWlZoVAoGszJkyexceNG/Nu//Rv+9E//tKb33nvvvbjuuuvw1FNPYevWrU0aoUKx9FCCR6FQKJrATTfdhJ/+9Kd49NFHoevVJ8S+6EUvwtlnn42vfe1rTRydQrH0UC4thUKhaAJ/+7d/i0QigRMnTmDdunVVvWd0dBR/+Id/iHe9611NHp1CsfRQFh6FQqFQKBSLHlV4UKFQKBQKxaJHCR6FQqFQKBSLHiV4FAqFQqFQLHqU4FEoFAqFQrHoUYJHoVAoFArFokcJHoVCoVAoFIseJXgUCoVCoVAsepTgUSgUCoVCsej5/wHx0l/hKZeSWwAAAABJRU5ErkJggg==\n",
          "text/plain": "<Figure size 600x700 with 4 Axes>"
         },
         "metadata": {},
         "output_type": "display_data"
        }
       ]
      }
     },
     "fa4de6b381c5496b8563e5ce54c47551": {
      "model_module": "@jupyter-widgets/base",
      "model_module_version": "1.2.0",
      "model_name": "LayoutModel",
      "state": {}
     },
     "fa731a40da6d4486be1365c5ae21ab2c": {
      "model_module": "@jupyter-widgets/base",
      "model_module_version": "1.2.0",
      "model_name": "LayoutModel",
      "state": {}
     },
     "fbcc32ca8cdd4d928c104e3e5112d93c": {
      "model_module": "@jupyter-widgets/controls",
      "model_module_version": "1.5.0",
      "model_name": "IntSliderModel",
      "state": {
       "description": "$r_L+r_R$ (Hz)",
       "layout": "IPY_MODEL_5d3166a912dd470fa27fdd4803db5c0d",
       "max": 50,
       "min": 5,
       "step": 5,
       "style": "IPY_MODEL_43b650909b0e4247a2773765149233e9",
       "value": 40
      }
     },
     "fbf5ea4dc6b247a99c17e3d1673bfe29": {
      "model_module": "@jupyter-widgets/base",
      "model_module_version": "1.2.0",
      "model_name": "LayoutModel",
      "state": {}
     },
     "fc2e436eace541119c169e087d7098a6": {
      "model_module": "@jupyter-widgets/base",
      "model_module_version": "1.2.0",
      "model_name": "LayoutModel",
      "state": {}
     },
     "fc8676195f554b4a91ffeb3a32c623eb": {
      "model_module": "@jupyter-widgets/controls",
      "model_module_version": "1.5.0",
      "model_name": "FloatSliderModel",
      "state": {
       "description": "$B$",
       "layout": "IPY_MODEL_c7a3c631870440e7885fded0020f95f5",
       "max": 25,
       "style": "IPY_MODEL_8b02f75cfe8f46ee9225d5877879eb0f",
       "value": 10
      }
     },
     "fd1f3a89b0c4453784eba6234c6cc9b3": {
      "model_module": "@jupyter-widgets/output",
      "model_module_version": "1.0.0",
      "model_name": "OutputModel",
      "state": {
       "layout": "IPY_MODEL_fff0ab884a4e4f9587fed7bf4c192b32",
       "outputs": [
        {
         "name": "stdout",
         "output_type": "stream",
         "text": "Click train parameters\n\n"
        }
       ]
      }
     },
     "fd3f11ee484941ad9d0a8721fb3b6c56": {
      "model_module": "@jupyter-widgets/controls",
      "model_module_version": "1.5.0",
      "model_name": "SliderStyleModel",
      "state": {
       "description_width": ""
      }
     },
     "fd69c10b5b8f468997857ca4f6b62ea9": {
      "model_module": "@jupyter-widgets/base",
      "model_module_version": "1.2.0",
      "model_name": "LayoutModel",
      "state": {}
     },
     "fd81e3b001da41e4866ac9123afc153f": {
      "model_module": "@jupyter-widgets/base",
      "model_module_version": "1.2.0",
      "model_name": "LayoutModel",
      "state": {}
     },
     "fdb3059770a44cfcaab6f399ef461d80": {
      "model_module": "@jupyter-widgets/base",
      "model_module_version": "1.2.0",
      "model_name": "LayoutModel",
      "state": {}
     },
     "fe0fab1f3c234ea4880e718d5ba3a82a": {
      "model_module": "@jupyter-widgets/controls",
      "model_module_version": "1.5.0",
      "model_name": "SliderStyleModel",
      "state": {
       "description_width": ""
      }
     },
     "fec54c89c9024b6aa8a52ee28e350d45": {
      "model_module": "@jupyter-widgets/base",
      "model_module_version": "1.2.0",
      "model_name": "LayoutModel",
      "state": {}
     },
     "fefa93a959584f4db971cc0a0fc919c1": {
      "model_module": "@jupyter-widgets/controls",
      "model_module_version": "1.5.0",
      "model_name": "SliderStyleModel",
      "state": {
       "description_width": ""
      }
     },
     "ff2eb5498c0d40a088d0ecb8a4107ea9": {
      "model_module": "@jupyter-widgets/base",
      "model_module_version": "1.2.0",
      "model_name": "LayoutModel",
      "state": {}
     },
     "ff819c83e75b4829a351ccb75bbba025": {
      "model_module": "@jupyter-widgets/controls",
      "model_module_version": "1.5.0",
      "model_name": "FloatSliderModel",
      "state": {
       "description": "$\\sigma^2_a$",
       "layout": "IPY_MODEL_8fa37fd9e4dc4c20b58d252c88edc393",
       "max": 10,
       "min": 0.001,
       "step": 0.25,
       "style": "IPY_MODEL_6f35739e4c9b4bf0b1edd45869bf2308",
       "value": 0.05
      }
     },
     "fff0ab884a4e4f9587fed7bf4c192b32": {
      "model_module": "@jupyter-widgets/base",
      "model_module_version": "1.2.0",
      "model_name": "LayoutModel",
      "state": {}
     }
    },
    "version_major": 2,
    "version_minor": 0
   }
  }
 },
 "nbformat": 4,
 "nbformat_minor": 5
}
