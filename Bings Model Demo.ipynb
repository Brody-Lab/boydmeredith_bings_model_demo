{
 "cells": [
  {
   "cell_type": "code",
   "execution_count": 18,
   "id": "9eecdf46",
   "metadata": {},
   "outputs": [],
   "source": [
    "import ipywidgets as widgets"
   ]
  },
  {
   "cell_type": "markdown",
   "id": "6db40a93",
   "metadata": {},
   "source": [
    "# Make clicks stimulus"
   ]
  },
  {
   "cell_type": "code",
   "execution_count": 40,
   "id": "16e66e8b",
   "metadata": {},
   "outputs": [
    {
     "data": {
      "application/vnd.jupyter.widget-view+json": {
       "model_id": "c9b048a2984e48b79c896d51b5411508",
       "version_major": 2,
       "version_minor": 0
      },
      "text/plain": [
       "IntSlider(value=30, description='High Rate (Hz)')"
      ]
     },
     "metadata": {},
     "output_type": "display_data"
    },
    {
     "data": {
      "application/vnd.jupyter.widget-view+json": {
       "model_id": "fd45466d86bf44a3bc1e6b2853e0db44",
       "version_major": 2,
       "version_minor": 0
      },
      "text/plain": [
       "IntSlider(value=40, description='Total Rate (Hz)', max=80, min=5)"
      ]
     },
     "metadata": {},
     "output_type": "display_data"
    },
    {
     "data": {
      "application/vnd.jupyter.widget-view+json": {
       "model_id": "538a6852fc8f46a38ded0a7755508fb1",
       "version_major": 2,
       "version_minor": 0
      },
      "text/plain": [
       "FloatSlider(value=1.0, description='Duration (s)', max=8.0, min=0.1)"
      ]
     },
     "metadata": {},
     "output_type": "display_data"
    },
    {
     "name": "stdout",
     "output_type": "stream",
     "text": [
      "10\n"
     ]
    }
   ],
   "source": [
    "total_rate_w = widgets.IntSlider(value=40,min=5,max=80, description=\"Total Rate (Hz)\")\n",
    "r1_w = widgets.IntSlider(value=30, description=\"High Rate (Hz)\")\n",
    "dur_w = widgets.FloatSlider(value=1, min=.1, max=8, description=\"Duration (s)\", step=0.1)\n",
    "display(r1_w)\n",
    "display(total_rate_w)\n",
    "display(dur_w)\n"
   ]
  },
  {
   "cell_type": "code",
   "execution_count": 22,
   "id": "cf9b081c",
   "metadata": {},
   "outputs": [],
   "source": [
    "r1 = r1_w.value\n",
    "total_rate = total_rate_w.value\n",
    "r2 = total_rate - r1\n",
    "print(r2)"
   ]
  },
  {
   "cell_type": "code",
   "execution_count": 36,
   "id": "5ba0a811",
   "metadata": {},
   "outputs": [
    {
     "data": {
      "application/vnd.jupyter.widget-view+json": {
       "model_id": "d47a7a26268c4d4dbf1745064265dd60",
       "version_major": 2,
       "version_minor": 0
      },
      "text/plain": [
       "IntSlider(value=1, description='Duration (s)', max=10, step=0)"
      ]
     },
     "metadata": {},
     "output_type": "display_data"
    }
   ],
   "source": [
    "widgets.Slider(value=1, min=0, max=10, description=\"Duration (s)\", step=.01)"
   ]
  },
  {
   "cell_type": "code",
   "execution_count": null,
   "id": "bd1ee6dd",
   "metadata": {},
   "outputs": [],
   "source": []
  }
 ],
 "metadata": {
  "kernelspec": {
   "display_name": "Python 3 (ipykernel)",
   "language": "python",
   "name": "python3"
  },
  "language_info": {
   "codemirror_mode": {
    "name": "ipython",
    "version": 3
   },
   "file_extension": ".py",
   "mimetype": "text/x-python",
   "name": "python",
   "nbconvert_exporter": "python",
   "pygments_lexer": "ipython3",
   "version": "3.8.12"
  }
 },
 "nbformat": 4,
 "nbformat_minor": 5
}
