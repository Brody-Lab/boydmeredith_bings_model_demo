{
 "cells": [
  {
   "cell_type": "code",
   "execution_count": 241,
   "id": "9eecdf46",
   "metadata": {},
   "outputs": [],
   "source": [
    "import ipywidgets as widgets\n",
    "from ipywidgets import interact, interactive, fixed\n",
    "import numpy as np\n",
    "import scipy as sp\n",
    "import matplotlib.pyplot as plt\n",
    "import seaborn as sns"
   ]
  },
  {
   "cell_type": "markdown",
   "id": "6db40a93",
   "metadata": {},
   "source": [
    "# Make clicks stimulus"
   ]
  },
  {
   "cell_type": "code",
   "execution_count": 360,
   "id": "12405c5c",
   "metadata": {},
   "outputs": [
    {
     "ename": "NameError",
     "evalue": "name 'right_ind' is not defined",
     "output_type": "error",
     "traceback": [
      "\u001b[0;31m---------------------------------------------------------------------------\u001b[0m",
      "\u001b[0;31mNameError\u001b[0m                                 Traceback (most recent call last)",
      "\u001b[0;32m/var/folders/0h/yspyq_vj5j1cjhxbgy3q9_740000gn/T/ipykernel_4044/4183670028.py\u001b[0m in \u001b[0;36m<module>\u001b[0;34m\u001b[0m\n\u001b[0;32m----> 1\u001b[0;31m \u001b[0mnp\u001b[0m\u001b[0;34m.\u001b[0m\u001b[0margwhere\u001b[0m\u001b[0;34m(\u001b[0m\u001b[0mright_ind\u001b[0m\u001b[0;34m+\u001b[0m\u001b[0mleft_ind\u001b[0m\u001b[0;34m>\u001b[0m\u001b[0;36m0\u001b[0m\u001b[0;34m)\u001b[0m\u001b[0;34m\u001b[0m\u001b[0;34m\u001b[0m\u001b[0m\n\u001b[0m",
      "\u001b[0;31mNameError\u001b[0m: name 'right_ind' is not defined"
     ]
    }
   ],
   "source": []
  },
  {
   "cell_type": "code",
   "execution_count": 365,
   "id": "bd1ee6dd",
   "metadata": {},
   "outputs": [],
   "source": [
    "def make_clicktrain(right_rate=30, total_rate=40, duration=1,  dt=.001, stereo_click=True):\n",
    "    \"\"\"Generate Poisson Click train\"\"\"\n",
    "    if stereo_click:\n",
    "        raise notImplementedError\n",
    "    tvec = np.arange(0, duration, dt)\n",
    "    left_rate = total_rate - right_rate\n",
    "    right_ind = np.random.random_sample(np.shape(tvec)) < (right_rate * dt)\n",
    "    left_ind = np.random.random_sample(np.shape(tvec)) < (left_rate * dt)    \n",
    "    \n",
    "    if stereo_click:\n",
    "        first_ind = np.argwhere(right_ind+left_ind>0)[0]\n",
    "        right_ind[first_ind] = 1\n",
    "        left_ind[first_ind] = 1\n",
    "    \n",
    "    left_bups = tvec[left_ind]\n",
    "    right_bups = tvec[right_ind]\n",
    "    \n",
    "    fig, ax = plt.subplots( figsize=(4,2))\n",
    "    ax1 = ax\n",
    "    ax1.eventplot(left_bups,lineoffsets=-.5,color=\"blue\", alpha=.5)\n",
    "    ax1.eventplot(right_bups,lineoffsets=.5,color=\"red\", alpha=.5)\n",
    "    ax1.plot(left_bups,-np.ones_like(left_bups), \"o\", color=\"blue\", alpha=.5)\n",
    "    ax1.plot(right_bups,np.ones_like(right_bups), \"o\", color=\"red\", alpha=.5)\n",
    "    ax1.set_xlabel(\"Time (s)\")\n",
    "    ax1.set_ylabel(\"Clicks\")\n",
    "    sns.despine()\n",
    "    plt.tight_layout()\n",
    "    plt.show()\n",
    "    \n",
    "    bups = {'left':left_bups, 'right':right_bups, 'tvec':tvec}\n",
    "    \n",
    "    return bups"
   ]
  },
  {
   "cell_type": "code",
   "execution_count": 366,
   "id": "74a83fe7",
   "metadata": {},
   "outputs": [],
   "source": [
    "# adapt the clicks\n",
    "def make_adapted_clicks(bups, phi=.1, tau_phi=.2, cross_stream=True):\n",
    "    if not cross_stream:\n",
    "        raise notImplementedError\n",
    "    bups_cat = np.hstack([bups['left'], bups['right']])\n",
    "    sign_cat = np.hstack([-np.ones_like(bups['left']), np.ones_like(bups['right'])])\n",
    "    sort_order = np.argsort(bups_cat)\n",
    "    bups_cat = bups_cat[sort_order]\n",
    "    sign_cat = sign_cat[sort_order]\n",
    "\n",
    "    ici = np.diff(bups_cat)\n",
    "    adapted  = np.ones_like(bups_cat)\n",
    "\n",
    "    cross_side_suppression = 0\n",
    "    for ii in np.arange(1,len(adapted)):\n",
    "        if ici[ii-1] <= cross_side_suppression:\n",
    "            adapted[ii-1] = 0\n",
    "            adapted[ii] = 0\n",
    "            continue\n",
    "        if abs(phi-1) > 1e-5:\n",
    "            last = tau_phi  * np.log(abs(1 - adapted[ii-1] * phi))\n",
    "            adapted[ii] = 1 - np.exp((-ici[ii-1] + last) / tau_phi)\n",
    "\n",
    "    left_adapted = adapted[sign_cat==-1]\n",
    "    right_adapted = adapted[sign_cat==1]\n",
    "    bups['left_adapted'] = left_adapted\n",
    "    bups['right_adapted'] = right_adapted\n",
    "\n",
    "    left_bups = bups['left']\n",
    "    right_bups = bups['right']\n",
    "    \n",
    "    fig, ax = plt.subplots( figsize=(4,2))\n",
    "    ax1 = ax\n",
    "    ax1.plot(np.vstack([left_bups, left_bups]), \n",
    "             np.vstack([np.zeros_like(left_bups), -left_adapted]), color=\"blue\", alpha=.5)\n",
    "    ax1.plot(np.vstack([right_bups, right_bups]), \n",
    "             np.vstack([np.zeros_like(right_bups), right_adapted]), color=\"red\", alpha=.5)\n",
    "    \n",
    "    ax1.plot(left_bups,-left_adapted, \"o\", color=\"blue\", alpha=.5)\n",
    "    ax1.plot(right_bups,right_adapted, \"o\", color=\"red\", alpha=.5)\n",
    "    ax1.set_xlabel(\"Time (s)\")\n",
    "    ax1.set_ylabel(\"Clicks\")\n",
    "    sns.despine()\n",
    "    plt.tight_layout()\n",
    "    plt.show()\n",
    "    \n",
    "    return None\n",
    "\n"
   ]
  },
  {
   "cell_type": "code",
   "execution_count": 367,
   "id": "7fc664bb",
   "metadata": {},
   "outputs": [
    {
     "data": {
      "application/vnd.jupyter.widget-view+json": {
       "model_id": "fb7525fdec91431088999d1baae8b0b7",
       "version_major": 2,
       "version_minor": 0
      },
      "text/plain": [
       "interactive(children=(IntSlider(value=30, description='right_rate', max=40), IntSlider(value=40, description='…"
      ]
     },
     "metadata": {},
     "output_type": "display_data"
    }
   ],
   "source": [
    "w = interactive(make_clicktrain, #{'manual': True},\n",
    "                right_rate=(0,40), duration=(0,9,.1), dt=(.001,.1,.01), total_rate=(5,40))\n",
    "display(w)\n",
    "\n"
   ]
  },
  {
   "cell_type": "code",
   "execution_count": 364,
   "id": "17734516",
   "metadata": {},
   "outputs": [
    {
     "data": {
      "application/vnd.jupyter.widget-view+json": {
       "model_id": "d689246b0ecb468c85c311037b859518",
       "version_major": 2,
       "version_minor": 0
      },
      "text/plain": [
       "interactive(children=(FloatSlider(value=0.1, description='phi', max=1.5, min=0.01, step=0.01), FloatSlider(val…"
      ]
     },
     "metadata": {},
     "output_type": "display_data"
    }
   ],
   "source": [
    "bups = w.result\n",
    "w2 = interactive(make_adapted_clicks, #{'manual': True},\n",
    "                bups=fixed(bups), phi=(0.01,1.5,.01), tau_phi=(.01,1,.01))\n",
    "display(w2)"
   ]
  },
  {
   "cell_type": "code",
   "execution_count": 359,
   "id": "d9def4d4",
   "metadata": {},
   "outputs": [
    {
     "data": {
      "image/png": "[encoded data removed]",
      "text/plain": [
       "<Figure size 400x200 with 1 Axes>"
      ]
     },
     "metadata": {},
     "output_type": "display_data"
    },
    {
     "data": {
      "text/plain": [
       "(array([0.98160603, 0.99810079, 0.99285315]),\n",
       " array([1.        , 0.98871113, 0.97088299, 0.9905179 ]))"
      ]
     },
     "execution_count": 359,
     "metadata": {},
     "output_type": "execute_result"
    }
   ],
   "source": [
    "bups_copy = bups.copy()\n",
    "bups['left'] = [.1, .5, .65]\n",
    "bups['right'] = [.0, .2, .55, .8]\n",
    "make_adapted_clicks(bups, phi=1.05, tau_phi = .1)\n",
    "bups['left_adapted'], bups['right_adapted']"
   ]
  },
  {
   "cell_type": "markdown",
   "id": "35ecd636",
   "metadata": {},
   "source": [
    "## How does the adaptation work\n",
    "\n",
    "$\\frac{dC}{dt} = \\frac{1-C}{\\tau_{\\phi}} + (\\phi - 1) C (\\delta_{t,t_R} + \\delta_{t,t_L})$"
   ]
  },
  {
   "cell_type": "code",
   "execution_count": null,
   "id": "1e7c1d9e",
   "metadata": {},
   "outputs": [],
   "source": [
    "phi = .05\n",
    "tau_phi = .1\n",
    "C = (1 - C[ii-1]) / tau_phi + (phi - 1) * C[ii-1] * (left+right)"
   ]
  },
  {
   "cell_type": "code",
   "execution_count": null,
   "id": "d7ce22fa",
   "metadata": {},
   "outputs": [],
   "source": [
    "# Redo clicks to take in the gamma and total rate and print the generative rates"
   ]
  },
  {
   "cell_type": "code",
   "execution_count": null,
   "id": "602d2fb6",
   "metadata": {},
   "outputs": [],
   "source": []
  },
  {
   "cell_type": "code",
   "execution_count": null,
   "id": "add2a3b1",
   "metadata": {},
   "outputs": [],
   "source": [
    "# Make the bups stay synced when it changes"
   ]
  },
  {
   "cell_type": "code",
   "execution_count": null,
   "id": "1f8cc251",
   "metadata": {},
   "outputs": [],
   "source": [
    "# Add stereo click \n",
    "# Make adaptation work for positive values of phi"
   ]
  },
  {
   "cell_type": "code",
   "execution_count": 130,
   "id": "d110f26a",
   "metadata": {},
   "outputs": [
    {
     "ename": "SyntaxError",
     "evalue": "invalid syntax (104630642.py, line 1)",
     "output_type": "error",
     "traceback": [
      "\u001b[0;36m  File \u001b[0;32m\"/var/folders/0h/yspyq_vj5j1cjhxbgy3q9_740000gn/T/ipykernel_4044/104630642.py\"\u001b[0;36m, line \u001b[0;32m1\u001b[0m\n\u001b[0;31m    TODO add time\u001b[0m\n\u001b[0m         ^\u001b[0m\n\u001b[0;31mSyntaxError\u001b[0m\u001b[0;31m:\u001b[0m invalid syntax\n"
     ]
    }
   ],
   "source": [
    "# TODO add the time constant\n",
    "# TODO add some noise\n",
    "# TODO add the "
   ]
  },
  {
   "cell_type": "code",
   "execution_count": null,
   "id": "5689b6ed",
   "metadata": {},
   "outputs": [],
   "source": [
    "# make tests\n",
    "# put it on the internet\n"
   ]
  },
  {
   "cell_type": "code",
   "execution_count": null,
   "id": "132f451c",
   "metadata": {},
   "outputs": [],
   "source": [
    "# add multiple trials\n",
    "# add a bound"
   ]
  }
 ],
 "metadata": {
  "kernelspec": {
   "display_name": "Python 3 (ipykernel)",
   "language": "python",
   "name": "python3"
  },
  "language_info": {
   "codemirror_mode": {
    "name": "ipython",
    "version": 3
   },
   "file_extension": ".py",
   "mimetype": "text/x-python",
   "name": "python",
   "nbconvert_exporter": "python",
   "pygments_lexer": "ipython3",
   "version": "3.8.12"
  }
 },
 "nbformat": 4,
 "nbformat_minor": 5
}
